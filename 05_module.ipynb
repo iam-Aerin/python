{
 "cells": [
  {
   "cell_type": "markdown",
   "id": "6b36cf31-8646-46be-ae11-8185e83b53fa",
   "metadata": {},
   "source": [
    "# module\n",
    "-모듈화: 내가 필요한 기능끼리 하나로 묶어서 활용"
   ]
  },
  {
   "cell_type": "markdown",
   "id": "281167f1-9ac4-4f11-baa9-9a7d2a8f4730",
   "metadata": {},
   "source": [
    "새로운 파일을 우선 만듦. => [fact.py]\n",
    "파일을 불러올 것. : 코드가 너무 길어, 그 코드를 여기 다시 치고 싶지 않을때"
   ]
  },
  {
   "cell_type": "code",
   "execution_count": 1,
   "id": "db63a8ff-500a-4b3b-88e5-d93ab62a5d6b",
   "metadata": {},
   "outputs": [],
   "source": [
    "import fact\n",
    "#import 불러올파일이름"
   ]
  },
  {
   "cell_type": "code",
   "execution_count": 2,
   "id": "4b7e7e34-fea2-4487-9d69-135d34225f15",
   "metadata": {},
   "outputs": [
    {
     "name": "stdout",
     "output_type": "stream",
     "text": [
      "<module 'fact' from 'C:\\\\Users\\\\박수똥\\\\Desktop\\\\DAMF2\\\\python\\\\fact.py'>\n"
     ]
    }
   ],
   "source": [
    "print(fact)"
   ]
  },
  {
   "cell_type": "code",
   "execution_count": 3,
   "id": "808ec9aa-557d-4310-b2ff-3cc97d246a36",
   "metadata": {},
   "outputs": [
    {
     "data": {
      "text/plain": [
       "120"
      ]
     },
     "execution_count": 3,
     "metadata": {},
     "output_type": "execute_result"
    }
   ],
   "source": [
    "fact.factorial(5)"
   ]
  },
  {
   "cell_type": "markdown",
   "id": "c27dd1f2-940f-4f1c-bafd-e698b7152e2f",
   "metadata": {},
   "source": [
    "개발하는 것을 편하게 하고자 `module`을 도입함. "
   ]
  },
  {
   "cell_type": "code",
   "execution_count": 4,
   "id": "c44e004d-23ea-4af6-b6c4-9a3208320370",
   "metadata": {},
   "outputs": [
    {
     "data": {
      "text/plain": [
       "3"
      ]
     },
     "execution_count": 4,
     "metadata": {},
     "output_type": "execute_result"
    }
   ],
   "source": [
    "fact.my_max(2, 3)"
   ]
  },
  {
   "cell_type": "markdown",
   "id": "0c790ba6-b0c9-4844-a688-fe496a457be5",
   "metadata": {},
   "source": [
    "- PyPI (파이썬 패키지 인덱스): 파이썬 관련된 '패키지 (모듈)';프로그램을 받기 위한 웹사이트\n",
    "\n",
    "- 모듈보다 더 큰 범위 => 패키지"
   ]
  },
  {
   "cell_type": "markdown",
   "id": "96c2c459-fcd9-4564-8555-b0f2a1c7a1c9",
   "metadata": {},
   "source": [
    "# 패키지\n",
    "\n",
    "```\n",
    "myPackage/\n",
    "    __init__.py\n",
    "    math/\n",
    "        __init__.py\n",
    "```\n",
    "myPackage & math는 내가 정한 이름, 무엇으로 불려도 상관이 없음.\n",
    "\n",
    "`myPackage` 폴더를 생성함 => 그 안에 `__init__.py` 파일을 생성함. \n",
    "=> 그리고 그 안에 `math`라고 불리는 또다른 폴더를 생성함. => `math`폴더 안에 다시 `__init__.py` 파일을 생성하고\n",
    "=> `math`폴더 안에 또다른 파일 `formula.py`를 생성하고, 안에 내용을 채워넣음. "
   ]
  },
  {
   "cell_type": "code",
   "execution_count": null,
   "id": "66c45424-24bb-48e2-afc6-0fde3c2be4c0",
   "metadata": {},
   "outputs": [],
   "source": [
    "import myPackage\n",
    "print(myPackage)\n",
    "#import 패키지로 인식하는 폴더의 이름을 쓴다. "
   ]
  },
  {
   "cell_type": "code",
   "execution_count": 23,
   "id": "d0568a9f-a93c-4d2d-8b75-45a712df7ee2",
   "metadata": {},
   "outputs": [
    {
     "data": {
      "text/plain": [
       "3"
      ]
     },
     "execution_count": 23,
     "metadata": {},
     "output_type": "execute_result"
    }
   ],
   "source": [
    "myPackage.math.formula.my_max(2, 3)\n",
    "#from . import math\n",
    "#myPackage 안의 math 를 import 해주세요. \n",
    "#from . import formula\n",
    "#myPackage 안의 formula 를 import 해주세요. \n",
    "# => 각 __init__.py에 import를 각자 또 시켜줬음. "
   ]
  },
  {
   "cell_type": "code",
   "execution_count": 11,
   "id": "59bb4fe9-d623-4939-a482-3dfed483078c",
   "metadata": {},
   "outputs": [],
   "source": [
    "from myPackage.math.formula import my_max\n",
    "#함수 불러오는 방법\n",
    "#내가 만든 myPackage 패키지 안의 폴더, 플더, 수식을 가져오는 상황"
   ]
  },
  {
   "cell_type": "code",
   "execution_count": 21,
   "id": "52c9735b-7b0c-490f-b80c-86f2bdd949da",
   "metadata": {},
   "outputs": [
    {
     "data": {
      "text/plain": [
       "3"
      ]
     },
     "execution_count": 21,
     "metadata": {},
     "output_type": "execute_result"
    }
   ],
   "source": [
    "my_max(2, 3)"
   ]
  },
  {
   "cell_type": "code",
   "execution_count": 20,
   "id": "53ca4909-6c5c-4527-ae33-241e261472f0",
   "metadata": {},
   "outputs": [
    {
     "data": {
      "text/plain": [
       "3"
      ]
     },
     "execution_count": 20,
     "metadata": {},
     "output_type": "execute_result"
    }
   ],
   "source": [
    "from myPackage.math import formula\n",
    "formula.my_max(2, 3)"
   ]
  },
  {
   "cell_type": "code",
   "execution_count": 19,
   "id": "fea4e05b-f0a4-4d32-ab87-757aa0fc6c02",
   "metadata": {},
   "outputs": [
    {
     "name": "stdout",
     "output_type": "stream",
     "text": [
      "3.14\n"
     ]
    }
   ],
   "source": [
    "from myPackage.math.formula import *\n",
    "#formula가 가지고 있는 모든 항목을 가지고오겠다.  \n",
    "print(pi)"
   ]
  },
  {
   "cell_type": "code",
   "execution_count": 18,
   "id": "5c771108-ea02-49a5-a691-dd93a8ff6927",
   "metadata": {},
   "outputs": [
    {
     "name": "stdout",
     "output_type": "stream",
     "text": [
      "<module 'myPackage.math.formula' from 'C:\\\\Users\\\\박수똥\\\\Desktop\\\\DAMF2\\\\python\\\\myPackage\\\\math\\\\formula.py'>\n"
     ]
    }
   ],
   "source": [
    "formula = 1234\n",
    "from myPackage.math import formula\n",
    "#내가 사용하는 변수의 이름도 formula, 내가 가져올 패키지의 이름도 formula\n",
    "print(formula)\n"
   ]
  },
  {
   "cell_type": "markdown",
   "id": "83c6e7fd-6692-41d9-987a-dd769750415b",
   "metadata": {},
   "source": [
    "## 파이썬 내장 패키지"
   ]
  },
  {
   "cell_type": "markdown",
   "id": "0cb319b3-ad84-4214-83d0-e58e6f34d749",
   "metadata": {},
   "source": [
    "파이썬 doc 기준 - 10.6 math 부분을 공부하는 중이다. \n",
    "> https://docs.python.org/ko/3.13/tutorial/stdlib.html#mathematics"
   ]
  },
  {
   "cell_type": "code",
   "execution_count": 25,
   "id": "af64faba-6701-4e38-b81a-68b6e20ef2d3",
   "metadata": {},
   "outputs": [],
   "source": [
    "import math\n",
    "#수식을 계산할 수 있는 기능의 패키지 `math`"
   ]
  },
  {
   "cell_type": "code",
   "execution_count": 26,
   "id": "0b4f5964-a1b3-4f6d-97bc-3e73f966df24",
   "metadata": {},
   "outputs": [
    {
     "data": {
      "text/plain": [
       "3.141592653589793"
      ]
     },
     "execution_count": 26,
     "metadata": {},
     "output_type": "execute_result"
    }
   ],
   "source": [
    "math.pi\n",
    "#파이"
   ]
  },
  {
   "cell_type": "code",
   "execution_count": 28,
   "id": "4b54dfaa-409e-418c-8bfc-8efaf9f80343",
   "metadata": {},
   "outputs": [
    {
     "data": {
      "text/plain": [
       "2.718281828459045"
      ]
     },
     "execution_count": 28,
     "metadata": {},
     "output_type": "execute_result"
    }
   ],
   "source": [
    "math.e\n",
    "#자연상수"
   ]
  },
  {
   "cell_type": "code",
   "execution_count": 29,
   "id": "892d82b9-d589-4be6-a6c2-60fc0909758b",
   "metadata": {},
   "outputs": [
    {
     "data": {
      "text/plain": [
       "3"
      ]
     },
     "execution_count": 29,
     "metadata": {},
     "output_type": "execute_result"
    }
   ],
   "source": [
    "math.ceil(math.e)\n",
    "#소수점 자리의 숫자를 무조건 올리는 함수"
   ]
  },
  {
   "cell_type": "code",
   "execution_count": 30,
   "id": "17f6d960-67c2-4470-b9d7-681c1bec525e",
   "metadata": {},
   "outputs": [
    {
     "data": {
      "text/plain": [
       "2"
      ]
     },
     "execution_count": 30,
     "metadata": {},
     "output_type": "execute_result"
    }
   ],
   "source": [
    "math.floor(math.e)\n",
    "#내림"
   ]
  },
  {
   "cell_type": "code",
   "execution_count": 31,
   "id": "dcdef2da-820b-411f-96e3-62deb8cb4a45",
   "metadata": {},
   "outputs": [
    {
     "data": {
      "text/plain": [
       "3.0"
      ]
     },
     "execution_count": 31,
     "metadata": {},
     "output_type": "execute_result"
    }
   ],
   "source": [
    "math.sqrt(9)"
   ]
  },
  {
   "cell_type": "code",
   "execution_count": 35,
   "id": "845d0426-492e-4c3b-8edb-9c14320a910d",
   "metadata": {},
   "outputs": [
    {
     "data": {
      "text/plain": [
       "120"
      ]
     },
     "execution_count": 35,
     "metadata": {},
     "output_type": "execute_result"
    }
   ],
   "source": [
    "math.factorial(5)"
   ]
  },
  {
   "cell_type": "code",
   "execution_count": 36,
   "id": "41190d08-7941-4d7f-beef-b91418787e3b",
   "metadata": {},
   "outputs": [],
   "source": [
    "from math import sqrt, factorial\n",
    "# 이 방식으로 내가 필요한 함수계산식을 불러오는 경우가 가장 많다. "
   ]
  },
  {
   "cell_type": "code",
   "execution_count": 37,
   "id": "e908d645-b3db-4ca4-abd8-86c528c1d118",
   "metadata": {},
   "outputs": [
    {
     "data": {
      "text/plain": [
       "4.0"
      ]
     },
     "execution_count": 37,
     "metadata": {},
     "output_type": "execute_result"
    }
   ],
   "source": [
    "sqrt(16)"
   ]
  },
  {
   "cell_type": "code",
   "execution_count": 38,
   "id": "783510c0-9807-4458-8c1b-a21aa42810a3",
   "metadata": {},
   "outputs": [
    {
     "data": {
      "text/plain": [
       "120"
      ]
     },
     "execution_count": 38,
     "metadata": {},
     "output_type": "execute_result"
    }
   ],
   "source": [
    "factorial(5)"
   ]
  },
  {
   "cell_type": "markdown",
   "id": "799ce1d4-34f0-485c-9236-ee96bda594a1",
   "metadata": {},
   "source": [
    "## random"
   ]
  },
  {
   "cell_type": "code",
   "execution_count": 39,
   "id": "728ef8b1-3835-442e-ab55-d4bcda822ff0",
   "metadata": {},
   "outputs": [],
   "source": [
    "import random"
   ]
  },
  {
   "cell_type": "code",
   "execution_count": 97,
   "id": "de5f58a7-5070-4b55-a164-a984a7a0f401",
   "metadata": {},
   "outputs": [
    {
     "data": {
      "text/plain": [
       "0.15198787322463314"
      ]
     },
     "execution_count": 97,
     "metadata": {},
     "output_type": "execute_result"
    }
   ],
   "source": [
    "random.random()\n",
    "#<<random이라는 파일(폴더, 모듈)안의 random이라는 함수이름>>으로 호출"
   ]
  },
  {
   "cell_type": "code",
   "execution_count": 99,
   "id": "a12e5f1b-b62d-4e47-81c7-da10e965de4f",
   "metadata": {},
   "outputs": [
    {
     "data": {
      "text/plain": [
       "1"
      ]
     },
     "execution_count": 99,
     "metadata": {},
     "output_type": "execute_result"
    }
   ],
   "source": [
    "#나는 1부터 10까지의 자연수 중 랜던값을 원해\n",
    "random.randint(1, 10)\n",
    "#자연수(시작점, 끝점)"
   ]
  },
  {
   "cell_type": "code",
   "execution_count": 110,
   "id": "cafc5ee2-0b27-4602-8792-91a9ff12251b",
   "metadata": {},
   "outputs": [
    {
     "data": {
      "text/plain": [
       "0.052363598850944326"
      ]
     },
     "execution_count": 110,
     "metadata": {},
     "output_type": "execute_result"
    }
   ],
   "source": [
    "random.seed(123)\n",
    "random.random()\n",
    "#seed()를 사용하면 '무작위 random'의 결과를 특정한 값으로 고정할 수 있다.\n",
    "#https://docs.python.org/ko/3.13/library/random.html#module-random"
   ]
  },
  {
   "cell_type": "markdown",
   "id": "211d4390-51b1-4cbb-a5b9-d93cea40f4d4",
   "metadata": {},
   "source": [
    "경고 `random` 이 모듈의 의사 난수 생성기를 보안 목적으로 사용해서는 안 됩니다. \n",
    "보안이나 암호화 용도를 위해서는, secrets 모듈을 참조하십시오."
   ]
  },
  {
   "cell_type": "code",
   "execution_count": 111,
   "id": "5f0d52ec-e924-42b7-8650-48ec23726ff8",
   "metadata": {},
   "outputs": [],
   "source": [
    "numbers = [1, 2, 3, 4, 5]"
   ]
  },
  {
   "cell_type": "code",
   "execution_count": 115,
   "id": "def5592d-01bb-4fcc-bedb-417db5b88fcb",
   "metadata": {},
   "outputs": [
    {
     "name": "stdout",
     "output_type": "stream",
     "text": [
      "[3, 5, 1, 2, 4]\n"
     ]
    }
   ],
   "source": [
    "#랜덤한 데이터를 추출하는 방법\n",
    "#랜덤한 리스트를 결과로\n",
    "random.shuffle(numbers)\n",
    "print(numbers)"
   ]
  },
  {
   "cell_type": "code",
   "execution_count": 118,
   "id": "388c069a-4564-4c11-9a8b-492f97643589",
   "metadata": {},
   "outputs": [
    {
     "name": "stdout",
     "output_type": "stream",
     "text": [
      "3\n",
      "4\n"
     ]
    }
   ],
   "source": [
    "#데이터 중 특정한 n개를 추출하는 방법\n",
    "#choice\n",
    "print(random.choice(numbers))\n",
    "print(random.choice(numbers))\n",
    "#복원 추출"
   ]
  },
  {
   "cell_type": "code",
   "execution_count": 119,
   "id": "a1bc4e29-ec5b-46f8-8146-aafee77840c4",
   "metadata": {},
   "outputs": [
    {
     "data": {
      "text/plain": [
       "[2, 3]"
      ]
     },
     "execution_count": 119,
     "metadata": {},
     "output_type": "execute_result"
    }
   ],
   "source": [
    "random.sample(numbers, 2)\n",
    "#비복원 추출"
   ]
  },
  {
   "cell_type": "markdown",
   "id": "e66e19a4-446b-4569-9cab-7ff071dbbc09",
   "metadata": {},
   "source": [
    "## datetime"
   ]
  },
  {
   "cell_type": "code",
   "execution_count": 120,
   "id": "90b99911-52c0-49e9-91dc-58e68f9cf271",
   "metadata": {},
   "outputs": [],
   "source": [
    "from datetime import datetime"
   ]
  },
  {
   "cell_type": "code",
   "execution_count": 121,
   "id": "22fa49fb-2706-4e3b-8ed3-729513b5a055",
   "metadata": {},
   "outputs": [
    {
     "data": {
      "text/plain": [
       "datetime.datetime(2025, 2, 18, 14, 39, 11, 922101)"
      ]
     },
     "execution_count": 121,
     "metadata": {},
     "output_type": "execute_result"
    }
   ],
   "source": [
    "datetime.now()\n",
    "#현재 시간을 호출해줌. "
   ]
  },
  {
   "cell_type": "code",
   "execution_count": 123,
   "id": "002f7656-bf6a-4779-8ae6-21ad74501c28",
   "metadata": {},
   "outputs": [
    {
     "data": {
      "text/plain": [
       "datetime.datetime(2025, 2, 18, 14, 40, 3, 206910)"
      ]
     },
     "execution_count": 123,
     "metadata": {},
     "output_type": "execute_result"
    }
   ],
   "source": [
    "datetime.today()"
   ]
  },
  {
   "cell_type": "code",
   "execution_count": 132,
   "id": "63258d36-f3b5-412b-8324-79e4edee543b",
   "metadata": {},
   "outputs": [
    {
     "name": "stderr",
     "output_type": "stream",
     "text": [
      "C:\\Users\\박수똥\\AppData\\Local\\Temp\\ipykernel_14100\\3983769260.py:1: DeprecationWarning: datetime.datetime.utcnow() is deprecated and scheduled for removal in a future version. Use timezone-aware objects to represent datetimes in UTC: datetime.datetime.now(datetime.UTC).\n",
      "  datetime.utcnow()\n"
     ]
    },
    {
     "data": {
      "text/plain": [
       "datetime.datetime(2025, 2, 18, 5, 43, 41, 289744)"
      ]
     },
     "execution_count": 132,
     "metadata": {},
     "output_type": "execute_result"
    }
   ],
   "source": [
    "datetime.utcnow()"
   ]
  },
  {
   "cell_type": "code",
   "execution_count": 135,
   "id": "5306cc9d-1849-41ea-84a9-bfebaa74a165",
   "metadata": {},
   "outputs": [],
   "source": [
    "now = datetime.now()\n",
    "#저장한 순간의 기록이 남게된다. "
   ]
  },
  {
   "cell_type": "code",
   "execution_count": 136,
   "id": "27ecfd40-0e24-4303-a24d-c53cabf045c4",
   "metadata": {},
   "outputs": [
    {
     "data": {
      "text/plain": [
       "datetime.datetime(2025, 2, 18, 14, 44, 34, 441061)"
      ]
     },
     "execution_count": 136,
     "metadata": {},
     "output_type": "execute_result"
    }
   ],
   "source": [
    "now"
   ]
  },
  {
   "cell_type": "code",
   "execution_count": 137,
   "id": "ff08bfa3-09f6-4280-ae72-4ea2fd14d27e",
   "metadata": {},
   "outputs": [
    {
     "data": {
      "text/plain": [
       "2025"
      ]
     },
     "execution_count": 137,
     "metadata": {},
     "output_type": "execute_result"
    }
   ],
   "source": [
    "now.year"
   ]
  },
  {
   "cell_type": "code",
   "execution_count": 139,
   "id": "406f5ca5-9599-43d7-ad2a-fb69c3ec7d32",
   "metadata": {},
   "outputs": [
    {
     "data": {
      "text/plain": [
       "2"
      ]
     },
     "execution_count": 139,
     "metadata": {},
     "output_type": "execute_result"
    }
   ],
   "source": [
    "now.month"
   ]
  },
  {
   "cell_type": "code",
   "execution_count": 140,
   "id": "2beeb531-aa07-4215-a658-7e34d3ff0832",
   "metadata": {},
   "outputs": [
    {
     "data": {
      "text/plain": [
       "18"
      ]
     },
     "execution_count": 140,
     "metadata": {},
     "output_type": "execute_result"
    }
   ],
   "source": [
    "now.day"
   ]
  },
  {
   "cell_type": "code",
   "execution_count": 141,
   "id": "594b2c3c-d4ba-4535-b398-b6dbbddec509",
   "metadata": {},
   "outputs": [
    {
     "data": {
      "text/plain": [
       "1"
      ]
     },
     "execution_count": 141,
     "metadata": {},
     "output_type": "execute_result"
    }
   ],
   "source": [
    "now.weekday()"
   ]
  },
  {
   "cell_type": "code",
   "execution_count": 142,
   "id": "f22f0ea3-ffd7-4670-b161-78a35917afc3",
   "metadata": {},
   "outputs": [
    {
     "data": {
      "text/plain": [
       "datetime.datetime(2025, 2, 18, 14, 44, 34, 441061)"
      ]
     },
     "execution_count": 142,
     "metadata": {},
     "output_type": "execute_result"
    }
   ],
   "source": [
    "now\n",
    "#보기에 직관적이지 않다. ,로만 이어져있기에"
   ]
  },
  {
   "cell_type": "code",
   "execution_count": 146,
   "id": "83f5361a-1019-4035-9754-46bed4c6095b",
   "metadata": {},
   "outputs": [
    {
     "name": "stdout",
     "output_type": "stream",
     "text": [
      "2025-02-18 14:44:34.441061\n"
     ]
    },
    {
     "data": {
      "text/plain": [
       "'2025/ 02/ 18'"
      ]
     },
     "execution_count": 146,
     "metadata": {},
     "output_type": "execute_result"
    }
   ],
   "source": [
    "print(now) \n",
    "#=> 사람이 보기 좋게\n",
    "#내가 원하는 방식으로 형식을 바꿔서 출력하기\n",
    "\n",
    "now.strftime('%Y년 %m월 %d일')\n",
    "now.strftime('%Y/ %m/ %d')"
   ]
  },
  {
   "cell_type": "markdown",
   "id": "d69aca8a-f5d2-4c46-bd49-40727c3e4a0d",
   "metadata": {},
   "source": [
    "datetime — Basic date and time types\n",
    "datetime format 설정방법 규칙\n",
    "> https://docs.python.org/3/library/datetime.html"
   ]
  },
  {
   "cell_type": "code",
   "execution_count": 148,
   "id": "4b8ff687-abab-4330-a40b-4b1084ac9e6d",
   "metadata": {},
   "outputs": [
    {
     "name": "stdout",
     "output_type": "stream",
     "text": [
      "2025-12-25 00:00:00\n"
     ]
    }
   ],
   "source": [
    "#시간 계산 방법\n",
    "#오늘부터 크리스마스까지 몇일이 지나야할까?\n",
    "\n",
    "x_mas = datetime(2025, 12, 25)\n",
    "print(x_mas)"
   ]
  },
  {
   "cell_type": "code",
   "execution_count": 150,
   "id": "499960bc-224f-4153-a4c2-eb0d5f83d4a0",
   "metadata": {},
   "outputs": [],
   "source": [
    "from datetime import timedelta"
   ]
  },
  {
   "cell_type": "code",
   "execution_count": 152,
   "id": "3fd27753-d885-4443-bb68-1e32dae108f9",
   "metadata": {},
   "outputs": [
    {
     "name": "stdout",
     "output_type": "stream",
     "text": [
      "2025-12-28 00:00:00\n"
     ]
    }
   ],
   "source": [
    "future = timedelta(days=3)\n",
    "#timedelta => 내가 원하는 시간으로 (+-) 특정한 날짜로부터 몇일 (3일 뒤)를 나타냄\n",
    "print(x_mas + future)"
   ]
  },
  {
   "cell_type": "code",
   "execution_count": 156,
   "id": "26be6ef5-f3b7-405c-85c1-def9f425618b",
   "metadata": {},
   "outputs": [
    {
     "name": "stdout",
     "output_type": "stream",
     "text": [
      "2025-12-22 00:00:00\n"
     ]
    }
   ],
   "source": [
    "bday = timedelta(days= -3)\n",
    "print(x_mas + bday)"
   ]
  },
  {
   "cell_type": "code",
   "execution_count": 159,
   "id": "a5ba848b-b07c-4279-a909-2dc74685283e",
   "metadata": {},
   "outputs": [
    {
     "name": "stdout",
     "output_type": "stream",
     "text": [
      "2025-09-16 00:00:00\n"
     ]
    }
   ],
   "source": [
    "future = timedelta(days= -100)\n",
    "print(x_mas + future)"
   ]
  },
  {
   "cell_type": "code",
   "execution_count": 161,
   "id": "2cc70808-c72b-4170-899c-9e95c18f6165",
   "metadata": {},
   "outputs": [
    {
     "data": {
      "text/plain": [
       "datetime.timedelta(days=309, seconds=33325, microseconds=558939)"
      ]
     },
     "execution_count": 161,
     "metadata": {},
     "output_type": "execute_result"
    }
   ],
   "source": [
    "x_mas - now"
   ]
  }
 ],
 "metadata": {
  "kernelspec": {
   "display_name": "Python 3 (ipykernel)",
   "language": "python",
   "name": "python3"
  },
  "language_info": {
   "codemirror_mode": {
    "name": "ipython",
    "version": 3
   },
   "file_extension": ".py",
   "mimetype": "text/x-python",
   "name": "python",
   "nbconvert_exporter": "python",
   "pygments_lexer": "ipython3",
   "version": "3.13.2"
  }
 },
 "nbformat": 4,
 "nbformat_minor": 5
}
