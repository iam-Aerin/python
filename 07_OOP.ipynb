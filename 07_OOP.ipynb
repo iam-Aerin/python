{
 "cells": [
  {
   "cell_type": "markdown",
   "id": "db72077d-17b7-40b4-8568-eac7ef110834",
   "metadata": {},
   "source": [
    "1. 객체지향 프로그래밍 (OOP)\n",
    "   - 1. 클래스\n",
    "       - 1.2 생성자와 소멸자\n",
    "       - 1.3 클래스 변수 / 인스턴스 변수\n",
    "       - 1.4 클래스 메소드/ 인스턴스 메소드/ 스태틱 메소드\n",
    "   - 2. 상속\n",
    "        "
   ]
  },
  {
   "cell_type": "markdown",
   "id": "7b075666-7ec3-4cab-8eae-24fe340ac786",
   "metadata": {},
   "source": [
    "# 1. 객체지향 프로그래밍 (OOP)\n",
    "\n",
    "- 클래스 (class) : 같은 종류의 집단에 속하는 `속성`과 `행동`을 `정의`한 것\n",
    "- 속성 (attribute) : 클래스/ 인스턴스가 가지고 있는 데이터/ 값\n",
    "- 행동 (method) : 클래스/ 인스턴스가 가지고 있는 함수/ 기능\n",
    "- 인스턴스 (instance) : 클래스를 실제로 메모리 상에 할당한 것"
   ]
  },
  {
   "cell_type": "code",
   "execution_count": 42,
   "id": "2547c3bc-462d-4ac0-9e89-2c8bbaa386e4",
   "metadata": {},
   "outputs": [],
   "source": [
    "number = 1 + 2j\n",
    "#복소수 j"
   ]
  },
  {
   "cell_type": "code",
   "execution_count": 2,
   "id": "a01849b4-b7a1-4291-9fdc-85b26dab3fe5",
   "metadata": {},
   "outputs": [
    {
     "name": "stdout",
     "output_type": "stream",
     "text": [
      "<class 'complex'>\n"
     ]
    }
   ],
   "source": [
    "print(type(number)) \n",
    "#파이썬에서 이미 복소수 (complex)라는 type -> class 를 정의해놓음. "
   ]
  },
  {
   "cell_type": "code",
   "execution_count": 3,
   "id": "60f03f6d-4dee-4b6a-a3cd-a2aade78bce9",
   "metadata": {},
   "outputs": [
    {
     "name": "stdout",
     "output_type": "stream",
     "text": [
      "1.0\n",
      "2.0\n"
     ]
    }
   ],
   "source": [
    "print(number.real)\n",
    "#복소수 = 실수부 (real) 와 허수부 (img) 로 나누어지는데\n",
    "print(number.imag)"
   ]
  },
  {
   "cell_type": "code",
   "execution_count": 4,
   "id": "74e1e904-d115-48b0-95e5-937a7446965c",
   "metadata": {},
   "outputs": [],
   "source": [
    "numbers = [1, 2, 3]"
   ]
  },
  {
   "cell_type": "code",
   "execution_count": 5,
   "id": "626f9a16-0f41-463c-a2de-fafda1d34587",
   "metadata": {},
   "outputs": [
    {
     "name": "stdout",
     "output_type": "stream",
     "text": [
      "<class 'list'>\n"
     ]
    }
   ],
   "source": [
    "print(type(numbers))"
   ]
  },
  {
   "cell_type": "code",
   "execution_count": 6,
   "id": "6770812e-c9ad-4d5f-b67b-99b15e737100",
   "metadata": {},
   "outputs": [
    {
     "name": "stdout",
     "output_type": "stream",
     "text": [
      "[3, 2, 1]\n"
     ]
    }
   ],
   "source": [
    "numbers.reverse()\n",
    "#reverse라는 기능 (메소드)를 실행해\n",
    "#함수를 실행할때는 항상 메소드이름(괄호)\n",
    "#`객체이름.어떠한기능` => 이라고 작성함. \n",
    "print(numbers)"
   ]
  },
  {
   "cell_type": "code",
   "execution_count": 7,
   "id": "6125a319-447e-4d21-b0c7-f6d8f660818f",
   "metadata": {},
   "outputs": [],
   "source": [
    "#예를 들어, 우리가 핸드폰을 만든다고한다면? \n",
    "#그 안의 기능들은? 어떻게 만들 것인가."
   ]
  },
  {
   "cell_type": "code",
   "execution_count": 43,
   "id": "91b48658-2313-4427-9dff-f3264ab4c301",
   "metadata": {},
   "outputs": [
    {
     "name": "stdout",
     "output_type": "stream",
     "text": [
      "010-2222-2222가 010-1234-1234한테 전화 거는중\n"
     ]
    }
   ],
   "source": [
    "number = '010-2222-2222'\n",
    "power = True\n",
    "phone_book = {\n",
    "    'kim': '010-1234-1234',\n",
    "    'park': '010-9876-9876',\n",
    "}\n",
    "#dictionary 형태로 전화번호부를 생성함. \n",
    "def call(from_num, to_num):\n",
    "    print(f'{from_num}가 {to_num}한테 전화 거는중')\n",
    "\n",
    "call(number, phone_book['kim'])"
   ]
  },
  {
   "cell_type": "code",
   "execution_count": null,
   "id": "a4b90128-ae29-456a-b98c-4e00b226a168",
   "metadata": {},
   "outputs": [],
   "source": [
    "#만일 내가 다른 번호의 핸드폰으로 위와 같은 핸드폰 기능을 만드려고하면,\n",
    "#너무 귀찮아진다. 안에 들어있는 번호를 일일히 다 바꾼다는 것은 불가능\n",
    "# 따라서, '핸드폰'이라는 기능을 가지는 'class'를 만들어 무한생성이 가능하도록\n",
    "number = '010-2222-2222'\n",
    "power = True\n",
    "phone_book = {\n",
    "    'kim': '010-1234-1234',\n",
    "    'park': '010-9876'9876',\n",
    "}\n",
    "#dictionary 형태로 전화번호부를 생성함. \n",
    "def call(from_num, to_num):\n",
    "    print(f'{from_num}가 {to_num}한테 전화 거는중')\n",
    "\n",
    "call(number, phone_book['kim'])\n"
   ]
  },
  {
   "cell_type": "markdown",
   "id": "f1f2128a-b13a-42dc-a047-a5fb595b4a44",
   "metadata": {},
   "source": [
    "## 1.1 class\n",
    "\n",
    "- 클래스 선언 정의\n",
    "\n",
    "```python\n",
    "class ClassName():\n",
    "#camel표기법(각단어의 시작을 대문자로 표기)\n",
    "    attribute1 = value1\n",
    "    attribute2 = value2\n",
    "    #값, 속성, 정보를 넣는 공간을 생성한다 (변수를 정의한다와 동일)\n",
    "    ...\n",
    "\n",
    "    def method_name1(self):\n",
    "        code\n",
    "    def method_name2(self):\n",
    "        code\n",
    "```\n",
    "\n",
    "\n",
    "- 인스턴스화 (클래스 실행)\n",
    "\n",
    "  c = CLassName()"
   ]
  },
  {
   "cell_type": "code",
   "execution_count": null,
   "id": "f0efe905-2da1-463d-8b6b-09eeb7bea1b3",
   "metadata": {},
   "outputs": [],
   "source": [
    "# 선언\n",
    "class MyClass():\n",
    "    name = 'kim'\n",
    "\n",
    "    def hello(self):\n",
    "        return 'hihihihihihi'"
   ]
  },
  {
   "cell_type": "code",
   "execution_count": null,
   "id": "bc20c5e1-8dc9-4239-bc6d-3a96b7d42a37",
   "metadata": {},
   "outputs": [],
   "source": [
    "# 인스턴스화\n",
    "m = MyClass()"
   ]
  },
  {
   "cell_type": "code",
   "execution_count": null,
   "id": "a60982db-e39b-430b-986c-e4854b4613c1",
   "metadata": {},
   "outputs": [],
   "source": [
    "print(type(m))"
   ]
  },
  {
   "cell_type": "code",
   "execution_count": null,
   "id": "e488ba15-5f07-4da2-b552-f9abca6df365",
   "metadata": {},
   "outputs": [],
   "source": [
    "#m은 하나의 데이터를 가지고 있고, 하나의 기능을 실행할 수 있다. "
   ]
  },
  {
   "cell_type": "code",
   "execution_count": null,
   "id": "b87e99bf-f3aa-4528-831b-27de09c65d4e",
   "metadata": {},
   "outputs": [],
   "source": [
    "print(m.name)\n",
    "print(m.hello())"
   ]
  },
  {
   "cell_type": "code",
   "execution_count": null,
   "id": "a9614fea-cece-4654-a559-97edfd4841a1",
   "metadata": {},
   "outputs": [],
   "source": [
    "m2 = MyClass()\n",
    "print(m2.name)\n",
    "print(m2.hello())"
   ]
  },
  {
   "cell_type": "code",
   "execution_count": null,
   "id": "956051d9-8446-477c-8384-822354bf02e8",
   "metadata": {},
   "outputs": [],
   "source": [
    "m2.name = 'park'\n",
    "#동일한 기능을 가진 m (m1, m2) 중 m2에 값을 바꿔 => 인스턴스화 시킴. \n",
    "#m1 과 m2 는 완전히 독립적인 객체\n",
    "print(m.name)\n",
    "print(m2.name)"
   ]
  },
  {
   "cell_type": "code",
   "execution_count": null,
   "id": "a4fc00bb-4c58-4840-9c07-ea1c6ca6f77c",
   "metadata": {},
   "outputs": [],
   "source": [
    " #어떤 변수에 접근할 때 항상 self (그 자신)을 붙인다. "
   ]
  },
  {
   "cell_type": "code",
   "execution_count": null,
   "id": "cd763986-780f-45e1-83e8-5ff39dd4609d",
   "metadata": {},
   "outputs": [],
   "source": [
    "class Phone():\n",
    "    power = False\n",
    "    number = '010-0000-0000'\n",
    "    book = {}\n",
    "    model = ''\n",
    "\n",
    "    def on(self):\n",
    "        #핸드폰 전원에 대한 기능을 생성하는 중\n",
    "        if self.power == False: \n",
    "            self.power = True\n",
    "            \n",
    "    def off(self):\n",
    "        #핸드폰 전원에 대한 기능을 생성하는 중\n",
    "        if self.power == True: \n",
    "            self.power = False\n",
    "       "
   ]
  },
  {
   "cell_type": "code",
   "execution_count": null,
   "id": "4df32d50-e2a7-4eb0-9eef-8d9e5545187f",
   "metadata": {},
   "outputs": [],
   "source": [
    "my_phone = Phone()\n",
    "your_phone = Phone()\n",
    "#최종 아웃풋! 2개의 다른 핸드폰에 동일한 기능을 넣어요~"
   ]
  },
  {
   "cell_type": "code",
   "execution_count": null,
   "id": "67807fcf-1e74-42c4-9c35-2439a1a7bd9a",
   "metadata": {},
   "outputs": [],
   "source": [
    "my_phone.number"
   ]
  },
  {
   "cell_type": "code",
   "execution_count": null,
   "id": "f205f118-d11f-4742-a1df-8563e4a9d169",
   "metadata": {},
   "outputs": [],
   "source": [
    "your_phone.number"
   ]
  },
  {
   "cell_type": "code",
   "execution_count": null,
   "id": "4d0dd162-bd7f-4018-967d-21bc7192be9e",
   "metadata": {},
   "outputs": [],
   "source": [
    "#초기화상태 - instance 자체에 정보를 넣은적이 없으니까요~"
   ]
  },
  {
   "cell_type": "code",
   "execution_count": null,
   "id": "7fedd333-33c2-4681-913a-14197fd8be83",
   "metadata": {},
   "outputs": [],
   "source": [
    "#정보를 수정해보아요."
   ]
  },
  {
   "cell_type": "code",
   "execution_count": null,
   "id": "9b78839d-dd08-488d-8105-f2e135ffd506",
   "metadata": {},
   "outputs": [],
   "source": [
    "my_phone.number = '010-1234-1234'\n",
    "print(my_phone.number)"
   ]
  },
  {
   "cell_type": "code",
   "execution_count": null,
   "id": "33b82bb3-1ed1-42bd-bc0f-edd68d50d218",
   "metadata": {},
   "outputs": [],
   "source": [
    "#하나의 정의를 만들고, 그 정의로부터 만들어진 객체가 각각 존재하는 상태"
   ]
  },
  {
   "cell_type": "code",
   "execution_count": null,
   "id": "c4f27baa-b5fb-43b4-9832-f155158f4cb1",
   "metadata": {},
   "outputs": [],
   "source": [
    "my_phone.power"
   ]
  },
  {
   "cell_type": "code",
   "execution_count": null,
   "id": "d5239a90-cb0a-40ac-847c-de8059c458c9",
   "metadata": {},
   "outputs": [],
   "source": [
    "my_phone.on()\n",
    "#내핸드폰이 가진 on이라는 함수를 실행하면 =>\n",
    "my_phone.power"
   ]
  },
  {
   "cell_type": "code",
   "execution_count": null,
   "id": "1553dc5c-6f2a-4afb-b2af-b614ba6f688e",
   "metadata": {},
   "outputs": [],
   "source": [
    "#그렇다면, your_phone은 한번도 수정된 적이 없는 독립적/ 다른 객체 상태!"
   ]
  },
  {
   "cell_type": "code",
   "execution_count": null,
   "id": "dfea07c4-6397-4527-963e-c5fc8d041b00",
   "metadata": {},
   "outputs": [],
   "source": [
    "class Phone():\n",
    "    power = False\n",
    "    number = '010-0000-0000'\n",
    "    book = {}\n",
    "    model = ''\n",
    "\n",
    "    def on(self):\n",
    "        #핸드폰 전원에 대한 기능을 생성하는 중\n",
    "        if self.power == False: \n",
    "            self.power = True\n",
    "            \n",
    "    def off(self):\n",
    "        #핸드폰 전원에 대한 기능을 생성하는 중\n",
    "        if self.power == True: \n",
    "            self.power = False\n",
    "\n",
    "    #이제 다시 새로운 기능을 추가해보자!\n",
    "    def call(self, target):\n",
    "        if self.power == True:\n",
    "            #call이라는 기능을 넣으려고 하는데, 그럴려면 핸드폰 power가 켜져있는 상태여야해요.\n",
    "            print(f'{self.number}가 {target.number}한테 전화거는중...(띠링띠링)')\n",
    "            #self.number => 내 자신의 번호에서 ===> target.number 한테 전화를 걸어요. \n",
    "        else:\n",
    "            print('핸드폰이 꺼져있습니다.')\n",
    "       "
   ]
  },
  {
   "cell_type": "code",
   "execution_count": null,
   "id": "a38d636c-fd59-4762-91c1-ae56bdfd8dce",
   "metadata": {},
   "outputs": [],
   "source": [
    "#call(self, target)\n",
    "#call이라는 기능은 타겟이 (self, target), 2개가 필요하다. \n",
    "\n",
    "my_phone.call(your_phone)\n",
    "#self는 생략을 하고, target; your_phone에게 전화를 건다. "
   ]
  },
  {
   "cell_type": "code",
   "execution_count": null,
   "id": "82c76c54-7b95-443d-810a-170efa3d0264",
   "metadata": {},
   "outputs": [],
   "source": [
    "your_phone.call(my_phone)"
   ]
  },
  {
   "cell_type": "code",
   "execution_count": null,
   "id": "983a6610-66e8-4f68-bbba-ca6eb5538c7b",
   "metadata": {},
   "outputs": [],
   "source": [
    "# 또다른 예시\n",
    "class Person():\n",
    "    name = ''\n",
    "    gender = ''\n",
    "    age = 0\n",
    "    height = 0\n",
    "\n",
    "    def greeting(self):\n",
    "        print(f'안녕하세요. 나는 {self.name} 이애요~(•ө•)♡.')\n",
    "    \n",
    "    def grow(self):\n",
    "        self.age += 1\n",
    "        #나이를 한살 먹는다를 표현중\n",
    "#사람 (Person) 에 대한 클래스를 정의함. \n",
    "#2개의 기능을 부여했슴.  "
   ]
  },
  {
   "cell_type": "code",
   "execution_count": null,
   "id": "630c3ac6-2ae2-4f97-9275-2ff4f50b922a",
   "metadata": {},
   "outputs": [],
   "source": [
    "p1 = Person()\n",
    "p2 = Person()"
   ]
  },
  {
   "cell_type": "code",
   "execution_count": null,
   "id": "1c12f889-ccbd-4e9c-bb08-752a129c6ce2",
   "metadata": {},
   "outputs": [],
   "source": [
    "print(p1.name, p2.name)\n",
    "#아무런 값도 입력하지 않았기에, 빈데이터 상태"
   ]
  },
  {
   "cell_type": "code",
   "execution_count": null,
   "id": "2bf37804-6e8b-4e98-aaee-fa2aac10d189",
   "metadata": {},
   "outputs": [],
   "source": [
    "p1.name = 'hong'\n",
    "p2.name = 'kim'\n",
    "\n",
    "p1.gender = 'F'\n",
    "p2.gender = 'M'\n",
    "\n",
    "p1.age = 20\n",
    "p2.age = 30\n",
    "\n",
    "p1.height = 170\n",
    "p2.height = 180"
   ]
  },
  {
   "cell_type": "code",
   "execution_count": null,
   "id": "5010dfeb-43ac-445d-aae9-acffc7e396bc",
   "metadata": {},
   "outputs": [],
   "source": [
    "p1.greeting()\n",
    "p2.greeting()"
   ]
  },
  {
   "cell_type": "markdown",
   "id": "2ae4450e-d569-4a59-bee0-4d7cfbfb70b0",
   "metadata": {},
   "source": [
    "## 1.2 생성자와 소멸자"
   ]
  },
  {
   "cell_type": "code",
   "execution_count": null,
   "id": "4d311b4a-5dbc-433d-815e-30ca2f0d5d08",
   "metadata": {},
   "outputs": [],
   "source": [
    "class MyClass:\n",
    "    def __init__(self):\n",
    "        pass\n",
    "\n",
    "    def __del__(self):\n",
    "        pass"
   ]
  },
  {
   "cell_type": "code",
   "execution_count": null,
   "id": "bf4c6192-5f97-4e54-bd83-296c4234f579",
   "metadata": {},
   "outputs": [],
   "source": [
    "class Person:\n",
    "    def __init__(self, n):  # 생성자 추가\n",
    "        self.name = n\n",
    "        print('생성됨')\n",
    "\n",
    "    def __del__(self):\n",
    "        print('소멸됨')"
   ]
  },
  {
   "cell_type": "code",
   "execution_count": null,
   "id": "a723f48b-ceec-48bb-8a86-ab4a77b7bd4f",
   "metadata": {},
   "outputs": [],
   "source": [
    "# 객체 생성\n",
    "p1 = Person('kim')  # => Person.__init__(p1, 'kim') 실행됨\n",
    "print(p1.name)  # 'kim' 출력\n",
    "p2 = Person('park')"
   ]
  },
  {
   "cell_type": "code",
   "execution_count": null,
   "id": "96726432-b1e4-439c-b62b-7ad06a1e3318",
   "metadata": {},
   "outputs": [],
   "source": [
    "del p1\n",
    "#변수의 할당이 사라졌을때 (소멸자)"
   ]
  },
  {
   "cell_type": "code",
   "execution_count": 44,
   "id": "eb8b6a33-a193-405b-99ca-c6ff1482245e",
   "metadata": {},
   "outputs": [],
   "source": [
    "# class라는 원을 만들고, 거기에 기능을 추가해보자\n",
    "#함수에서 배웠던 내용은 '기본값인자'를 부여해서 코드를 수정했다. (1)\n",
    "class Circle():\n",
    "    pi = 3.14\n",
    "    #pi 는 모든 원이 가지고 있는 특성이므로 여기에 작성했음. \n",
    "    \n",
    "    def __init__(self, r, x=0, y=0): # <= def __init__(self, r, x, y):\n",
    "        # => 수정된 부분, 만약 사용자가 값을 넣지 않았을 때 사용될 기본값인자 / x=0, y=0을 부여함. \n",
    "        self.r = r\n",
    "        self.x = x\n",
    "        self.y = y\n",
    "\n",
    "    def info(self):\n",
    "        print(f'반지름: {self.r} , 중심점:{self.x}, {self.y}')\n",
    "    #원의 정보를 보여주는 기능 `info`를 생성해줌. \n",
    "    def area(self):\n",
    "    #원의 면적을 구하는 기능\n",
    "        return self.r ** 2 * self.pi  \n",
    "        # => self.pi (pi를 불러오는데에도, `self`를 붙인다. \n",
    "        #=> 나 (인스턴스 내부)한테 pi가 없다면, 그 윗단계인 class (정의)로 올라가서 정의된 내용을 찾아 사용한다.)\n",
    "\n",
    "    def round(self):\n",
    "    #원의 둘레를 구하는 기능\n",
    "        return self.r * self.pi * 2\n",
    "\n",
    "    def move(self, x, y):\n",
    "        #값을 입력받아서 기능을 처리 하려면\n",
    "        self.x = x\n",
    "        #원래 내 instance가 가지고 있었던 x를 입력받은 x로 대체한다. \n",
    "        self.y = y        "
   ]
  },
  {
   "cell_type": "code",
   "execution_count": 45,
   "id": "4170953c-92d4-4c42-915c-c91670085c77",
   "metadata": {},
   "outputs": [
    {
     "ename": "TypeError",
     "evalue": "Circle.__init__() missing 1 required positional argument: 'r'",
     "output_type": "error",
     "traceback": [
      "\u001b[1;31m---------------------------------------------------------------------------\u001b[0m",
      "\u001b[1;31mTypeError\u001b[0m                                 Traceback (most recent call last)",
      "Cell \u001b[1;32mIn[45], line 1\u001b[0m\n\u001b[1;32m----> 1\u001b[0m c1 \u001b[38;5;241m=\u001b[39m \u001b[43mCircle\u001b[49m\u001b[43m(\u001b[49m\u001b[43m)\u001b[49m\n",
      "\u001b[1;31mTypeError\u001b[0m: Circle.__init__() missing 1 required positional argument: 'r'"
     ]
    }
   ],
   "source": [
    "c1 = Circle()"
   ]
  },
  {
   "cell_type": "code",
   "execution_count": 47,
   "id": "7752a9f0-bdef-4d8f-a373-4a27857b93e1",
   "metadata": {},
   "outputs": [],
   "source": [
    "#3개의 위치인자 (r, x, y) 를 빠트렸다는 오류 코드 발생\n",
    "#따라서 아래와 같이 위치인자 값을 다 부여해줌.\n",
    "c1 = Circle(5, 0, 0)\n",
    "c2 = Circle(3, 1, 1)"
   ]
  },
  {
   "cell_type": "code",
   "execution_count": 48,
   "id": "a1608272-e665-4670-b1d1-e8d5437cd72c",
   "metadata": {},
   "outputs": [
    {
     "name": "stdout",
     "output_type": "stream",
     "text": [
      "반지름: 5 , 중심점:0, 0\n",
      "반지름: 3 , 중심점:1, 1\n"
     ]
    }
   ],
   "source": [
    "c1.info()\n",
    "c2.info()"
   ]
  },
  {
   "cell_type": "code",
   "execution_count": 49,
   "id": "7d2757cc-0d82-4e21-b641-1ac9d570a647",
   "metadata": {},
   "outputs": [
    {
     "data": {
      "text/plain": [
       "28.26"
      ]
     },
     "execution_count": 49,
     "metadata": {},
     "output_type": "execute_result"
    }
   ],
   "source": [
    "c1.area()\n",
    "c2.area()"
   ]
  },
  {
   "cell_type": "code",
   "execution_count": 50,
   "id": "d3772a7e-954d-4955-aeba-0029c35277ef",
   "metadata": {},
   "outputs": [
    {
     "data": {
      "text/plain": [
       "18.84"
      ]
     },
     "execution_count": 50,
     "metadata": {},
     "output_type": "execute_result"
    }
   ],
   "source": [
    "c1.round()\n",
    "c2.round()"
   ]
  },
  {
   "cell_type": "code",
   "execution_count": 51,
   "id": "15c727a1-f9df-4e03-94f4-ff4ef06b33a2",
   "metadata": {},
   "outputs": [
    {
     "name": "stdout",
     "output_type": "stream",
     "text": [
      "반지름: 5 , 중심점:100, 100\n"
     ]
    }
   ],
   "source": [
    "c1.move(100, 100)\n",
    "c1.info()"
   ]
  },
  {
   "cell_type": "code",
   "execution_count": 55,
   "id": "0e778aee-3fa8-40ec-b610-1f71b8227758",
   "metadata": {},
   "outputs": [],
   "source": [
    "#새로운 예제 시작.\n",
    "class Point():\n",
    "    def __init__(self, x, y):\n",
    "        self.x = x\n",
    "        self.y = y\n",
    "        #점이라는 기능의 정보 (사용자가 넣은 값을 x, y라는 좌표로 받아올것이다.)\n",
    "\n",
    "    def info(self):\n",
    "        print(f'{self.x}, {self.y}')"
   ]
  },
  {
   "cell_type": "code",
   "execution_count": 56,
   "id": "c68f55df-83e1-4ae4-8342-b697c10b0c67",
   "metadata": {},
   "outputs": [],
   "source": [
    "p1 = Point(1, 1)\n",
    "p2 = Point(2, 3)"
   ]
  },
  {
   "cell_type": "code",
   "execution_count": 57,
   "id": "2ab2fec2-aeeb-492f-9064-f5e14955afa9",
   "metadata": {},
   "outputs": [],
   "source": [
    "class Circle():\n",
    "    def __init__(self, r, point):\n",
    "        #변수이기때문에 소문자로 `point`를 씀\n",
    "        #처음 생성할 때 instance 의 `Point` (대문자로 시작)와는 다르다~\n",
    "        #여기서는 `변수`로써 `point`를 만듦.\n",
    "        \n",
    "        self.r = r\n",
    "        self.point = point\n",
    "\n",
    "    def info(self):\n",
    "        print(f'반지름: {self.r} 중심점: {self.point.x}, {self.point.y}')"
   ]
  },
  {
   "cell_type": "code",
   "execution_count": 58,
   "id": "b125a766-c5d4-43e3-ac33-92637869fa2b",
   "metadata": {},
   "outputs": [
    {
     "name": "stdout",
     "output_type": "stream",
     "text": [
      "반지름: 10 중심점: 1, 1\n",
      "반지름: 5 중심점: 2, 3\n"
     ]
    }
   ],
   "source": [
    "c1 = Circle(10, p1)\n",
    "c2 = Circle(5, p2)\n",
    "\n",
    "c1.info()\n",
    "c2.info()"
   ]
  },
  {
   "cell_type": "markdown",
   "id": "9ed9e04c-27c6-498a-870a-397693dfb433",
   "metadata": {},
   "source": [
    "### 클래스 변수/ 인스턴스 변수\n",
    "\n",
    "- 클래스 변수 : 클래스 선언 블록 최상단에 위치\n",
    "- 인스턴스 변수 : 인스턴스 내부에서 생성한 변수\n",
    "\n",
    "```python\n",
    "class MyClass():\n",
    "    class_variable = '클래스변수'\n",
    "\n",
    "    def __init__(self):\n",
    "    self.instance_variable = '인스턴스 변수'"
   ]
  },
  {
   "cell_type": "code",
   "execution_count": null,
   "id": "a89199c2-6d02-4ac6-b858-fbb706065285",
   "metadata": {},
   "outputs": [],
   "source": [
    "class Person():\n",
    "    name = 'hong'\n",
    "    age = 10\n",
    "\n",
    "    def __init__(self, name):\n",
    "        self.name = name"
   ]
  },
  {
   "cell_type": "code",
   "execution_count": null,
   "id": "932bc0ce-3eed-48f9-943f-0fbc316ac981",
   "metadata": {},
   "outputs": [],
   "source": [
    "p1 = Person('oh')\n",
    "print(p1.name)\n",
    "print(p1.age)\n",
    "     #p1이라는 사람한테 age를 부여한적은 없음\n",
    "      #instance 변수의 내부에 먼저 접근해서, age와 관련된 내용을 찾는다.\n",
    "      #만약 없다면, 그 위 class 영역 함수에서 관련 age 내용을 찾아 데이터를 불러온다. "
   ]
  },
  {
   "cell_type": "markdown",
   "id": "eeb6c1fc-e6f8-462f-b21d-adb11cecfccc",
   "metadata": {},
   "source": [
    "### 1.4 클래스 메소드/ 인스턴스 메소드/ 스태틱 메소드\n",
    "\n",
    "```python\n",
    "class MyClass():\n",
    "    \n",
    "    def instance_method(self):\n",
    "    pass\n",
    "\n",
    "    @classmethod\n",
    "    def class_method(cls):\n",
    "        pass\n",
    "\n",
    "    @staticmethod\n",
    "    def static_method():\n",
    "        pass\n",
    "```"
   ]
  },
  {
   "cell_type": "code",
   "execution_count": 16,
   "id": "784ce18a-5241-4781-829a-cfec015b5836",
   "metadata": {},
   "outputs": [],
   "source": [
    "class MyClass():\n",
    "    def instance_method(self):\n",
    "        print(self)\n",
    "\n",
    "    @classmethod\n",
    "    def class_method(cls):\n",
    "        print(cls)\n",
    "\n",
    "    @staticmethod\n",
    "    def static_method():\n",
    "        print('static')"
   ]
  },
  {
   "cell_type": "code",
   "execution_count": 17,
   "id": "51cae9e8-9ef2-451d-8fc1-afb209717960",
   "metadata": {},
   "outputs": [
    {
     "name": "stdout",
     "output_type": "stream",
     "text": [
      "<__main__.MyClass object at 0x0000026E58FC9A90>\n",
      "<__main__.MyClass object at 0x0000026E58FC9A90>\n"
     ]
    }
   ],
   "source": [
    "mc = MyClass()\n",
    "mc.instance_method()\n",
    "print(mc)\n",
    "#mc라는변수를 출력해도, MyClass 와 완전히 동일함.\n",
    "#self는 자기자신을 의미한다. "
   ]
  },
  {
   "cell_type": "code",
   "execution_count": 19,
   "id": "38bfcf4d-a684-4554-8ac7-7da61b103393",
   "metadata": {},
   "outputs": [
    {
     "name": "stdout",
     "output_type": "stream",
     "text": [
      "<class '__main__.MyClass'>\n",
      "<class '__main__.MyClass'>\n"
     ]
    }
   ],
   "source": [
    "mc.class_method() # => cls\n",
    "print(MyClass)"
   ]
  },
  {
   "cell_type": "code",
   "execution_count": 20,
   "id": "ddbdb5e6-22e4-4c01-bd0e-0c8c8c04dac4",
   "metadata": {},
   "outputs": [
    {
     "name": "stdout",
     "output_type": "stream",
     "text": [
      "static\n"
     ]
    }
   ],
   "source": [
    "mc.static_method()"
   ]
  },
  {
   "cell_type": "code",
   "execution_count": 22,
   "id": "a1ddef90-75fb-4a24-9b0a-ae9a1ed4b708",
   "metadata": {},
   "outputs": [],
   "source": [
    "class Puppy:\n",
    "    num_of_puppy = 0  # ✅ 클래스 변수 추가\n",
    "\n",
    "\n",
    "    def __init__(self, name):\n",
    "        self.name = name\n",
    "        Puppy.num_of_puppy += 1\n",
    "\n",
    "    @classmethod\n",
    "    def info(cls):\n",
    "    #내가 접근하고 싶은 데이터 => Puppy자체가 가진 전체 데이터\n",
    "    #classmethod로 접근한다. \n",
    "        print(f'현재 강아지는 {cls.num_of_puppy}마리입니다.')\n",
    "\n",
    "    def bark(self):\n",
    "        print(f'멍멍! {self.name}입니다.')\n",
    "\n",
    "    @staticmethod\n",
    "    def bark2():\n",
    "        print('왈왈')"
   ]
  },
  {
   "cell_type": "code",
   "execution_count": 23,
   "id": "96a5cc1c-7d9f-42b0-b7ac-d6f772d5e33a",
   "metadata": {},
   "outputs": [],
   "source": [
    "p1 = Puppy('초코')\n",
    "p2 = Puppy('구름')\n",
    "p3 = Puppy('인절')"
   ]
  },
  {
   "cell_type": "code",
   "execution_count": 24,
   "id": "0bb788bc-f436-44ee-a4bd-7707d0a99f7e",
   "metadata": {},
   "outputs": [
    {
     "name": "stdout",
     "output_type": "stream",
     "text": [
      "현재 강아지는 3마리입니다.\n"
     ]
    }
   ],
   "source": [
    "Puppy.info()"
   ]
  },
  {
   "cell_type": "code",
   "execution_count": 25,
   "id": "ff17a177-a3f4-4449-a06f-633dbc0c4565",
   "metadata": {},
   "outputs": [
    {
     "name": "stdout",
     "output_type": "stream",
     "text": [
      "멍멍! 초코입니다.\n",
      "멍멍! 구름입니다.\n"
     ]
    }
   ],
   "source": [
    "p1.bark()\n",
    "p2.bark()"
   ]
  },
  {
   "cell_type": "markdown",
   "id": "fe1a62cf-8043-4534-8933-41a6db81038d",
   "metadata": {},
   "source": [
    "## 2. 상속"
   ]
  },
  {
   "cell_type": "code",
   "execution_count": null,
   "id": "612dcc02-902e-4b69-9372-b52990d3a2f7",
   "metadata": {},
   "outputs": [],
   "source": [
    "#한번 만들어 놓은 것을 어디서든 가져와서 쓰기위해서"
   ]
  },
  {
   "cell_type": "code",
   "execution_count": 9,
   "id": "74bfa858-ca48-4bb5-9d98-93da38c1c074",
   "metadata": {},
   "outputs": [],
   "source": [
    "class Person():\n",
    "    ident = ''\n",
    "    #사람을 생성하는 중 - id를 받는다라고 가정중\n",
    "\n",
    "    def __init__(self, name):\n",
    "        self.name = name\n",
    "\n",
    "    def greeting(self):\n",
    "        print(f'안녕하세요. {self.name}입니다.')"
   ]
  },
  {
   "cell_type": "code",
   "execution_count": 10,
   "id": "75600726-96ab-4d0e-81fc-9b279a0dac02",
   "metadata": {},
   "outputs": [],
   "source": [
    "p1 = Person('hong')\n",
    "p2 = Person('kim')"
   ]
  },
  {
   "cell_type": "code",
   "execution_count": 11,
   "id": "47eed6dc-b7ef-4296-993d-c3e9f7323131",
   "metadata": {},
   "outputs": [
    {
     "data": {
      "text/plain": [
       "'999999-111111'"
      ]
     },
     "execution_count": 11,
     "metadata": {},
     "output_type": "execute_result"
    }
   ],
   "source": [
    "p1.ident = '999999-111111'\n",
    "p1.ident"
   ]
  },
  {
   "cell_type": "code",
   "execution_count": null,
   "id": "46ea749b-e1c7-431a-a37f-73ef2e9b72e7",
   "metadata": {},
   "outputs": [],
   "source": [
    "#Person이라는 상위개념 아래에 여러가지 카테고리를 만들어보겠다. "
   ]
  },
  {
   "cell_type": "code",
   "execution_count": 14,
   "id": "2a382e32-5244-4110-862c-e7b993ea8d44",
   "metadata": {},
   "outputs": [],
   "source": [
    "class Soldier(Person): # => (괄호안에 Person을) 넣음으로써, Person과 관련된 코드를 그대로 물려받는다.\n",
    "#군인도 사람이니까, 사람의 특성을 여기도 넣어주겠다. \n",
    "    def greeting(self):\n",
    "        print(f'충성! {self.name}입니다.') # => 부모와는 다른 greeting 출력값을 부여한다. \n",
    "#상속을 받아온 부모 (Person)의 함수 외에도, 자식 (Soldier)가 원하는 함수를 단독적으로/ 추가적으로 기입할 수 있다. => 오버라이딩"
   ]
  },
  {
   "cell_type": "code",
   "execution_count": 15,
   "id": "47affb54-4703-4525-9ae6-efbc1a6647e7",
   "metadata": {},
   "outputs": [
    {
     "name": "stdout",
     "output_type": "stream",
     "text": [
      "충성! 굳건이입니다.\n"
     ]
    }
   ],
   "source": [
    "s1 = Soldier('굳건이')\n",
    "s1.greeting()"
   ]
  },
  {
   "cell_type": "code",
   "execution_count": null,
   "id": "eb5b6f55-fccb-45ca-a231-a1f555270bf6",
   "metadata": {},
   "outputs": [],
   "source": [
    "s1.ident = '25-12341234'\n",
    "s1.ident\n",
    "#변수의 이름은 같지만, 데이터의 유형은 달라질 수 있다. \n",
    "#e.g. 군인일때 ident 에 군번을 넣고/ 일반 Person일때는 ident에 주민등록번호를 넣은 이 예시처럼"
   ]
  },
  {
   "cell_type": "code",
   "execution_count": null,
   "id": "987d22b1-3508-4e7a-8a39-3a895d20953d",
   "metadata": {},
   "outputs": [],
   "source": [
    "class Person():\n",
    "    def __init__(self, name, age, email, phone):\n",
    "        self.name = name\n",
    "        self.age = age\n",
    "        self.email = email\n",
    "        self.phone = phone\n",
    "        \n",
    "        \n",
    "class Student(Person):\n",
    "\n",
    "    def __init__(self, name, age, email, phone, studnet_id):\n",
    "    #     self.name = name\n",
    "    #     self.age = age\n",
    "    #     self.email = email\n",
    "    #     self.phone = phone\n",
    "    #부모 (Person)의 특성을 상속받음.\n",
    "    #     self.student_id = student_id\n",
    "\n",
    "#    => 부모가 가진 __init__이라는 함수를 먼저 호출해올것이다. \n",
    "\n",
    "# => 너무 긴 코드 해결하고자\n",
    "# => 아래처럼 super(). 불러오고자하는 부모의 함수를 실행한다. "
   ]
  },
  {
   "cell_type": "code",
   "execution_count": null,
   "id": "87f303db-97d6-4c88-992f-4016b6838a99",
   "metadata": {},
   "outputs": [],
   "source": [
    "class Person():\n",
    "    def __init__(self, name, age, email, phone):\n",
    "        self.name = name\n",
    "        self.age = age\n",
    "        self.email = email\n",
    "        self.phone = phone\n",
    "        \n",
    "        \n",
    "class Student(Person):\n",
    "\n",
    "    def __init__(self, name, age, email, phone, studnet_id):\n",
    "        super().__init__(name, age, email, phone)\n",
    "        self.student_id = student_id"
   ]
  },
  {
   "cell_type": "markdown",
   "id": "457d015c-c324-4e20-b247-2fbef099bdd7",
   "metadata": {},
   "source": [
    "## 다중상속"
   ]
  },
  {
   "cell_type": "code",
   "execution_count": 30,
   "id": "c723d271-8de8-44af-baad-24063b830f4d",
   "metadata": {},
   "outputs": [],
   "source": [
    "class Person():\n",
    "    def __init__(self, name): \n",
    "        self.name = name\n",
    "\n",
    "    def breath(self):\n",
    "        print('후하')"
   ]
  },
  {
   "cell_type": "code",
   "execution_count": 31,
   "id": "d9f178fe-e348-4b3f-8b8d-3b41d0716a88",
   "metadata": {},
   "outputs": [],
   "source": [
    "class Mum(Person):\n",
    "    gene = 'xx'\n",
    "\n",
    "    def swim(self):\n",
    "        print('어푸어푸')"
   ]
  },
  {
   "cell_type": "code",
   "execution_count": 32,
   "id": "0c2f62e8-ee82-45eb-b764-f55de92170ce",
   "metadata": {},
   "outputs": [],
   "source": [
    "class Dad(Person):\n",
    "    gene = 'xy'\n",
    "\n",
    "    def run(self):\n",
    "        print('다다다')"
   ]
  },
  {
   "cell_type": "code",
   "execution_count": 33,
   "id": "30353873-4b71-4c38-a135-f27ab5025351",
   "metadata": {},
   "outputs": [],
   "source": [
    "class Child(Mum, Dad): \n",
    "    pass\n",
    "#다이아몬드상속 (Mum과 Dad를 물려받는)"
   ]
  },
  {
   "cell_type": "code",
   "execution_count": 38,
   "id": "c8323f5c-48e4-4b2b-85bf-ae303ccc0b6d",
   "metadata": {},
   "outputs": [
    {
     "name": "stdout",
     "output_type": "stream",
     "text": [
      "후하\n",
      "다다다\n",
      "어푸어푸\n"
     ]
    }
   ],
   "source": [
    "c = Child('금쪽이')\n",
    "c.breath()\n",
    "c.run()\n",
    "c.swim()"
   ]
  },
  {
   "cell_type": "code",
   "execution_count": null,
   "id": "cfa762a8-9944-40af-82da-dd82237b9f1e",
   "metadata": {},
   "outputs": [],
   "source": [
    "c.gene\n",
    "#상속을 했을 때, 먼저 적어 준 것을 우선순위로 가져간다. \n",
    "#Child(Mum, Dad) => 중 Mum의 gene을 물려받는다. "
   ]
  },
  {
   "cell_type": "markdown",
   "id": "63d6b0ca-f289-4ac8-b15e-708805d18837",
   "metadata": {},
   "source": [
    "#### 파이썬 자습서 기준 Chapter 9까지 완료함. "
   ]
  },
  {
   "cell_type": "code",
   "execution_count": 41,
   "id": "2de08a83-b31e-46de-999f-916c29352231",
   "metadata": {},
   "outputs": [
    {
     "name": "stdout",
     "output_type": "stream",
     "text": [
      "배틀시작!\n",
      "꼬부기이(가) 파이리에게 15의 데미지를 입혔습니다!\n",
      "파이리이(가) 꼬부기에게 10의 데미지를 입혔습니다!\n",
      "꼬부기 - 체력: 40\n",
      "파이리 - 체력: 35\n",
      "----------\n",
      "꼬부기이(가) 파이리에게 15의 데미지를 입혔습니다!\n",
      "파이리이(가) 꼬부기에게 10의 데미지를 입혔습니다!\n",
      "꼬부기 - 체력: 30\n",
      "파이리 - 체력: 20\n",
      "----------\n",
      "꼬부기이(가) 파이리에게 15의 데미지를 입혔습니다!\n",
      "파이리이(가) 꼬부기에게 10의 데미지를 입혔습니다!\n",
      "꼬부기 - 체력: 20\n",
      "파이리 - 체력: 5\n",
      "----------\n",
      "꼬부기이(가) 파이리에게 15의 데미지를 입혔습니다!\n",
      "파이리가 쓰러졌습니다! 꼬부기 승리!\n"
     ]
    }
   ],
   "source": [
    "#class 연습하는 예제 <포켓몬>\n",
    "\n",
    "import random\n",
    "\n",
    "# 포켓몬 클래스 정의\n",
    "class Pokemon:\n",
    "    def __init__(self, name, level=5):\n",
    "        self.name = name            # 포켓몬 이름\n",
    "        self.level = level          # 포켓몬 레벨 (기본값 5)\n",
    "        self.hp = level * 10        # 체력은 레벨에 따라 결정 (예: 레벨 5면 체력 50)\n",
    "\n",
    "    def attack(self, opponent):\n",
    "        # 간단한 공격: 데미지는 레벨과 1부터 3 사이의 랜덤 숫자를 곱해 결정합니다.\n",
    "        damage = self.level * random.randint(1, 3)\n",
    "        print(f\"{self.name}이(가) {opponent.name}에게 {damage}의 데미지를 입혔습니다!\")\n",
    "        opponent.hp -= damage\n",
    "\n",
    "    def is_knocked_out(self):\n",
    "        # 체력이 0 이하이면 쓰러진 것으로 간주\n",
    "        return self.hp <= 0\n",
    "\n",
    "    def status(self):\n",
    "        # 현재 상태(이름과 체력)를 출력하는 메서드\n",
    "        print(f\"{self.name} - 체력: {self.hp}\")\n",
    "\n",
    "# 포켓몬 객체 생성 (타입 정보를 제거)\n",
    "kobugi = Pokemon(\"꼬부기\", level=5)\n",
    "pairi = Pokemon(\"파이리\", level=5)\n",
    "\n",
    "# 배틀 시뮬레이션 시작\n",
    "print(\"배틀시작!\")\n",
    "while True:\n",
    "    # 꼬부기가 파이리를 공격\n",
    "    kobugi.attack(pairi)\n",
    "    if pairi.is_knocked_out():\n",
    "        print(f\"{pairi.name}가 쓰러졌습니다! {kobugi.name} 승리!\")\n",
    "        break\n",
    "\n",
    "    # 파이리가 꼬부기를 공격\n",
    "    pairi.attack(kobugi)\n",
    "    if kobugi.is_knocked_out():\n",
    "        print(f\"{kobugi.name}가 쓰러졌습니다! {pairi.name} 승리!\")\n",
    "        break\n",
    "\n",
    "    # 각 포켓몬의 현재 체력을 출력\n",
    "    kobugi.status()\n",
    "    pairi.status()\n",
    "    print(\"----------\")\n"
   ]
  },
  {
   "cell_type": "code",
   "execution_count": 59,
   "id": "115dd447-0301-4cf4-908d-86cc089cbac8",
   "metadata": {},
   "outputs": [
    {
     "name": "stdout",
     "output_type": "stream",
     "text": [
      "황성진이 1로 3을 못 맞췄습니다!\n",
      "최시언이 3로 1을 못 맞췄습니다!\n",
      "황성진은 5번 남았습니다!\n",
      "최시언은 5번 남았습니다!\n",
      "---------------------\n",
      "황성진이 4로 1을 못 맞췄습니다!\n",
      "최시언이 4로 1을 못 맞췄습니다!\n",
      "황성진은 4번 남았습니다!\n",
      "최시언은 4번 남았습니다!\n",
      "---------------------\n",
      "황성진이 1로 4을 못 맞췄습니다!\n",
      "최시언이 4로 5을 못 맞췄습니다!\n",
      "황성진은 3번 남았습니다!\n",
      "최시언은 3번 남았습니다!\n",
      "---------------------\n",
      "황성진이 1로 3을 못 맞췄습니다!\n",
      "최시언이 6로 4을 못 맞췄습니다!\n",
      "황성진은 2번 남았습니다!\n",
      "최시언은 2번 남았습니다!\n",
      "---------------------\n",
      "황성진이 3로 1을 못 맞췄습니다!\n",
      "최시언이 4로 2을 못 맞췄습니다!\n",
      "황성진은 1번 남았습니다!\n",
      "최시언은 1번 남았습니다!\n",
      "---------------------\n",
      "황성진이 2로 5을 못 맞췄습니다!\n",
      "최시언이 이겼다!\n"
     ]
    }
   ],
   "source": [
    "## 숫자 맞추기 게임\n",
    "\n",
    "import random\n",
    "\n",
    "class Person():\n",
    "    def __init__(self, name, chance=6):\n",
    "        self.name = name\n",
    "        self.chance = chance\n",
    "\n",
    "    def guess(self):\n",
    "        target = random.randint(1, 6)\n",
    "        my_guess = random.randint(1, 6)\n",
    "        \n",
    "        if my_guess == target:\n",
    "            print(f'{self.name}이 {my_guess}로 {target}을 맞췄습니다!')\n",
    "        else:\n",
    "            print(f'{self.name}이 {my_guess}로 {target}을 못 맞췄습니다!')\n",
    "            self.chance -= 1\n",
    "\n",
    "    def end(self):\n",
    "        return self.chance == 0\n",
    "\n",
    "    def status(self):\n",
    "        print(f'{self.name}은 {self.chance}번 남았습니다!')\n",
    "\n",
    "p1 = Person('황성진', 6)\n",
    "p2 = Person('최시언', 6)\n",
    "\n",
    "while True:\n",
    "    p1.guess()\n",
    "    if p1.end():\n",
    "        print(f'{p2.name}이 이겼다!')\n",
    "        break\n",
    "\n",
    "    p2.guess()\n",
    "    if p2.end():\n",
    "        print(f'{p1.name}이 이겼다!')\n",
    "        break\n",
    "\n",
    "    p1.status()\n",
    "    p2.status()\n",
    "    print('---------------------')"
   ]
  },
  {
   "cell_type": "code",
   "execution_count": 60,
   "id": "35cf3c8a-70b7-40c5-8eab-01df197e33ac",
   "metadata": {},
   "outputs": [],
   "source": [
    "# create exercise - applying \"class\" function in python \n",
    "# normally - random can be jointed with \"class\" function\n",
    "# So, I'd like to create a game that adopts \"class, random, etc.\"\n",
    "\n",
    "#I'll create two instance variables => \n",
    "#랜덤한 숫자를 부여해서, 랜덤으로 낮아지는 값 적용 => 빨리 그 숫자가 0에 도달하면, 승리\n",
    "\n",
    "\n",
    "\n",
    "import random\n",
    "\n",
    "class lego:\n",
    "    def __init__(self, time=8):\n",
    "        self.name = name\n",
    "        self.time = time\n",
    "\n",
    "    def blocks(self)\n"
   ]
  },
  {
   "cell_type": "code",
   "execution_count": 73,
   "id": "8cf60204-2b7b-475a-af89-74f5d49fab3b",
   "metadata": {},
   "outputs": [
    {
     "name": "stdout",
     "output_type": "stream",
     "text": [
      "덧셈: 15\n",
      "뺄셈: 5\n",
      "곱셈: 50\n",
      "나눗셈: 2.0\n"
     ]
    }
   ],
   "source": [
    "class Cal:\n",
    "    def data(self, num1, num2):\n",
    "        self.num1 = num1 \n",
    "        self.num2 = num2\n",
    "\n",
    "    def Add(self):\n",
    "        result = self.num1 + self.num2\n",
    "        return result\n",
    "\n",
    "    def Sub(self):\n",
    "        result = self.num1 - self.num2\n",
    "        return result  \n",
    "\n",
    "    def Mul(self):\n",
    "        result = self.num1 * self.num2\n",
    "        return result\n",
    "\n",
    "    def Div(self):\n",
    "        if self.num2 == 0:  # 0으로 나누는 경우 예외 처리\n",
    "            return \"Error: Cannot divide by zero\"\n",
    "        result = self.num1 / self.num2\n",
    "        return result\n",
    "\n",
    "# 객체 생성 및 실행\n",
    "calc = Cal()  # 객체 생성\n",
    "calc.data(10, 5)  # 값 설정\n",
    "\n",
    "print(\"덧셈:\", calc.Add())  # 10 + 5 = 15\n",
    "print(\"뺄셈:\", calc.Sub())  # 10 - 5 = 5\n",
    "print(\"곱셈:\", calc.Mul())  # 10 * 5 = 50\n",
    "print(\"나눗셈:\", calc.Div())  # 10 / 5 = 2.0\n"
   ]
  }
 ],
 "metadata": {
  "kernelspec": {
   "display_name": "Python 3 (ipykernel)",
   "language": "python",
   "name": "python3"
  },
  "language_info": {
   "codemirror_mode": {
    "name": "ipython",
    "version": 3
   },
   "file_extension": ".py",
   "mimetype": "text/x-python",
   "name": "python",
   "nbconvert_exporter": "python",
   "pygments_lexer": "ipython3",
   "version": "3.13.2"
  }
 },
 "nbformat": 4,
 "nbformat_minor": 5
}
