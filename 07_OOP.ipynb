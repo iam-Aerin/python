{
 "cells": [
  {
   "cell_type": "markdown",
   "id": "db72077d-17b7-40b4-8568-eac7ef110834",
   "metadata": {},
   "source": [
    "1. 객체지향 프로그래밍 (OOP)\n",
    "   - 1.1 클래스\n",
    "   - 1.2 생성자와 소멸자"
   ]
  },
  {
   "cell_type": "markdown",
   "id": "7b075666-7ec3-4cab-8eae-24fe340ac786",
   "metadata": {},
   "source": [
    "# 1. 객체지향 프로그래밍 (OOP)\n",
    "\n",
    "- 클래스 (class) : 같은 종류의 집단에 속하는 `속성`과 `행동`을 `정의`한 것\n",
    "- 속성 (attribute) : 클래스/ 인스턴스가 가지고 있는 데이터/ 값\n",
    "- 행동 (method) : 클래스/ 인스턴스가 가지고 있는 함수/ 기능\n",
    "- 인스턴스 (instance) : 클래스를 실제로 메모리 상에 할당한 것"
   ]
  },
  {
   "cell_type": "code",
   "execution_count": 10,
   "id": "2547c3bc-462d-4ac0-9e89-2c8bbaa386e4",
   "metadata": {},
   "outputs": [],
   "source": [
    "number = 1 + 2j\n",
    "#복소수 j"
   ]
  },
  {
   "cell_type": "code",
   "execution_count": 2,
   "id": "a01849b4-b7a1-4291-9fdc-85b26dab3fe5",
   "metadata": {},
   "outputs": [
    {
     "name": "stdout",
     "output_type": "stream",
     "text": [
      "<class 'complex'>\n"
     ]
    }
   ],
   "source": [
    "print(type(number)) \n",
    "#파이썬에서 이미 복소수 (complex)라는 type -> class 를 정의해놓음. "
   ]
  },
  {
   "cell_type": "code",
   "execution_count": 3,
   "id": "60f03f6d-4dee-4b6a-a3cd-a2aade78bce9",
   "metadata": {},
   "outputs": [
    {
     "name": "stdout",
     "output_type": "stream",
     "text": [
      "1.0\n",
      "2.0\n"
     ]
    }
   ],
   "source": [
    "print(number.real)\n",
    "#복소수 = 실수부 (real) 와 허수부 (img) 로 나누어지는데\n",
    "print(number.imag)"
   ]
  },
  {
   "cell_type": "code",
   "execution_count": 4,
   "id": "74e1e904-d115-48b0-95e5-937a7446965c",
   "metadata": {},
   "outputs": [],
   "source": [
    "numbers = [1, 2, 3]"
   ]
  },
  {
   "cell_type": "code",
   "execution_count": 5,
   "id": "626f9a16-0f41-463c-a2de-fafda1d34587",
   "metadata": {},
   "outputs": [
    {
     "name": "stdout",
     "output_type": "stream",
     "text": [
      "<class 'list'>\n"
     ]
    }
   ],
   "source": [
    "print(type(numbers))"
   ]
  },
  {
   "cell_type": "code",
   "execution_count": 6,
   "id": "6770812e-c9ad-4d5f-b67b-99b15e737100",
   "metadata": {},
   "outputs": [
    {
     "name": "stdout",
     "output_type": "stream",
     "text": [
      "[3, 2, 1]\n"
     ]
    }
   ],
   "source": [
    "numbers.reverse()\n",
    "#reverse라는 기능 (메소드)를 실행해\n",
    "#함수를 실행할때는 항상 메소드이름(괄호)\n",
    "#`객체이름.어떠한기능` => 이라고 작성함. \n",
    "print(numbers)"
   ]
  },
  {
   "cell_type": "code",
   "execution_count": 7,
   "id": "6125a319-447e-4d21-b0c7-f6d8f660818f",
   "metadata": {},
   "outputs": [],
   "source": [
    "#예를 들어, 우리가 핸드폰을 만든다고한다면? \n",
    "#그 안의 기능들은? 어떻게 만들 것인가."
   ]
  },
  {
   "cell_type": "code",
   "execution_count": 8,
   "id": "91b48658-2313-4427-9dff-f3264ab4c301",
   "metadata": {},
   "outputs": [
    {
     "ename": "SyntaxError",
     "evalue": "unterminated string literal (detected at line 5) (2749632682.py, line 5)",
     "output_type": "error",
     "traceback": [
      "\u001b[1;36m  Cell \u001b[1;32mIn[8], line 5\u001b[1;36m\u001b[0m\n\u001b[1;33m    'park': '010-9876'9876',\u001b[0m\n\u001b[1;37m                          ^\u001b[0m\n\u001b[1;31mSyntaxError\u001b[0m\u001b[1;31m:\u001b[0m unterminated string literal (detected at line 5)\n"
     ]
    }
   ],
   "source": [
    "number = '010-2222-2222'\n",
    "power = True\n",
    "phone_book = {\n",
    "    'kim': '010-1234-1234',\n",
    "    'park': '010-9876'9876',\n",
    "}\n",
    "#dictionary 형태로 전화번호부를 생성함. \n",
    "def call(from_num, to_num):\n",
    "    print(f'{from_num}가 {to_num}한테 전화 거는중')\n",
    "\n",
    "call(number, phone_book['kim'])"
   ]
  },
  {
   "cell_type": "code",
   "execution_count": null,
   "id": "a4b90128-ae29-456a-b98c-4e00b226a168",
   "metadata": {},
   "outputs": [],
   "source": [
    "#만일 내가 다른 번호의 핸드폰으로 위와 같은 핸드폰 기능을 만드려고하면,\n",
    "#너무 귀찮아진다. 안에 들어있는 번호를 일일히 다 바꾼다는 것은 불가능\n",
    "# 따라서, '핸드폰'이라는 기능을 가지는 'class'를 만들어 무한생성이 가능하도록\n",
    "number = '010-2222-2222'\n",
    "power = True\n",
    "phone_book = {\n",
    "    'kim': '010-1234-1234',\n",
    "    'park': '010-9876'9876',\n",
    "}\n",
    "#dictionary 형태로 전화번호부를 생성함. \n",
    "def call(from_num, to_num):\n",
    "    print(f'{from_num}가 {to_num}한테 전화 거는중')\n",
    "\n",
    "call(number, phone_book['kim'])\n"
   ]
  },
  {
   "cell_type": "markdown",
   "id": "f1f2128a-b13a-42dc-a047-a5fb595b4a44",
   "metadata": {},
   "source": [
    "## 1.1 class\n",
    "\n",
    "- 클래스 선언 정의\n",
    "\n",
    "```python\n",
    "class ClassName():\n",
    "#camel표기법(각단어의 시작을 대문자로 표기)\n",
    "    attribute1 = value1\n",
    "    attribute2 = value2\n",
    "    #값, 속성, 정보를 넣는 공간을 생성한다 (변수를 정의한다와 동일)\n",
    "    ...\n",
    "\n",
    "    def method_name1(self):\n",
    "        code\n",
    "    def method_name2(self):\n",
    "        code\n",
    "```\n",
    "\n",
    "\n",
    "- 인스턴스화 (클래스 실행)\n",
    "\n",
    "  c = CLassName()"
   ]
  },
  {
   "cell_type": "code",
   "execution_count": null,
   "id": "f0efe905-2da1-463d-8b6b-09eeb7bea1b3",
   "metadata": {},
   "outputs": [],
   "source": [
    "# 선언\n",
    "class MyClass():\n",
    "    name = 'kim'\n",
    "\n",
    "    def hello(self):\n",
    "        return 'hihihihihihi'"
   ]
  },
  {
   "cell_type": "code",
   "execution_count": null,
   "id": "bc20c5e1-8dc9-4239-bc6d-3a96b7d42a37",
   "metadata": {},
   "outputs": [],
   "source": [
    "# 인스턴스화\n",
    "m = MyClass()"
   ]
  },
  {
   "cell_type": "code",
   "execution_count": null,
   "id": "a60982db-e39b-430b-986c-e4854b4613c1",
   "metadata": {},
   "outputs": [],
   "source": [
    "print(type(m))"
   ]
  },
  {
   "cell_type": "code",
   "execution_count": null,
   "id": "e488ba15-5f07-4da2-b552-f9abca6df365",
   "metadata": {},
   "outputs": [],
   "source": [
    "#m은 하나의 데이터를 가지고 있고, 하나의 기능을 실행할 수 있다. "
   ]
  },
  {
   "cell_type": "code",
   "execution_count": null,
   "id": "b87e99bf-f3aa-4528-831b-27de09c65d4e",
   "metadata": {},
   "outputs": [],
   "source": [
    "print(m.name)\n",
    "print(m.hello())"
   ]
  },
  {
   "cell_type": "code",
   "execution_count": null,
   "id": "a9614fea-cece-4654-a559-97edfd4841a1",
   "metadata": {},
   "outputs": [],
   "source": [
    "m2 = MyClass()\n",
    "print(m2.name)\n",
    "print(m2.hello())"
   ]
  },
  {
   "cell_type": "code",
   "execution_count": null,
   "id": "956051d9-8446-477c-8384-822354bf02e8",
   "metadata": {},
   "outputs": [],
   "source": [
    "m2.name = 'park'\n",
    "#동일한 기능을 가진 m (m1, m2) 중 m2에 값을 바꿔 => 인스턴스화 시킴. \n",
    "#m1 과 m2 는 완전히 독립적인 객체\n",
    "print(m.name)\n",
    "print(m2.name)"
   ]
  },
  {
   "cell_type": "code",
   "execution_count": null,
   "id": "a4fc00bb-4c58-4840-9c07-ea1c6ca6f77c",
   "metadata": {},
   "outputs": [],
   "source": [
    " #어떤 변수에 접근할 때 항상 self (그 자신)을 붙인다. "
   ]
  },
  {
   "cell_type": "code",
   "execution_count": null,
   "id": "cd763986-780f-45e1-83e8-5ff39dd4609d",
   "metadata": {},
   "outputs": [],
   "source": [
    "class Phone():\n",
    "    power = False\n",
    "    number = '010-0000-0000'\n",
    "    book = {}\n",
    "    model = ''\n",
    "\n",
    "    def on(self):\n",
    "        #핸드폰 전원에 대한 기능을 생성하는 중\n",
    "        if self.power == False: \n",
    "            self.power = True\n",
    "            \n",
    "    def off(self):\n",
    "        #핸드폰 전원에 대한 기능을 생성하는 중\n",
    "        if self.power == True: \n",
    "            self.power = False\n",
    "       "
   ]
  },
  {
   "cell_type": "code",
   "execution_count": null,
   "id": "4df32d50-e2a7-4eb0-9eef-8d9e5545187f",
   "metadata": {},
   "outputs": [],
   "source": [
    "my_phone = Phone()\n",
    "your_phone = Phone()\n",
    "#최종 아웃풋! 2개의 다른 핸드폰에 동일한 기능을 넣어요~"
   ]
  },
  {
   "cell_type": "code",
   "execution_count": null,
   "id": "67807fcf-1e74-42c4-9c35-2439a1a7bd9a",
   "metadata": {},
   "outputs": [],
   "source": [
    "my_phone.number"
   ]
  },
  {
   "cell_type": "code",
   "execution_count": null,
   "id": "f205f118-d11f-4742-a1df-8563e4a9d169",
   "metadata": {},
   "outputs": [],
   "source": [
    "your_phone.number"
   ]
  },
  {
   "cell_type": "code",
   "execution_count": null,
   "id": "4d0dd162-bd7f-4018-967d-21bc7192be9e",
   "metadata": {},
   "outputs": [],
   "source": [
    "#초기화상태 - instance 자체에 정보를 넣은적이 없으니까요~"
   ]
  },
  {
   "cell_type": "code",
   "execution_count": null,
   "id": "7fedd333-33c2-4681-913a-14197fd8be83",
   "metadata": {},
   "outputs": [],
   "source": [
    "#정보를 수정해보아요."
   ]
  },
  {
   "cell_type": "code",
   "execution_count": null,
   "id": "9b78839d-dd08-488d-8105-f2e135ffd506",
   "metadata": {},
   "outputs": [],
   "source": [
    "my_phone.number = '010-1234-1234'\n",
    "print(my_phone.number)"
   ]
  },
  {
   "cell_type": "code",
   "execution_count": null,
   "id": "33b82bb3-1ed1-42bd-bc0f-edd68d50d218",
   "metadata": {},
   "outputs": [],
   "source": [
    "#하나의 정의를 만들고, 그 정의로부터 만들어진 객체가 각각 존재하는 상태"
   ]
  },
  {
   "cell_type": "code",
   "execution_count": null,
   "id": "c4f27baa-b5fb-43b4-9832-f155158f4cb1",
   "metadata": {},
   "outputs": [],
   "source": [
    "my_phone.power"
   ]
  },
  {
   "cell_type": "code",
   "execution_count": null,
   "id": "d5239a90-cb0a-40ac-847c-de8059c458c9",
   "metadata": {},
   "outputs": [],
   "source": [
    "my_phone.on()\n",
    "#내핸드폰이 가진 on이라는 함수를 실행하면 =>\n",
    "my_phone.power"
   ]
  },
  {
   "cell_type": "code",
   "execution_count": null,
   "id": "1553dc5c-6f2a-4afb-b2af-b614ba6f688e",
   "metadata": {},
   "outputs": [],
   "source": [
    "#그렇다면, your_phone은 한번도 수정된 적이 없는 독립적/ 다른 객체 상태!"
   ]
  },
  {
   "cell_type": "code",
   "execution_count": null,
   "id": "dfea07c4-6397-4527-963e-c5fc8d041b00",
   "metadata": {},
   "outputs": [],
   "source": [
    "class Phone():\n",
    "    power = False\n",
    "    number = '010-0000-0000'\n",
    "    book = {}\n",
    "    model = ''\n",
    "\n",
    "    def on(self):\n",
    "        #핸드폰 전원에 대한 기능을 생성하는 중\n",
    "        if self.power == False: \n",
    "            self.power = True\n",
    "            \n",
    "    def off(self):\n",
    "        #핸드폰 전원에 대한 기능을 생성하는 중\n",
    "        if self.power == True: \n",
    "            self.power = False\n",
    "\n",
    "    #이제 다시 새로운 기능을 추가해보자!\n",
    "    def call(self, target):\n",
    "        if self.power == True:\n",
    "            #call이라는 기능을 넣으려고 하는데, 그럴려면 핸드폰 power가 켜져있는 상태여야해요.\n",
    "            print(f'{self.number}가 {target.number}한테 전화거는중...(띠링띠링)')\n",
    "            #self.number => 내 자신의 번호에서 ===> target.number 한테 전화를 걸어요. \n",
    "        else:\n",
    "            print('핸드폰이 꺼져있습니다.')\n",
    "       "
   ]
  },
  {
   "cell_type": "code",
   "execution_count": null,
   "id": "a38d636c-fd59-4762-91c1-ae56bdfd8dce",
   "metadata": {},
   "outputs": [],
   "source": [
    "#call(self, target)\n",
    "#call이라는 기능은 타겟이 (self, target), 2개가 필요하다. \n",
    "\n",
    "my_phone.call(your_phone)\n",
    "#self는 생략을 하고, target; your_phone에게 전화를 건다. "
   ]
  },
  {
   "cell_type": "code",
   "execution_count": null,
   "id": "82c76c54-7b95-443d-810a-170efa3d0264",
   "metadata": {},
   "outputs": [],
   "source": [
    "your_phone.call(my_phone)"
   ]
  },
  {
   "cell_type": "code",
   "execution_count": null,
   "id": "983a6610-66e8-4f68-bbba-ca6eb5538c7b",
   "metadata": {},
   "outputs": [],
   "source": [
    "# 또다른 예시\n",
    "class Person():\n",
    "    name = ''\n",
    "    gender = ''\n",
    "    age = 0\n",
    "    height = 0\n",
    "\n",
    "    def greeting(self):\n",
    "        print(f'안녕하세요. 나는 {self.name} 이애요~(•ө•)♡.')\n",
    "    \n",
    "    def grow(self):\n",
    "        self.age += 1\n",
    "        #나이를 한살 먹는다를 표현중\n",
    "#사람 (Person) 에 대한 클래스를 정의함. \n",
    "#2개의 기능을 부여했슴.  "
   ]
  },
  {
   "cell_type": "code",
   "execution_count": null,
   "id": "630c3ac6-2ae2-4f97-9275-2ff4f50b922a",
   "metadata": {},
   "outputs": [],
   "source": [
    "p1 = Person()\n",
    "p2 = Person()"
   ]
  },
  {
   "cell_type": "code",
   "execution_count": null,
   "id": "1c12f889-ccbd-4e9c-bb08-752a129c6ce2",
   "metadata": {},
   "outputs": [],
   "source": [
    "print(p1.name, p2.name)\n",
    "#아무런 값도 입력하지 않았기에, 빈데이터 상태"
   ]
  },
  {
   "cell_type": "code",
   "execution_count": null,
   "id": "2bf37804-6e8b-4e98-aaee-fa2aac10d189",
   "metadata": {},
   "outputs": [],
   "source": [
    "p1.name = 'hong'\n",
    "p2.name = 'kim'\n",
    "\n",
    "p1.gender = 'F'\n",
    "p2.gender = 'M'\n",
    "\n",
    "p1.age = 20\n",
    "p2.age = 30\n",
    "\n",
    "p1.height = 170\n",
    "p2.height = 180"
   ]
  },
  {
   "cell_type": "code",
   "execution_count": null,
   "id": "5010dfeb-43ac-445d-aae9-acffc7e396bc",
   "metadata": {},
   "outputs": [],
   "source": [
    "p1.greeting()\n",
    "p2.greeting()"
   ]
  },
  {
   "cell_type": "markdown",
   "id": "2ae4450e-d569-4a59-bee0-4d7cfbfb70b0",
   "metadata": {},
   "source": [
    "## 1.2 생성자와 소멸자"
   ]
  },
  {
   "cell_type": "code",
   "execution_count": null,
   "id": "4d311b4a-5dbc-433d-815e-30ca2f0d5d08",
   "metadata": {},
   "outputs": [],
   "source": [
    "class MyClass:\n",
    "    def __init__(self):\n",
    "        pass\n",
    "\n",
    "    def __del__(self):\n",
    "        pass"
   ]
  },
  {
   "cell_type": "code",
   "execution_count": null,
   "id": "bf4c6192-5f97-4e54-bd83-296c4234f579",
   "metadata": {},
   "outputs": [],
   "source": [
    "class Person:\n",
    "    def __init__(self, n):  # 생성자 추가\n",
    "        self.name = n\n",
    "        print('생성됨')\n",
    "\n",
    "    def __del__(self):\n",
    "        print('소멸됨')"
   ]
  },
  {
   "cell_type": "code",
   "execution_count": null,
   "id": "a723f48b-ceec-48bb-8a86-ab4a77b7bd4f",
   "metadata": {},
   "outputs": [],
   "source": [
    "# 객체 생성\n",
    "p1 = Person('kim')  # => Person.__init__(p1, 'kim') 실행됨\n",
    "print(p1.name)  # 'kim' 출력\n",
    "p2 = Person('park')"
   ]
  },
  {
   "cell_type": "code",
   "execution_count": null,
   "id": "96726432-b1e4-439c-b62b-7ad06a1e3318",
   "metadata": {},
   "outputs": [],
   "source": [
    "del p1\n",
    "#변수의 할당이 사라졌을때 (소멸자)"
   ]
  },
  {
   "cell_type": "code",
   "execution_count": null,
   "id": "eb8b6a33-a193-405b-99ca-c6ff1482245e",
   "metadata": {},
   "outputs": [],
   "source": [
    "# class라는 원을 만들고, 거기에 기능을 추가해보자\n",
    "#함수에서 배웠던 내용은 '기본값인자'를 부여해서 코드를 수정했다. (1)\n",
    "class Circle():\n",
    "    pi = 3.14\n",
    "    #pi 는 모든 원이 가지고 있는 특성이므로 여기에 작성했음. \n",
    "    \n",
    "    def __init__(self, r, x=0, y=0): # <= def __init__(self, r, x, y):\n",
    "        # => 수정된 부분, 만약 사용자가 값을 넣지 않았을 때 사용될 기본값인자 / x=0, y=0을 부여함. \n",
    "        self.r = r\n",
    "        self.x = x\n",
    "        self.y = y\n",
    "\n",
    "    def info(self):\n",
    "        print(f'반지름: {self.r} , 중심점:{self.x}, {self.y}')\n",
    "    #원의 정보를 보여주는 기능 `info`를 생성해줌. \n",
    "    def area(self):\n",
    "    #원의 면적을 구하는 기능\n",
    "        return self.r ** 2 * self.pi  \n",
    "        # => self.pi (pi를 불러오는데에도, `self`를 붙인다. \n",
    "        #=> 나 (인스턴스 내부)한테 pi가 없다면, 그 윗단계인 class (정의)로 올라가서 정의된 내용을 찾아 사용한다.)\n",
    "\n",
    "    def round(self):\n",
    "    #원의 둘레를 구하는 기능\n",
    "        return self.r * self.pi * 2\n",
    "\n",
    "    def move(self, x, y):\n",
    "        #값을 입력받아서 기능을 처리 하려면\n",
    "        self.x = x\n",
    "        #원래 내 instance가 가지고 있었던 x를 입력받은 x로 대체한다. \n",
    "        self.y = y        "
   ]
  },
  {
   "cell_type": "code",
   "execution_count": null,
   "id": "4170953c-92d4-4c42-915c-c91670085c77",
   "metadata": {},
   "outputs": [],
   "source": [
    "c1 = Circle()"
   ]
  },
  {
   "cell_type": "code",
   "execution_count": null,
   "id": "7752a9f0-bdef-4d8f-a373-4a27857b93e1",
   "metadata": {},
   "outputs": [],
   "source": [
    "#3개의 위치인자 (r, x, y) 를 빠트렸다는 오류 코드 발생\n",
    "#따라서 아래와 같이 위치인자 값을 다 부여해줌.\n",
    "c1 = Circle(5, 0, 0)\n",
    "c2 = Circle(3, 1, 1)"
   ]
  },
  {
   "cell_type": "code",
   "execution_count": null,
   "id": "a1608272-e665-4670-b1d1-e8d5437cd72c",
   "metadata": {},
   "outputs": [],
   "source": [
    "c1.info()\n",
    "c2.info()"
   ]
  },
  {
   "cell_type": "code",
   "execution_count": null,
   "id": "7d2757cc-0d82-4e21-b641-1ac9d570a647",
   "metadata": {},
   "outputs": [],
   "source": [
    "c1.area()\n",
    "c2.area()"
   ]
  },
  {
   "cell_type": "code",
   "execution_count": null,
   "id": "d3772a7e-954d-4955-aeba-0029c35277ef",
   "metadata": {},
   "outputs": [],
   "source": [
    "c1.round()\n",
    "c2.round()"
   ]
  },
  {
   "cell_type": "code",
   "execution_count": null,
   "id": "15c727a1-f9df-4e03-94f4-ff4ef06b33a2",
   "metadata": {},
   "outputs": [],
   "source": [
    "c1.move(100, 100)\n",
    "c1.info()"
   ]
  },
  {
   "cell_type": "code",
   "execution_count": 11,
   "id": "0e778aee-3fa8-40ec-b610-1f71b8227758",
   "metadata": {},
   "outputs": [],
   "source": [
    "#새로운 예제 시작.\n",
    "class Point():\n",
    "    def __init__(self, x, y):\n",
    "        self.x = x\n",
    "        self.y = y\n",
    "        #점이라는 기능의 정보 (사용자가 넣은 값을 x, y라는 좌표로 받아올것이다.)\n",
    "\n",
    "    def info(self):\n",
    "        print(f'{self.x}, {self.y}')"
   ]
  },
  {
   "cell_type": "code",
   "execution_count": 12,
   "id": "c68f55df-83e1-4ae4-8342-b697c10b0c67",
   "metadata": {},
   "outputs": [],
   "source": [
    "p1 = Point(1, 1)\n",
    "p2 = Point(2, 3)"
   ]
  },
  {
   "cell_type": "code",
   "execution_count": 13,
   "id": "2ab2fec2-aeeb-492f-9064-f5e14955afa9",
   "metadata": {},
   "outputs": [],
   "source": [
    "class Circle():\n",
    "    def __init__(self, r, point):\n",
    "        #변수이기때문에 소문자로 `point`를 씀\n",
    "        #처음 생성할 때 instance 의 `Point` (대문자로 시작)와는 다르다~\n",
    "        #여기서는 `변수`로써 `point`를 만듦.\n",
    "        \n",
    "        self.r = r\n",
    "        self.point = point\n",
    "\n",
    "    def info(self):\n",
    "        print(f'반지름: {self.r} 중심점: {self.point.x}, {self.point.y}')"
   ]
  },
  {
   "cell_type": "code",
   "execution_count": 14,
   "id": "b125a766-c5d4-43e3-ac33-92637869fa2b",
   "metadata": {},
   "outputs": [
    {
     "name": "stdout",
     "output_type": "stream",
     "text": [
      "반지름: 10 중심점: 1, 1\n",
      "반지름: 5 중심점: 2, 3\n"
     ]
    }
   ],
   "source": [
    "c1 = Circle(10, p1)\n",
    "c2 = Circle(5, p2)\n",
    "\n",
    "c1.info()\n",
    "c2.info()"
   ]
  }
 ],
 "metadata": {
  "kernelspec": {
   "display_name": "Python 3 (ipykernel)",
   "language": "python",
   "name": "python3"
  },
  "language_info": {
   "codemirror_mode": {
    "name": "ipython",
    "version": 3
   },
   "file_extension": ".py",
   "mimetype": "text/x-python",
   "name": "python",
   "nbconvert_exporter": "python",
   "pygments_lexer": "ipython3",
   "version": "3.13.2"
  }
 },
 "nbformat": 4,
 "nbformat_minor": 5
}
