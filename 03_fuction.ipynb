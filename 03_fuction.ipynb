{
 "cells": [
  {
   "cell_type": "markdown",
   "id": "adb0a410-3cff-4260-b062-3f19a1835aa1",
   "metadata": {},
   "source": [
    "## 함수 (function)"
   ]
  },
  {
   "cell_type": "code",
   "execution_count": 5,
   "id": "a4bf20ac-74f3-45f3-ae17-886630bd504d",
   "metadata": {},
   "outputs": [
    {
     "name": "stdout",
     "output_type": "stream",
     "text": [
      "사각형의 면적은 1000이고 둘레는 140입니다.\n",
      "사각형 2의 면적은 2500이고 둘레는 200입니다.\n"
     ]
    }
   ],
   "source": [
    "# 사각형의 가로와 세로의 길이를 이용해서 면적 (area) 과 둘레 (perimeter) 를 구하는 코드. \n",
    "height = 50\n",
    "width = 20\n",
    "\n",
    "height2 = 50\n",
    "width2 = 50\n",
    "\n",
    "\n",
    "area = height * width\n",
    "perimeter = 2 * (height + width)\n",
    "\n",
    "area2 = height2 * width2\n",
    "perimeter2 = 2 * (height2 + width2)\n",
    "\n",
    "print(f'사각형의 면적은 {area}이고 둘레는 {perimeter}입니다.')\n",
    "print(f'사각형 2의 면적은 {area2}이고 둘레는 {perimeter2}입니다.')"
   ]
  },
  {
   "cell_type": "code",
   "execution_count": null,
   "id": "8a5fc086-4e90-4fce-82bb-97d120b1599d",
   "metadata": {},
   "outputs": [],
   "source": [
    "# 'DRY' - 코드의 재사용을 피하라! 반복하지마라! "
   ]
  },
  {
   "cell_type": "markdown",
   "id": "a11df91b-a493-450b-ba01-7932cac879c1",
   "metadata": {},
   "source": [
    "## 함수의 선언과 호출\n",
    "- 선언 방법\n",
    "  #parameter는 하나도 안들어갈수도 있고, 여러개가 들어갈수도 있다. \n",
    "```python\n",
    "def func_name(parameter1, parameter2, ...):\n",
    "    code1\n",
    "    code2\n",
    "    ...\n",
    "    return value\n",
    "```\n",
    "\n",
    "- 호출 방법\n",
    "\n",
    "`func_name(parameter1, parameter2, ...)`\n"
   ]
  },
  {
   "cell_type": "code",
   "execution_count": 10,
   "id": "37590402-c9df-4129-af6d-6e13f37266f4",
   "metadata": {},
   "outputs": [],
   "source": [
    "#def rectangle('내가 필요한 데이터의 인자 (매개변수, argumemt, parameter, etc.) 를 지정해주는 공간'):\n",
    "def rectangle(height, width):\n",
    "    area = height * width\n",
    "    perimeter = (height + width) * 2\n",
    "\n",
    "    print(f'사각형의 면적은 {area}입니다. 둘레는 {perimeter}입니다.')"
   ]
  },
  {
   "cell_type": "code",
   "execution_count": 11,
   "id": "898b6814-8ad0-4a44-9e8b-eb2de76531b7",
   "metadata": {},
   "outputs": [
    {
     "name": "stdout",
     "output_type": "stream",
     "text": [
      "사각형의 면적은 1500입니다. 둘레는 160입니다.\n"
     ]
    }
   ],
   "source": [
    "rectangle(50, 30)\n",
    "rectangle(20, 100)"
   ]
  },
  {
   "cell_type": "code",
   "execution_count": 13,
   "id": "74901ff1-7fb2-4fa2-a370-c154e9a14191",
   "metadata": {},
   "outputs": [
    {
     "data": {
      "text/plain": [
       "['ArithmeticError',\n",
       " 'AssertionError',\n",
       " 'AttributeError',\n",
       " 'BaseException',\n",
       " 'BaseExceptionGroup',\n",
       " 'BlockingIOError',\n",
       " 'BrokenPipeError',\n",
       " 'BufferError',\n",
       " 'BytesWarning',\n",
       " 'ChildProcessError',\n",
       " 'ConnectionAbortedError',\n",
       " 'ConnectionError',\n",
       " 'ConnectionRefusedError',\n",
       " 'ConnectionResetError',\n",
       " 'DeprecationWarning',\n",
       " 'EOFError',\n",
       " 'Ellipsis',\n",
       " 'EncodingWarning',\n",
       " 'EnvironmentError',\n",
       " 'Exception',\n",
       " 'ExceptionGroup',\n",
       " 'False',\n",
       " 'FileExistsError',\n",
       " 'FileNotFoundError',\n",
       " 'FloatingPointError',\n",
       " 'FutureWarning',\n",
       " 'GeneratorExit',\n",
       " 'IOError',\n",
       " 'ImportError',\n",
       " 'ImportWarning',\n",
       " 'IndentationError',\n",
       " 'IndexError',\n",
       " 'InterruptedError',\n",
       " 'IsADirectoryError',\n",
       " 'KeyError',\n",
       " 'KeyboardInterrupt',\n",
       " 'LookupError',\n",
       " 'MemoryError',\n",
       " 'ModuleNotFoundError',\n",
       " 'NameError',\n",
       " 'None',\n",
       " 'NotADirectoryError',\n",
       " 'NotImplemented',\n",
       " 'NotImplementedError',\n",
       " 'OSError',\n",
       " 'OverflowError',\n",
       " 'PendingDeprecationWarning',\n",
       " 'PermissionError',\n",
       " 'ProcessLookupError',\n",
       " 'PythonFinalizationError',\n",
       " 'RecursionError',\n",
       " 'ReferenceError',\n",
       " 'ResourceWarning',\n",
       " 'RuntimeError',\n",
       " 'RuntimeWarning',\n",
       " 'StopAsyncIteration',\n",
       " 'StopIteration',\n",
       " 'SyntaxError',\n",
       " 'SyntaxWarning',\n",
       " 'SystemError',\n",
       " 'SystemExit',\n",
       " 'TabError',\n",
       " 'TimeoutError',\n",
       " 'True',\n",
       " 'TypeError',\n",
       " 'UnboundLocalError',\n",
       " 'UnicodeDecodeError',\n",
       " 'UnicodeEncodeError',\n",
       " 'UnicodeError',\n",
       " 'UnicodeTranslateError',\n",
       " 'UnicodeWarning',\n",
       " 'UserWarning',\n",
       " 'ValueError',\n",
       " 'Warning',\n",
       " 'WindowsError',\n",
       " 'ZeroDivisionError',\n",
       " '_IncompleteInputError',\n",
       " '__IPYTHON__',\n",
       " '__build_class__',\n",
       " '__debug__',\n",
       " '__doc__',\n",
       " '__import__',\n",
       " '__loader__',\n",
       " '__name__',\n",
       " '__package__',\n",
       " '__spec__',\n",
       " 'abs',\n",
       " 'aiter',\n",
       " 'all',\n",
       " 'anext',\n",
       " 'any',\n",
       " 'ascii',\n",
       " 'bin',\n",
       " 'bool',\n",
       " 'breakpoint',\n",
       " 'bytearray',\n",
       " 'bytes',\n",
       " 'callable',\n",
       " 'chr',\n",
       " 'classmethod',\n",
       " 'compile',\n",
       " 'complex',\n",
       " 'copyright',\n",
       " 'credits',\n",
       " 'delattr',\n",
       " 'dict',\n",
       " 'dir',\n",
       " 'display',\n",
       " 'divmod',\n",
       " 'enumerate',\n",
       " 'eval',\n",
       " 'exec',\n",
       " 'execfile',\n",
       " 'filter',\n",
       " 'float',\n",
       " 'format',\n",
       " 'frozenset',\n",
       " 'get_ipython',\n",
       " 'getattr',\n",
       " 'globals',\n",
       " 'hasattr',\n",
       " 'hash',\n",
       " 'help',\n",
       " 'hex',\n",
       " 'id',\n",
       " 'input',\n",
       " 'int',\n",
       " 'isinstance',\n",
       " 'issubclass',\n",
       " 'iter',\n",
       " 'len',\n",
       " 'license',\n",
       " 'list',\n",
       " 'locals',\n",
       " 'map',\n",
       " 'max',\n",
       " 'memoryview',\n",
       " 'min',\n",
       " 'next',\n",
       " 'object',\n",
       " 'oct',\n",
       " 'open',\n",
       " 'ord',\n",
       " 'pow',\n",
       " 'print',\n",
       " 'property',\n",
       " 'range',\n",
       " 'repr',\n",
       " 'reversed',\n",
       " 'round',\n",
       " 'runfile',\n",
       " 'set',\n",
       " 'setattr',\n",
       " 'slice',\n",
       " 'sorted',\n",
       " 'staticmethod',\n",
       " 'str',\n",
       " 'sum',\n",
       " 'super',\n",
       " 'tuple',\n",
       " 'type',\n",
       " 'vars',\n",
       " 'zip']"
      ]
     },
     "execution_count": 13,
     "metadata": {},
     "output_type": "execute_result"
    }
   ],
   "source": [
    "dir()\n",
    "#세부내용을 보여주세요라는 함수.\n",
    "dir(__builtins__)"
   ]
  },
  {
   "cell_type": "code",
   "execution_count": 15,
   "id": "dd777878-d314-4074-824b-fe2245a1b109",
   "metadata": {},
   "outputs": [
    {
     "data": {
      "text/plain": [
       "2"
      ]
     },
     "execution_count": 15,
     "metadata": {},
     "output_type": "execute_result"
    }
   ],
   "source": [
    "max(100, 2)"
   ]
  },
  {
   "cell_type": "code",
   "execution_count": 16,
   "id": "54740022-bd29-438f-a0ba-da60951fc9b6",
   "metadata": {},
   "outputs": [],
   "source": [
    "def my_max(num1, num2):\n",
    "    if num1 > num2:\n",
    "        print(num1)\n",
    "    else:\n",
    "        print(num2)\n",
    "        "
   ]
  },
  {
   "cell_type": "code",
   "execution_count": 19,
   "id": "0efca625-6496-4348-aa45-21df4ad9318e",
   "metadata": {},
   "outputs": [
    {
     "name": "stdout",
     "output_type": "stream",
     "text": [
      "193094\n",
      "5\n"
     ]
    }
   ],
   "source": [
    "my_max(193094,19039)\n",
    "my_max(5,5)"
   ]
  },
  {
   "cell_type": "code",
   "execution_count": 21,
   "id": "3e6ecfa3-e833-475c-802a-1039140dfff8",
   "metadata": {},
   "outputs": [],
   "source": [
    "#같은 숫자일때, '같습니다.' 라고 표현하는 방법의 함수로 (elif)\n",
    "def my_max(num1, num2):\n",
    "    if num1 > num2:\n",
    "        print(num1)\n",
    "    elif num1 < num2:\n",
    "        print(num2)\n",
    "    else:\n",
    "        print('같습니다.')\n",
    "        "
   ]
  },
  {
   "cell_type": "code",
   "execution_count": 22,
   "id": "ac4f2786-32be-4619-91f3-5d7f1c94c8dd",
   "metadata": {},
   "outputs": [
    {
     "name": "stdout",
     "output_type": "stream",
     "text": [
      "같습니다.\n"
     ]
    }
   ],
   "source": [
    "my_max(19,19)"
   ]
  },
  {
   "cell_type": "markdown",
   "id": "e1992d2c-efbb-47ac-9a14-6012513c7819",
   "metadata": {},
   "source": [
    "## 함수의 return\n",
    "\n",
    "- 함수가 `return` 을 만나면 해당값을 반환하고 함수를 종료\n",
    "- 만약 `return` 이 없는 경우, `None`을 자동으로 반환\n",
    "- `return`은 오직 하나의 객체만 반환"
   ]
  },
  {
   "cell_type": "code",
   "execution_count": 25,
   "id": "8a4c76a4-c0f4-44e2-ade2-04e04460bedf",
   "metadata": {},
   "outputs": [
    {
     "name": "stdout",
     "output_type": "stream",
     "text": [
      "2\n",
      "None\n"
     ]
    }
   ],
   "source": [
    "result = my_max(1, 2)\n",
    "print(result)\n",
    "#result * 2"
   ]
  },
  {
   "cell_type": "code",
   "execution_count": 32,
   "id": "a911f10f-3671-4693-81c8-b4bc49f50926",
   "metadata": {},
   "outputs": [],
   "source": [
    "def my_max2(num1, num2):\n",
    "    if num1 > num2:\n",
    "        pass\n",
    "    else:\n",
    "        pass\n",
    "\n",
    "#pass는 구조를 위한 코드 (구조를 먼저 잡고 코드를 채워나갈때 '공란')"
   ]
  },
  {
   "cell_type": "code",
   "execution_count": 37,
   "id": "c63ac7a3-44ab-4bc5-a5e8-405f775dbe60",
   "metadata": {},
   "outputs": [],
   "source": [
    "def my_max2(num1, num2):\n",
    "    if num1 > num2:\n",
    "        return num1\n",
    "    else:\n",
    "        return num2\n",
    "# reutrn: 연산결과를 저장할 수 있다. "
   ]
  },
  {
   "cell_type": "code",
   "execution_count": 44,
   "id": "89751577-aded-4afd-a5da-7f5ae61493a1",
   "metadata": {},
   "outputs": [
    {
     "name": "stdout",
     "output_type": "stream",
     "text": [
      "19039.01\n"
     ]
    }
   ],
   "source": [
    "result = my_max2(19039.01,19039.001)\n",
    "print(result)"
   ]
  },
  {
   "cell_type": "code",
   "execution_count": 46,
   "id": "3298c387-b872-43ec-8584-b983eaad1038",
   "metadata": {},
   "outputs": [
    {
     "data": {
      "text/plain": [
       "(20, 10)"
      ]
     },
     "execution_count": 46,
     "metadata": {},
     "output_type": "execute_result"
    }
   ],
   "source": [
    "def my_def(x):\n",
    "    return x * 2, x\n",
    "# 어떤 수를 넣었는지를 `, x` 로 넣어줄 수 있음. \n",
    "# tuple 형태의 결과값 (괄호안에 값을) 보여줌.\n",
    "my_def(10)"
   ]
  },
  {
   "cell_type": "code",
   "execution_count": 49,
   "id": "ebb28a8b-f65c-42e6-aa2a-2e5866816d07",
   "metadata": {},
   "outputs": [
    {
     "name": "stdout",
     "output_type": "stream",
     "text": [
      "0\n",
      "1\n",
      "2\n",
      "3\n"
     ]
    },
    {
     "data": {
      "text/plain": [
       "3"
      ]
     },
     "execution_count": 49,
     "metadata": {},
     "output_type": "execute_result"
    }
   ],
   "source": [
    "def my_for(x):\n",
    "    for i in range(x):\n",
    "    #x번만큼 for문을 반복해주세요.\n",
    "        print(i)\n",
    "        if i == 3:\n",
    "            return i\n",
    "            #return: 뒤에 더 할일 (for문이) 있던지 말던지 'return' 을 만나서 이 함수는 자기의 역할을 끝내고 종료되게됨. \n",
    "my_for(5)"
   ]
  },
  {
   "cell_type": "code",
   "execution_count": 50,
   "id": "b138e50c-201f-41a7-bb4e-ad6bbcd699b3",
   "metadata": {},
   "outputs": [],
   "source": [
    "def my_list_max():\n",
    "    pass"
   ]
  },
  {
   "cell_type": "code",
   "execution_count": 53,
   "id": "e23e9e38-9f06-4f38-9830-d19bcb0af182",
   "metadata": {},
   "outputs": [],
   "source": [
    "#my_list_max([1, 2, 3], [2, 3, 4])\n",
    "#=> [2, 3, 4]\n",
    "#=> list 의 합이 큰 것을 반환하도록 함수를 짜라."
   ]
  },
  {
   "cell_type": "code",
   "execution_count": 91,
   "id": "a9bc27b3-41f9-4f19-9843-bda1513d5950",
   "metadata": {},
   "outputs": [],
   "source": [
    "#version 1\n",
    "def my_list_max(list1, list2):\n",
    "#리스트를 가져와서, 그 리스트 내의 숫자들의 합을 구한다. \n",
    "#그리고 그 합의 결과를 비교한다. \n",
    "    #for문으로 그 리스트 안의 값을 다 더한다. \n",
    "# 두 결과값 중 더 큰값을 return 한다. \n",
    "        sum1 = list1[0] + list1[1] + list1[2]\n",
    "\n",
    "        \n",
    "        sum2 = list2[0] + list2[1] + list2[2]\n",
    "    \n",
    "        #그 리스트 안의 모든 값을 더하는 방법 => \n",
    "        if sum1 > sum2:\n",
    "\n",
    "            return list1\n",
    "        else: \n",
    "            return list2\n",
    "     "
   ]
  },
  {
   "cell_type": "code",
   "execution_count": 92,
   "id": "fce9cb77-4dec-4588-ac30-2b6549e4d73b",
   "metadata": {},
   "outputs": [
    {
     "data": {
      "text/plain": [
       "[4, 5, 6]"
      ]
     },
     "execution_count": 92,
     "metadata": {},
     "output_type": "execute_result"
    }
   ],
   "source": [
    "my_list_max([1, 2, 3], [4, 5, 6])    "
   ]
  },
  {
   "cell_type": "code",
   "execution_count": 102,
   "id": "43645928-44e5-4e07-ab37-fe1ddcc2ce63",
   "metadata": {},
   "outputs": [],
   "source": [
    "#version 2\n",
    "def my_list_max(list1, list2):\n",
    "        sum1 = 0\n",
    "        #sum 초기값 설정을 위해 0이라고 설정\n",
    "        for item in list1:\n",
    "            sum1 = sum1 + item\n",
    "\n",
    "        sum2 = 0\n",
    "        for item in list2:\n",
    "            sum2 += item\n",
    "\n",
    "        if sum1 > sum2:\n",
    "            return list1\n",
    "        else: \n",
    "            return list2\n",
    "     "
   ]
  },
  {
   "cell_type": "code",
   "execution_count": 103,
   "id": "ddc88038-dea7-46e9-810c-0643ef29bb3f",
   "metadata": {},
   "outputs": [
    {
     "data": {
      "text/plain": [
       "[4, 5, 6]"
      ]
     },
     "execution_count": 103,
     "metadata": {},
     "output_type": "execute_result"
    }
   ],
   "source": [
    "my_list_max([1, 2, 3], [4, 5, 6])"
   ]
  },
  {
   "cell_type": "code",
   "execution_count": 117,
   "id": "7f701e77-0a5e-410d-a15c-db2de7a24ff8",
   "metadata": {},
   "outputs": [
    {
     "name": "stdout",
     "output_type": "stream",
     "text": [
      "[4, 5, 6]\n"
     ]
    }
   ],
   "source": [
    "#version 3\n",
    "def my_list_max(list1, list2):\n",
    "    # 리스트1의 합을 계산한다\n",
    "    sum1 = 0\n",
    "    for i in range(len(list1)):\n",
    "        #list1의 길이를 (len) 이 계산을 하고 => 그 길이 만큼 (range)\n",
    "        sum1 = sum1 + list1[i]\n",
    "    \n",
    "    # 리스트2의 합을 계산한다\n",
    "    sum2 = 0\n",
    "    for i in range(len(list2)):\n",
    "        sum2 = sum2 + list2[i]\n",
    "    \n",
    "    # 두 결과 값 중 더 큰 값을 반환한다\n",
    "    if sum1 > sum2:\n",
    "        return list1\n",
    "    else:\n",
    "        return list2\n",
    "\n",
    "# 예시 리스트\n",
    "list1 = [1, 2, 3]\n",
    "list2 = [4, 5, 6]\n",
    "\n",
    "print(my_list_max(list1, list2))  # 출력: 15\n"
   ]
  },
  {
   "cell_type": "code",
   "execution_count": 113,
   "id": "95827b60-aafa-4d59-8892-f5b8fc1738d7",
   "metadata": {},
   "outputs": [],
   "source": [
    "#version 4\n",
    "def my_list_max(list1, list2):\n",
    "    sum1 = sum(list1)\n",
    "    sum2 = sum(list2)\n",
    "\n",
    "    if sum1 > sum2:\n",
    "        return list1\n",
    "    else:\n",
    "        return list2"
   ]
  },
  {
   "cell_type": "code",
   "execution_count": 114,
   "id": "26f95192-7fbc-475e-81cd-5192b03bd00d",
   "metadata": {},
   "outputs": [
    {
     "data": {
      "text/plain": [
       "[4, 5, 6]"
      ]
     },
     "execution_count": 114,
     "metadata": {},
     "output_type": "execute_result"
    }
   ],
   "source": [
    "my_list_max([1, 2, 3], [4, 5, 6])"
   ]
  },
  {
   "cell_type": "markdown",
   "id": "2c325d74-a7b0-4c16-be50-e0100b7f977b",
   "metadata": {},
   "source": [
    "### 함수의 인수"
   ]
  },
  {
   "cell_type": "markdown",
   "id": "77a5f213-b340-4418-b7b4-240242a64a0e",
   "metadata": {},
   "source": [
    "#### 위치인수\n",
    "- 기본적으로 함수는 위치를 기준으로 인수를 판단합니다."
   ]
  },
  {
   "cell_type": "code",
   "execution_count": 118,
   "id": "4083b97b-e309-4795-aac6-1ad7f0d795c2",
   "metadata": {},
   "outputs": [],
   "source": [
    "def cylinder(r, h):\n",
    "    return 3.14 * r ** 2 * h"
   ]
  },
  {
   "cell_type": "code",
   "execution_count": 120,
   "id": "7a8128e7-2676-4dba-8fac-5eaafc20d16f",
   "metadata": {},
   "outputs": [
    {
     "data": {
      "text/plain": [
       "282.6"
      ]
     },
     "execution_count": 120,
     "metadata": {},
     "output_type": "execute_result"
    }
   ],
   "source": [
    "cylinder(3,10)"
   ]
  },
  {
   "cell_type": "markdown",
   "id": "a3d29d8b-c72d-4701-8440-03620c0d148f",
   "metadata": {},
   "source": [
    "#### 기본값\n",
    "```python\n",
    "def func_name(p1=v1):\n",
    "    code1\n",
    "    return value\n",
    "```"
   ]
  },
  {
   "cell_type": "code",
   "execution_count": 121,
   "id": "e203ac13-58e9-41ef-a630-409a0435063a",
   "metadata": {},
   "outputs": [],
   "source": [
    "def greeting(name):\n",
    "    return f'{name}님 반갑습니다.'"
   ]
  },
  {
   "cell_type": "code",
   "execution_count": 122,
   "id": "9dd7b93c-19f4-46ef-b6da-06750209c2b0",
   "metadata": {},
   "outputs": [
    {
     "data": {
      "text/plain": [
       "'문땅훈님 반갑습니다.'"
      ]
     },
     "execution_count": 122,
     "metadata": {},
     "output_type": "execute_result"
    }
   ],
   "source": [
    "greeting('문땅훈')"
   ]
  },
  {
   "cell_type": "code",
   "execution_count": 127,
   "id": "e61e0b66-b311-4340-8b32-ddc63b36010e",
   "metadata": {},
   "outputs": [
    {
     "data": {
      "text/plain": [
       "'익명님 반갑습니다.'"
      ]
     },
     "execution_count": 127,
     "metadata": {},
     "output_type": "execute_result"
    }
   ],
   "source": [
    "def greeting(name='익명'):\n",
    "    return f'{name}님 반갑습니다.'\n",
    "\n",
    "greeting()\n",
    "# 기본값을 설정해준거. 사용자가 아무런 값을 입력하지않아도 -> 자동으로 기본값이 출력됨. "
   ]
  },
  {
   "cell_type": "code",
   "execution_count": 133,
   "id": "5187b6a9-0f92-4ed4-a451-094b4d6d3d07",
   "metadata": {},
   "outputs": [
    {
     "name": "stdout",
     "output_type": "stream",
     "text": [
      "안녕하세요???반갑습니다.\n",
      "이한이에요\n"
     ]
    }
   ],
   "source": [
    "print('안녕하세요', '반갑습니다.', sep='???', end='\\n')\n",
    "print('이한이에요')"
   ]
  },
  {
   "cell_type": "code",
   "execution_count": 134,
   "id": "fb3b2563-0476-42dd-8ec2-a3504c42888f",
   "metadata": {},
   "outputs": [
    {
     "name": "stdout",
     "output_type": "stream",
     "text": [
      "안녕하세요???\n",
      "반갑습니다.\n",
      "이한이애요\n"
     ]
    }
   ],
   "source": [
    "print('안녕하세요', '반갑습니다.', sep='???', end='\\n')\n",
    "print('이한이애요')"
   ]
  },
  {
   "cell_type": "code",
   "execution_count": 135,
   "id": "5ef2f80e-8971-4fa2-9f21-3030c00abbff",
   "metadata": {},
   "outputs": [],
   "source": [
    "def greeting(name, age):\n",
    "    return f'{name}님의 나이는 {age}살입니다.'"
   ]
  },
  {
   "cell_type": "code",
   "execution_count": 136,
   "id": "c476d83b-5949-4121-9ab1-43d9d4ca9353",
   "metadata": {},
   "outputs": [
    {
     "data": {
      "text/plain": [
       "'재현님의 나이는 45살입니다.'"
      ]
     },
     "execution_count": 136,
     "metadata": {},
     "output_type": "execute_result"
    }
   ],
   "source": [
    "greeting('재현', 45)"
   ]
  },
  {
   "cell_type": "code",
   "execution_count": 137,
   "id": "934fb7bf-a857-4dfc-97d8-721adfbaaa96",
   "metadata": {},
   "outputs": [
    {
     "ename": "SyntaxError",
     "evalue": "parameter without a default follows parameter with a default (3738572875.py, line 1)",
     "output_type": "error",
     "traceback": [
      "\u001b[1;36m  Cell \u001b[1;32mIn[137], line 1\u001b[1;36m\u001b[0m\n\u001b[1;33m    def greeting(name='익명', age):\u001b[0m\n\u001b[1;37m                            ^\u001b[0m\n\u001b[1;31mSyntaxError\u001b[0m\u001b[1;31m:\u001b[0m parameter without a default follows parameter with a default\n"
     ]
    }
   ],
   "source": [
    "def greeting(name='익명', age):\n",
    "    return f'{name}님의 나이는 {age}살입니다.'"
   ]
  },
  {
   "cell_type": "code",
   "execution_count": null,
   "id": "eca7cd29-5b5c-4e5c-8477-0a5bad16d753",
   "metadata": {},
   "outputs": [],
   "source": [
    "#기본값인자는 항상 뒤에 있다. 기본값인자를 쓰고 싶다면, 위치 인자보다 뒤에 적어야 동작 가능하다. "
   ]
  },
  {
   "cell_type": "code",
   "execution_count": 138,
   "id": "4378a3be-e30c-407d-a9d3-888126c989b1",
   "metadata": {},
   "outputs": [
    {
     "data": {
      "text/plain": [
       "'익명님의 나이는 45살입니다.'"
      ]
     },
     "execution_count": 138,
     "metadata": {},
     "output_type": "execute_result"
    }
   ],
   "source": [
    "def greeting(age, name='익명'):\n",
    "    return f'{name}님의 나이는 {age}살입니다.'\n",
    "\n",
    "greeting(45)"
   ]
  },
  {
   "cell_type": "markdown",
   "id": "a6191659-7e21-43d6-9ded-85d452468af7",
   "metadata": {},
   "source": [
    "#### 키워드 인수\n",
    "- 함수를 호출 (실행) 할 때 내가 원하는 위치에 직접적으로 값을 전달"
   ]
  },
  {
   "cell_type": "code",
   "execution_count": 139,
   "id": "f5b9e836-9070-458c-8dcf-f34974cb6632",
   "metadata": {},
   "outputs": [],
   "source": [
    "def greeting(age, name=\"익명\"):\n",
    "    return f'{name}님은 {age}살입니다.'"
   ]
  },
  {
   "cell_type": "code",
   "execution_count": null,
   "id": "daf0f21a-8597-4b79-8b8d-372f1f0a77a0",
   "metadata": {},
   "outputs": [],
   "source": [
    "greeting(10, '길동')\n",
    "greeting(10)\n",
    "greeting(name='길동', age=10)\n",
    "#정확하게 그 위치에 이걸 넣을거야 라고 명확하게! 인식시켜주는 건 가능하다. "
   ]
  },
  {
   "cell_type": "markdown",
   "id": "11de867a-4e89-4e58-9978-9eb9a8c06f5a",
   "metadata": {},
   "source": [
    "#### 가변인자 리스트\n",
    " ```python\n",
    "def func_name(*parms):\n",
    "    code\n",
    "    ...\n",
    "    return value\n",
    "```"
   ]
  },
  {
   "cell_type": "markdown",
   "id": "2c870fbb-3d30-4911-9781-85d6942112cf",
   "metadata": {},
   "source": [
    "e.g.  *objects"
   ]
  },
  {
   "cell_type": "code",
   "execution_count": 140,
   "id": "bb8d91e4-92aa-42cc-9016-28e8e3623fe9",
   "metadata": {},
   "outputs": [],
   "source": [
    "#뒤에 몇개의 데이터가 들어오던지 나는 그 데이터들을 'words' 로 묶겠다. \n",
    "def my_print(*words):\n",
    "    print(words)"
   ]
  },
  {
   "cell_type": "code",
   "execution_count": 141,
   "id": "70fa173b-c315-4e70-b18f-b876bbe544e2",
   "metadata": {},
   "outputs": [
    {
     "name": "stdout",
     "output_type": "stream",
     "text": [
      "('my', 'name', 'is')\n"
     ]
    }
   ],
   "source": [
    "my_print('my', 'name', 'is')"
   ]
  },
  {
   "cell_type": "code",
   "execution_count": 142,
   "id": "b74f1fe7-b2c0-4201-ae6b-78df16cdd1e6",
   "metadata": {},
   "outputs": [
    {
     "data": {
      "text/plain": [
       "98"
      ]
     },
     "execution_count": 142,
     "metadata": {},
     "output_type": "execute_result"
    }
   ],
   "source": [
    "max(1, 2, 2, 3, 4, 98) "
   ]
  },
  {
   "cell_type": "code",
   "execution_count": 154,
   "id": "50443f89-3e4d-441a-9564-34d6d4c719a4",
   "metadata": {},
   "outputs": [],
   "source": [
    "#문제 - 가변인자 리스트를 활용해서 `my_max(1, 2, 3, 4, 5, 6, 7)`이 나오도록 함수를 완성시켜라. \n",
    "def my_max():\n",
    "    #my_max리스트 안의 숫자 1~7까지를 다 받아와야함. (리스트 안의 모든 숫자가 들어갈 수 있도록)\n",
    "    # => 그리고 그 리스트 전체 결과를 출력해야함. \n",
    "    # my_max_list()\n",
    "    nums in my_max_list \n",
    "    max(my_max)\n",
    "    my_max_list = [nums]\n",
    "    #가장 큰값을 확인해야함. (numbers - nums 라고 정의한 변수의 값들의 크기를 비교해야함.)\n",
    "    return (nums)\n"
   ]
  },
  {
   "cell_type": "code",
   "execution_count": 155,
   "id": "c69c31dc-eaa5-4658-80fb-e450d1d75ef9",
   "metadata": {},
   "outputs": [
    {
     "ename": "TypeError",
     "evalue": "my_max() takes 0 positional arguments but 7 were given",
     "output_type": "error",
     "traceback": [
      "\u001b[1;31m---------------------------------------------------------------------------\u001b[0m",
      "\u001b[1;31mTypeError\u001b[0m                                 Traceback (most recent call last)",
      "Cell \u001b[1;32mIn[155], line 1\u001b[0m\n\u001b[1;32m----> 1\u001b[0m \u001b[43mmy_max\u001b[49m\u001b[43m(\u001b[49m\u001b[38;5;241;43m1\u001b[39;49m\u001b[43m,\u001b[49m\u001b[43m \u001b[49m\u001b[38;5;241;43m2\u001b[39;49m\u001b[43m,\u001b[49m\u001b[43m \u001b[49m\u001b[38;5;241;43m3\u001b[39;49m\u001b[43m,\u001b[49m\u001b[43m \u001b[49m\u001b[38;5;241;43m4\u001b[39;49m\u001b[43m,\u001b[49m\u001b[43m \u001b[49m\u001b[38;5;241;43m5\u001b[39;49m\u001b[43m,\u001b[49m\u001b[43m \u001b[49m\u001b[38;5;241;43m6\u001b[39;49m\u001b[43m,\u001b[49m\u001b[43m \u001b[49m\u001b[38;5;241;43m7\u001b[39;49m\u001b[43m)\u001b[49m\n",
      "\u001b[1;31mTypeError\u001b[0m: my_max() takes 0 positional arguments but 7 were given"
     ]
    }
   ],
   "source": [
    "my_max(1, 2, 3, 4, 5, 6, 7)"
   ]
  },
  {
   "cell_type": "code",
   "execution_count": 156,
   "id": "b257e72a-b780-439b-9228-63d49da10bac",
   "metadata": {},
   "outputs": [],
   "source": [
    "def my_max(*numbers):\n",
    "   # numbers = (숫자가 몇개이던간에 numbers라는 데이터로 저장될 것이다. )\n",
    "    max_num = 0\n",
    "    #비교대상을 만들어주기위해 - max_num (비교기준) 을 생성해준다. \n",
    "    for number in numbers:\n",
    "        #어떤 값이 큰지 비교를 해야한다. \n",
    "        if max_num < number:\n",
    "            max_num = number\n",
    "            #가장 큰값으로 max_num을 계속 변화시키는 행위\n",
    "            #비교했을때, 그 값이 더 크다면 -> 그 값으로 max_num의 값을 갈아끼운다는 설정\n",
    "\n",
    "    return max_num\n",
    "        "
   ]
  },
  {
   "cell_type": "code",
   "execution_count": 157,
   "id": "0638ddbf-a7c2-40b3-971d-471d2e9a901b",
   "metadata": {},
   "outputs": [
    {
     "data": {
      "text/plain": [
       "30385"
      ]
     },
     "execution_count": 157,
     "metadata": {},
     "output_type": "execute_result"
    }
   ],
   "source": [
    "my_max(1, 2, 3, 4, 5, 6, 30, 30385)"
   ]
  },
  {
   "cell_type": "code",
   "execution_count": 158,
   "id": "b39343cb-f878-4a9b-870d-002ecc4aed7b",
   "metadata": {},
   "outputs": [
    {
     "data": {
      "text/plain": [
       "0"
      ]
     },
     "execution_count": 158,
     "metadata": {},
     "output_type": "execute_result"
    }
   ],
   "source": [
    "my_max(-1, -2, -3, -4)\n",
    "#내가 설정한 max_num = 0 이 최대값으로 부여되었기에 -> 현재는 나의 list 내에서의 가장 큰 값이 아닌 '모형 (기준점)'이 출력됨. \n",
    "$"
   ]
  },
  {
   "cell_type": "code",
   "execution_count": 2,
   "id": "3cbb3323-0741-4fd6-8061-44f63d3f2741",
   "metadata": {},
   "outputs": [],
   "source": [
    "def my_max(*numbers):\n",
    "   # numbers = (숫자가 몇개이던간에 numbers라는 데이터로 저장될 것이다. )\n",
    "    max_num = numbers[0]\n",
    "    #비교대상을 내가 가진 데이터 리스트의 첫번째 값으로 설정해줌.\n",
    "    for number in numbers:\n",
    "        #어떤 값이 큰지 비교를 해야한다. \n",
    "        if max_num < number:\n",
    "            max_num = number\n",
    "            #가장 큰값으로 max_num을 계속 변화시키는 행위\n",
    "            #비교했을때, 그 값이 더 크다면 -> 그 값으로 max_num의 값을 갈아끼운다는 설정\n",
    "\n",
    "    return max_num\n",
    "        "
   ]
  },
  {
   "cell_type": "markdown",
   "id": "63521b02-96c6-4ee2-9f13-0ebe645f5a8a",
   "metadata": {},
   "source": [
    "#### python 에서의 'None' 은 'Null' 과 같은 의미 => 어떠한 데이터가 (전혀) 없음을 의미함. "
   ]
  },
  {
   "cell_type": "markdown",
   "id": "a6c9c8d5-bb05-4b4a-ab96-38c27cb04139",
   "metadata": {},
   "source": [
    "### 정의되지 않은 키워드 인자 처리하기 \n",
    "(실제로 많이 쓰이지는 않음)\n",
    "\n",
    "```python\n",
    "def func_name(**kwargs):\n",
    "    return value\n",
    "\n",
    "```"
   ]
  },
  {
   "cell_type": "code",
   "execution_count": 5,
   "id": "20e2e6e4-675e-4b21-b234-d774a1af77d1",
   "metadata": {},
   "outputs": [
    {
     "name": "stdout",
     "output_type": "stream",
     "text": [
      "{'name': 'hong', 'age': 10}\n"
     ]
    }
   ],
   "source": [
    "#dictionary 만들기로 정의되지않은 키워드 인자 처리하기 예제 \n",
    "info = {\n",
    "    'name': 'hong',\n",
    "    'age': 10, \n",
    "}\n",
    "print(info)"
   ]
  },
  {
   "cell_type": "code",
   "execution_count": 4,
   "id": "10ec0bcb-68c7-49f9-ba40-0a7260de6310",
   "metadata": {},
   "outputs": [
    {
     "name": "stdout",
     "output_type": "stream",
     "text": [
      "{'name': 'kim', 'age': 20}\n"
     ]
    }
   ],
   "source": [
    "#dic 함수로 dictionary 만들기\n",
    "info = dict(name='kim', age=20)\n",
    "print(info)\n",
    "\n",
    "#함수는 기본적으로 위치 인자로 지정되어 동작이 되는데, dict 함수에서는 위치인자 없이 작동을 한다. \n",
    "#=> "
   ]
  },
  {
   "cell_type": "code",
   "execution_count": 8,
   "id": "fe2355de-37a6-45fa-9edc-2ed6f1fc6dcd",
   "metadata": {},
   "outputs": [
    {
     "name": "stdout",
     "output_type": "stream",
     "text": [
      "{'asdf': '가나다', 'age': 123, 'test': 'asdf'}\n"
     ]
    }
   ],
   "source": [
    "def my_dict(**kwargs):\n",
    "    print(kwargs)\n",
    "#kwargs: keyword arguments\n",
    "\n",
    "my_dict(asdf='가나다', age=123, test='asdf')\n",
    "\n",
    "#가변인자 dictionary = 뒤에 data 가 몇 개, 어떤 내용이 들어오던지 간에 그 묶음을 하나로 묶어서 dictionary 로 만들어줌. \n",
    "#가변인자 리스트 = 뒤에 몇개의 데이터가 들어오던지간에 그 묶음을 하나의 리스트 (tuple) 로 만들어줌.  "
   ]
  },
  {
   "cell_type": "code",
   "execution_count": 14,
   "id": "21938ebe-532e-4914-b355-31592083b1c1",
   "metadata": {},
   "outputs": [
    {
     "data": {
      "text/plain": [
       "0"
      ]
     },
     "execution_count": 14,
     "metadata": {},
     "output_type": "execute_result"
    }
   ],
   "source": [
    "def my_func(params1, param2='temp', *numbers, **kwargs):\n",
    "    return 0\n",
    "\n",
    "#이 함수를 호출하는 여러가지 방법을 아래에\n",
    "\n",
    "# my_func(): params1 부족으로 실행되지않음\n",
    "my_func(123)\n",
    "# => params1 = 123, params2 = 'temp'\n",
    "#우리가 값을 넣지 않아도 params2는 없는 값을 'temp'로 실행시킴\n",
    "my_func(123, 234)\n",
    "# => params1 = 123, params2 = 234\n",
    "my_func(123, 234, 345, 567, 789, 890)\n",
    "# => 앞에서부터 자리를 채운 후 \n",
    "# => params1 = 123, params2 = 234, numbers = (345, 567, 789, 890)\n",
    "my_func(123, 234, 345, 567, 789, 890, a=1, b=2, c=3)\n",
    "# kwargs (dictionary 가 생성되어서) => {a: 1, b: 2, c:3}"
   ]
  },
  {
   "cell_type": "markdown",
   "id": "a2a4f4b9-067a-42d3-98f4-8fe1b09a7e13",
   "metadata": {},
   "source": [
    "#### 위 방법처럼 코드를 칠 일은 (아예) 없을 것임.  "
   ]
  },
  {
   "cell_type": "markdown",
   "id": "ed8f54fa-ab94-4516-9584-a20b9d38c34d",
   "metadata": {},
   "source": [
    "### lambda 표현식\n",
    "    (임시적, 일회용 함수) - 한번쓰고 말것 (익명함수) \n",
    "```python\n",
    "lambda parameter: expression (연산식)\n",
    "```\n",
    "\n",
    "#장점: 빠르다, 효율적이다. => 메모리 위에 올라가지 않아 (저장되지 않아) "
   ]
  },
  {
   "cell_type": "code",
   "execution_count": null,
   "id": "fd4d8a8e-847a-4f21-bf9b-2a7a9cfd2c8a",
   "metadata": {},
   "outputs": [],
   "source": []
  },
  {
   "cell_type": "code",
   "execution_count": 15,
   "id": "8706b320-43eb-41f1-abbd-55b6c30959f4",
   "metadata": {},
   "outputs": [],
   "source": [
    "def my_sum(num1, num2):\n",
    "    return num1 + num2"
   ]
  },
  {
   "cell_type": "code",
   "execution_count": 16,
   "id": "32992957-2f23-441c-8693-8ac4bec5cd5f",
   "metadata": {},
   "outputs": [
    {
     "data": {
      "text/plain": [
       "3"
      ]
     },
     "execution_count": 16,
     "metadata": {},
     "output_type": "execute_result"
    }
   ],
   "source": [
    "my_sum(1, 2)"
   ]
  },
  {
   "cell_type": "code",
   "execution_count": 17,
   "id": "eef39ab8-e640-4645-83d0-9182d2464904",
   "metadata": {},
   "outputs": [
    {
     "data": {
      "text/plain": [
       "<function __main__.<lambda>(num1, num2)>"
      ]
     },
     "execution_count": 17,
     "metadata": {},
     "output_type": "execute_result"
    }
   ],
   "source": [
    "#위 코드를 lambda 표현식으로 표현한다면, \n",
    "\n",
    "lambda num1, num2: num1 + num2\n",
    "#(내가 받고 싶은 데이터 - num1, num2 를 적어준다. 이름과 소괄호가 생략된 상태) - 이름이 필요없는 함수이기에\n",
    "# : 내가 반환하고 싶은 결과값의 연산식을 적음.  \n"
   ]
  },
  {
   "cell_type": "code",
   "execution_count": 18,
   "id": "0a210664-1a61-4cd2-b8f1-66d890cb6aa1",
   "metadata": {},
   "outputs": [
    {
     "data": {
      "text/plain": [
       "3"
      ]
     },
     "execution_count": 18,
     "metadata": {},
     "output_type": "execute_result"
    }
   ],
   "source": [
    "# lambda 함수 실행 방법\n",
    "#다른 함수의 실행은 {열고 }닫기로 실행시킴, 하지만 `lambda`의 경우는 다름. \n",
    "#lambda 함수의 시작 부터 끝을 괄호치고, 다음 괄호에 데이터를 넣어준다. \n",
    "\n",
    "(lambda num1, num2: num1 + num2)(1,2)\n"
   ]
  },
  {
   "cell_type": "markdown",
   "id": "50163043-e860-4ade-b7fc-952fa92de445",
   "metadata": {},
   "source": [
    "### 타입힌트"
   ]
  },
  {
   "cell_type": "markdown",
   "id": "c046ffa7-d3bb-4dc4-9c9b-ea06ef008d7a",
   "metadata": {},
   "source": [
    "#### (최신문법) \n",
    "파이썬 = 동적언어\n"
   ]
  },
  {
   "cell_type": "code",
   "execution_count": 19,
   "id": "3634f5e9-0d3e-4cb5-b5e7-9be705d19ed6",
   "metadata": {},
   "outputs": [
    {
     "data": {
      "text/plain": [
       "3"
      ]
     },
     "execution_count": 19,
     "metadata": {},
     "output_type": "execute_result"
    }
   ],
   "source": [
    "def my_sum(a, b): \n",
    "    return a + b\n",
    "\n",
    "my_sum(1, 2)"
   ]
  },
  {
   "cell_type": "code",
   "execution_count": 23,
   "id": "7187e3ec-83ac-44ac-b062-4dc904662d25",
   "metadata": {},
   "outputs": [
    {
     "data": {
      "text/plain": [
       "3"
      ]
     },
     "execution_count": 23,
     "metadata": {},
     "output_type": "execute_result"
    }
   ],
   "source": [
    "#위는 이름 부터, 수식이 모두 명확함. \n",
    "#근데 만약 이름, 수식을 명확하게 설정하지 않았다면\n",
    "\n",
    "def something(a, b):\n",
    "    return a + b\n",
    "\n",
    "something(1, 2)\n",
    "\n",
    "#코드가 길어졌을 떄, 이게 int 인지 string 인지 , etc 어떤 타입의 데이터가 들어올지를 알려주는게 '타입힌트'\n",
    "\n",
    "def something (a: int, b: int) -> int:\n",
    "    return a + b\n",
    "\n",
    "#숫자 타입의 데이터 두개를 넣어서 -> int 타입의 데이터가 호출될거야)\n",
    "something(1, 2)"
   ]
  },
  {
   "cell_type": "code",
   "execution_count": 25,
   "id": "47956e39-aab6-496f-9c51-79c99886e148",
   "metadata": {},
   "outputs": [
    {
     "data": {
      "text/plain": [
       "'asdfqwer'"
      ]
     },
     "execution_count": 25,
     "metadata": {},
     "output_type": "execute_result"
    }
   ],
   "source": [
    "something('asdf', 'qwer')\n",
    "# 파이썬은 힌트로써 참고함을 알려줌.\n",
    "# concat으로 두 데이터가 합쳐짐"
   ]
  },
  {
   "cell_type": "markdown",
   "id": "b35f97b1-4f2a-4f0b-ad30-6dbf5e6f48cf",
   "metadata": {},
   "source": [
    "### 이름공간 (namespace), 스코프 (scope)\n",
    "\n",
    "python 에서 사용하는 이름들은 이름공간에 저장되어있습니다. `LEGB 룰`에 따라 접근\n",
    "\n",
    "1. Local : 정의된 함수 내부\n",
    "2. Enclosed : 상위 함수\n",
    "3. Global : 함수 밖\n",
    "4. Built-in : python 이 기본적으로 가지고 있는 함수"
   ]
  },
  {
   "cell_type": "code",
   "execution_count": 27,
   "id": "21024993-12a6-4685-a07f-f8218fcf6371",
   "metadata": {},
   "outputs": [
    {
     "name": "stdout",
     "output_type": "stream",
     "text": [
      "123\n"
     ]
    }
   ],
   "source": [
    "result = 123\n",
    "print (result)"
   ]
  },
  {
   "cell_type": "code",
   "execution_count": 39,
   "id": "e4b8e382-880a-4d57-9349-84ab0115d29e",
   "metadata": {},
   "outputs": [
    {
     "name": "stdout",
     "output_type": "stream",
     "text": [
      "123\n"
     ]
    }
   ],
   "source": [
    "result = str(123)\n",
    "print(result)"
   ]
  },
  {
   "cell_type": "code",
   "execution_count": 42,
   "id": "99a8c464-1679-45c9-bbf4-d98f33800517",
   "metadata": {},
   "outputs": [],
   "source": [
    "str = 'hello'\n",
    "# `str` 이라는 변수를 생성함. \n",
    "# 아래 코드에 영향을 미치게됨. "
   ]
  },
  {
   "cell_type": "code",
   "execution_count": 43,
   "id": "2c10a6ae-79aa-4725-af53-efde5d2cc20e",
   "metadata": {},
   "outputs": [
    {
     "ename": "TypeError",
     "evalue": "'str' object is not callable",
     "output_type": "error",
     "traceback": [
      "\u001b[1;31m---------------------------------------------------------------------------\u001b[0m",
      "\u001b[1;31mTypeError\u001b[0m                                 Traceback (most recent call last)",
      "Cell \u001b[1;32mIn[43], line 1\u001b[0m\n\u001b[1;32m----> 1\u001b[0m result \u001b[38;5;241m=\u001b[39m \u001b[38;5;28;43mstr\u001b[39;49m\u001b[43m(\u001b[49m\u001b[38;5;241;43m123\u001b[39;49m\u001b[43m)\u001b[49m\n\u001b[0;32m      2\u001b[0m \u001b[38;5;28mprint\u001b[39m(result)\n",
      "\u001b[1;31mTypeError\u001b[0m: 'str' object is not callable"
     ]
    }
   ],
   "source": [
    "result = str(123)\n",
    "print(result)"
   ]
  },
  {
   "cell_type": "code",
   "execution_count": null,
   "id": "1ba8c9b7-37ed-415f-8235-90a75382a2ca",
   "metadata": {},
   "outputs": [],
   "source": [
    "# => 위에서는 local 부터 `str` 을 찾기 시작함. => Built-in 영역에서 `str`을 만나서 그 것을 적용 시킴. \n",
    "# => 두번째 경우에는, 내가 선언해놓은 `str` 이라는 변수를 만나 => str이 변수로써 작용을 하고\n",
    "# result = str(123)\n",
    "# print(result)\n",
    "#이 오류가 나타나게됨. "
   ]
  },
  {
   "cell_type": "code",
   "execution_count": 44,
   "id": "91dc9465-c516-4e59-91aa-6dd85215709c",
   "metadata": {},
   "outputs": [],
   "source": [
    "del str\n",
    "#내가 아까 생성해둔 `str` 이라는 변수를 완전히 삭제함."
   ]
  },
  {
   "cell_type": "code",
   "execution_count": 46,
   "id": "603e703b-2e41-49da-ab49-b91d5358cb72",
   "metadata": {},
   "outputs": [
    {
     "data": {
      "text/plain": [
       "'asdf'"
      ]
     },
     "execution_count": 46,
     "metadata": {},
     "output_type": "execute_result"
    }
   ],
   "source": [
    "a = 1\n",
    "def local_scope(a):\n",
    "    return a\n",
    "\n",
    "a = '가나다라'\n",
    "\n",
    "local_scope('asdf')"
   ]
  },
  {
   "cell_type": "code",
   "execution_count": 47,
   "id": "dd0fe769-160d-4e25-a9e5-a27912c0f661",
   "metadata": {},
   "outputs": [
    {
     "data": {
      "text/plain": [
       "'가나다라'"
      ]
     },
     "execution_count": 47,
     "metadata": {},
     "output_type": "execute_result"
    }
   ],
   "source": [
    "a = 1\n",
    "def local_scope(b):\n",
    "    return a\n",
    "\n",
    "a = '가나다라'\n",
    "\n",
    "local_scope('asdf')"
   ]
  },
  {
   "cell_type": "code",
   "execution_count": 49,
   "id": "f24f0bf7-c0f5-4a59-913a-2d3085e243c8",
   "metadata": {},
   "outputs": [
    {
     "name": "stdout",
     "output_type": "stream",
     "text": [
      "[1, 2, 3, 4, 5]\n",
      "[1, 2, 3, 4, 5]\n",
      "[1, 2, 3, 4, 5]\n",
      "[1, 2, 3, 4, 5]\n",
      "[1, 2, 3, 4, 5]\n"
     ]
    }
   ],
   "source": [
    "my_list = [1, 2, 3, 4, 5]\n",
    "for i in my_list:\n",
    "    print(my_list)"
   ]
  },
  {
   "cell_type": "code",
   "execution_count": 50,
   "id": "0458ef14-a7f8-4d9d-8142-f382edfbece9",
   "metadata": {},
   "outputs": [
    {
     "name": "stdout",
     "output_type": "stream",
     "text": [
      "1\n",
      "2\n",
      "3\n",
      "4\n",
      "5\n"
     ]
    }
   ],
   "source": [
    "my_list = [1, 2, 3, 4, 5]\n",
    "for i in my_list:\n",
    "    print(i)"
   ]
  },
  {
   "cell_type": "code",
   "execution_count": 51,
   "id": "61b3b4e0-9651-4de4-b2d6-9941a68f3740",
   "metadata": {},
   "outputs": [
    {
     "name": "stdout",
     "output_type": "stream",
     "text": [
      "[1, 2, 3, 4, 5]\n",
      "[1, 2, 3, 4, 5]\n",
      "[1, 2, 3, 4, 5]\n",
      "[1, 2, 3, 4, 5]\n",
      "[1, 2, 3, 4, 5]\n",
      "5\n"
     ]
    }
   ],
   "source": [
    "my_list = [1, 2, 3, 4, 5]\n",
    "for i in my_list:\n",
    "    print(i)\n",
    "print(i)\n",
    "#맨 마지막에 저장되어있던 i까지 출력됨. "
   ]
  },
  {
   "cell_type": "code",
   "execution_count": 52,
   "id": "f9037485-5f2a-4b34-a34a-19b605d73750",
   "metadata": {},
   "outputs": [
    {
     "ename": "UnboundLocalError",
     "evalue": "cannot access local variable 'a' where it is not associated with a value",
     "output_type": "error",
     "traceback": [
      "\u001b[1;31m---------------------------------------------------------------------------\u001b[0m",
      "\u001b[1;31mUnboundLocalError\u001b[0m                         Traceback (most recent call last)",
      "Cell \u001b[1;32mIn[52], line 6\u001b[0m\n\u001b[0;32m      4\u001b[0m     a \u001b[38;5;241m=\u001b[39m a \u001b[38;5;241m+\u001b[39m \u001b[38;5;241m1\u001b[39m\n\u001b[0;32m      5\u001b[0m     \u001b[38;5;28;01mreturn\u001b[39;00m a \n\u001b[1;32m----> 6\u001b[0m \u001b[43mglobal_scope\u001b[49m\u001b[43m(\u001b[49m\u001b[43m)\u001b[49m\n",
      "Cell \u001b[1;32mIn[52], line 4\u001b[0m, in \u001b[0;36mglobal_scope\u001b[1;34m()\u001b[0m\n\u001b[0;32m      3\u001b[0m \u001b[38;5;28;01mdef\u001b[39;00m\u001b[38;5;250m \u001b[39m\u001b[38;5;21mglobal_scope\u001b[39m():\n\u001b[1;32m----> 4\u001b[0m     a \u001b[38;5;241m=\u001b[39m \u001b[43ma\u001b[49m \u001b[38;5;241m+\u001b[39m \u001b[38;5;241m1\u001b[39m\n\u001b[0;32m      5\u001b[0m     \u001b[38;5;28;01mreturn\u001b[39;00m a\n",
      "\u001b[1;31mUnboundLocalError\u001b[0m: cannot access local variable 'a' where it is not associated with a value"
     ]
    }
   ],
   "source": [
    "a = 0\n",
    "\n",
    "def global_scope():\n",
    "    a = a + 1\n",
    "    return a \n",
    "global_scope()"
   ]
  },
  {
   "cell_type": "code",
   "execution_count": 54,
   "id": "2b765354-b143-49dc-9e57-2daf622d89e6",
   "metadata": {},
   "outputs": [
    {
     "data": {
      "text/plain": [
       "1"
      ]
     },
     "execution_count": 54,
     "metadata": {},
     "output_type": "execute_result"
    }
   ],
   "source": [
    "a = 0\n",
    "\n",
    "def global_scope():\n",
    "    global a\n",
    "    #내가 쓰려고 하는 a 가 밖에 있는 global 공간의 a 야.\n",
    "    a = a + 1\n",
    "    return a \n",
    "global_scope()\n",
    "\n",
    "# => 이렇게 밖에 있는 것을 직접적으로 접근한다고 알려주는 `global a` 이런식의 표현은 쓸일없음. (좋지 못한 코드)"
   ]
  },
  {
   "cell_type": "markdown",
   "id": "7c5f3f35-2d3c-47b8-b57e-368ef392ee34",
   "metadata": {},
   "source": [
    "## 재귀"
   ]
  },
  {
   "cell_type": "markdown",
   "id": "4c8529ef-be11-4217-93f0-b9ffb2c1aab9",
   "metadata": {},
   "source": [
    "#### 함수 내부에서 자기 자신을 호출하는 함수\n",
    " - 리눅스 명령어에서 `rm` 을 배울때 나왔던 `rm -m` 때의 '재귀적인' `재귀`\n",
    "\n",
    "```\n",
    "n! = 1 * 2 * 3 * ... * n\n",
    "\n",
    "1! = 1\n",
    "2! = 1 * 2 = 1! * 2\n",
    "3! = 1 * 2 * 3  = 2! * 3\n",
    "n! = (n-1)! * n\n",
    "```"
   ]
  },
  {
   "cell_type": "code",
   "execution_count": 57,
   "id": "c701b16f-452c-4533-ad38-957b1441752d",
   "metadata": {},
   "outputs": [],
   "source": [
    "def fact(n):\n",
    "    if n == 1:\n",
    "        return 1\n",
    "    else:\n",
    "        return fact(n-1) * n"
   ]
  },
  {
   "cell_type": "code",
   "execution_count": 59,
   "id": "84eb1849-b08e-488e-a229-305a38ddf6dd",
   "metadata": {},
   "outputs": [
    {
     "data": {
      "text/plain": [
       "3628800"
      ]
     },
     "execution_count": 59,
     "metadata": {},
     "output_type": "execute_result"
    }
   ],
   "source": [
    "fact(10)"
   ]
  },
  {
   "cell_type": "code",
   "execution_count": 60,
   "id": "e812f7dd-57af-46b9-8858-459e02230c32",
   "metadata": {},
   "outputs": [],
   "source": [
    "#피보나치 수열 (주로 점화식에서 쓰이는 `재귀함수` 의 예시 알아보기)\n",
    "\n",
    "def fib(n):\n",
    "    if n == 0 or n == 1:\n",
    "        return 1 \n",
    "    else: \n",
    "        return fib(n-2) + fib(n-1)"
   ]
  },
  {
   "cell_type": "code",
   "execution_count": 61,
   "id": "86c165fa-3576-4f7e-989b-32ed3dcc679a",
   "metadata": {},
   "outputs": [
    {
     "data": {
      "text/plain": [
       "89"
      ]
     },
     "execution_count": 61,
     "metadata": {},
     "output_type": "execute_result"
    }
   ],
   "source": [
    "fib(10)"
   ]
  },
  {
   "cell_type": "code",
   "execution_count": null,
   "id": "200c9b36-ade8-4467-b102-2603be6c6fcb",
   "metadata": {},
   "outputs": [],
   "source": []
  }
 ],
 "metadata": {
  "kernelspec": {
   "display_name": "Python 3 (ipykernel)",
   "language": "python",
   "name": "python3"
  },
  "language_info": {
   "codemirror_mode": {
    "name": "ipython",
    "version": 3
   },
   "file_extension": ".py",
   "mimetype": "text/x-python",
   "name": "python",
   "nbconvert_exporter": "python",
   "pygments_lexer": "ipython3",
   "version": "3.13.2"
  }
 },
 "nbformat": 4,
 "nbformat_minor": 5
}
