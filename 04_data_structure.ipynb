{
 "cells": [
  {
   "cell_type": "markdown",
   "id": "5fd19321-ba78-47ee-bfb6-58550e151b26",
   "metadata": {},
   "source": [
    "# 자료구조\n",
    "> 여러가지 자료구조가 가지고 있는 메소드 (함수) 알아보기"
   ]
  },
  {
   "cell_type": "code",
   "execution_count": 1,
   "id": "8ce29d0c-8c69-4dcc-8d65-64f093600910",
   "metadata": {},
   "outputs": [
    {
     "name": "stdout",
     "output_type": "stream",
     "text": [
      "['__add__', '__class__', '__contains__', '__delattr__', '__dir__', '__doc__', '__eq__', '__format__', '__ge__', '__getattribute__', '__getitem__', '__getnewargs__', '__getstate__', '__gt__', '__hash__', '__init__', '__init_subclass__', '__iter__', '__le__', '__len__', '__lt__', '__mod__', '__mul__', '__ne__', '__new__', '__reduce__', '__reduce_ex__', '__repr__', '__rmod__', '__rmul__', '__setattr__', '__sizeof__', '__str__', '__subclasshook__', 'capitalize', 'casefold', 'center', 'count', 'encode', 'endswith', 'expandtabs', 'find', 'format', 'format_map', 'index', 'isalnum', 'isalpha', 'isascii', 'isdecimal', 'isdigit', 'isidentifier', 'islower', 'isnumeric', 'isprintable', 'isspace', 'istitle', 'isupper', 'join', 'ljust', 'lower', 'lstrip', 'maketrans', 'partition', 'removeprefix', 'removesuffix', 'replace', 'rfind', 'rindex', 'rjust', 'rpartition', 'rsplit', 'rstrip', 'split', 'splitlines', 'startswith', 'strip', 'swapcase', 'title', 'translate', 'upper', 'zfill']\n"
     ]
    }
   ],
   "source": [
    "print(dir('hello'))"
   ]
  },
  {
   "cell_type": "markdown",
   "id": "90228d91-6dec-4923-b46c-335c05542e98",
   "metadata": {},
   "source": [
    "## 문자열 메소드 "
   ]
  },
  {
   "cell_type": "code",
   "execution_count": 2,
   "id": "4a57fb69-a089-49c8-a3c2-91b032028df3",
   "metadata": {},
   "outputs": [],
   "source": [
    "a = 'hello my name is Su'"
   ]
  },
  {
   "cell_type": "code",
   "execution_count": 3,
   "id": "3b43934f-c0da-4d53-a7d6-70b5f972549e",
   "metadata": {},
   "outputs": [
    {
     "name": "stdout",
     "output_type": "stream",
     "text": [
      "hello my name is Su\n"
     ]
    }
   ],
   "source": [
    "print(a)"
   ]
  },
  {
   "cell_type": "code",
   "execution_count": 13,
   "id": "d0b33581-8ab2-4aae-a7cf-0ecaf5c3acb3",
   "metadata": {},
   "outputs": [
    {
     "ename": "TypeError",
     "evalue": "'str' object does not support item assignment",
     "output_type": "error",
     "traceback": [
      "\u001b[1;31m---------------------------------------------------------------------------\u001b[0m",
      "\u001b[1;31mTypeError\u001b[0m                                 Traceback (most recent call last)",
      "Cell \u001b[1;32mIn[13], line 1\u001b[0m\n\u001b[1;32m----> 1\u001b[0m \u001b[43ma\u001b[49m\u001b[43m \u001b[49m\u001b[43m[\u001b[49m\u001b[38;5;241;43m0\u001b[39;49m\u001b[43m]\u001b[49m \u001b[38;5;241m=\u001b[39m \u001b[38;5;124m'\u001b[39m\u001b[38;5;124mH\u001b[39m\u001b[38;5;124m'\u001b[39m\n\u001b[0;32m      2\u001b[0m \u001b[38;5;66;03m# String 은 immutable 하므로 수정이 불가하다. \u001b[39;00m\n",
      "\u001b[1;31mTypeError\u001b[0m: 'str' object does not support item assignment"
     ]
    }
   ],
   "source": [
    "a [0] = 'H'\n",
    "# String 은 immutable 하므로 수정이 불가하다. "
   ]
  },
  {
   "cell_type": "code",
   "execution_count": 14,
   "id": "ad366684-e309-46a5-9b4c-4e876e9ba2b4",
   "metadata": {},
   "outputs": [
    {
     "data": {
      "text/plain": [
       "'-----------helllo---------'"
      ]
     },
     "execution_count": 14,
     "metadata": {},
     "output_type": "execute_result"
    }
   ],
   "source": [
    "# 값을 재할당해야함. \n",
    "a.capitalize()\n",
    "# a라는 함수가 가지고 있는 값을 `capitalize` 해주세요.\n",
    "# return 을 하는 것임. \n",
    "# print(a.capitalize())"
   ]
  },
  {
   "cell_type": "code",
   "execution_count": 15,
   "id": "9c0c4a9f-e0c1-4ac8-a42b-14f692d11994",
   "metadata": {},
   "outputs": [
    {
     "name": "stdout",
     "output_type": "stream",
     "text": [
      "-----------helllo---------\n"
     ]
    }
   ],
   "source": [
    "print(a)\n",
    "# 원본의 데이터가 바뀌는 것은 아님. "
   ]
  },
  {
   "cell_type": "code",
   "execution_count": 18,
   "id": "4d3d2967-c8d8-471c-a6ba-e59d573866c8",
   "metadata": {},
   "outputs": [],
   "source": [
    "#만약 저장된 데이터를 바꾸고 싶다면 (원본을 바꾸고 싶다면)\n",
    "# a = a.capitalize()"
   ]
  },
  {
   "cell_type": "code",
   "execution_count": 19,
   "id": "5227e924-09b1-4a69-b6db-8fed3d8e8782",
   "metadata": {},
   "outputs": [
    {
     "data": {
      "text/plain": [
       "'-----------Helllo---------'"
      ]
     },
     "execution_count": 19,
     "metadata": {},
     "output_type": "execute_result"
    }
   ],
   "source": [
    "a.title()\n",
    "#각각의 단어의 시작이 대문자로 바뀌도록\n"
   ]
  },
  {
   "cell_type": "code",
   "execution_count": 20,
   "id": "82ff96d9-b2fe-4ff7-96a2-0e56a20b95c5",
   "metadata": {},
   "outputs": [
    {
     "data": {
      "text/plain": [
       "'-----------helllo---------'"
      ]
     },
     "execution_count": 20,
     "metadata": {},
     "output_type": "execute_result"
    }
   ],
   "source": [
    "a.lower()\n",
    "#전부 다 소문자로"
   ]
  },
  {
   "cell_type": "code",
   "execution_count": 21,
   "id": "ea9a864b-8a19-4f98-bfd9-256ef0fd3aa8",
   "metadata": {},
   "outputs": [
    {
     "data": {
      "text/plain": [
       "'-----------HELLLO---------'"
      ]
     },
     "execution_count": 21,
     "metadata": {},
     "output_type": "execute_result"
    }
   ],
   "source": [
    "a.upper()"
   ]
  },
  {
   "cell_type": "code",
   "execution_count": 22,
   "id": "5a7c360c-afa5-440b-8ee6-b99c4dc6621c",
   "metadata": {},
   "outputs": [
    {
     "data": {
      "text/plain": [
       "'my! name! is'"
      ]
     },
     "execution_count": 22,
     "metadata": {},
     "output_type": "execute_result"
    }
   ],
   "source": [
    "my_list = ['my', 'name', 'is']\n",
    "#하나의 문장으로 출력하고 싶다면\n",
    "'! '.join(my_list)\n",
    "# join(내가 넣고 싶은 객체)"
   ]
  },
  {
   "cell_type": "code",
   "execution_count": 23,
   "id": "f2dfb834-6e64-4e27-9fb6-36ced0272798",
   "metadata": {},
   "outputs": [
    {
     "data": {
      "text/plain": [
       "'배?고?프?다'"
      ]
     },
     "execution_count": 23,
     "metadata": {},
     "output_type": "execute_result"
    }
   ],
   "source": [
    "'?'.join('배고프다')\n",
    "# str [sequence] 형태의 데이터이므로, `join` 을 통해 각 단어 사이에 `?` 가 join 된다. "
   ]
  },
  {
   "cell_type": "code",
   "execution_count": 24,
   "id": "a83a3274-ad64-4e4d-9bf8-ba1dc0ba0a85",
   "metadata": {},
   "outputs": [
    {
     "name": "stdout",
     "output_type": "stream",
     "text": [
      "            hello           \n",
      "\n"
     ]
    }
   ],
   "source": [
    "a = '            hello           \\n'\n",
    "print(a)"
   ]
  },
  {
   "cell_type": "code",
   "execution_count": 25,
   "id": "4c762276-6c21-4479-bb9a-dc589eb2f0d1",
   "metadata": {},
   "outputs": [
    {
     "name": "stdout",
     "output_type": "stream",
     "text": [
      "29\n"
     ]
    }
   ],
   "source": [
    "a = '            hello           \\n'\n",
    "print(len(a))\n",
    "#공백이 있다면, 'hello' 5자 이외에도 공백을 출력함. "
   ]
  },
  {
   "cell_type": "code",
   "execution_count": 26,
   "id": "bcd8ffd6-4b50-4f81-9c68-e0de7b16254f",
   "metadata": {},
   "outputs": [
    {
     "data": {
      "text/plain": [
       "'hello'"
      ]
     },
     "execution_count": 26,
     "metadata": {},
     "output_type": "execute_result"
    }
   ],
   "source": [
    "a = '            hello           \\n'\n",
    "a.strip()\n",
    "#strip 을 통해 \\n, \\t, 빈공백을 지워줌. "
   ]
  },
  {
   "cell_type": "code",
   "execution_count": 27,
   "id": "2b1632c0-e888-40b2-93b3-57055095f8d1",
   "metadata": {},
   "outputs": [
    {
     "data": {
      "text/plain": [
       "'hello??????????'"
      ]
     },
     "execution_count": 27,
     "metadata": {},
     "output_type": "execute_result"
    }
   ],
   "source": [
    "a = '!!!!!!!hello??????????'\n",
    "a.strip('!')\n",
    "\n",
    "# def strip(char=' ')"
   ]
  },
  {
   "cell_type": "code",
   "execution_count": 12,
   "id": "49503601-fa6b-4983-9d15-046758dd4aef",
   "metadata": {},
   "outputs": [
    {
     "name": "stdout",
     "output_type": "stream",
     "text": [
      "helllo---------\n",
      "-----------helllo\n"
     ]
    }
   ],
   "source": [
    "a = '-----------helllo---------'\n",
    "print(a.lstrip('-'))\n",
    "print(a.rstrip('-'))"
   ]
  },
  {
   "cell_type": "code",
   "execution_count": 28,
   "id": "d9a7270e-b4d8-4022-bfae-dba0f7f4d81f",
   "metadata": {},
   "outputs": [
    {
     "data": {
      "text/plain": [
       "'aooooooooooa'"
      ]
     },
     "execution_count": 28,
     "metadata": {},
     "output_type": "execute_result"
    }
   ],
   "source": [
    "a = 'woooooooooow'\n",
    "a.replace('w', 'a')"
   ]
  },
  {
   "cell_type": "code",
   "execution_count": 29,
   "id": "8fe69c72-01be-4da4-bb5c-4a4b21e1f3d5",
   "metadata": {},
   "outputs": [
    {
     "data": {
      "text/plain": [
       "'w!!!ooooooow'"
      ]
     },
     "execution_count": 29,
     "metadata": {},
     "output_type": "execute_result"
    }
   ],
   "source": [
    "a = 'woooooooooow'\n",
    "a.replace('o', '!', 3)\n",
    "#마지막의 '3'은 내가 이 replace를 몇번 시행 할지 "
   ]
  },
  {
   "cell_type": "code",
   "execution_count": 30,
   "id": "c2bc9675-92f0-4733-b026-057e2e650934",
   "metadata": {},
   "outputs": [
    {
     "data": {
      "text/plain": [
       "-1"
      ]
     },
     "execution_count": 30,
     "metadata": {},
     "output_type": "execute_result"
    }
   ],
   "source": [
    "a = 'apple'\n",
    "a.find('a') # => 0 \n",
    "a.find('l') # => 3 (해당 데이터의 index 번호를 출력함.)\n",
    "a.find('p') # => 1 (중복된 값이 있을때, 가장 첫번째 index 를 출력해줌.)\n",
    "\n",
    "a.find('x') # => -1 (그 해당 요소가 데이터에 없을때 '-1' 을 출력해줌.)"
   ]
  },
  {
   "cell_type": "code",
   "execution_count": 31,
   "id": "985e66d1-ee24-471a-a169-840d01a85535",
   "metadata": {},
   "outputs": [
    {
     "ename": "ValueError",
     "evalue": "substring not found",
     "output_type": "error",
     "traceback": [
      "\u001b[1;31m---------------------------------------------------------------------------\u001b[0m",
      "\u001b[1;31mValueError\u001b[0m                                Traceback (most recent call last)",
      "Cell \u001b[1;32mIn[31], line 8\u001b[0m\n\u001b[0;32m      4\u001b[0m a\u001b[38;5;241m.\u001b[39mindex(\u001b[38;5;124m'\u001b[39m\u001b[38;5;124mp\u001b[39m\u001b[38;5;124m'\u001b[39m)\n\u001b[0;32m      6\u001b[0m \u001b[38;5;66;03m# 위 a.find('a/ l/ p') 와 동일하게 동작함. \u001b[39;00m\n\u001b[1;32m----> 8\u001b[0m \u001b[43ma\u001b[49m\u001b[38;5;241;43m.\u001b[39;49m\u001b[43mindex\u001b[49m\u001b[43m(\u001b[49m\u001b[38;5;124;43m'\u001b[39;49m\u001b[38;5;124;43mx\u001b[39;49m\u001b[38;5;124;43m'\u001b[39;49m\u001b[43m)\u001b[49m \u001b[38;5;66;03m#=> 없는 데이터를 찾으려고 시도를 하면, error가 남. - code를 종료시킴. \u001b[39;00m\n",
      "\u001b[1;31mValueError\u001b[0m: substring not found"
     ]
    }
   ],
   "source": [
    "a = 'apple'\n",
    "a.index('a')\n",
    "a.index('l')\n",
    "a.index('p')\n",
    "\n",
    "# 위 a.find('a/ l/ p') 와 동일하게 동작함. \n",
    "\n",
    "a.index('x') #=> 없는 데이터를 찾으려고 시도를 하면, error가 남. - code를 종료시킴. "
   ]
  },
  {
   "cell_type": "code",
   "execution_count": 7,
   "id": "3b155767-316b-454c-af08-aa7b01dbc079",
   "metadata": {},
   "outputs": [
    {
     "data": {
      "text/plain": [
       "['my', 'name', 'is', 'su']"
      ]
     },
     "execution_count": 7,
     "metadata": {},
     "output_type": "execute_result"
    }
   ],
   "source": [
    "a = 'my name is su'\n",
    "a.split()\n",
    "# => a의 띄어쓰기를 기준으로 다 잘라주고, 그 결과를 [list] 로 만들어서 결과값을 보여줌. "
   ]
  },
  {
   "cell_type": "code",
   "execution_count": 6,
   "id": "391c3ca8-b372-4ba3-bfd7-7e17fae6992f",
   "metadata": {},
   "outputs": [
    {
     "data": {
      "text/plain": [
       "['my', 'name', 'is?Su']"
      ]
     },
     "execution_count": 6,
     "metadata": {},
     "output_type": "execute_result"
    }
   ],
   "source": [
    "a = 'my!name!is?Su'\n",
    "a.split('!')\n",
    "# => !를 기준으로 잘라줌 ."
   ]
  },
  {
   "cell_type": "code",
   "execution_count": 5,
   "id": "80152948-c4c5-464d-aa03-c4448526c1fd",
   "metadata": {},
   "outputs": [
    {
     "data": {
      "text/plain": [
       "21"
      ]
     },
     "execution_count": 5,
     "metadata": {},
     "output_type": "execute_result"
    }
   ],
   "source": [
    "a = 'wooooooooooooo000oooooOOOOOOOOOOooow'\n",
    "# o가 몇개인지 개수를 세고 싶을 때\n",
    "a.count('o')"
   ]
  },
  {
   "cell_type": "markdown",
   "id": "32b88a1a-699c-4393-b69c-352e90b700f2",
   "metadata": {},
   "source": [
    "## 리스트 메소드"
   ]
  },
  {
   "cell_type": "code",
   "execution_count": 32,
   "id": "1f3e34cc-6fe4-4d84-a48b-bfaa766e59d4",
   "metadata": {},
   "outputs": [],
   "source": [
    "numbers = [2, 6, 1, 4, 8, 3, 2, 8]"
   ]
  },
  {
   "cell_type": "code",
   "execution_count": 33,
   "id": "80bf20f6-3966-49b1-b7f9-f7b702eef16a",
   "metadata": {},
   "outputs": [
    {
     "name": "stdout",
     "output_type": "stream",
     "text": [
      "[2, 6, 1, 4, 8, 3, 2, 8, 10]\n"
     ]
    }
   ],
   "source": [
    "numbers.append(10)\n",
    "#덧붙인다. \n",
    "print(numbers)\n",
    "# => 리스트 method => append는 원본 데이터를 수정한다. "
   ]
  },
  {
   "cell_type": "code",
   "execution_count": 34,
   "id": "42d0e9d8-7a63-43fe-bab5-30a9241b3e2b",
   "metadata": {},
   "outputs": [
    {
     "name": "stdout",
     "output_type": "stream",
     "text": [
      "[2, 6, 1, 4, 8, 3, 2, 8, 10, 99, 100]\n"
     ]
    }
   ],
   "source": [
    "a = [99, 100]\n",
    "numbers.extend(a)\n",
    "print(numbers)"
   ]
  },
  {
   "cell_type": "code",
   "execution_count": 35,
   "id": "ab486fdf-406f-4da5-92af-b4ead8bb85a7",
   "metadata": {},
   "outputs": [
    {
     "name": "stdout",
     "output_type": "stream",
     "text": [
      "[2, 6, 1, 5, 4, 8, 3, 2, 8, 10, 99, 100]\n"
     ]
    }
   ],
   "source": [
    "numbers.insert(3, 5)\n",
    "print(numbers)\n",
    "#위치를 지정해서 데이터를 insert함 => insert(index번호자리, 데이터값)"
   ]
  },
  {
   "cell_type": "code",
   "execution_count": 36,
   "id": "f047454c-87be-4906-86ad-68d6f04bbab3",
   "metadata": {},
   "outputs": [
    {
     "name": "stdout",
     "output_type": "stream",
     "text": [
      "[2, 6, 1, 5, 4, 3, 2, 8, 10, 99, 100]\n"
     ]
    }
   ],
   "source": [
    "numbers.remove(8)\n",
    "print(numbers)\n",
    "# => 가장 첫번째로 만나는 데이터 (8)을 삭제함. \n",
    "# => 원본 데이터가 바뀜 (8이 하나인 데이터 리스트로)\n",
    "# => 한번더 numbers.remove(8) 을 실행하면, \n",
    "# => 또 다시 데이터 리스트에서 8이 제거됨. \n",
    "# => 또 한번 numbers.remove(8) 을 실행하면, \n",
    "# 더이상, 리스트 안에 8이 없기에, 오류가 나타난다. "
   ]
  },
  {
   "cell_type": "code",
   "execution_count": 37,
   "id": "3ce86dfe-3550-496a-829b-e5860e1ce204",
   "metadata": {},
   "outputs": [
    {
     "name": "stdout",
     "output_type": "stream",
     "text": [
      "[6, 1, 5, 4, 3, 2, 8, 10, 99, 100]\n"
     ]
    }
   ],
   "source": [
    "numbers.pop(0)\n",
    "print(numbers)"
   ]
  },
  {
   "cell_type": "code",
   "execution_count": null,
   "id": "c73200aa-2dd8-4b5a-8063-09a81ab71b5f",
   "metadata": {},
   "outputs": [],
   "source": [
    "#append: 뒤에 데이터를 붙일때, pop: 맨 뒤의 데이터를 뺄 때\n",
    "#이 둘을 가장 많이 쓰게 될 것임. "
   ]
  },
  {
   "cell_type": "code",
   "execution_count": 38,
   "id": "7040d2ae-e1aa-4930-a5bf-9244afa239be",
   "metadata": {},
   "outputs": [
    {
     "name": "stdout",
     "output_type": "stream",
     "text": [
      "[1, 2, 3, 4, 5, 6, 8, 10, 99, 100]\n"
     ]
    }
   ],
   "source": [
    "numbers.sort()\n",
    "print(numbers)\n",
    "# 오름차순으로 정렬함. "
   ]
  },
  {
   "cell_type": "code",
   "execution_count": 39,
   "id": "1afb4618-2cd8-4fd5-8712-3afca26bbbfd",
   "metadata": {},
   "outputs": [
    {
     "name": "stdout",
     "output_type": "stream",
     "text": [
      "[100, 99, 10, 8, 6, 5, 4, 3, 2, 1]\n"
     ]
    }
   ],
   "source": [
    "numbers.sort(reverse=True)\n",
    "#reverse라는 option을 주면, 내림차순으로 정렬됨. \n",
    "print(numbers)"
   ]
  },
  {
   "cell_type": "code",
   "execution_count": 40,
   "id": "f4ff2983-62a2-4507-92ef-cfd7da8a2cea",
   "metadata": {},
   "outputs": [
    {
     "name": "stdout",
     "output_type": "stream",
     "text": [
      "[1, 2, 3, 4, 5, 6, 8, 10, 99, 100]\n",
      "[100, 99, 10, 8, 6, 5, 4, 3, 2, 1]\n"
     ]
    }
   ],
   "source": [
    "print(sorted(numbers))\n",
    "#python 자체가 보유하고 있는 함수. \n",
    "print(numbers)\n",
    "# => sorted 는 원본 데이터를 바꾸지 않음. \n",
    "# => 반면, sort는 원본 데이터를 바꿈. "
   ]
  },
  {
   "cell_type": "code",
   "execution_count": 41,
   "id": "ce92349c-7dc1-41b9-95fe-120632d7930f",
   "metadata": {},
   "outputs": [
    {
     "name": "stdout",
     "output_type": "stream",
     "text": [
      "[2, 2, 3, 4, 5, 9]\n",
      "[5, 3, 2, 4, 2, 9]\n"
     ]
    }
   ],
   "source": [
    "a = [5, 3, 2, 4, 2, 9]\n",
    "print(sorted(a))\n",
    "print(a)"
   ]
  },
  {
   "cell_type": "code",
   "execution_count": null,
   "id": "99d2e887-8f6f-4e14-8eb9-e5990f027423",
   "metadata": {},
   "outputs": [],
   "source": [
    "my_list = ['a', 'e', 'o', 'b', 'z']\n",
    "my_list.sort()\n",
    "print(my_list)\n",
    "#글자도 정렬이 가능함 (`유니코드`를 기준으로)"
   ]
  },
  {
   "cell_type": "code",
   "execution_count": null,
   "id": "618b5fcf-c44a-4a23-a276-acb28ee78819",
   "metadata": {},
   "outputs": [],
   "source": [
    "my_list = ['a', 'A', 'o', '가', '하']\n",
    "my_list.sort()\n",
    "print(my_list)\n",
    "#글자 (영어/ 한글/ etc)도 정렬이 가능함 (`유니코드`를 기준으로)"
   ]
  },
  {
   "cell_type": "code",
   "execution_count": null,
   "id": "2b3a3ce6-c561-44d0-b88e-5b54c5498097",
   "metadata": {},
   "outputs": [],
   "source": [
    "print(numbers)\n",
    "numbers.reverse()\n",
    "print(numbers)"
   ]
  },
  {
   "cell_type": "code",
   "execution_count": null,
   "id": "9f92438f-a866-4111-8dc9-7f804339a3e1",
   "metadata": {},
   "outputs": [],
   "source": [
    "numbers.count(10)"
   ]
  },
  {
   "cell_type": "markdown",
   "id": "4aeb0b66-a591-4011-88ba-e34915bfff63",
   "metadata": {},
   "source": [
    "### list copy"
   ]
  },
  {
   "cell_type": "code",
   "execution_count": 43,
   "id": "b881ae38-0174-4e89-bb16-88499a31e70f",
   "metadata": {},
   "outputs": [
    {
     "name": "stdout",
     "output_type": "stream",
     "text": [
      "[1, 2, 3]\n",
      "[1, 2, 3]\n",
      "[100, 2, 3]\n",
      "[100, 2, 3]\n"
     ]
    }
   ],
   "source": [
    "origin_list = [1, 2, 3]  # 리스트 생성\n",
    "copy_list = origin_list  # 얕은 복사 (같은 리스트를 참조)\n",
    "\n",
    "print(origin_list)  # [1, 2, 3]\n",
    "print(copy_list)    # [1, 2, 3]\n",
    "\n",
    "copy_list[0] = 100  # copy_list의 첫 번째 값을 변경\n",
    "\n",
    "print(origin_list)  # [100, 2, 3] (같이 변경됨!)\n",
    "print(copy_list)    # [100, 2, 3] (같이 변경됨!)\n"
   ]
  },
  {
   "cell_type": "code",
   "execution_count": 44,
   "id": "5a8ae233-1458-4d22-a52c-4e9b85176701",
   "metadata": {},
   "outputs": [
    {
     "name": "stdout",
     "output_type": "stream",
     "text": [
      "[1, 2, 3]\n",
      "[100, 2, 3]\n"
     ]
    }
   ],
   "source": [
    "origin_list = [1, 2, 3]\n",
    "copy_list = origin_list[:] # => 슬라이싱 해주세요. 처음부터 끝까지 \n",
    "\n",
    "copy_list[0] = 100\n",
    "\n",
    "print(origin_list)\n",
    "print(copy_list)"
   ]
  },
  {
   "cell_type": "code",
   "execution_count": 48,
   "id": "ec25d5c4-ed41-4f32-9837-05b65d38ffc9",
   "metadata": {},
   "outputs": [
    {
     "name": "stdout",
     "output_type": "stream",
     "text": [
      "[1, 2, [-10, 11]]\n",
      "[100, 2, [-10, 11]]\n"
     ]
    }
   ],
   "source": [
    "o_l = [1, 2, [10, 11]]\n",
    "c_l = o_l[:]  # 얕은 복사\n",
    "\n",
    "c_l[0] = 100  # ✅ 리스트의 첫 번째 요소 변경\n",
    "c_l[2][0] = -10  # ✅ 중첩 리스트의 값 변경\n",
    "\n",
    "print(o_l)  # ❗ 원본도 변경됨 → [1, 2, [-10, 11]]\n",
    "print(c_l)  # [100, 2, [-10, 11]]\n"
   ]
  },
  {
   "cell_type": "code",
   "execution_count": 50,
   "id": "15f53149-17d6-4534-9481-02a4ff48d0c3",
   "metadata": {},
   "outputs": [
    {
     "name": "stdout",
     "output_type": "stream",
     "text": [
      "[1, 2, [10, 11]]\n",
      "[100, 2, [10, -11]]\n"
     ]
    }
   ],
   "source": [
    "import copy\n",
    "\n",
    "o_l = [1, 2, [10, 11]]\n",
    "c_l = copy.deepcopy(o_l)\n",
    "# copy라는 공구 상자 안에, deepcopy 라는 공구를 쓰겠습니다. \n",
    "c_l[0] = 100\n",
    "c_l[2][1] = -11\n",
    "\n",
    "print(o_l)\n",
    "print(c_l)"
   ]
  },
  {
   "cell_type": "markdown",
   "id": "f247ecb3-f767-4fff-ba0a-901fd7df1ba6",
   "metadata": {},
   "source": [
    "## list comprehension"
   ]
  },
  {
   "cell_type": "code",
   "execution_count": 51,
   "id": "822dd181-270c-4e89-a882-8191282d7fe5",
   "metadata": {},
   "outputs": [],
   "source": [
    "numbers = [1, 2, 3, 4, 5, 6, 7, 8, 9, 10]"
   ]
  },
  {
   "cell_type": "code",
   "execution_count": 52,
   "id": "413d4423-8b04-4e8b-a6ef-8c7a96d6a13c",
   "metadata": {},
   "outputs": [
    {
     "name": "stdout",
     "output_type": "stream",
     "text": [
      "[1, 2, 3, 4, 5, 6, 7, 8, 9, 10]\n"
     ]
    }
   ],
   "source": [
    "numbers = list(range(1, 11))\n",
    "print(numbers)"
   ]
  },
  {
   "cell_type": "code",
   "execution_count": 54,
   "id": "abe45fd1-8998-4c52-b7e0-690c74130c2d",
   "metadata": {},
   "outputs": [
    {
     "name": "stdout",
     "output_type": "stream",
     "text": [
      "[1, 8, 27, 64, 125, 216, 343, 512, 729, 1000]\n"
     ]
    }
   ],
   "source": [
    "result = []\n",
    "\n",
    "for number in numbers:\n",
    "    temp = number ** 3 # => 임시저장하는 temp에 저장\n",
    "    result.append(temp)\n",
    "\n",
    "print(result)"
   ]
  },
  {
   "cell_type": "code",
   "execution_count": 56,
   "id": "be692b98-998a-4de7-b30b-764af01c67fe",
   "metadata": {},
   "outputs": [
    {
     "name": "stdout",
     "output_type": "stream",
     "text": [
      "[1, 8, 27, 64, 125, 216, 343, 512, 729, 1000]\n"
     ]
    }
   ],
   "source": [
    "result = [number ** 3 for number in numbers] #=> list 안에 for문을 적음. \n",
    "# result = [number1 ** 3, number2 ** 3, number3 ** 3, ... number10 ** 3]\n",
    "# 계산한 결과 for 반복할 구간\n",
    "print(result)"
   ]
  },
  {
   "cell_type": "code",
   "execution_count": 61,
   "id": "c8bc55b3-bf64-4d65-b87d-a36fd20d29ec",
   "metadata": {},
   "outputs": [
    {
     "name": "stdout",
     "output_type": "stream",
     "text": [
      "[1, 2, 3, 4, 5, 6, 7, 8, 9, 10, 11, 12, 13, 14, 15, 16, 17, 18, 19, 20, 21, 22, 23, 24, 25, 26, 27, 28, 29, 30]\n",
      "[2, 4, 6, 8, 10, 12, 14, 16, 18, 20, 22, 24, 26, 28, 30]\n"
     ]
    }
   ],
   "source": [
    "# 예제 for list comprehension\n",
    "#짝수만 고르기 \n",
    "\n",
    "numbers = list(range(1, 31)) # => 1부터 30까지의 데이터 \n",
    "print(numbers)\n",
    "\n",
    "result = []\n",
    "for number in numbers:\n",
    "    if number % 2 == 0:\n",
    "        # 짝수인 값을 reult에 쌓을 것이다. \n",
    "        result.append(number)\n",
    "print(result)"
   ]
  },
  {
   "cell_type": "code",
   "execution_count": 63,
   "id": "a64d3df9-88dd-4d19-84fc-2cbcdff49a0e",
   "metadata": {},
   "outputs": [
    {
     "name": "stdout",
     "output_type": "stream",
     "text": [
      "[2, 4, 6, 8, 10, 12, 14, 16, 18, 20, 22, 24, 26, 28, 30]\n"
     ]
    }
   ],
   "source": [
    "numbers = list(range(1, 31)) # => 1부터 30까지의 데이터 \n",
    "result = [number for number in numbers if number % 2 == 0]\n",
    "# 실행순서: 3     for   1               if  2\n",
    "print(result)"
   ]
  },
  {
   "cell_type": "code",
   "execution_count": 68,
   "id": "8a96d6df-5718-46c3-a8a9-fa4686c28164",
   "metadata": {},
   "outputs": [
    {
     "name": "stdout",
     "output_type": "stream",
     "text": [
      "[4, 8, 12, 16, 20, 24, 28, 32, 36, 40, 44, 48, 52, 56, 60]\n"
     ]
    }
   ],
   "source": [
    "# Q. 짝수에 곱하기 2인 값을 최종적으로 출력하고 싶다면? \n",
    "\n",
    "numbers = list(range(1, 31)) # => 1부터 30까지의 데이터 \n",
    "result = [number * 2 for number in numbers if number % 2 == 0]\n",
    "# 실행순서: 3     for   1               if  2\n",
    "print(result)"
   ]
  },
  {
   "cell_type": "code",
   "execution_count": 95,
   "id": "f1c24d5b-cdbd-4b2a-9eec-7908f95847da",
   "metadata": {},
   "outputs": [],
   "source": [
    "# 연습! 모음제거\n",
    "words = 'my name is hong'\n",
    "\n",
    "# => my nm s hng\n"
   ]
  },
  {
   "cell_type": "code",
   "execution_count": 105,
   "id": "5b1a39d2-dae4-4c61-b10f-3b8a46675d36",
   "metadata": {},
   "outputs": [
    {
     "ename": "SyntaxError",
     "evalue": "invalid syntax (1528721271.py, line 10)",
     "output_type": "error",
     "traceback": [
      "\u001b[1;36m  Cell \u001b[1;32mIn[105], line 10\u001b[1;36m\u001b[0m\n\u001b[1;33m    result.del(word)\u001b[0m\n\u001b[1;37m           ^\u001b[0m\n\u001b[1;31mSyntaxError\u001b[0m\u001b[1;31m:\u001b[0m invalid syntax\n"
     ]
    }
   ],
   "source": [
    "# 1. for / if\n",
    "#모음 = a e i o u\n",
    "words = 'my name is hong'\n",
    "\n",
    "# => my nm s hng\n",
    "result = []\n",
    "\n",
    "for word in words:\n",
    "    if word == 'i':\n",
    "        \n",
    "    \n",
    "print(words)\n",
    "#자음을 골라내서\n"
   ]
  },
  {
   "cell_type": "code",
   "execution_count": 118,
   "id": "80233566-1820-4c00-a438-74e4e2e823d8",
   "metadata": {},
   "outputs": [
    {
     "name": "stdout",
     "output_type": "stream",
     "text": [
      "m\n",
      "y\n",
      " \n",
      "n\n",
      "a\n",
      "m\n",
      "e\n",
      " \n",
      "i\n",
      "s\n",
      " \n",
      "h\n",
      "o\n",
      "n\n",
      "g\n"
     ]
    }
   ],
   "source": [
    "#정답풀이\n",
    "for char in words: \n",
    "    print(char)"
   ]
  },
  {
   "cell_type": "code",
   "execution_count": 139,
   "id": "0cbdc9dc-5225-4055-b6a0-536dad275ac0",
   "metadata": {},
   "outputs": [
    {
     "name": "stdout",
     "output_type": "stream",
     "text": [
      "['m', 'y', ' ', 'n', 'm', ' ', 's', ' ', 'h', 'n', 'g']\n",
      "my nm s hng\n"
     ]
    }
   ],
   "source": [
    "#정답풀이\n",
    "words = 'my name is hong'\n",
    "\n",
    "vowels = ['a', 'e', 'i', 'o', 'u']\n",
    "# 모음집합을 만들어서 알려줌.  \n",
    "result = []\n",
    "\n",
    "for char in words: \n",
    "    #if char 모음목록에 있다면\n",
    "    if char in vowels: \n",
    "        pass\n",
    "        #제거해야한다. \n",
    "        #문자열을 제거하는 건 불가능 (immutable 하기에)\n",
    "    #자음인 경우\n",
    "    else:\n",
    "        result.append(char)\n",
    "print(result)\n",
    "print(''.join(result))"
   ]
  },
  {
   "cell_type": "code",
   "execution_count": 141,
   "id": "e1fa403b-d5df-431f-ada2-2dc10e229909",
   "metadata": {},
   "outputs": [
    {
     "name": "stdout",
     "output_type": "stream",
     "text": [
      "['m', 'y', ' ', 'n', 'm', ' ', 's', ' ', 'h', 'n', 'g']\n",
      "my nm s hng\n"
     ]
    }
   ],
   "source": [
    "#정답풀이\n",
    "words = 'my name is hong'\n",
    "\n",
    "vowels = ['a', 'e', 'i', 'o', 'u']\n",
    "# 모음집합을 만들어서 알려줌.  \n",
    "result = []\n",
    "#내가 찾아 넣을 [] 빈공간을 생성해준다.  \n",
    "\n",
    "for char in words: \n",
    "    #if char 모음목록에 있다면\n",
    "    if char not in vowels: \n",
    "        result.append(char)\n",
    "        #제거해야한다. \n",
    "        #문자열을 제거하는 건 불가능 (immutable 하기에)\n",
    "    #자음인 경우\n",
    "    # else:\n",
    "    #     result.append(char)\n",
    "print(result)\n",
    "print(''.join(result))"
   ]
  },
  {
   "cell_type": "code",
   "execution_count": 142,
   "id": "25a61900-a9af-496b-ae31-8b1dc84c35f7",
   "metadata": {},
   "outputs": [
    {
     "name": "stdout",
     "output_type": "stream",
     "text": [
      "['m', 'y', ' ', 'n', 'm', ' ', 's', ' ', 'h', 'n', 'g']\n",
      "my nm s hng\n"
     ]
    }
   ],
   "source": [
    "#정답풀이\n",
    "words = 'my name is hong'\n",
    "\n",
    "#vowels = 'aeiou' # => String 타입으로 선언. \n",
    "# 모음집합을 만들어서 알려줌.  \n",
    "result = []\n",
    "#내가 찾아 넣을 [] 빈공간을 생성해준다.  \n",
    "\n",
    "for char in words: \n",
    "    #if char 모음목록에 있다면\n",
    "    if char not in 'aeiou': \n",
    "        result.append(char)\n",
    "        #제거해야한다. \n",
    "        #문자열을 제거하는 건 불가능 (immutable 하기에)\n",
    "    #자음인 경우\n",
    "    # else:\n",
    "    #     result.append(char)\n",
    "print(result)\n",
    "print(''.join(result))"
   ]
  },
  {
   "cell_type": "code",
   "execution_count": 144,
   "id": "f21164d6-cba2-4684-879e-d1e0ef6cc252",
   "metadata": {},
   "outputs": [
    {
     "name": "stdout",
     "output_type": "stream",
     "text": [
      "['m', 'y', ' ', 'n', 'm', ' ', 's', ' ', 'h', 'n', 'g']\n",
      "my nm s hng\n"
     ]
    }
   ],
   "source": [
    "# 2. list comprehension 으로 정답풀이\n",
    "vowels = 'aeiou'\n",
    "result = [char for char in words if char not in vowels]\n",
    "print(result)\n",
    "print(''.join(result))"
   ]
  },
  {
   "cell_type": "code",
   "execution_count": 145,
   "id": "7cc86f0a-e1f6-46e9-8f48-850b3c82f494",
   "metadata": {},
   "outputs": [
    {
     "data": {
      "text/plain": [
       "'my nm s hng'"
      ]
     },
     "execution_count": 145,
     "metadata": {},
     "output_type": "execute_result"
    }
   ],
   "source": [
    "''.join([char for char in words if char not in 'aeiou'])\n",
    "# 극단적으로 줄여놓은 상태"
   ]
  },
  {
   "cell_type": "code",
   "execution_count": 148,
   "id": "d2636518-a461-44a1-844c-8f3768285593",
   "metadata": {},
   "outputs": [
    {
     "name": "stdout",
     "output_type": "stream",
     "text": [
      "my nm s hng\n"
     ]
    }
   ],
   "source": [
    "# 3. replace 메소드\n",
    "vowles = 'aeiou'\n",
    "\n",
    "for char in vowels:\n",
    "    words = words.replace(char, '')\n",
    "print(words)"
   ]
  },
  {
   "cell_type": "markdown",
   "id": "7074d74e-1fdb-41a7-9965-1cdec1e3cfeb",
   "metadata": {},
   "source": [
    "## dictionary 메소드"
   ]
  },
  {
   "cell_type": "code",
   "execution_count": 3,
   "id": "47e26346-546e-423a-8dcf-6e500a24e4d0",
   "metadata": {},
   "outputs": [],
   "source": [
    "info = {\n",
    "    'name': 'su',\n",
    "    'location': 'seoul',\n",
    "    'age': 20,\n",
    "    'phone_book': {\n",
    "        'kim': '010-1234-1234',\n",
    "        'park': '010-4321-4321'\n",
    "    }, \n",
    "    'models': ['iphone', 'ipad']\n",
    "}"
   ]
  },
  {
   "cell_type": "code",
   "execution_count": 8,
   "id": "853528ec-338f-4a80-a76c-6d75db08cfe5",
   "metadata": {},
   "outputs": [
    {
     "name": "stdout",
     "output_type": "stream",
     "text": [
      "su\n",
      "20\n",
      "{'kim': '010-1234-1234', 'park': '010-4321-4321'}\n",
      "010-4321-4321\n",
      "ipad\n"
     ]
    }
   ],
   "source": [
    "print(info['name'])\n",
    "print(info['age'])\n",
    "print(info['phone_book'])\n",
    "print(info['phone_book']['park']) #dictionary 안의 dictionary에서 값을 불러오기  \n",
    "print(info['models'][1]) #dictionary 안의 list접근을 위해 [index 번호]로 접근한다. "
   ]
  },
  {
   "cell_type": "code",
   "execution_count": 9,
   "id": "9127c399-c795-47f0-97ca-1e398f9c1de0",
   "metadata": {},
   "outputs": [
    {
     "name": "stdout",
     "output_type": "stream",
     "text": [
      "{'name': 'lee', 'location': 'seoul', 'age': 20, 'phone_book': {'kim': '010-1234-1234', 'park': '010-4321-4321'}, 'models': ['iphone', 'ipad']}\n"
     ]
    }
   ],
   "source": [
    "info['name'] = 'lee' #재할당 - 데이터를 변경함. \n",
    "print(info)"
   ]
  },
  {
   "cell_type": "code",
   "execution_count": 10,
   "id": "fb21ef81-f29e-4a07-8700-3583cf3f5e83",
   "metadata": {},
   "outputs": [
    {
     "name": "stdout",
     "output_type": "stream",
     "text": [
      "{'name': 'choi', 'location': 'seoul', 'age': 20, 'phone_book': {'kim': '010-1234-1234', 'park': '010-4321-4321'}, 'models': ['iphone', 'ipad']}\n"
     ]
    }
   ],
   "source": [
    "info.update(name='choi')\n",
    "print(info)\n",
    "#내가 할당한 key에 어떠한 내용으로 업데이트를 할 것이다. \n"
   ]
  },
  {
   "cell_type": "code",
   "execution_count": 11,
   "id": "5237dc1a-65ec-4baa-a4d7-99fbd14cef6d",
   "metadata": {},
   "outputs": [
    {
     "name": "stdout",
     "output_type": "stream",
     "text": [
      "{'name': 'choi', 'age': 20, 'phone_book': {'kim': '010-1234-1234', 'park': '010-4321-4321'}, 'models': ['iphone', 'ipad']}\n"
     ]
    }
   ],
   "source": [
    "info.pop('location')\n",
    "#내가 원하는 키값의 key value를 완전히 제거할때\n",
    "print(info)\n",
    "#list기준으로 pop 을 한다는 것은 맨마지막 요소를 뽑아낸다는 의미\n",
    "#dictionary 는 맨마지막 요소를 뽑아낼 수 없음 - sequence 형이 아니므로 (순서가 없다.) "
   ]
  },
  {
   "cell_type": "code",
   "execution_count": 13,
   "id": "22883c10-674c-4d97-b22b-73681395d10c",
   "metadata": {},
   "outputs": [
    {
     "name": "stdout",
     "output_type": "stream",
     "text": [
      "choi\n"
     ]
    }
   ],
   "source": [
    "info.get('name')\n",
    "#name 이라는 key에 해당하는 값을 불러온다. \n",
    "print(info['name'])\n",
    "#dictionary 에서 어떠한 값을 가져올 때, [대괄호로] 접근하므로 \n",
    "#위 두 코드는 동일하다. "
   ]
  },
  {
   "cell_type": "code",
   "execution_count": 14,
   "id": "d674bb96-40af-48bd-b440-da066c70bf3f",
   "metadata": {},
   "outputs": [
    {
     "name": "stdout",
     "output_type": "stream",
     "text": [
      "None\n"
     ]
    }
   ],
   "source": [
    "print(info.get('birth'))"
   ]
  },
  {
   "cell_type": "code",
   "execution_count": 15,
   "id": "aa8eda76-5ac4-41a5-8c2f-431086e3a213",
   "metadata": {},
   "outputs": [
    {
     "ename": "KeyError",
     "evalue": "'birth'",
     "output_type": "error",
     "traceback": [
      "\u001b[1;31m---------------------------------------------------------------------------\u001b[0m",
      "\u001b[1;31mKeyError\u001b[0m                                  Traceback (most recent call last)",
      "Cell \u001b[1;32mIn[15], line 1\u001b[0m\n\u001b[1;32m----> 1\u001b[0m \u001b[38;5;28mprint\u001b[39m(\u001b[43minfo\u001b[49m\u001b[43m[\u001b[49m\u001b[38;5;124;43m'\u001b[39;49m\u001b[38;5;124;43mbirth\u001b[39;49m\u001b[38;5;124;43m'\u001b[39;49m\u001b[43m]\u001b[49m)\n",
      "\u001b[1;31mKeyError\u001b[0m: 'birth'"
     ]
    }
   ],
   "source": [
    "print(info['birth'])\n",
    "#없는 데이터값이므로 실행오류가 발생한다. "
   ]
  },
  {
   "cell_type": "code",
   "execution_count": 30,
   "id": "69ac5847-9cab-4000-abd1-c17f1b30b920",
   "metadata": {},
   "outputs": [
    {
     "name": "stdout",
     "output_type": "stream",
     "text": [
      "9\n"
     ]
    },
    {
     "ename": "TypeError",
     "evalue": "list indices must be integers or slices, not str",
     "output_type": "error",
     "traceback": [
      "\u001b[1;31m---------------------------------------------------------------------------\u001b[0m",
      "\u001b[1;31mTypeError\u001b[0m                                 Traceback (most recent call last)",
      "Cell \u001b[1;32mIn[30], line 8\u001b[0m\n\u001b[0;32m      5\u001b[0m \u001b[38;5;66;03m#A형이 몇명인지? B형이 몇명인지 를 알고 싶다면\u001b[39;00m\n\u001b[0;32m      6\u001b[0m \u001b[38;5;66;03m#길이로 접근한다? \u001b[39;00m\n\u001b[0;32m      7\u001b[0m \u001b[38;5;28mprint\u001b[39m(\u001b[38;5;28mlen\u001b[39m(blood_type))\n\u001b[1;32m----> 8\u001b[0m \u001b[38;5;28mprint\u001b[39m(\u001b[43minfo\u001b[49m\u001b[43m[\u001b[49m\u001b[38;5;124;43m'\u001b[39;49m\u001b[38;5;124;43mblood_type\u001b[39;49m\u001b[38;5;124;43m'\u001b[39;49m\u001b[43m]\u001b[49m\u001b[43m[\u001b[49m\u001b[38;5;124;43m'\u001b[39;49m\u001b[38;5;124;43mA\u001b[39;49m\u001b[38;5;124;43m'\u001b[39;49m\u001b[43m]\u001b[49m)\n\u001b[0;32m      9\u001b[0m \u001b[38;5;66;03m#총 개수가 9개인 것을 알아냈다. \u001b[39;00m\n\u001b[0;32m     10\u001b[0m \u001b[38;5;66;03m#[list]형태에서는 get 으로 접근이 불가능하다. \u001b[39;00m\n\u001b[0;32m     11\u001b[0m \n\u001b[0;32m     12\u001b[0m \n\u001b[0;32m     13\u001b[0m \n\u001b[0;32m     14\u001b[0m \u001b[38;5;66;03m#=> {'A': 4, 'B': 2, 'AB': 2, 'O': 1}\u001b[39;00m\n",
      "\u001b[1;31mTypeError\u001b[0m: list indices must be integers or slices, not str"
     ]
    }
   ],
   "source": [
    "#연습문제\n",
    "blood_type = ['A', 'B', 'A', 'B', 'O', 'AB', 'A', 'A', 'AB']\n",
    "\n",
    "info = {'blood_type' :  ['A', 'B', 'A', 'B', 'O', 'AB', 'A', 'A', 'AB']}\n",
    "#A형이 몇명인지? B형이 몇명인지 를 알고 싶다면\n",
    "#길이로 접근한다? \n",
    "print(len(blood_type))\n",
    "print(info['blood_type']['A'])\n",
    "#총 개수가 9개인 것을 알아냈다. \n",
    "#[list]형태에서는 get 으로 접근이 불가능하다. \n",
    "\n",
    "\n",
    "\n",
    "#=> {'A': 4, 'B': 2, 'AB': 2, 'O': 1}"
   ]
  },
  {
   "cell_type": "code",
   "execution_count": 31,
   "id": "4ec534bb-b985-4799-8788-1a45051a5c27",
   "metadata": {},
   "outputs": [
    {
     "name": "stdout",
     "output_type": "stream",
     "text": [
      "{'A': 4, 'B': 2, 'AB': 2, 'O': 1}\n"
     ]
    }
   ],
   "source": [
    "#연습문제 - 해설\n",
    "blood_type = ['A', 'B', 'A', 'B', 'O', 'AB', 'A', 'A', 'AB']\n",
    "\n",
    "result = {\n",
    "    'A': 0,\n",
    "    'B': 0,\n",
    "    'AB': 0,\n",
    "    'O': 0, \n",
    "}\n",
    "\n",
    "for blood in blood_type:\n",
    "    #result['A']\n",
    "    result[blood] += 1\n",
    "\n",
    "print(result)\n",
    "#=> {'A': 4, 'B': 2, 'AB': 2, 'O': 1}"
   ]
  },
  {
   "cell_type": "code",
   "execution_count": 37,
   "id": "8f48279e-c6a5-4672-b6c2-57a99845aa61",
   "metadata": {},
   "outputs": [
    {
     "name": "stdout",
     "output_type": "stream",
     "text": [
      "{'서울': 2, '대전': 1, '부산': 1, '대구': 1, 'LA': 1, '파리': 1}\n"
     ]
    }
   ],
   "source": [
    "locations = ['서울', '서울', '대전', '부산', '대구', 'LA', '파리']\n",
    "result = {}\n",
    "\n",
    "for location in locations:\n",
    "    #if location이 result key 목록에 있으면?:\n",
    "    if result.get(location):\n",
    "        #result.get(location)은 location이 result 딕셔너리에 존재하면 현재 개수 값을 반환,\n",
    "        #존재하지 않으면 None을 반환함.\n",
    "    #if location in result.keys():\n",
    "    #   기존데이터에 +1\n",
    "        result[location] += 1\n",
    "    #else: 목록에 없다면\n",
    "    else: \n",
    "    #   새로운 키를 등록하고 기본값 1을 지정\n",
    "        result[location] = 1\n",
    "print(result)"
   ]
  },
  {
   "cell_type": "markdown",
   "id": "0b543f30-071e-471b-be80-8602f291b426",
   "metadata": {},
   "source": [
    "### dict comprehension"
   ]
  },
  {
   "cell_type": "code",
   "execution_count": 41,
   "id": "36627b16-7e28-4fed-b0eb-332937f34ecf",
   "metadata": {},
   "outputs": [
    {
     "name": "stdout",
     "output_type": "stream",
     "text": [
      "{1: 1, 2: 8, 3: 27, 4: 64, 5: 125, 6: 216, 7: 343, 8: 512, 9: 729, 10: 1000}\n"
     ]
    }
   ],
   "source": [
    "# {1: 1, 2: 8, 3: 27, ... 10: 1000}\n",
    "\n",
    "result = {}\n",
    "numbers = range(1, 11)\n",
    "\n",
    "for number in numbers:\n",
    "    result[number] = number ** 3\n",
    "    # result[key] = value\n",
    "\n",
    "print(result)"
   ]
  },
  {
   "cell_type": "markdown",
   "id": "02a4ba97-83db-43e9-a231-0257bbbb0d5b",
   "metadata": {},
   "source": [
    "딕셔너리(dictionary)는 키(key)와 값(value)을 쌍으로 저장하는 자료형입니다.\n",
    " \n",
    " 1. result = {}\n",
    "result는 빈 딕셔너리로 시작 → {}\n",
    "🔹 2. for number in numbers:\n",
    "numbers = range(1, 11)이므로, number는 1부터 10까지 하나씩 반복됨.\n",
    "🔹 3. result[number] = number ** 3\n",
    "number를 **딕셔너리의 키(key)**로 사용하고,\n",
    "number ** 3을 **딕셔너리의 값(value)**으로 저장."
   ]
  },
  {
   "cell_type": "code",
   "execution_count": 40,
   "id": "fbc0bb61-b2f3-4363-8581-0396930e8d38",
   "metadata": {},
   "outputs": [
    {
     "name": "stdout",
     "output_type": "stream",
     "text": [
      "{1: 1, 2: 8, 3: 27, 4: 64, 5: 125, 6: 216, 7: 343, 8: 512, 9: 729, 10: 1000}\n"
     ]
    }
   ],
   "source": [
    "result = {number: number ** 3 for number in range(1, 11)}\n",
    "#dictionary 이므로 key와 value 를 함께 써줘야한다. \n",
    "print(result)"
   ]
  },
  {
   "cell_type": "code",
   "execution_count": 52,
   "id": "d8d50bf0-73d3-431c-9ada-c0bf59800aeb",
   "metadata": {},
   "outputs": [],
   "source": [
    "dust = {\n",
    "    '서울': 50,\n",
    "    '인천': 100, \n",
    "    '수원': 30, \n",
    "    '부산': 0,\n",
    "}"
   ]
  },
  {
   "cell_type": "code",
   "execution_count": 54,
   "id": "8070a644-6a12-4f31-a29c-8b8f760b5b47",
   "metadata": {},
   "outputs": [
    {
     "name": "stdout",
     "output_type": "stream",
     "text": [
      "서울 50\n",
      "인천 100\n",
      "수원 30\n",
      "부산 0\n"
     ]
    }
   ],
   "source": [
    "result = {}\n",
    "for key, value in dust.items():\n",
    "    # key, value = ('서울', '50')\n",
    "\n",
    "    print(key, value)\n",
    "\n",
    "\n",
    "#for key, value in dust.items():\n",
    "# 👉 딕셔너리 dust의 \"키-값\" 쌍을 하나씩 가져와서 반복한다는 의미입니다."
   ]
  },
  {
   "cell_type": "code",
   "execution_count": 51,
   "id": "524cdf19-c44b-4425-910b-2534e3002a07",
   "metadata": {},
   "outputs": [
    {
     "name": "stdout",
     "output_type": "stream",
     "text": [
      "{'수원': 30, '부산': 0}\n"
     ]
    }
   ],
   "source": [
    "#1. for문\n",
    "result = {}\n",
    "for key, value in dust.items():\n",
    "    #key, value = ('서울', 50)\n",
    "    #item = ('서울', 50)\n",
    "    if value <= 30:\n",
    "        result[key] = value\n",
    "print(result)\n",
    "\n",
    "#원본 데이터\n",
    "#key, value를 separate\n",
    "#그 중 value 가 30 이하인 값을 \n",
    "#새로운 result로 묶음. "
   ]
  },
  {
   "cell_type": "code",
   "execution_count": 62,
   "id": "35ce172a-6e2a-47b0-862f-67c4cee7b042",
   "metadata": {},
   "outputs": [
    {
     "name": "stdout",
     "output_type": "stream",
     "text": [
      "{'수원': '매우좋음', '부산': '매우좋음'}\n"
     ]
    }
   ],
   "source": [
    "#2. comp\n",
    "result = {k: '매우좋음' for k, v in dust.items() if v <= 30}\n",
    "print(result)"
   ]
  },
  {
   "cell_type": "markdown",
   "id": "86c6eefa-3340-4647-8b57-130d84efee31",
   "metadata": {},
   "source": [
    "## Set 메소드"
   ]
  },
  {
   "cell_type": "code",
   "execution_count": 58,
   "id": "78578667-9ce2-491f-83bf-2fcc3cffd7d0",
   "metadata": {},
   "outputs": [
    {
     "name": "stdout",
     "output_type": "stream",
     "text": [
      "{'banana', 'apple', 'melon'}\n"
     ]
    }
   ],
   "source": [
    "fruits = {'apple', 'banana', 'melon'}\n",
    "print(fruits)"
   ]
  },
  {
   "cell_type": "code",
   "execution_count": 59,
   "id": "9be44cb6-47c4-4f7f-b2f0-5a3db71e316e",
   "metadata": {},
   "outputs": [
    {
     "name": "stdout",
     "output_type": "stream",
     "text": [
      "{'banana', 'apple', 'watermelon', 'melon'}\n"
     ]
    }
   ],
   "source": [
    "fruits.add('watermelon')\n",
    "print(fruits)"
   ]
  },
  {
   "cell_type": "code",
   "execution_count": 60,
   "id": "3803a9e6-cb41-47ce-96dc-ca29e9ef8607",
   "metadata": {},
   "outputs": [
    {
     "name": "stdout",
     "output_type": "stream",
     "text": [
      "{'banana', 'melon', 'watermelon', 'apple', 'orange', 'grape'}\n"
     ]
    }
   ],
   "source": [
    "fruits.update({'orange', 'grape'})\n",
    "print(fruits)"
   ]
  },
  {
   "cell_type": "code",
   "execution_count": 61,
   "id": "a1ffb84b-b885-4875-8446-6c9c90a75de1",
   "metadata": {},
   "outputs": [
    {
     "name": "stdout",
     "output_type": "stream",
     "text": [
      "{'banana', 'melon', 'watermelon', 'orange', 'grape'}\n"
     ]
    }
   ],
   "source": [
    "fruits.remove('apple')\n",
    "print(fruits)"
   ]
  },
  {
   "cell_type": "code",
   "execution_count": 63,
   "id": "650d91aa-b57e-49a9-95c5-9af9d505634e",
   "metadata": {},
   "outputs": [
    {
     "name": "stdout",
     "output_type": "stream",
     "text": [
      "{'melon', 'watermelon', 'orange', 'grape'}\n"
     ]
    }
   ],
   "source": [
    "fruits.pop()\n",
    "print(fruits)\n",
    "#랜덤하게 지움. "
   ]
  },
  {
   "cell_type": "markdown",
   "id": "fa405919-d6e0-457f-a292-6aadb46f45b4",
   "metadata": {},
   "source": [
    "# map, filter, zip"
   ]
  },
  {
   "cell_type": "markdown",
   "id": "9b306dd0-3ec3-4a48-9bd0-74a9c651d677",
   "metadata": {},
   "source": [
    "## map"
   ]
  },
  {
   "cell_type": "markdown",
   "id": "4b2873c1-8332-487a-a4ae-e2c4c3d3a616",
   "metadata": {},
   "source": [
    "- map(function, iterable, *iterables)\n",
    "    - iterable: 반복가능한 객체 => sequence 타입"
   ]
  },
  {
   "cell_type": "code",
   "execution_count": 82,
   "id": "8323b454-a971-42a5-9683-487961fba4d2",
   "metadata": {},
   "outputs": [
    {
     "name": "stdout",
     "output_type": "stream",
     "text": [
      "['1', '2', '3', '4', '5']\n"
     ]
    }
   ],
   "source": [
    "numbers = [1, 2, 3, 4, 5]\n",
    "# => ['1', '2', '3', '4', '5']\n",
    "result = []\n",
    "for number in numbers: \n",
    "    result.append(str(number))\n",
    "print(result)\n",
    "\n",
    "#숫자리스트를 str리스트로 바꾸는 단순 for문"
   ]
  },
  {
   "cell_type": "code",
   "execution_count": 85,
   "id": "6a798041-0092-4e87-8b95-69314a03654d",
   "metadata": {},
   "outputs": [
    {
     "name": "stdout",
     "output_type": "stream",
     "text": [
      "['1', '2', '3', '4', '5']\n",
      "['1', '2', '3', '4', '5']\n"
     ]
    }
   ],
   "source": [
    "map(str, numbers)\n",
    "print(result)\n",
    "#내가 데이터 각각에 실행하고 싶은 함수를 알려줌. => str\n",
    "print(list(result))\n",
    "# => 최종적으로 list로 바꿔주고 출력을 시켜야함 ."
   ]
  },
  {
   "cell_type": "markdown",
   "id": "ac11bcbb-1019-4a19-b4ee-9c8e8c532767",
   "metadata": {},
   "source": [
    "📌 정리\n",
    "코드\t설명\n",
    "map(str, numbers)\tmap 객체를 반환 (리스트가 아님)\n",
    "list(map(str, numbers))\tmap 결과를 리스트로 변환하여 출력 가능\n",
    "for item in map(str, numbers): print(item)\t한 개씩 요소를 확인 가능 (리스트 변환 필요 없음)\n",
    "💡 결론\n",
    "🚀 map()을 사용하면 각 요소에 함수를 적용할 수 있지만,\n",
    "🚀 map() 결과를 리스트 형태로 보려면 list()를 꼭 사용해야 함!"
   ]
  },
  {
   "cell_type": "code",
   "execution_count": 86,
   "id": "40ac70d7-822d-4ce4-b89c-ca5843285db7",
   "metadata": {},
   "outputs": [
    {
     "name": "stdout",
     "output_type": "stream",
     "text": [
      "[1, 8, 27, 64, 125]\n"
     ]
    }
   ],
   "source": [
    "# 단순 for문으로 3제곱한 결과값 도출하기 \n",
    "\n",
    "numbers = [1, 2, 3, 4, 5]\n",
    "# => [1, 8, 27, 64, 125]\n",
    "result = []\n",
    "for number in numbers: \n",
    "    result.append(number ** 3)\n",
    "    \n",
    "print(result)"
   ]
  },
  {
   "cell_type": "code",
   "execution_count": 92,
   "id": "275f72d9-bcdc-4aad-a62e-f71ab8b52015",
   "metadata": {},
   "outputs": [],
   "source": [
    "def cube(x): \n",
    "    return x ** 3\n",
    "#3제곱식 함수를 만듦. "
   ]
  },
  {
   "cell_type": "code",
   "execution_count": 93,
   "id": "c7008139-d904-422a-99cf-514145c6da00",
   "metadata": {},
   "outputs": [
    {
     "name": "stdout",
     "output_type": "stream",
     "text": [
      "<map object at 0x00000143A279C790>\n",
      "[1, 8, 27, 64, 125]\n"
     ]
    }
   ],
   "source": [
    "# map 을 통한 3제곱 결과값\n",
    "result = map(cube, numbers)\n",
    "\n",
    "#map(함수이름, 바꾸고 싶은 데이터)\n",
    "\n",
    "print(result)\n",
    "print(list(result))"
   ]
  },
  {
   "cell_type": "code",
   "execution_count": 99,
   "id": "b0f35901-4d4c-49ca-b703-d6eb2f65b473",
   "metadata": {},
   "outputs": [
    {
     "name": "stdout",
     "output_type": "stream",
     "text": [
      "[1, 3, 5, 7, 9]\n"
     ]
    }
   ],
   "source": [
    "test_input = '1  3  5  7  9'\n",
    "#1. 띄어쓰기 기준으로 나눈다. \n",
    "test_input.split()\n",
    "#2. 각 글자를 숫자로 바꾼다. \n",
    "map(int, test_input.split())\n",
    "#3. 리스트에 저장한다. \n",
    "result = list(map(int, test_input.split()))\n",
    "\n",
    "print(result)"
   ]
  },
  {
   "cell_type": "markdown",
   "id": "f40e6138-2904-40f1-8d71-81b5e811fe69",
   "metadata": {},
   "source": [
    "### filter\n",
    "- filter(function, iterable)\n",
    "  - 이조건에 부합하는 애들만 거르는 과정"
   ]
  },
  {
   "cell_type": "code",
   "execution_count": 102,
   "id": "637aa847-4d76-4e90-b8ef-5544abe90c5c",
   "metadata": {},
   "outputs": [
    {
     "name": "stdout",
     "output_type": "stream",
     "text": [
      "[1, 3, 5]\n"
     ]
    }
   ],
   "source": [
    "# 기존의 for문으로 홀수 골라내는 방법\n",
    "numbers = [1, 2, 3, 4, 5, 6]\n",
    "\n",
    "result = []\n",
    "for number in numbers:\n",
    "    if number % 2 == 1:\n",
    "        result.append(number)\n",
    "print(result)"
   ]
  },
  {
   "cell_type": "code",
   "execution_count": 105,
   "id": "41024c07-1e55-407a-97c7-43206059c940",
   "metadata": {},
   "outputs": [],
   "source": [
    "def is_odd(x):\n",
    "    return x % 2\n",
    "    #결과가 항상 True or False 일때 적용한다. => filter\n",
    "    #함수를 선언해준다. "
   ]
  },
  {
   "cell_type": "code",
   "execution_count": 106,
   "id": "b13cbfa1-0732-43a3-86a4-2084f17754ee",
   "metadata": {},
   "outputs": [
    {
     "name": "stdout",
     "output_type": "stream",
     "text": [
      "[1, 3, 5]\n",
      "[1, 3, 5]\n"
     ]
    }
   ],
   "source": [
    "filter(is_odd, numbers)\n",
    "print(result)\n",
    "print(list(result))\n",
    "\n",
    "#filter(True or False의 답을 내는 함수이름, 데이터값)"
   ]
  },
  {
   "cell_type": "markdown",
   "id": "998dfd4a-5b9f-41b2-8880-e80999bbe4e1",
   "metadata": {},
   "source": [
    "## zip"
   ]
  },
  {
   "cell_type": "code",
   "execution_count": 109,
   "id": "d641d641-dbb3-44c5-b71a-53e4701f2bef",
   "metadata": {},
   "outputs": [
    {
     "name": "stdout",
     "output_type": "stream",
     "text": [
      "<zip object at 0x00000143A1C6E500>\n",
      "[(1, 100), (2, 200), (3, 300)]\n"
     ]
    }
   ],
   "source": [
    "a = [1, 2, 3]\n",
    "b = [100, 200, 300]\n",
    "\n",
    "result = zip(a, b)\n",
    "print(result)\n",
    "print(list(result))\n",
    "\n",
    "#두개의 데이터셋 리스트를 묶을때 사용함. "
   ]
  }
 ],
 "metadata": {
  "kernelspec": {
   "display_name": "Python 3 (ipykernel)",
   "language": "python",
   "name": "python3"
  },
  "language_info": {
   "codemirror_mode": {
    "name": "ipython",
    "version": 3
   },
   "file_extension": ".py",
   "mimetype": "text/x-python",
   "name": "python",
   "nbconvert_exporter": "python",
   "pygments_lexer": "ipython3",
   "version": "3.13.2"
  }
 },
 "nbformat": 4,
 "nbformat_minor": 5
}
