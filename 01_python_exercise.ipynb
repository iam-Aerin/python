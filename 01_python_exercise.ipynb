{
 "cells": [
  {
   "cell_type": "markdown",
   "id": "695db159-1c39-4b9d-940b-26db03e461a5",
   "metadata": {},
   "source": [
    "# https://wikidocs.net/7021\n",
    "## 파이썬 기본 예제 문제 풀이 (12.02.2025)"
   ]
  },
  {
   "cell_type": "code",
   "execution_count": 1,
   "id": "845f8d59-c520-4cb1-b2ac-ee006ba02d52",
   "metadata": {},
   "outputs": [
    {
     "name": "stdout",
     "output_type": "stream",
     "text": [
      "Hello world\n"
     ]
    }
   ],
   "source": [
    "print('Hello world')"
   ]
  },
  {
   "cell_type": "code",
   "execution_count": 2,
   "id": "5a1f1cdf-59dd-4347-a783-b039102ffd38",
   "metadata": {},
   "outputs": [
    {
     "name": "stdout",
     "output_type": "stream",
     "text": [
      "Mary's cosmetics\n"
     ]
    }
   ],
   "source": [
    "print(\"Mary's cosmetics\")"
   ]
  },
  {
   "cell_type": "code",
   "execution_count": 4,
   "id": "dc99a4cd-2315-4a42-9197-7b817fc78f56",
   "metadata": {},
   "outputs": [
    {
     "name": "stdout",
     "output_type": "stream",
     "text": [
      "신씨가 소리질렀다. \"도둑이야\".\n"
     ]
    }
   ],
   "source": [
    "print('신씨가 소리질렀다. \"도둑이야\".')"
   ]
  },
  {
   "cell_type": "code",
   "execution_count": 10,
   "id": "da0449d2-de14-46ff-b61d-60ac99de3ea0",
   "metadata": {},
   "outputs": [
    {
     "name": "stdout",
     "output_type": "stream",
     "text": [
      "C:\\Windows\n"
     ]
    }
   ],
   "source": [
    "print('C:\\\\Windows')"
   ]
  },
  {
   "cell_type": "code",
   "execution_count": 11,
   "id": "18b88cf8-4f99-406d-aae5-4800137cf41e",
   "metadata": {},
   "outputs": [
    {
     "name": "stdout",
     "output_type": "stream",
     "text": [
      "안녕하세요.\n",
      "만나서\t\t반갑습니다.\n"
     ]
    }
   ],
   "source": [
    "print(\"안녕하세요.\\n만나서\\t\\t반갑습니다.\")"
   ]
  },
  {
   "cell_type": "code",
   "execution_count": 12,
   "id": "92938592-f7e6-4d04-b05d-adbe49db0859",
   "metadata": {},
   "outputs": [
    {
     "name": "stdout",
     "output_type": "stream",
     "text": [
      "오늘은 일요일\n"
     ]
    }
   ],
   "source": [
    "print('오늘은', '일요일')"
   ]
  },
  {
   "cell_type": "code",
   "execution_count": 13,
   "id": "e3913187-b38f-40e1-841e-402b32b04a69",
   "metadata": {},
   "outputs": [
    {
     "name": "stdout",
     "output_type": "stream",
     "text": [
      "naver; kakao; sk; samsung\n"
     ]
    }
   ],
   "source": [
    "print('naver;', 'kakao;', 'sk;', 'samsung')"
   ]
  },
  {
   "cell_type": "code",
   "execution_count": 14,
   "id": "15b6a44c-43ab-420a-905e-a9b675687d1e",
   "metadata": {},
   "outputs": [],
   "source": [
    "#정답은: print(\"naver\", \"kakao\", \"samsung\", sep=\";\")"
   ]
  },
  {
   "cell_type": "code",
   "execution_count": 16,
   "id": "0507da88-6e94-4071-a939-1e78f625dea4",
   "metadata": {},
   "outputs": [
    {
     "name": "stdout",
     "output_type": "stream",
     "text": [
      "naver;kakao;sk;samsung\n"
     ]
    }
   ],
   "source": [
    "print(\"naver\", \"kakao\", \"sk\", \"samsung\", sep=\";\")"
   ]
  },
  {
   "cell_type": "code",
   "execution_count": 17,
   "id": "8e414821-3fb7-44db-8efe-bc012f9344cb",
   "metadata": {},
   "outputs": [
    {
     "name": "stdout",
     "output_type": "stream",
     "text": [
      "naver/kakao/sk/samsung\n"
     ]
    }
   ],
   "source": [
    "print(\"naver\", \"kakao\", \"sk\", \"samsung\", sep=\"/\")"
   ]
  },
  {
   "cell_type": "code",
   "execution_count": 18,
   "id": "c95da4b1-3f6c-4052-a438-84ba0af45b55",
   "metadata": {},
   "outputs": [
    {
     "name": "stdout",
     "output_type": "stream",
     "text": [
      "first\n",
      "second\n"
     ]
    }
   ],
   "source": [
    "print(\"first\");print(\"second\")"
   ]
  },
  {
   "cell_type": "code",
   "execution_count": 19,
   "id": "9fba1ece-7ad9-4861-877e-5d6864a22957",
   "metadata": {},
   "outputs": [],
   "source": [
    "# 정답은: print(\"first\", end=\"\"); print(\"second\")"
   ]
  },
  {
   "cell_type": "code",
   "execution_count": 20,
   "id": "5ea39816-6a80-482c-8385-a13a33c4dae9",
   "metadata": {},
   "outputs": [
    {
     "name": "stdout",
     "output_type": "stream",
     "text": [
      "firstsecond\n"
     ]
    }
   ],
   "source": [
    "print(\"first\", end=\"\"); print(\"second\")"
   ]
  },
  {
   "cell_type": "code",
   "execution_count": 21,
   "id": "08bef6f5-cdba-40d7-906e-fb8e5696045b",
   "metadata": {},
   "outputs": [
    {
     "name": "stdout",
     "output_type": "stream",
     "text": [
      "1.6666666666666667\n"
     ]
    }
   ],
   "source": [
    "print(5/3)"
   ]
  },
  {
   "cell_type": "code",
   "execution_count": 24,
   "id": "c676fe4e-d9ce-4ddf-8983-cf814c78c471",
   "metadata": {},
   "outputs": [
    {
     "name": "stdout",
     "output_type": "stream",
     "text": [
      "500000\n"
     ]
    }
   ],
   "source": [
    "#011 변수 사용하기\n",
    "삼성전자 = 50000\n",
    "총평가금액 = 삼성전자 * 10\n",
    "print (총평가금액)"
   ]
  },
  {
   "cell_type": "code",
   "execution_count": 29,
   "id": "94d05c19-eade-4209-bcdf-a8179bc632d3",
   "metadata": {},
   "outputs": [
    {
     "name": "stdout",
     "output_type": "stream",
     "text": [
      "298조\n",
      "50000원\n",
      "15.79\n",
      "298조 <class 'str'>\n"
     ]
    }
   ],
   "source": [
    "#012 변수 사용하기\n",
    "시가총액 = '298조'\n",
    "현재가 = '50000원'\n",
    "PER = 15.79\n",
    "\n",
    "print(시가총액)\n",
    "print(현재가)\n",
    "print(PER)\n",
    "print(시가총액, type(시가총액))"
   ]
  },
  {
   "cell_type": "code",
   "execution_count": 31,
   "id": "a0de32b4-6cfc-4c96-8480-74c2021573e3",
   "metadata": {},
   "outputs": [
    {
     "name": "stdout",
     "output_type": "stream",
     "text": [
      "298000000000000 <class 'int'>\n",
      "50000 <class 'int'>\n",
      "15.79 <class 'float'>\n"
     ]
    }
   ],
   "source": [
    "#정답은, 298조로 나온 표의 내용을 int 타입의 변수값에 맞게 str (298조) 라고 나타내지 않고, 숫자로 풀어씀. \n",
    "시가총액 = 298000000000000\n",
    "현재가 = 50000\n",
    "PER = 15.79\n",
    "print(시가총액, type(시가총액))\n",
    "print(현재가, type(현재가))\n",
    "print(PER, type(PER))\n"
   ]
  },
  {
   "cell_type": "code",
   "execution_count": 36,
   "id": "94478e72-4053-4197-a3fe-df7920e1df0e",
   "metadata": {},
   "outputs": [
    {
     "name": "stdout",
     "output_type": "stream",
     "text": [
      "hello ! python\n"
     ]
    }
   ],
   "source": [
    "#013 문자열 출력\n",
    "s = \"hello\"\n",
    "t = \"python\"\n",
    "\n",
    "print(s,'!', t)"
   ]
  },
  {
   "cell_type": "code",
   "execution_count": null,
   "id": "eaf37e2a-9a39-4999-aefe-13512af35d94",
   "metadata": {},
   "outputs": [],
   "source": [
    "#정답은 print(s+\"!\", t)입니다. "
   ]
  },
  {
   "cell_type": "code",
   "execution_count": 37,
   "id": "e83edeb8-1ff9-4667-a011-a52b086fe509",
   "metadata": {},
   "outputs": [
    {
     "name": "stdout",
     "output_type": "stream",
     "text": [
      "8\n"
     ]
    }
   ],
   "source": [
    "#014 파이썬을 이용한 값 계산\n",
    "print(2+2*3)"
   ]
  },
  {
   "cell_type": "code",
   "execution_count": 39,
   "id": "a29aa35b-6981-4fec-95a1-4fbd859449c0",
   "metadata": {},
   "outputs": [
    {
     "name": "stdout",
     "output_type": "stream",
     "text": [
      "<class 'int'>\n"
     ]
    }
   ],
   "source": [
    "#015 type 함수\n",
    "a = 128\n",
    "print (type(a))"
   ]
  },
  {
   "cell_type": "code",
   "execution_count": 41,
   "id": "e8ea5a5d-d77b-4667-a242-5191c8f45ca7",
   "metadata": {},
   "outputs": [
    {
     "name": "stdout",
     "output_type": "stream",
     "text": [
      "<class 'str'>\n"
     ]
    }
   ],
   "source": [
    "a = \"132\"\n",
    "print(type(a))"
   ]
  },
  {
   "cell_type": "code",
   "execution_count": 42,
   "id": "eba5e5e2-28b7-4bf0-83fd-5fe95b1c405a",
   "metadata": {},
   "outputs": [],
   "source": [
    "#016 문자열을 정수로 변환\n",
    "num_str = '720'"
   ]
  },
  {
   "cell_type": "code",
   "execution_count": 47,
   "id": "177f0545-4ee5-4dbd-9479-9802739c7ca3",
   "metadata": {},
   "outputs": [
    {
     "name": "stdout",
     "output_type": "stream",
     "text": [
      "<class 'int'>\n",
      "721 <class 'int'>\n"
     ]
    }
   ],
   "source": [
    "num_str = 720\n",
    "print(type(num_str))\n",
    "#오답\n",
    "#해설\n",
    "num_str = \"720\"  #형변환\n",
    "num_int = int(num_str)\n",
    "print(num_int+1, type(num_int))"
   ]
  },
  {
   "cell_type": "code",
   "execution_count": 49,
   "id": "c1da225e-854e-4803-a40e-2f373c46dfb8",
   "metadata": {},
   "outputs": [],
   "source": [
    "# 이 코드의 역할은 문자열을 정수로 변환하고, 변환된 정수에 1을 더한 값을 출력하는 것입니다. 하나씩 살펴볼게요:\n",
    "\n",
    "# num_str = \"720\": 여기서 \"720\"이라는 문자열이 정의됩니다.\n",
    "\n",
    "# num_int = int(num_str): 문자열 \"720\"을 정수로 변환하여 num_int 변수에 저장합니다.\n",
    "\n",
    "# print(num_int+1, type(num_int)): 변환된 정수 num_int에 1을 더한 값과, num_int의 데이터 타입을 출력합니다.\n",
    "\n",
    "# 여기서 1을 더하는 이유는 단순히 예시를 위해서입니다. 원래 문자열이 720이었으니까, 1을 더해서 721이 된다는 것을 보여주는 것이죠.\n",
    "\n",
    "# 이렇게 하면 출력 결과는 721 <class 'int'>가 될 것입니다. 여기서 721은 720에 1을 더한 값이고, <class 'int'>는 num_int가 정수형임을 나타냅니다."
   ]
  },
  {
   "cell_type": "code",
   "execution_count": 55,
   "id": "84183118-81c4-489c-828b-fad8419412c3",
   "metadata": {},
   "outputs": [
    {
     "name": "stdout",
     "output_type": "stream",
     "text": [
      "100 <class 'str'>\n"
     ]
    }
   ],
   "source": [
    "#017 정소를 문자열 100으로 변환\n",
    "num = 100\n",
    "result = str(num)\n",
    "print(result, type(result))"
   ]
  },
  {
   "cell_type": "code",
   "execution_count": 56,
   "id": "4f99080b-8710-4367-a42f-207fb41018be",
   "metadata": {},
   "outputs": [
    {
     "name": "stdout",
     "output_type": "stream",
     "text": [
      "15.79 <class 'float'>\n"
     ]
    }
   ],
   "source": [
    "#018 문자열을 실수로 변환\n",
    "num = 15.79\n",
    "result = float(num)\n",
    "print(result, type(result))"
   ]
  },
  {
   "cell_type": "code",
   "execution_count": null,
   "id": "dbf53b10-492a-4e4f-be28-42b6fdfd3f5e",
   "metadata": {},
   "outputs": [],
   "source": [
    "# data = \"15.79\"\n",
    "# data = float(data)\n",
    "# print(data, type(data))"
   ]
  },
  {
   "cell_type": "code",
   "execution_count": 63,
   "id": "419f3b7f-ad0a-4711-aa33-3edeca708655",
   "metadata": {},
   "outputs": [
    {
     "ename": "SyntaxError",
     "evalue": "expected 'else' after 'if' expression (979438933.py, line 5)",
     "output_type": "error",
     "traceback": [
      "\u001b[1;36m  Cell \u001b[1;32mIn[63], line 5\u001b[1;36m\u001b[0m\n\u001b[1;33m    print(int(year-i)\u001b[0m\n\u001b[1;37m          ^\u001b[0m\n\u001b[1;31mSyntaxError\u001b[0m\u001b[1;31m:\u001b[0m expected 'else' after 'if' expression\n"
     ]
    }
   ],
   "source": [
    "#019 문자열을 정수로 변환\n",
    "year = \"2020\"\n",
    "year = int(year)\n"
   ]
  },
  {
   "cell_type": "code",
   "execution_count": 65,
   "id": "668a7f96-95e8-486c-ab29-5bbd25829dcf",
   "metadata": {},
   "outputs": [],
   "source": [
    "# 019 문제 정답\n",
    "# year = \"2020\"\n",
    "# print(int(year)-3)  # 2017\n",
    "# print(int(year)-2)  # 2018\n",
    "# print(int(year)-1)  # 2019\n",
    "\n"
   ]
  },
  {
   "cell_type": "code",
   "execution_count": 67,
   "id": "cf84ba11-f5cc-45c9-a440-0d649e937cf2",
   "metadata": {},
   "outputs": [
    {
     "name": "stdout",
     "output_type": "stream",
     "text": [
      "1748988\n"
     ]
    }
   ],
   "source": [
    "#020 파이썬 계산\n",
    "금액 = 48583\n",
    "개월수 = 36\n",
    "총금액 = 금액 * 개월수\n",
    "print(총금액)"
   ]
  },
  {
   "cell_type": "code",
   "execution_count": null,
   "id": "e1dcba98-8ec2-449c-80c7-c0cac4b5471c",
   "metadata": {},
   "outputs": [],
   "source": []
  }
 ],
 "metadata": {
  "kernelspec": {
   "display_name": "Python 3 (ipykernel)",
   "language": "python",
   "name": "python3"
  },
  "language_info": {
   "codemirror_mode": {
    "name": "ipython",
    "version": 3
   },
   "file_extension": ".py",
   "mimetype": "text/x-python",
   "name": "python",
   "nbconvert_exporter": "python",
   "pygments_lexer": "ipython3",
   "version": "3.13.2"
  }
 },
 "nbformat": 4,
 "nbformat_minor": 5
}
