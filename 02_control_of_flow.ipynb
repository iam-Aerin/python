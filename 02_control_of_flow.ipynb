{
 "cells": [
  {
   "cell_type": "markdown",
   "id": "60eb93f6-4540-44cc-8358-8906b88f9d0e",
   "metadata": {},
   "source": [
    "# 제어문"
   ]
  },
  {
   "cell_type": "markdown",
   "id": "7062d067-d23e-4db9-9208-3c0020722c6a",
   "metadata": {},
   "source": [
    "흐름도, 알고리즘 -> 그 내에서 방향이 바뀌는 걸 '제어문' 이라고 함. \n",
    "\n",
    "## 조건문 (if문)\n",
    "\n",
    "1. if문은 반드시 참/ 거짓을 판단 할 수 있는 `조건식`과 함께 사용한다.\n",
    "   : `if <조건식>:`\n",
    "2. `<조건식>` 이 참인 경우 : `:` 이후의 문장을 실행\n",
    "3. `<조건식>` 이 거짓인 경우 : `else` 이후의 문장을 실행\n",
    "\n",
    "```\n",
    "if <조건식>:\n",
    "    if의 조건식이 참인 경우 실행하는 코드\n",
    "\n",
    "else <조건식>:\n",
    "    if의 조건식이 거짓인 경우 실행하는 코드\n",
    "```"
   ]
  },
  {
   "cell_type": "code",
   "execution_count": 1,
   "id": "277f2939-ee91-4445-9137-827567f4f009",
   "metadata": {},
   "outputs": [
    {
     "name": "stdin",
     "output_type": "stream",
     "text": [
      " 1225\n"
     ]
    },
    {
     "name": "stdout",
     "output_type": "stream",
     "text": [
      "1225\n",
      "No\n"
     ]
    }
   ],
   "source": [
    "my_string = input()\n",
    "print(my_string)\n",
    "\n",
    "if my_string == '12/25':\n",
    "    print('Merry Christmas!')\n",
    "else:\n",
    "    print('No')\n"
   ]
  },
  {
   "cell_type": "code",
   "execution_count": 2,
   "id": "f691f5ed-d5c5-42b3-8891-910ac731e421",
   "metadata": {},
   "outputs": [],
   "source": [
    "# my_string = input()\n",
    "# print(my_string)\n",
    "\n",
    "# if my_string == '12/25' or my_string == '1225':\n",
    "#     print('Merry Christmas!')\n",
    "#이렇게도 가능\n",
    "\n",
    "import re\n",
    "\n",
    "my_string = input()\n",
    "print(my_string)\n",
    "\n",
    "# 정규 표현식을 사용하여 입력값이 '12/25', '12-25', '1225' 등의 형식과 일치하는지 확인\n",
    "if re.match(r'^(12[/-]?25)$', my_string):\n",
    "    print('Merry Christmas!')\n"
   ]
  },
  {
   "cell_type": "code",
   "execution_count": 7,
   "id": "cbd89761-f07b-4948-a18a-ddd158d66573",
   "metadata": {},
   "outputs": [
    {
     "name": "stdin",
     "output_type": "stream",
     "text": [
      " 5\n"
     ]
    },
    {
     "name": "stdout",
     "output_type": "stream",
     "text": [
      "odd\n"
     ]
    }
   ],
   "source": [
    "num = int(input('숫자를 넣어주세요.'))\n",
    "\n",
    "if num % 2 == 1:\n",
    "    print('odd')\n",
    "else:\n",
    "    print('even')\n",
    "\n",
    "# int를 붙이지 않으면, input 을 '문자열'로 인식해서 오류가 남. "
   ]
  },
  {
   "cell_type": "code",
   "execution_count": null,
   "id": "dc0503de-2863-4164-94a0-ebebb4998be9",
   "metadata": {},
   "outputs": [],
   "source": [
    "num = int(input())\n",
    "if num % 2 == 0:\n",
    "    print('even')\n",
    "else:\n",
    "    print('odd')"
   ]
  },
  {
   "cell_type": "code",
   "execution_count": null,
   "id": "63576c2f-66da-458b-9c58-00fcce416469",
   "metadata": {},
   "outputs": [],
   "source": [
    "num = int(input())\n",
    "\n",
    "if num % 2:\n",
    "    print('odd')\n",
    "else:\n",
    "    print('even')"
   ]
  },
  {
   "cell_type": "code",
   "execution_count": null,
   "id": "63b5a17b-f55a-4e07-8c2b-9863df4476c6",
   "metadata": {},
   "outputs": [],
   "source": [
    "# if 문에서 1 은 True 로/ 0은 False 로 자동으로 형변환"
   ]
  },
  {
   "cell_type": "code",
   "execution_count": 10,
   "id": "c47b7317-254a-4490-b832-e49d3516b1b5",
   "metadata": {},
   "outputs": [
    {
     "name": "stdin",
     "output_type": "stream",
     "text": [
      "5의 배수를 넣어주세요. 10\n"
     ]
    },
    {
     "name": "stdout",
     "output_type": "stream",
     "text": [
      "5의 배수세요\n"
     ]
    }
   ],
   "source": [
    "num = int(input('5의 배수를 넣어주세요.'))\n",
    "\n",
    "if num % 5 == 0:\n",
    "    print('5의 배수세요')\n",
    "else:\n",
    "    print('아니세요')"
   ]
  },
  {
   "cell_type": "code",
   "execution_count": 11,
   "id": "3248915e-3f27-45d7-aab1-16b4a1d294cc",
   "metadata": {},
   "outputs": [
    {
     "name": "stdin",
     "output_type": "stream",
     "text": [
      " 1\n"
     ]
    },
    {
     "name": "stdout",
     "output_type": "stream",
     "text": [
      "아니세요\n"
     ]
    }
   ],
   "source": [
    "num = int(input())\n",
    "\n",
    "if num % 5:\n",
    "    print('아니세요')\n",
    "#나올수 있는 경우의 수가 1,2,3,4 (총 4가지)\n",
    "else:\n",
    "    print('5의 배수세요')"
   ]
  },
  {
   "cell_type": "markdown",
   "id": "589f5ab7-f156-4592-90ab-a3d6245264e1",
   "metadata": {},
   "source": [
    "### elif\n",
    "```\n",
    "if <조건식>:\n",
    "    if문이 참인경우\n",
    "elif <조건식>:\n",
    "    elif문이 참인경우\n",
    "else:\n",
    "    위의 모든 조건이 거짓인경우\n",
    "```"
   ]
  },
  {
   "cell_type": "code",
   "execution_count": 16,
   "id": "06d25b5c-765f-4e3e-8192-970e3cce7e69",
   "metadata": {},
   "outputs": [
    {
     "name": "stdin",
     "output_type": "stream",
     "text": [
      " 4\n"
     ]
    },
    {
     "name": "stdout",
     "output_type": "stream",
     "text": [
      "F\n"
     ]
    }
   ],
   "source": [
    "score = int(input())\n",
    "\n",
    "if score >= 90: \n",
    "    print('A')\n",
    "elif score >= 80:\n",
    "    print('B')\n",
    "elif score >= 70:\n",
    "    print('C')\n",
    "else:\n",
    "    print('F')"
   ]
  },
  {
   "cell_type": "code",
   "execution_count": 18,
   "id": "c4442144-e958-4d78-bf43-8ae7869883e5",
   "metadata": {},
   "outputs": [
    {
     "name": "stdin",
     "output_type": "stream",
     "text": [
      " 99\n"
     ]
    },
    {
     "name": "stdout",
     "output_type": "stream",
     "text": [
      "A\n",
      "참잘했어요~(꺄륵)\n"
     ]
    }
   ],
   "source": [
    "#if의 중첩문 (if문 안에 if문을 적는)\n",
    "score = int(input())\n",
    "\n",
    "if score >= 90: \n",
    "    print('A')\n",
    "    if score >= 95:\n",
    "        print('참잘했어요~(꺄륵)')\n",
    "elif score >= 80:\n",
    "    print('B')\n",
    "elif score >= 70:\n",
    "    print('C')\n",
    "else:\n",
    "    print('F')"
   ]
  }
 ],
 "metadata": {
  "kernelspec": {
   "display_name": "Python 3 (ipykernel)",
   "language": "python",
   "name": "python3"
  },
  "language_info": {
   "codemirror_mode": {
    "name": "ipython",
    "version": 3
   },
   "file_extension": ".py",
   "mimetype": "text/x-python",
   "name": "python",
   "nbconvert_exporter": "python",
   "pygments_lexer": "ipython3",
   "version": "3.13.2"
  }
 },
 "nbformat": 4,
 "nbformat_minor": 5
}
