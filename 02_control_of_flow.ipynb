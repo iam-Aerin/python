{
 "cells": [
  {
   "cell_type": "markdown",
   "id": "60eb93f6-4540-44cc-8358-8906b88f9d0e",
   "metadata": {},
   "source": [
    "# 제어문"
   ]
  },
  {
   "cell_type": "markdown",
   "id": "7062d067-d23e-4db9-9208-3c0020722c6a",
   "metadata": {},
   "source": [
    "흐름도, 알고리즘 -> 그 내에서 방향이 바뀌는 걸 '제어문' 이라고 함. \n",
    "\n",
    "## 조건문 (if문)\n",
    "\n",
    "1. if문은 반드시 참/ 거짓을 판단 할 수 있는 `조건식`과 함께 사용한다.\n",
    "   : `if <조건식>:`\n",
    "2. `<조건식>` 이 참인 경우 : `:` 이후의 문장을 실행\n",
    "3. `<조건식>` 이 거짓인 경우 : `else` 이후의 문장을 실행\n",
    "\n",
    "```\n",
    "if <조건식>:\n",
    "    if의 조건식이 참인 경우 실행하는 코드\n",
    "\n",
    "else <조건식>:\n",
    "    if의 조건식이 거짓인 경우 실행하는 코드\n",
    "```"
   ]
  },
  {
   "cell_type": "code",
   "execution_count": 1,
   "id": "277f2939-ee91-4445-9137-827567f4f009",
   "metadata": {},
   "outputs": [
    {
     "name": "stdin",
     "output_type": "stream",
     "text": [
      " 1225\n"
     ]
    },
    {
     "name": "stdout",
     "output_type": "stream",
     "text": [
      "1225\n",
      "No\n"
     ]
    }
   ],
   "source": [
    "my_string = input()\n",
    "print(my_string)\n",
    "\n",
    "if my_string == '12/25':\n",
    "    print('Merry Christmas!')\n",
    "else:\n",
    "    print('No')\n"
   ]
  },
  {
   "cell_type": "code",
   "execution_count": 2,
   "id": "f691f5ed-d5c5-42b3-8891-910ac731e421",
   "metadata": {},
   "outputs": [],
   "source": [
    "# my_string = input()\n",
    "# print(my_string)\n",
    "\n",
    "# if my_string == '12/25' or my_string == '1225':\n",
    "#     print('Merry Christmas!')\n",
    "#이렇게도 가능\n",
    "\n",
    "import re\n",
    "\n",
    "my_string = input()\n",
    "print(my_string)\n",
    "\n",
    "# 정규 표현식을 사용하여 입력값이 '12/25', '12-25', '1225' 등의 형식과 일치하는지 확인\n",
    "if re.match(r'^(12[/-]?25)$', my_string):\n",
    "    print('Merry Christmas!')\n"
   ]
  },
  {
   "cell_type": "code",
   "execution_count": 7,
   "id": "cbd89761-f07b-4948-a18a-ddd158d66573",
   "metadata": {},
   "outputs": [
    {
     "name": "stdin",
     "output_type": "stream",
     "text": [
      " 5\n"
     ]
    },
    {
     "name": "stdout",
     "output_type": "stream",
     "text": [
      "odd\n"
     ]
    }
   ],
   "source": [
    "num = int(input('숫자를 넣어주세요.'))\n",
    "\n",
    "if num % 2 == 1:\n",
    "    print('odd')\n",
    "else:\n",
    "    print('even')\n",
    "\n",
    "# int를 붙이지 않으면, input 을 '문자열'로 인식해서 오류가 남. "
   ]
  },
  {
   "cell_type": "code",
   "execution_count": null,
   "id": "dc0503de-2863-4164-94a0-ebebb4998be9",
   "metadata": {},
   "outputs": [],
   "source": [
    "num = int(input())\n",
    "if num % 2 == 0:\n",
    "    print('even')\n",
    "else:\n",
    "    print('odd')"
   ]
  },
  {
   "cell_type": "code",
   "execution_count": null,
   "id": "63576c2f-66da-458b-9c58-00fcce416469",
   "metadata": {},
   "outputs": [],
   "source": [
    "num = int(input())\n",
    "\n",
    "if num % 2:\n",
    "    print('odd')\n",
    "else:\n",
    "    print('even')"
   ]
  },
  {
   "cell_type": "code",
   "execution_count": null,
   "id": "63b5a17b-f55a-4e07-8c2b-9863df4476c6",
   "metadata": {},
   "outputs": [],
   "source": [
    "# if 문에서 1 은 True 로/ 0은 False 로 자동으로 형변환"
   ]
  },
  {
   "cell_type": "code",
   "execution_count": 10,
   "id": "c47b7317-254a-4490-b832-e49d3516b1b5",
   "metadata": {},
   "outputs": [
    {
     "name": "stdin",
     "output_type": "stream",
     "text": [
      "5의 배수를 넣어주세요. 10\n"
     ]
    },
    {
     "name": "stdout",
     "output_type": "stream",
     "text": [
      "5의 배수세요\n"
     ]
    }
   ],
   "source": [
    "num = int(input('5의 배수를 넣어주세요.'))\n",
    "\n",
    "if num % 5 == 0:\n",
    "    print('5의 배수세요')\n",
    "else:\n",
    "    print('아니세요')"
   ]
  },
  {
   "cell_type": "code",
   "execution_count": 11,
   "id": "3248915e-3f27-45d7-aab1-16b4a1d294cc",
   "metadata": {},
   "outputs": [
    {
     "name": "stdin",
     "output_type": "stream",
     "text": [
      " 1\n"
     ]
    },
    {
     "name": "stdout",
     "output_type": "stream",
     "text": [
      "아니세요\n"
     ]
    }
   ],
   "source": [
    "num = int(input())\n",
    "\n",
    "if num % 5:\n",
    "    print('아니세요')\n",
    "#나올수 있는 경우의 수가 1,2,3,4 (총 4가지)\n",
    "else:\n",
    "    print('5의 배수세요')"
   ]
  },
  {
   "cell_type": "markdown",
   "id": "589f5ab7-f156-4592-90ab-a3d6245264e1",
   "metadata": {},
   "source": [
    "### elif\n",
    "```\n",
    "if <조건식>:\n",
    "    if문이 참인경우\n",
    "elif <조건식>:\n",
    "    elif문이 참인경우\n",
    "else:\n",
    "    위의 모든 조건이 거짓인경우\n",
    "```"
   ]
  },
  {
   "cell_type": "code",
   "execution_count": 16,
   "id": "06d25b5c-765f-4e3e-8192-970e3cce7e69",
   "metadata": {},
   "outputs": [
    {
     "name": "stdin",
     "output_type": "stream",
     "text": [
      " 4\n"
     ]
    },
    {
     "name": "stdout",
     "output_type": "stream",
     "text": [
      "F\n"
     ]
    }
   ],
   "source": [
    "score = int(input())\n",
    "\n",
    "if score >= 90: \n",
    "    print('A')\n",
    "elif score >= 80:\n",
    "    print('B')\n",
    "elif score >= 70:\n",
    "    print('C')\n",
    "else:\n",
    "    print('F')"
   ]
  },
  {
   "cell_type": "code",
   "execution_count": 1,
   "id": "c4442144-e958-4d78-bf43-8ae7869883e5",
   "metadata": {},
   "outputs": [
    {
     "name": "stdin",
     "output_type": "stream",
     "text": [
      " 5\n"
     ]
    },
    {
     "name": "stdout",
     "output_type": "stream",
     "text": [
      "F\n"
     ]
    }
   ],
   "source": [
    "#if의 중첩문 (if문 안에 if문을 적는)\n",
    "score = int(input())\n",
    "\n",
    "if score >= 90: \n",
    "    print('A')\n",
    "    if score >= 95:\n",
    "        print('참잘했어요~(꺄륵)')\n",
    "elif score >= 80:\n",
    "    print('B')\n",
    "elif score >= 70:\n",
    "    print('C')\n",
    "else:\n",
    "    print('F')\n"
   ]
  },
  {
   "cell_type": "markdown",
   "id": "6838f24f-ad74-4f4e-ba68-45a4a40330ac",
   "metadata": {},
   "source": [
    "### 조건표현식\n",
    "- 'true_value if <조건식> else false_value'"
   ]
  },
  {
   "cell_type": "code",
   "execution_count": 9,
   "id": "82437922-d4a0-44ab-95b6-3b050c1936f9",
   "metadata": {},
   "outputs": [
    {
     "name": "stdout",
     "output_type": "stream",
     "text": [
      "100\n"
     ]
    }
   ],
   "source": [
    "a = 0\n",
    "if 1 > 0:\n",
    "    a = 100\n",
    "else: \n",
    "    a = -100\n",
    "\n",
    "print(a)"
   ]
  },
  {
   "cell_type": "code",
   "execution_count": null,
   "id": "88196aa0-0a5d-4077-8362-8968b6a89207",
   "metadata": {},
   "outputs": [],
   "source": [
    "# a = 0  # 변수 a를 0으로 초기화합니다.\n",
    "# if 1 > 0:  # 조건문: 1이 0보다 큰지 확인합니다. 이 조건은 항상 참(True)입니다.\n",
    "#     a = 100  # 조건이 참일 경우 a에 100을 할당합니다.\n",
    "# else: \n",
    "#     a = -100  # 조건이 거짓(False)일 경우 a에 -100을 할당합니다. (여기서는 실행되지 않음)\n",
    "# print(a)  # 변수 a의 값을 출력합니다."
   ]
  },
  {
   "cell_type": "code",
   "execution_count": 6,
   "id": "cfcf35ab-2424-4b8e-a5fe-bb4a81463c3b",
   "metadata": {},
   "outputs": [
    {
     "name": "stdout",
     "output_type": "stream",
     "text": [
      "-100\n"
     ]
    }
   ],
   "source": [
    "a = 0\n",
    "if False:\n",
    "    a = 100\n",
    "else: \n",
    "    a = -100\n",
    "\n",
    "print(a)"
   ]
  },
  {
   "cell_type": "code",
   "execution_count": 7,
   "id": "36ef628c-8745-461b-bff0-cc1bb1e22ae6",
   "metadata": {},
   "outputs": [
    {
     "name": "stdout",
     "output_type": "stream",
     "text": [
      "-100\n"
     ]
    }
   ],
   "source": [
    "a = 100 if False else -100\n",
    "print(a)"
   ]
  },
  {
   "cell_type": "code",
   "execution_count": 11,
   "id": "a1cd6de0-1fd2-40cd-a175-ac9530b7c8dd",
   "metadata": {},
   "outputs": [
    {
     "name": "stdin",
     "output_type": "stream",
     "text": [
      " -4125768\n"
     ]
    },
    {
     "name": "stdout",
     "output_type": "stream",
     "text": [
      "0\n"
     ]
    }
   ],
   "source": [
    "num = int(input())\n",
    "\n",
    "result = 0\n",
    "#지금 내가 계산 결과로 보여주고 싶은 값 (result = 0)\n",
    "if num >= 0:\n",
    "    result = num\n",
    "else:\n",
    "    result = 0\n",
    "print(result)\n",
    "    "
   ]
  },
  {
   "cell_type": "code",
   "execution_count": 38,
   "id": "541f6d6e-6abc-4a91-9ada-e05e291be651",
   "metadata": {},
   "outputs": [
    {
     "name": "stdin",
     "output_type": "stream",
     "text": [
      " 54\n"
     ]
    },
    {
     "name": "stdout",
     "output_type": "stream",
     "text": [
      "54\n"
     ]
    }
   ],
   "source": [
    "num = int(input())\n",
    "\n",
    "result = num if num>= 0 else 0\n",
    "print(result)"
   ]
  },
  {
   "cell_type": "code",
   "execution_count": 36,
   "id": "085e0e07-e673-49e0-9184-d71456053f21",
   "metadata": {},
   "outputs": [
    {
     "name": "stdout",
     "output_type": "stream",
     "text": [
      "짝수\n"
     ]
    }
   ],
   "source": [
    "num = 10\n",
    "\n",
    "result = '홀수' if num % 2 else '짝수'\n",
    "print(result)"
   ]
  },
  {
   "cell_type": "code",
   "execution_count": 35,
   "id": "d352b255-bd7e-4042-a7be-595cb756599f",
   "metadata": {},
   "outputs": [
    {
     "name": "stdout",
     "output_type": "stream",
     "text": [
      "짝수\n",
      "짝수\n"
     ]
    }
   ],
   "source": [
    "num = 10\n",
    "\n",
    "if num % 2 == 0:\n",
    "    print ('짝수')\n",
    "else:\n",
    "    print ('홀수')\n",
    "\n",
    "# 난 이렇게 썼는데, 변수에 결과를 저장해야하므로, 이렇게 표현하는게 아니라\n",
    "\n",
    "num = 10\n",
    "\n",
    "if num % 2 == 0:\n",
    "    result = '짝수'\n",
    "else:\n",
    "    result = '홀수'\n",
    "print(result)"
   ]
  },
  {
   "cell_type": "markdown",
   "id": "dc80bc60-bec3-4425-8cf6-e713d080ef8f",
   "metadata": {},
   "source": [
    "## 반복문"
   ]
  },
  {
   "cell_type": "markdown",
   "id": "32123984-095c-4c54-8bf6-bed002971fa3",
   "metadata": {},
   "source": [
    "### while문\n",
    "```\n",
    "while <조건식>:\n",
    "    #조건식이 참인 동안에 코드가 실행이 된다. \n",
    "    실행할 코드\n",
    "```"
   ]
  },
  {
   "cell_type": "code",
   "execution_count": 39,
   "id": "080dc05f-7b81-45c3-a332-4ecc6e953d07",
   "metadata": {},
   "outputs": [
    {
     "name": "stdout",
     "output_type": "stream",
     "text": [
      "0\n",
      "1\n",
      "2\n",
      "3\n",
      "4\n"
     ]
    }
   ],
   "source": [
    "a = 0\n",
    "\n",
    "while a < 5: \n",
    "    print(a)\n",
    "    a += 1\n",
    "    #1을 계속 더해준다. \n",
    "    #`a += 1 은 a = a + 1`"
   ]
  },
  {
   "cell_type": "code",
   "execution_count": 40,
   "id": "a0b4a9e0-a97b-487f-9359-a13905fd01c2",
   "metadata": {},
   "outputs": [],
   "source": [
    "#while문은 끝날 수 있는 조건을 넣어주는게 중요하다. "
   ]
  },
  {
   "cell_type": "markdown",
   "id": "9187e4fe-e21b-41fb-9933-b3633346acc6",
   "metadata": {},
   "source": [
    "### for 문\n",
    "(범위의 개수만큼 반복 실행된다.)\n",
    "- 정해진 범위 내의 반복\n",
    "```\n",
    "for var_name in sequence:\n",
    "    code\n",
    "```"
   ]
  },
  {
   "cell_type": "code",
   "execution_count": 42,
   "id": "c4ff4da9-1c0d-459d-a1a5-89b5de54621d",
   "metadata": {},
   "outputs": [
    {
     "name": "stdout",
     "output_type": "stream",
     "text": [
      "1\n",
      "2\n",
      "3\n",
      "4\n",
      "5\n"
     ]
    }
   ],
   "source": [
    "numbers = [1, 2, 3, 4, 5]\n",
    "\n",
    "for number in numbers:\n",
    "    print(number)"
   ]
  },
  {
   "cell_type": "code",
   "execution_count": 43,
   "id": "4dda48a5-f28f-4495-8572-5c6f61e90016",
   "metadata": {},
   "outputs": [
    {
     "name": "stdout",
     "output_type": "stream",
     "text": [
      "a\n",
      "p\n",
      "p\n",
      "l\n",
      "e\n"
     ]
    }
   ],
   "source": [
    "word = 'apple'\n",
    "\n",
    "for char in word:\n",
    "    print(char)"
   ]
  },
  {
   "cell_type": "code",
   "execution_count": 43,
   "id": "8eb39eaf-3147-4132-b1ee-3a88bb959fea",
   "metadata": {},
   "outputs": [
    {
     "name": "stdout",
     "output_type": "stream",
     "text": [
      "a\n",
      "p\n",
      "p\n",
      "l\n",
      "e\n"
     ]
    }
   ],
   "source": [
    "word = 'apple'\n",
    "\n",
    "for char in word:\n",
    "    print(word)\n",
    "    #위와 다르게 print(char) 가 아닌 print(word)로 시행 했을 때, 반복을 하려는 string 자체가 ('apple') 이 5번 출력된다. "
   ]
  },
  {
   "cell_type": "code",
   "execution_count": 46,
   "id": "21459f09-9114-40b3-a826-a26fbbe8804a",
   "metadata": {},
   "outputs": [
    {
     "name": "stdout",
     "output_type": "stream",
     "text": [
      "0\n",
      "1\n",
      "2\n",
      "3\n",
      "4\n"
     ]
    }
   ],
   "source": [
    "for i in range(5):\n",
    "    print(i)\n",
    "    #0부터 5미만까지\n",
    "    #횟수를 정하고 싶을 때는 위와 같은 방법 range 로 \n",
    "    #실제 데이터는 0부터 시작하기 때문에 5번 실행하면 => 0부터 4까지 나타난다. "
   ]
  },
  {
   "cell_type": "code",
   "execution_count": 48,
   "id": "7b980774-9ede-4dfe-a2d8-f2dda1575788",
   "metadata": {},
   "outputs": [
    {
     "name": "stdout",
     "output_type": "stream",
     "text": [
      "1\n",
      "2\n",
      "3\n",
      "4\n",
      "5\n",
      "6\n",
      "7\n",
      "8\n",
      "9\n",
      "10\n",
      "11\n",
      "12\n",
      "13\n",
      "14\n",
      "15\n",
      "16\n",
      "17\n",
      "18\n",
      "19\n",
      "20\n",
      "21\n",
      "22\n",
      "23\n",
      "24\n",
      "25\n",
      "26\n",
      "27\n",
      "28\n",
      "29\n",
      "30\n",
      "31\n",
      "32\n",
      "33\n",
      "34\n",
      "35\n",
      "36\n",
      "37\n",
      "38\n",
      "39\n",
      "40\n",
      "41\n",
      "42\n",
      "43\n",
      "44\n",
      "45\n",
      "46\n",
      "47\n",
      "48\n",
      "49\n",
      "50\n"
     ]
    }
   ],
   "source": [
    "numbers = range(1, 51)\n",
    "\n",
    "for number in numbers:\n",
    "    print(number)"
   ]
  },
  {
   "cell_type": "code",
   "execution_count": 49,
   "id": "495d2d34-a7de-4338-8628-d35e4149ccfc",
   "metadata": {},
   "outputs": [
    {
     "name": "stdout",
     "output_type": "stream",
     "text": [
      "5\n",
      "10\n",
      "15\n",
      "20\n",
      "25\n",
      "30\n",
      "35\n",
      "40\n",
      "45\n",
      "50\n"
     ]
    }
   ],
   "source": [
    "numbers = range(1, 51)\n",
    "#5의 배수만을 출력하고 싶다면,\n",
    "for number in numbers:\n",
    "#밖 for 문 전체 데이터를 반복\n",
    "    if number % 5 == 0:\n",
    "        print(number)"
   ]
  },
  {
   "cell_type": "code",
   "execution_count": 52,
   "id": "ed2f4888-5f83-4dbf-ba9e-483374f6fa3f",
   "metadata": {},
   "outputs": [
    {
     "name": "stdout",
     "output_type": "stream",
     "text": [
      "서울\n",
      "대전\n",
      "부산\n"
     ]
    }
   ],
   "source": [
    "locations = ['서울', '대전', '부산']\n",
    "for location in locations:\n",
    "    print(location)"
   ]
  },
  {
   "cell_type": "code",
   "execution_count": 54,
   "id": "484480c9-3595-433e-9982-736943320cd2",
   "metadata": {},
   "outputs": [
    {
     "name": "stdout",
     "output_type": "stream",
     "text": [
      "(0, '서울')\n",
      "(1, '대전')\n",
      "(2, '부산')\n"
     ]
    }
   ],
   "source": [
    "locations = ['서울', '대전', '부산']\n",
    "for location in  enumerate(locations):\n",
    "    #enumerate; 낱낱이 세다. 라는 함수.\n",
    "    print(location)"
   ]
  },
  {
   "cell_type": "code",
   "execution_count": 57,
   "id": "b7dbd824-eb99-4d19-bb6a-9e529ebe3eec",
   "metadata": {},
   "outputs": [
    {
     "name": "stdout",
     "output_type": "stream",
     "text": [
      "0\n",
      "서울\n",
      "1\n",
      "대전\n",
      "2\n",
      "부산\n"
     ]
    }
   ],
   "source": [
    "locations = ['서울', '대전', '부산']\n",
    "for (index, location) in enumerate(locations) :\n",
    "    print(index)\n",
    "    #enumerate; 낱낱이 세다. 라는 함수.\n",
    "    print(location)"
   ]
  },
  {
   "cell_type": "markdown",
   "id": "fa2111f5-ae36-45bd-b89f-e94526e163a6",
   "metadata": {},
   "source": [
    "### Dictionary 반복\n",
    "1. for key in dict:\n",
    "2. for key in dict.keyts():\n",
    "3. for value in dict.values():\n",
    "4. for key, value in dict.items():"
   ]
  },
  {
   "cell_type": "code",
   "execution_count": 60,
   "id": "ac7c0ea4-7903-4b43-923b-26bdeafbbe0a",
   "metadata": {},
   "outputs": [],
   "source": [
    "info = {\n",
    "    'name' : 'gildong',\n",
    "    'location' : 'Seoul',\n",
    "    'phone' : '010-1234-1234',\n",
    "    'age' : 20,\n",
    "}"
   ]
  },
  {
   "cell_type": "code",
   "execution_count": 61,
   "id": "59482a34-b9d0-4999-a779-7c64fc09ec46",
   "metadata": {},
   "outputs": [
    {
     "name": "stdout",
     "output_type": "stream",
     "text": [
      "name\n",
      "location\n",
      "phone\n",
      "age\n"
     ]
    }
   ],
   "source": [
    "for k in info:\n",
    "    print(k)"
   ]
  },
  {
   "cell_type": "code",
   "execution_count": 62,
   "id": "53ab3cc2-8320-48c8-be88-239edffe835d",
   "metadata": {},
   "outputs": [
    {
     "name": "stdout",
     "output_type": "stream",
     "text": [
      "name\n",
      "location\n",
      "phone\n",
      "age\n"
     ]
    }
   ],
   "source": [
    "for k in info.keys():\n",
    "    print(k)"
   ]
  },
  {
   "cell_type": "code",
   "execution_count": 63,
   "id": "1cc204ed-e009-48c1-a34b-a4e6e88e5ee6",
   "metadata": {},
   "outputs": [
    {
     "name": "stdout",
     "output_type": "stream",
     "text": [
      "name\n",
      "gildong\n",
      "location\n",
      "Seoul\n",
      "phone\n",
      "010-1234-1234\n",
      "age\n",
      "20\n"
     ]
    }
   ],
   "source": [
    "for k in info.keys():\n",
    "    print(k)\n",
    "    print(info[k])"
   ]
  },
  {
   "cell_type": "code",
   "execution_count": 64,
   "id": "d14bebf7-8e03-497e-b95e-48e4a94dc92f",
   "metadata": {},
   "outputs": [
    {
     "name": "stdout",
     "output_type": "stream",
     "text": [
      "gildong\n",
      "Seoul\n",
      "010-1234-1234\n",
      "20\n"
     ]
    }
   ],
   "source": [
    "for v in info.values():\n",
    "    print(v)"
   ]
  },
  {
   "cell_type": "code",
   "execution_count": 65,
   "id": "9b40e42a-2dad-4663-a0e4-ca9ecf1a8ae2",
   "metadata": {},
   "outputs": [
    {
     "name": "stdout",
     "output_type": "stream",
     "text": [
      "name gildong\n",
      "location Seoul\n",
      "phone 010-1234-1234\n",
      "age 20\n"
     ]
    }
   ],
   "source": [
    "for k, v in info.items():\n",
    "    print(k, v)"
   ]
  },
  {
   "cell_type": "code",
   "execution_count": 13,
   "id": "698a5628-c215-45ea-b23a-cfb8b599f70c",
   "metadata": {},
   "outputs": [],
   "source": [
    "blood_type = {\n",
    "    'A': 15,\n",
    "    'B': 8,\n",
    "    'O': 5,\n",
    "    'AB': 4,\n",
    "}\n",
    "#, 컴마가 마지막 에 ',' 들어있음. -> 뒤에 데이터가 추가적으로 들어오는 경우에 오류가 안나도록 하려고 습관처럼 마지막에도 `,`를 적음."
   ]
  },
  {
   "cell_type": "code",
   "execution_count": 7,
   "id": "64bdda72-dd80-44fe-b787-9329a395c201",
   "metadata": {},
   "outputs": [
    {
     "name": "stdout",
     "output_type": "stream",
     "text": [
      "혈액형 종류는 다음과 같습니다.\n",
      "A\n",
      "B\n",
      "O\n",
      "AB\n"
     ]
    }
   ],
   "source": [
    "#Q1. 혈액형은 ~가 있습니다. \n",
    "#=> key 값만 필요한 상태\n",
    "\n",
    "print('혈액형 종류는 다음과 같습니다.')\n",
    "\n",
    "for blood in blood_type:\n",
    "    print(blood)"
   ]
  },
  {
   "cell_type": "code",
   "execution_count": 10,
   "id": "e29ee185-34e6-4409-9b5e-7a441da947b2",
   "metadata": {},
   "outputs": [
    {
     "name": "stdout",
     "output_type": "stream",
     "text": [
      "32\n"
     ]
    }
   ],
   "source": [
    "#Q2. 총 학생은 ~이 있습니다.\n",
    "# => Value를 다 더하는 과정이 필요함\n",
    "\n",
    "result = 0\n",
    "for number in blood_type.values():\n",
    "    result = result + number\n",
    "print(result)"
   ]
  },
  {
   "cell_type": "code",
   "execution_count": 11,
   "id": "029a4eed-bbd4-4c40-baac-1920898d1344",
   "metadata": {},
   "outputs": [
    {
     "name": "stdout",
     "output_type": "stream",
     "text": [
      "15\n",
      "23\n",
      "28\n",
      "32\n"
     ]
    }
   ],
   "source": [
    "#Q2. 총 학생은 ~이 있습니다.\n",
    "# => Value를 다 더하는 과정이 필요함\n",
    "\n",
    "result = 0\n",
    "for number in blood_type.values():\n",
    "    result = result + number\n",
    "    print(result)\n",
    "    #위의 print문의 위치가 달라 => 결과가 아예 다르게 나온다.  "
   ]
  },
  {
   "cell_type": "code",
   "execution_count": 9,
   "id": "c675fdcc-1525-4183-8aa3-ecb38104612b",
   "metadata": {},
   "outputs": [
    {
     "name": "stdout",
     "output_type": "stream",
     "text": [
      "A형은 15명입니다.\n",
      "B형은 8명입니다.\n",
      "O형은 5명입니다.\n",
      "AB형은 4명입니다.\n"
     ]
    }
   ],
   "source": [
    "for k, v in blood_type.items():\n",
    "    print(f'{k}형은 {v}명입니다.')"
   ]
  },
  {
   "cell_type": "markdown",
   "id": "3ef25dd3-6a12-4958-81f8-d332b281c914",
   "metadata": {},
   "source": [
    "### Break \n",
    "'멈추는 것'\n",
    "반복문을 종료 시키는 키워드"
   ]
  },
  {
   "cell_type": "code",
   "execution_count": 16,
   "id": "a0b5cc7e-0b1c-4b2e-a018-8c63b3d720ec",
   "metadata": {},
   "outputs": [
    {
     "name": "stdout",
     "output_type": "stream",
     "text": [
      "여기는 for문 0\n",
      "여기는 for문 1\n",
      "여기는 for문 2\n",
      "여기는 for문 3\n",
      "여기는 for문 4\n",
      "여기는 for문 5\n",
      "여기는 for문 6\n",
      "여기는 break\n"
     ]
    }
   ],
   "source": [
    "for i in range(100):\n",
    "    print('여기는 for문', i)\n",
    "    if i > 5:\n",
    "        print('여기는 break')\n",
    "        break\n",
    "        #break문은 자신과 가장 가까운 for문을 종료 시키는 명령어"
   ]
  },
  {
   "cell_type": "code",
   "execution_count": 18,
   "id": "b3642845-0ff1-4871-a646-cb43394ad6f0",
   "metadata": {},
   "outputs": [
    {
     "name": "stdin",
     "output_type": "stream",
     "text": [
      " as\n",
      " as\n",
      " as\n",
      " as\n",
      " as\n",
      " id\n",
      " 보리\n",
      " 쌀\n"
     ]
    },
    {
     "name": "stdout",
     "output_type": "stream",
     "text": [
      "잡았다!!!!!!!!!!!!!!\n"
     ]
    }
   ],
   "source": [
    "while True: \n",
    "    rice = input()\n",
    "    if rice == '쌀':\n",
    "        print('잡았다!!!!!!!!!!!!!!')\n",
    "        break"
   ]
  },
  {
   "cell_type": "markdown",
   "id": "cf931faf-fe6b-4d42-9e31-26a563523add",
   "metadata": {},
   "source": [
    "### Continue\n",
    "\n",
    "`continue` 이후의 코드를 실행하지 않고 다음 반복을 진행"
   ]
  },
  {
   "cell_type": "code",
   "execution_count": 25,
   "id": "cce7cc2b-9a4c-4879-8dc4-42daddf555bb",
   "metadata": {},
   "outputs": [
    {
     "name": "stdout",
     "output_type": "stream",
     "text": [
      "0\n",
      "2\n",
      "4\n",
      "6\n",
      "8\n",
      "10\n",
      "12\n",
      "14\n",
      "16\n",
      "18\n"
     ]
    }
   ],
   "source": [
    "for i in range(20):\n",
    "    if i % 2 == 1:\n",
    "        continue\n",
    "    print(i)\n",
    "# break 는 완전 종료\n",
    "# continue 는 특정 친구들을 skip 하고 싶을 때"
   ]
  },
  {
   "cell_type": "code",
   "execution_count": 27,
   "id": "77d688f9-b0d7-4554-a97e-518a18d1fa9b",
   "metadata": {},
   "outputs": [
    {
     "name": "stdout",
     "output_type": "stream",
     "text": [
      "20살은 성인입니다.\n",
      "30살은 성인입니다.\n",
      "23살은 성인입니다.\n",
      "59살은 성인입니다.\n"
     ]
    }
   ],
   "source": [
    "ages = [10, 20, 30, 23, 59, 3, 18]\n",
    "for age in ages:\n",
    "    if age < 20:\n",
    "        continue\n",
    "    print(f'{age}살은 성인입니다.')"
   ]
  },
  {
   "cell_type": "markdown",
   "id": "7900bcd8-c84a-4bf4-a750-47d534045f88",
   "metadata": {},
   "source": [
    "### Else\n",
    "else 문은 끝까지 반복된 경우 실행됩니다.\n",
    "- break를 만나지 않은 경우에 실행됩니다."
   ]
  },
  {
   "cell_type": "code",
   "execution_count": 28,
   "id": "a1b21f84-cce0-4074-8b0b-d745c9fd0a88",
   "metadata": {},
   "outputs": [
    {
     "name": "stdout",
     "output_type": "stream",
     "text": [
      "0\n",
      "1\n",
      "2\n",
      "3\n",
      "4\n",
      "5\n"
     ]
    }
   ],
   "source": [
    "for i in range(10):\n",
    "    if i > 5: \n",
    "        break\n",
    "    print(i)"
   ]
  },
  {
   "cell_type": "code",
   "execution_count": 32,
   "id": "576ea76b-e97d-4fcd-9b37-4884da9fa241",
   "metadata": {},
   "outputs": [
    {
     "name": "stdout",
     "output_type": "stream",
     "text": [
      "0\n",
      "1\n",
      "2\n",
      "3\n",
      "4\n",
      "5\n",
      "0\n",
      "1\n",
      "2\n",
      "3\n",
      "4\n",
      "5\n",
      "6\n",
      "7\n",
      "8\n",
      "9\n",
      "모두완료!!!\n"
     ]
    }
   ],
   "source": [
    "for i in range(10):\n",
    "    if i > 5: \n",
    "        break\n",
    "    print(i)\n",
    "else: \n",
    "    print('모두완료!!!')\n",
    "\n",
    "#반복문이 끝나지 않고, 전부 다 돌고 난 이후 => else를 만나고 '모두완료!!!'\n",
    "for i in range(10):\n",
    "    if i > 100: \n",
    "        break\n",
    "    print(i)\n",
    "else: \n",
    "    print('모두완료!!!')"
   ]
  }
 ],
 "metadata": {
  "kernelspec": {
   "display_name": "Python 3 (ipykernel)",
   "language": "python",
   "name": "python3"
  },
  "language_info": {
   "codemirror_mode": {
    "name": "ipython",
    "version": 3
   },
   "file_extension": ".py",
   "mimetype": "text/x-python",
   "name": "python",
   "nbconvert_exporter": "python",
   "pygments_lexer": "ipython3",
   "version": "3.13.2"
  }
 },
 "nbformat": 4,
 "nbformat_minor": 5
}
