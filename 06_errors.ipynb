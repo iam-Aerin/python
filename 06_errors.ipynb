{
 "cells": [
  {
   "cell_type": "markdown",
   "id": "6cc41bbb-ca6b-49c2-90da-23496c885bcb",
   "metadata": {},
   "source": [
    "## Error"
   ]
  },
  {
   "cell_type": "markdown",
   "id": "e91d5a1d-6ef7-4bc0-b663-46a5e4ec1722",
   "metadata": {},
   "source": [
    "## Syntax error\n",
    ": 문법 에러"
   ]
  },
  {
   "cell_type": "code",
   "execution_count": 1,
   "id": "692f5510-8cf7-425e-af25-c3021e35ab19",
   "metadata": {},
   "outputs": [
    {
     "ename": "SyntaxError",
     "evalue": "expected ':' (3448656250.py, line 3)",
     "output_type": "error",
     "traceback": [
      "\u001b[1;36m  Cell \u001b[1;32mIn[1], line 3\u001b[1;36m\u001b[0m\n\u001b[1;33m    else\u001b[0m\n\u001b[1;37m        ^\u001b[0m\n\u001b[1;31mSyntaxError\u001b[0m\u001b[1;31m:\u001b[0m expected ':'\n"
     ]
    }
   ],
   "source": [
    "if True:\n",
    "    pass\n",
    "else"
   ]
  },
  {
   "cell_type": "code",
   "execution_count": 2,
   "id": "6d853c4a-87c0-4728-a84b-dd147b9d6d27",
   "metadata": {},
   "outputs": [
    {
     "ename": "SyntaxError",
     "evalue": "unterminated string literal (detected at line 1) (2058653082.py, line 1)",
     "output_type": "error",
     "traceback": [
      "\u001b[1;36m  Cell \u001b[1;32mIn[2], line 1\u001b[1;36m\u001b[0m\n\u001b[1;33m    pritn('hello)\u001b[0m\n\u001b[1;37m          ^\u001b[0m\n\u001b[1;31mSyntaxError\u001b[0m\u001b[1;31m:\u001b[0m unterminated string literal (detected at line 1)\n"
     ]
    }
   ],
   "source": [
    "pritn('hello)"
   ]
  },
  {
   "cell_type": "code",
   "execution_count": 3,
   "id": "e4bc81c0-dc0c-4839-9562-fc8c7750e38d",
   "metadata": {},
   "outputs": [
    {
     "ename": "SyntaxError",
     "evalue": "invalid syntax (3421040245.py, line 1)",
     "output_type": "error",
     "traceback": [
      "\u001b[1;36m  Cell \u001b[1;32mIn[3], line 1\u001b[1;36m\u001b[0m\n\u001b[1;33m    if True print('hello')\u001b[0m\n\u001b[1;37m            ^\u001b[0m\n\u001b[1;31mSyntaxError\u001b[0m\u001b[1;31m:\u001b[0m invalid syntax\n"
     ]
    }
   ],
   "source": [
    "if True print('hello')"
   ]
  },
  {
   "cell_type": "code",
   "execution_count": 4,
   "id": "d80024b6-3639-48c3-96f6-8471a54afde6",
   "metadata": {},
   "outputs": [
    {
     "ename": "ZeroDivisionError",
     "evalue": "division by zero",
     "output_type": "error",
     "traceback": [
      "\u001b[1;31m---------------------------------------------------------------------------\u001b[0m",
      "\u001b[1;31mZeroDivisionError\u001b[0m                         Traceback (most recent call last)",
      "Cell \u001b[1;32mIn[4], line 1\u001b[0m\n\u001b[1;32m----> 1\u001b[0m \u001b[38;5;28mprint\u001b[39m(\u001b[38;5;241;43m5\u001b[39;49m\u001b[38;5;241;43m/\u001b[39;49m\u001b[38;5;241;43m0\u001b[39;49m)\n",
      "\u001b[1;31mZeroDivisionError\u001b[0m: division by zero"
     ]
    }
   ],
   "source": [
    "print(5/0)"
   ]
  },
  {
   "cell_type": "code",
   "execution_count": 5,
   "id": "8168434e-a546-499d-bbd0-73bd445226cb",
   "metadata": {},
   "outputs": [
    {
     "ename": "NameError",
     "evalue": "name 'hello' is not defined",
     "output_type": "error",
     "traceback": [
      "\u001b[1;31m---------------------------------------------------------------------------\u001b[0m",
      "\u001b[1;31mNameError\u001b[0m                                 Traceback (most recent call last)",
      "Cell \u001b[1;32mIn[5], line 1\u001b[0m\n\u001b[1;32m----> 1\u001b[0m \u001b[38;5;28mprint\u001b[39m(\u001b[43mhello\u001b[49m)\n",
      "\u001b[1;31mNameError\u001b[0m: name 'hello' is not defined"
     ]
    }
   ],
   "source": [
    "print(hello)"
   ]
  },
  {
   "cell_type": "code",
   "execution_count": 6,
   "id": "8988817b-3f7e-4990-9198-a9fc1ef68b90",
   "metadata": {},
   "outputs": [
    {
     "ename": "TypeError",
     "evalue": "unsupported operand type(s) for +: 'int' and 'str'",
     "output_type": "error",
     "traceback": [
      "\u001b[1;31m---------------------------------------------------------------------------\u001b[0m",
      "\u001b[1;31mTypeError\u001b[0m                                 Traceback (most recent call last)",
      "Cell \u001b[1;32mIn[6], line 1\u001b[0m\n\u001b[1;32m----> 1\u001b[0m \u001b[38;5;241;43m1\u001b[39;49m\u001b[43m \u001b[49m\u001b[38;5;241;43m+\u001b[39;49m\u001b[43m \u001b[49m\u001b[38;5;124;43m'\u001b[39;49m\u001b[38;5;124;43m1\u001b[39;49m\u001b[38;5;124;43m'\u001b[39;49m\n",
      "\u001b[1;31mTypeError\u001b[0m: unsupported operand type(s) for +: 'int' and 'str'"
     ]
    }
   ],
   "source": [
    "1 + '1'"
   ]
  },
  {
   "cell_type": "code",
   "execution_count": 7,
   "id": "c09bb0ad-87f4-4444-89f8-f8c32382980e",
   "metadata": {},
   "outputs": [
    {
     "ename": "TypeError",
     "evalue": "can only concatenate str (not \"int\") to str",
     "output_type": "error",
     "traceback": [
      "\u001b[1;31m---------------------------------------------------------------------------\u001b[0m",
      "\u001b[1;31mTypeError\u001b[0m                                 Traceback (most recent call last)",
      "Cell \u001b[1;32mIn[7], line 1\u001b[0m\n\u001b[1;32m----> 1\u001b[0m \u001b[38;5;124;43m'\u001b[39;49m\u001b[38;5;124;43m1\u001b[39;49m\u001b[38;5;124;43m'\u001b[39;49m\u001b[43m \u001b[49m\u001b[38;5;241;43m+\u001b[39;49m\u001b[43m \u001b[49m\u001b[38;5;241;43m1\u001b[39;49m\n",
      "\u001b[1;31mTypeError\u001b[0m: can only concatenate str (not \"int\") to str"
     ]
    }
   ],
   "source": [
    "'1' + 1"
   ]
  },
  {
   "cell_type": "code",
   "execution_count": 9,
   "id": "2cd3f2b3-99ff-45be-9ef8-564d1008e21b",
   "metadata": {},
   "outputs": [
    {
     "ename": "TypeError",
     "evalue": "Random.sample() missing 1 required positional argument: 'k'",
     "output_type": "error",
     "traceback": [
      "\u001b[1;31m---------------------------------------------------------------------------\u001b[0m",
      "\u001b[1;31mTypeError\u001b[0m                                 Traceback (most recent call last)",
      "Cell \u001b[1;32mIn[9], line 2\u001b[0m\n\u001b[0;32m      1\u001b[0m \u001b[38;5;28;01mimport\u001b[39;00m\u001b[38;5;250m \u001b[39m\u001b[38;5;21;01mrandom\u001b[39;00m\n\u001b[1;32m----> 2\u001b[0m \u001b[43mrandom\u001b[49m\u001b[38;5;241;43m.\u001b[39;49m\u001b[43msample\u001b[49m\u001b[43m(\u001b[49m\u001b[43m[\u001b[49m\u001b[38;5;241;43m1\u001b[39;49m\u001b[43m,\u001b[49m\u001b[43m \u001b[49m\u001b[38;5;241;43m2\u001b[39;49m\u001b[43m,\u001b[49m\u001b[43m \u001b[49m\u001b[38;5;241;43m3\u001b[39;49m\u001b[43m,\u001b[49m\u001b[43m \u001b[49m\u001b[38;5;241;43m4\u001b[39;49m\u001b[43m,\u001b[49m\u001b[43m \u001b[49m\u001b[38;5;241;43m5\u001b[39;49m\u001b[43m]\u001b[49m\u001b[43m)\u001b[49m\n",
      "\u001b[1;31mTypeError\u001b[0m: Random.sample() missing 1 required positional argument: 'k'"
     ]
    }
   ],
   "source": [
    "import random\n",
    "random.sample([1, 2, 3, 4, 5])"
   ]
  },
  {
   "cell_type": "code",
   "execution_count": 10,
   "id": "7550f174-c964-49fd-a5c0-bb33ac75be8e",
   "metadata": {},
   "outputs": [
    {
     "ename": "TypeError",
     "evalue": "Random.sample() takes 3 positional arguments but 12 were given",
     "output_type": "error",
     "traceback": [
      "\u001b[1;31m---------------------------------------------------------------------------\u001b[0m",
      "\u001b[1;31mTypeError\u001b[0m                                 Traceback (most recent call last)",
      "Cell \u001b[1;32mIn[10], line 1\u001b[0m\n\u001b[1;32m----> 1\u001b[0m \u001b[43mrandom\u001b[49m\u001b[38;5;241;43m.\u001b[39;49m\u001b[43msample\u001b[49m\u001b[43m(\u001b[49m\u001b[43m[\u001b[49m\u001b[38;5;241;43m1\u001b[39;49m\u001b[43m,\u001b[49m\u001b[43m \u001b[49m\u001b[38;5;241;43m2\u001b[39;49m\u001b[43m,\u001b[49m\u001b[43m \u001b[49m\u001b[38;5;241;43m3\u001b[39;49m\u001b[43m,\u001b[49m\u001b[43m \u001b[49m\u001b[38;5;241;43m4\u001b[39;49m\u001b[43m,\u001b[49m\u001b[43m \u001b[49m\u001b[38;5;241;43m5\u001b[39;49m\u001b[43m,\u001b[49m\u001b[43m \u001b[49m\u001b[38;5;241;43m6\u001b[39;49m\u001b[43m]\u001b[49m\u001b[43m,\u001b[49m\u001b[43m \u001b[49m\u001b[38;5;241;43m1\u001b[39;49m\u001b[43m,\u001b[49m\u001b[43m \u001b[49m\u001b[38;5;241;43m2\u001b[39;49m\u001b[43m,\u001b[49m\u001b[43m \u001b[49m\u001b[38;5;241;43m3\u001b[39;49m\u001b[43m,\u001b[49m\u001b[43m \u001b[49m\u001b[38;5;241;43m4\u001b[39;49m\u001b[43m,\u001b[49m\u001b[43m \u001b[49m\u001b[38;5;241;43m5\u001b[39;49m\u001b[43m,\u001b[49m\u001b[43m \u001b[49m\u001b[38;5;241;43m6\u001b[39;49m\u001b[43m,\u001b[49m\u001b[43m \u001b[49m\u001b[38;5;241;43m7\u001b[39;49m\u001b[43m,\u001b[49m\u001b[43m \u001b[49m\u001b[38;5;241;43m8\u001b[39;49m\u001b[43m,\u001b[49m\u001b[43m \u001b[49m\u001b[38;5;241;43m9\u001b[39;49m\u001b[43m,\u001b[49m\u001b[43m \u001b[49m\u001b[38;5;241;43m10\u001b[39;49m\u001b[43m)\u001b[49m\n",
      "\u001b[1;31mTypeError\u001b[0m: Random.sample() takes 3 positional arguments but 12 were given"
     ]
    }
   ],
   "source": [
    "random.sample([1, 2, 3, 4, 5, 6], 1, 2, 3, 4, 5, 6, 7, 8, 9, 10)"
   ]
  },
  {
   "cell_type": "code",
   "execution_count": 11,
   "id": "7285b125-a5f0-4d89-aec2-edc55b48cb14",
   "metadata": {},
   "outputs": [
    {
     "ename": "ValueError",
     "evalue": "invalid literal for int() with base 10: '4.5'",
     "output_type": "error",
     "traceback": [
      "\u001b[1;31m---------------------------------------------------------------------------\u001b[0m",
      "\u001b[1;31mValueError\u001b[0m                                Traceback (most recent call last)",
      "Cell \u001b[1;32mIn[11], line 1\u001b[0m\n\u001b[1;32m----> 1\u001b[0m \u001b[38;5;28;43mint\u001b[39;49m\u001b[43m(\u001b[49m\u001b[38;5;124;43m'\u001b[39;49m\u001b[38;5;124;43m4.5\u001b[39;49m\u001b[38;5;124;43m'\u001b[39;49m\u001b[43m)\u001b[49m\n\u001b[0;32m      2\u001b[0m \u001b[38;5;66;03m#str 문자열을 숫자로 바꿔주세요~\u001b[39;00m\n",
      "\u001b[1;31mValueError\u001b[0m: invalid literal for int() with base 10: '4.5'"
     ]
    }
   ],
   "source": [
    "int('4.5')\n",
    "#str 문자열을 숫자로 바꿔주세요~"
   ]
  },
  {
   "cell_type": "code",
   "execution_count": 12,
   "id": "fac3bcf6-8ff2-4683-a292-fd87e447a4ae",
   "metadata": {},
   "outputs": [
    {
     "ename": "ValueError",
     "evalue": "100 is not in list",
     "output_type": "error",
     "traceback": [
      "\u001b[1;31m---------------------------------------------------------------------------\u001b[0m",
      "\u001b[1;31mValueError\u001b[0m                                Traceback (most recent call last)",
      "Cell \u001b[1;32mIn[12], line 2\u001b[0m\n\u001b[0;32m      1\u001b[0m numbers \u001b[38;5;241m=\u001b[39m [\u001b[38;5;241m1\u001b[39m, \u001b[38;5;241m2\u001b[39m, \u001b[38;5;241m3\u001b[39m]\n\u001b[1;32m----> 2\u001b[0m \u001b[43mnumbers\u001b[49m\u001b[38;5;241;43m.\u001b[39;49m\u001b[43mindex\u001b[49m\u001b[43m(\u001b[49m\u001b[38;5;241;43m100\u001b[39;49m\u001b[43m)\u001b[49m\n",
      "\u001b[1;31mValueError\u001b[0m: 100 is not in list"
     ]
    }
   ],
   "source": [
    "numbers = [1, 2, 3]\n",
    "numbers.index(100)\n",
    "#100이 리스트안에 없기 때문에 value 에러"
   ]
  },
  {
   "cell_type": "code",
   "execution_count": 13,
   "id": "278073ca-7428-4b5f-be79-5fbd31abb703",
   "metadata": {},
   "outputs": [
    {
     "ename": "IndexError",
     "evalue": "list index out of range",
     "output_type": "error",
     "traceback": [
      "\u001b[1;31m---------------------------------------------------------------------------\u001b[0m",
      "\u001b[1;31mIndexError\u001b[0m                                Traceback (most recent call last)",
      "Cell \u001b[1;32mIn[13], line 1\u001b[0m\n\u001b[1;32m----> 1\u001b[0m \u001b[43mnumbers\u001b[49m\u001b[43m[\u001b[49m\u001b[38;5;241;43m100\u001b[39;49m\u001b[43m]\u001b[49m\n",
      "\u001b[1;31mIndexError\u001b[0m: list index out of range"
     ]
    }
   ],
   "source": [
    "numbers[100]\n",
    "#100번째 index가 존재하지 않기 때문에"
   ]
  },
  {
   "cell_type": "code",
   "execution_count": 14,
   "id": "7ad48407-6181-42ff-80dd-628c5e3318be",
   "metadata": {},
   "outputs": [
    {
     "data": {
      "text/plain": [
       "3"
      ]
     },
     "execution_count": 14,
     "metadata": {},
     "output_type": "execute_result"
    }
   ],
   "source": [
    "numbers[2]"
   ]
  },
  {
   "cell_type": "code",
   "execution_count": 16,
   "id": "f0d8784a-fb3b-4883-b2be-bafab6e7aac5",
   "metadata": {},
   "outputs": [],
   "source": [
    "my_dict = {\n",
    "    'apple': '사과',\n",
    "    'banana': '바나나',\n",
    "}"
   ]
  },
  {
   "cell_type": "code",
   "execution_count": 18,
   "id": "bd789c5f-ebb7-43c2-b73a-21e6f911539c",
   "metadata": {},
   "outputs": [
    {
     "ename": "KeyError",
     "evalue": "'melon'",
     "output_type": "error",
     "traceback": [
      "\u001b[1;31m---------------------------------------------------------------------------\u001b[0m",
      "\u001b[1;31mKeyError\u001b[0m                                  Traceback (most recent call last)",
      "Cell \u001b[1;32mIn[18], line 1\u001b[0m\n\u001b[1;32m----> 1\u001b[0m \u001b[43mmy_dict\u001b[49m\u001b[43m[\u001b[49m\u001b[38;5;124;43m'\u001b[39;49m\u001b[38;5;124;43mmelon\u001b[39;49m\u001b[38;5;124;43m'\u001b[39;49m\u001b[43m]\u001b[49m\n\u001b[0;32m      2\u001b[0m \u001b[38;5;66;03m#dictionary에 해당 key가 존재하지않아요\u001b[39;00m\n",
      "\u001b[1;31mKeyError\u001b[0m: 'melon'"
     ]
    }
   ],
   "source": [
    "my_dict['melon']\n",
    "#dictionary에 해당 key가 존재하지않아요"
   ]
  },
  {
   "cell_type": "code",
   "execution_count": 20,
   "id": "3b3b5d9f-5a61-4277-b32e-8f56991b9564",
   "metadata": {},
   "outputs": [
    {
     "ename": "ModuleNotFoundError",
     "evalue": "No module named 'pandas'",
     "output_type": "error",
     "traceback": [
      "\u001b[1;31m---------------------------------------------------------------------------\u001b[0m",
      "\u001b[1;31mModuleNotFoundError\u001b[0m                       Traceback (most recent call last)",
      "Cell \u001b[1;32mIn[20], line 1\u001b[0m\n\u001b[1;32m----> 1\u001b[0m \u001b[38;5;28;01mimport\u001b[39;00m\u001b[38;5;250m \u001b[39m\u001b[38;5;21;01mpandas\u001b[39;00m\n\u001b[0;32m      2\u001b[0m \u001b[38;5;66;03m#module을 가져올때 사용하는 명령어 `import`\u001b[39;00m\n\u001b[0;32m      3\u001b[0m \u001b[38;5;66;03m#설치가 안 된 module\u001b[39;00m\n",
      "\u001b[1;31mModuleNotFoundError\u001b[0m: No module named 'pandas'"
     ]
    }
   ],
   "source": [
    "import pandas\n",
    "#module을 가져올때 사용하는 명령어 `import`\n",
    "#설치가 안 된 module"
   ]
  },
  {
   "cell_type": "markdown",
   "id": "a73be03e-2d6f-431f-986b-df0aeefe7b1a",
   "metadata": {},
   "source": [
    "## 예외처리\n",
    "```python\n",
    "try: \n",
    "    code\n",
    "except exception:\n",
    "    code\n",
    "```"
   ]
  },
  {
   "cell_type": "code",
   "execution_count": 26,
   "id": "da590790-12a1-4d85-b19f-f11f61ea2e94",
   "metadata": {},
   "outputs": [
    {
     "name": "stdin",
     "output_type": "stream",
     "text": [
      "숫자를 입력해주세요 아ㅓㄹ\n"
     ]
    },
    {
     "name": "stdout",
     "output_type": "stream",
     "text": [
      "숫자를 입력해달라고!!!!!!!!!!!!!!!!!!!!!!!!!!!!!!!!!!!!!!!!!!!!\n"
     ]
    }
   ],
   "source": [
    "try:\n",
    "    number = int(input('숫자를 입력해주세요'))\n",
    "    print(f'입력하신 {number}의 세제곱은 {number**3}입니다.')\n",
    "except:\n",
    "    print('숫자를 입력해달라고!!!!!!!!!!!!!!!!!!!!!!!!!!!!!!!!!!!!!!!!!!!!')\n"
   ]
  },
  {
   "cell_type": "code",
   "execution_count": 31,
   "id": "5bce4b45-32a9-497c-bfa9-b00c08625e16",
   "metadata": {},
   "outputs": [
    {
     "name": "stdin",
     "output_type": "stream",
     "text": [
      "100을 무엇으로 나누겠습니까? 0\n"
     ]
    }
   ],
   "source": [
    "try:\n",
    "    num = int(input('100을 무엇으로 나누겠습니까?'))\n",
    "    print(f'100을 {num}으로 나눈 결과는 {100/num}')\n",
    "\n",
    "except:\n",
    "    pass\n",
    "#0을 넣으면 100/0 이 실행이 되지 않으므로 에러가 발생하게된다.\n",
    "#이 경우에서 0 또는 글자를 넣으면 오류가 발생하게되는데....(아래에 계속)"
   ]
  },
  {
   "cell_type": "code",
   "execution_count": 32,
   "id": "54730b50-c4b9-45d7-9ba3-bfff4b5bf0eb",
   "metadata": {},
   "outputs": [
    {
     "name": "stdin",
     "output_type": "stream",
     "text": [
      "100을 무엇으로 나누겠습니까? ㅇ\n"
     ]
    },
    {
     "name": "stdout",
     "output_type": "stream",
     "text": [
      "입력한 데이터는 숫자가 아닌데요?\n"
     ]
    }
   ],
   "source": [
    "try:\n",
    "    num = int(input('100을 무엇으로 나누겠습니까?'))\n",
    "    print(f'100을 {num}으로 나눈 결과는 {100/num}')\n",
    "\n",
    "except ValueError:\n",
    "    print('입력한 데이터는 숫자가 아닌데요?')\n",
    "#문자를 넣었을 때의 에러는 fix가 되지만, 여전히 0을 넣었을 때 에러가 발생하게되는데.......(to be continued.......)"
   ]
  },
  {
   "cell_type": "code",
   "execution_count": 34,
   "id": "1d9b5db9-df89-4b8d-a5e4-be9e9d2e40ac",
   "metadata": {},
   "outputs": [
    {
     "name": "stdin",
     "output_type": "stream",
     "text": [
      "100을 무엇으로 나누겠습니까? 0\n"
     ]
    },
    {
     "name": "stdout",
     "output_type": "stream",
     "text": [
      "모든수는 0으로 나눌수 없는걸요\n"
     ]
    }
   ],
   "source": [
    "try:\n",
    "    num = int(input('100을 무엇으로 나누겠습니까?'))\n",
    "    print(f'100을 {num}으로 나눈 결과는 {100/num}')\n",
    "\n",
    "except ValueError:\n",
    "    print('입력한 데이터는 숫자가 아닌데요?')\n",
    "except ZeroDivisionError:\n",
    "    print('모든수는 0으로 나눌수 없는걸요')"
   ]
  },
  {
   "cell_type": "code",
   "execution_count": 35,
   "id": "0a5047a6-f760-4d9c-ba70-9cf8356a6280",
   "metadata": {},
   "outputs": [
    {
     "name": "stdout",
     "output_type": "stream",
     "text": [
      "Error Error Error\n"
     ]
    }
   ],
   "source": [
    "try:\n",
    "    numbers = [1, 2, 3]\n",
    "    numbers[100]\n",
    "    #인덱스 범위가 너무 크기 떄문에, 에러가 발생한다. \n",
    "except:\n",
    "    print('Error Error Error')"
   ]
  },
  {
   "cell_type": "code",
   "execution_count": 42,
   "id": "b6ca5e4c-5c8b-42d5-9511-c1d97ffb46e3",
   "metadata": {},
   "outputs": [
    {
     "name": "stdout",
     "output_type": "stream",
     "text": [
      "Error Error Error\n"
     ]
    }
   ],
   "source": [
    "try:\n",
    "    numbers = [1, 2, 3]\n",
    "    numbers[100]\n",
    "    #인덱스 범위가 너무 크기 떄문에, 에러가 발생한다. \n",
    "except:\n",
    "    print('Error Error Error')\n",
    "else:\n",
    "    print('여기는 else입니다.')\n",
    "    #exception 을 만나지 않았을 때 = error 가 나지 않았을때, else의 내용이 print 된다."
   ]
  },
  {
   "cell_type": "code",
   "execution_count": 43,
   "id": "bf1425e5-add6-4de1-92c9-764a70aa98e6",
   "metadata": {},
   "outputs": [
    {
     "name": "stdout",
     "output_type": "stream",
     "text": [
      "여기는 else입니다.\n"
     ]
    }
   ],
   "source": [
    "try:\n",
    "    numbers = [1, 2, 3]\n",
    "    numbers[1]\n",
    "    #인덱스 범위가 너무 크기 떄문에, 에러가 발생한다. \n",
    "except:\n",
    "    print('Error Error Error')\n",
    "finally:\n",
    "    print('여기는 else입니다.')\n",
    "    #else와 다르게 무조건 결과로 출력하고 싶을때 `finally`"
   ]
  },
  {
   "cell_type": "code",
   "execution_count": 45,
   "id": "b5497c01-ddf7-451e-aca2-df55821f7f1b",
   "metadata": {},
   "outputs": [
    {
     "data": {
      "text/plain": [
       "'숫자를 넣어주세요'"
      ]
     },
     "execution_count": 45,
     "metadata": {},
     "output_type": "execute_result"
    }
   ],
   "source": [
    "def my_div(a, b):\n",
    "    #a 나누기 b를 하는 코드\n",
    "    try:\n",
    "        return a/b\n",
    "    except (ValueError, TypeError):\n",
    "        return '숫자를 넣어주세요'\n",
    "my_div('1', '2')\n",
    "#글자를 넣었다면 => 위에 except 에서 return 시킨 문구가 나온다. "
   ]
  },
  {
   "cell_type": "code",
   "execution_count": 49,
   "id": "4ba4ed5e-1863-4688-923e-caf5ab63b5d8",
   "metadata": {},
   "outputs": [
    {
     "data": {
      "text/plain": [
       "'0으로 나눌 수 없습니다.'"
      ]
     },
     "execution_count": 49,
     "metadata": {},
     "output_type": "execute_result"
    }
   ],
   "source": [
    "def my_div(a, b):\n",
    "    #a 나누기 b를 하는 코드\n",
    "    try:\n",
    "        return a/b\n",
    "    except (ValueError, TypeError):\n",
    "        return '숫자를 넣어주세요'\n",
    "    except ZeroDivisionError:\n",
    "        return '0으로 나눌 수 없습니다.'\n",
    "    except:\n",
    "        return '무엇인가 이상해요'\n",
    "        #위에 적은 내용을 제외하고도 예외상황이 나타난다면, 출력될 문구\n",
    "\n",
    "my_div(1, 0)\n",
    "#글자를 넣었다면 => 위에 except 에서 return 시킨 문구가 나온다. "
   ]
  }
 ],
 "metadata": {
  "kernelspec": {
   "display_name": "Python 3 (ipykernel)",
   "language": "python",
   "name": "python3"
  },
  "language_info": {
   "codemirror_mode": {
    "name": "ipython",
    "version": 3
   },
   "file_extension": ".py",
   "mimetype": "text/x-python",
   "name": "python",
   "nbconvert_exporter": "python",
   "pygments_lexer": "ipython3",
   "version": "3.13.2"
  }
 },
 "nbformat": 4,
 "nbformat_minor": 5
}
