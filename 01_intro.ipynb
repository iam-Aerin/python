{
 "cells": [
  {
   "cell_type": "markdown",
   "id": "652b2b5f-5c40-4daa-92fe-2ce6251ce670",
   "metadata": {},
   "source": [
    "# 01.intro\n",
    "\n",
    "## shortcut (단축키)\n",
    "\n",
    "- ctrl + enter : 현재 셀을 실행\n",
    "- shift + enter : 현재 셀을 실행함과 동시에 아래에 셀로 이동 (새로운 셀이 없으면 새로운 셀을 생성)\n",
    "- alt + enter : 현재 셀을 실행하고 아래에 새로운 셀을 추가\n",
    "\n",
    "더 다양한 단축키는 Help 에서 사용 가능함. \n",
    "    -> ESC를 누르고, 방향 이동키로 셀을 이동가능함. "
   ]
  },
  {
   "cell_type": "markdown",
   "id": "62b20103-80f9-43e6-9e16-5e31c49cb046",
   "metadata": {},
   "source": [
    "## 주의사항\n",
    "\n",
    "1. Apple 과 apple 은 다르다. (대소문자 주의)\n",
    "2. git add. / git add . 은 다르다. (띄어쓰기 주의)\n",
    "3. message / massage 는 다르다. (오타 주의)"
   ]
  },
  {
   "cell_type": "markdown",
   "id": "65cf64a7-651f-47b2-a5c1-60424eeff3a0",
   "metadata": {},
   "source": [
    "# 01. 변수\n",
    "\n",
    "```\n",
    "var name = value\n",
    "```\n",
    "- `변수` 는 변하는 값\n",
    "- `=` : 오른쪽에 있는 값을, 왼쪽 상자에 넣는다. \n",
    "- `var` : value 어떠한 값을 의미한다.\n",
    "- 변수이름은 어떤 이름이든 사용 가능하다. (하지만, 영어로 사용하기로 약속)\n",
    "- 다만, 영어, 숫자, _를 이용해서 변수이름을 선언 할 것이다.\n",
    "- 키워드는 불가능.\n",
    "    - 아래에 import keyword\n",
    "             keyword.kwlist 와 같이 이미 python 에 있는 키워드는 불가능하다라는 말.\n",
    "    - 단어와 단어의 연결은 _ (underscore) 을 통해 잇는다.\n"
   ]
  },
  {
   "cell_type": "code",
   "execution_count": 9,
   "id": "02beb67f-281a-4871-a637-775599a1cc6b",
   "metadata": {},
   "outputs": [],
   "source": [
    "a = 100"
   ]
  },
  {
   "cell_type": "code",
   "execution_count": 10,
   "id": "251dd923-5491-4e80-b3d0-0ac4fd541494",
   "metadata": {},
   "outputs": [
    {
     "data": {
      "text/plain": [
       "100"
      ]
     },
     "execution_count": 10,
     "metadata": {},
     "output_type": "execute_result"
    }
   ],
   "source": [
    "a"
   ]
  },
  {
   "cell_type": "code",
   "execution_count": 14,
   "id": "25610e37-32d6-4923-8a6e-d5abe48ed0a0",
   "metadata": {},
   "outputs": [
    {
     "data": {
      "text/plain": [
       "['False',\n",
       " 'None',\n",
       " 'True',\n",
       " 'and',\n",
       " 'as',\n",
       " 'assert',\n",
       " 'async',\n",
       " 'await',\n",
       " 'break',\n",
       " 'class',\n",
       " 'continue',\n",
       " 'def',\n",
       " 'del',\n",
       " 'elif',\n",
       " 'else',\n",
       " 'except',\n",
       " 'finally',\n",
       " 'for',\n",
       " 'from',\n",
       " 'global',\n",
       " 'if',\n",
       " 'import',\n",
       " 'in',\n",
       " 'is',\n",
       " 'lambda',\n",
       " 'nonlocal',\n",
       " 'not',\n",
       " 'or',\n",
       " 'pass',\n",
       " 'raise',\n",
       " 'return',\n",
       " 'try',\n",
       " 'while',\n",
       " 'with',\n",
       " 'yield']"
      ]
     },
     "execution_count": 14,
     "metadata": {},
     "output_type": "execute_result"
    }
   ],
   "source": [
    "import keyword\n",
    "keyword.kwlist"
   ]
  },
  {
   "cell_type": "markdown",
   "id": "82848a62-e3f2-4758-8fbf-c28e8e18fced",
   "metadata": {},
   "source": [
    "# 1.1 Number"
   ]
  },
  {
   "cell_type": "markdown",
   "id": "0c722278-665e-4378-bf6c-154d3bb3da73",
   "metadata": {},
   "source": [
    "파이썬은 동적 언어 -> 만든 상자 안에 문자이던지 숫자이던지 전혀 상관이 없다. int string 이렇게 표현할 필요가 없음."
   ]
  },
  {
   "cell_type": "code",
   "execution_count": 15,
   "id": "51257f6c-6fec-4fb3-ad01-621fc47f15ec",
   "metadata": {},
   "outputs": [],
   "source": [
    "a = 10000"
   ]
  },
  {
   "cell_type": "code",
   "execution_count": 16,
   "id": "4c723ff4-040f-46f5-a0ca-c8f77e215e43",
   "metadata": {},
   "outputs": [
    {
     "data": {
      "text/plain": [
       "10000"
      ]
     },
     "execution_count": 16,
     "metadata": {},
     "output_type": "execute_result"
    }
   ],
   "source": [
    "a"
   ]
  },
  {
   "cell_type": "code",
   "execution_count": 18,
   "id": "28e9567a-0740-4457-81c4-535cd9f69ca3",
   "metadata": {},
   "outputs": [
    {
     "data": {
      "text/plain": [
       "int"
      ]
     },
     "execution_count": 18,
     "metadata": {},
     "output_type": "execute_result"
    }
   ],
   "source": [
    "type(a)"
   ]
  },
  {
   "cell_type": "code",
   "execution_count": 21,
   "id": "3d634ed0-a587-43ab-80a4-eff4cc1e9302",
   "metadata": {},
   "outputs": [],
   "source": [
    "b = 1.1"
   ]
  },
  {
   "cell_type": "code",
   "execution_count": 22,
   "id": "6adf3f59-cb5c-4d0a-8508-bfed315fea63",
   "metadata": {},
   "outputs": [
    {
     "data": {
      "text/plain": [
       "float"
      ]
     },
     "execution_count": 22,
     "metadata": {},
     "output_type": "execute_result"
    }
   ],
   "source": [
    "type (b)"
   ]
  },
  {
   "cell_type": "markdown",
   "id": "c498d885-cf36-48eb-8b3d-fa0170517e16",
   "metadata": {},
   "source": [
    "정수 = int / 실수 = float"
   ]
  },
  {
   "cell_type": "code",
   "execution_count": 26,
   "id": "93eaf797-f090-4e02-937e-49cbd2d8db9b",
   "metadata": {},
   "outputs": [],
   "source": [
    "c = 1 + 1j"
   ]
  },
  {
   "cell_type": "code",
   "execution_count": 28,
   "id": "c480ac41-0bfe-4022-8ff5-2ee18fde1b3b",
   "metadata": {},
   "outputs": [
    {
     "data": {
      "text/plain": [
       "(1+1j)"
      ]
     },
     "execution_count": 28,
     "metadata": {},
     "output_type": "execute_result"
    }
   ],
   "source": [
    "c"
   ]
  },
  {
   "cell_type": "code",
   "execution_count": 29,
   "id": "fbbb66df-a887-4e7d-aeea-897f6ed78f28",
   "metadata": {},
   "outputs": [
    {
     "data": {
      "text/plain": [
       "complex"
      ]
     },
     "execution_count": 29,
     "metadata": {},
     "output_type": "execute_result"
    }
   ],
   "source": [
    "type(c)"
   ]
  },
  {
   "cell_type": "markdown",
   "id": "55379b4a-a1b8-4ce1-a5c1-935c30106491",
   "metadata": {},
   "source": [
    "복소수 = complex"
   ]
  },
  {
   "cell_type": "markdown",
   "id": "9fbe891e-a938-444a-9cfe-91121f34e651",
   "metadata": {},
   "source": [
    "## 1.2 boolean"
   ]
  },
  {
   "cell_type": "code",
   "execution_count": 30,
   "id": "8f0fd62d-27fa-4963-b277-ac79f87beec9",
   "metadata": {},
   "outputs": [],
   "source": [
    "a = True"
   ]
  },
  {
   "cell_type": "code",
   "execution_count": 31,
   "id": "a44bca65-c4dc-4fd9-ba24-429e30cea09c",
   "metadata": {},
   "outputs": [
    {
     "data": {
      "text/plain": [
       "True"
      ]
     },
     "execution_count": 31,
     "metadata": {},
     "output_type": "execute_result"
    }
   ],
   "source": [
    "a"
   ]
  },
  {
   "cell_type": "code",
   "execution_count": 32,
   "id": "80bb1d11-193f-4d83-b76e-0c0a79cc3c08",
   "metadata": {},
   "outputs": [
    {
     "data": {
      "text/plain": [
       "bool"
      ]
     },
     "execution_count": 32,
     "metadata": {},
     "output_type": "execute_result"
    }
   ],
   "source": [
    "type (a)"
   ]
  },
  {
   "cell_type": "code",
   "execution_count": 33,
   "id": "5e075a1f-6a79-435d-96db-acbe7dacf017",
   "metadata": {},
   "outputs": [],
   "source": [
    "b = False"
   ]
  },
  {
   "cell_type": "code",
   "execution_count": 34,
   "id": "b2942af5-1e03-480b-a61b-5b4e9acde9ce",
   "metadata": {},
   "outputs": [
    {
     "data": {
      "text/plain": [
       "False"
      ]
     },
     "execution_count": 34,
     "metadata": {},
     "output_type": "execute_result"
    }
   ],
   "source": [
    "b"
   ]
  },
  {
   "cell_type": "code",
   "execution_count": 35,
   "id": "6ae53862-d453-4ad6-a449-b0845796e3c7",
   "metadata": {},
   "outputs": [
    {
     "data": {
      "text/plain": [
       "bool"
      ]
     },
     "execution_count": 35,
     "metadata": {},
     "output_type": "execute_result"
    }
   ],
   "source": [
    "type (b)"
   ]
  },
  {
   "cell_type": "markdown",
   "id": "6dcbae16-0acf-4b27-b347-13bafebb678a",
   "metadata": {},
   "source": [
    "## 1.3 String\n",
    "- 문자열 `'`, `\"` 를 이용하여 표현"
   ]
  },
  {
   "cell_type": "code",
   "execution_count": 36,
   "id": "0eb636f9-d974-497d-ab8c-28d1a52f0b23",
   "metadata": {},
   "outputs": [],
   "source": [
    "a = 'hello'"
   ]
  },
  {
   "cell_type": "code",
   "execution_count": 38,
   "id": "9986536f-b6de-4a3a-b9f0-9429396905e1",
   "metadata": {},
   "outputs": [],
   "source": [
    "b = \"hi\""
   ]
  },
  {
   "cell_type": "code",
   "execution_count": 39,
   "id": "cb3669ba-0849-41c0-9056-54fbacbe06ae",
   "metadata": {},
   "outputs": [
    {
     "data": {
      "text/plain": [
       "'hello'"
      ]
     },
     "execution_count": 39,
     "metadata": {},
     "output_type": "execute_result"
    }
   ],
   "source": [
    "a"
   ]
  },
  {
   "cell_type": "code",
   "execution_count": 40,
   "id": "22fe9bcc-edeb-4579-9d51-82f815d4f047",
   "metadata": {},
   "outputs": [
    {
     "data": {
      "text/plain": [
       "'hi'"
      ]
     },
     "execution_count": 40,
     "metadata": {},
     "output_type": "execute_result"
    }
   ],
   "source": [
    "b"
   ]
  },
  {
   "cell_type": "markdown",
   "id": "649740b2-8689-4b9e-ba59-f7b9b8b15dcc",
   "metadata": {},
   "source": [
    "=> '로 시작했으면, '로 끝나고, \"로 시작하면, \"로 끝나기. 문자열 `'`, `\"` 은 문자열임을 알려주는 기호 정도임."
   ]
  },
  {
   "cell_type": "code",
   "execution_count": 41,
   "id": "5690cb62-e488-4805-9e46-d3a427ab9f23",
   "metadata": {},
   "outputs": [
    {
     "name": "stdout",
     "output_type": "stream",
     "text": [
      "hello\n"
     ]
    }
   ],
   "source": [
    "print('hello')"
   ]
  },
  {
   "cell_type": "code",
   "execution_count": 46,
   "id": "e13efe93-fa7f-4d10-94cc-088b1b46aa6c",
   "metadata": {},
   "outputs": [
    {
     "name": "stdout",
     "output_type": "stream",
     "text": [
      "hello my name is \"Su\"\n"
     ]
    }
   ],
   "source": [
    "print('hello my name is \"Su\"')"
   ]
  },
  {
   "cell_type": "code",
   "execution_count": 47,
   "id": "4447b887-f740-40c3-8676-97c3abee7a62",
   "metadata": {},
   "outputs": [
    {
     "name": "stdout",
     "output_type": "stream",
     "text": [
      "hello my name is 'Su'\n"
     ]
    }
   ],
   "source": [
    "print('hello my name is \\'Su\\'')"
   ]
  },
  {
   "cell_type": "code",
   "execution_count": 55,
   "id": "f1f20a38-4db7-4d02-a734-6ddf8ec11543",
   "metadata": {},
   "outputs": [],
   "source": [
    "a = '''\n",
    "hello\n",
    "world\n",
    "hi\n",
    "'''"
   ]
  },
  {
   "cell_type": "code",
   "execution_count": 50,
   "id": "7b0ed271-46af-45f8-8fcc-bcaa4f080433",
   "metadata": {},
   "outputs": [
    {
     "name": "stdout",
     "output_type": "stream",
     "text": [
      "hello\n",
      " my name is 'Su'\n"
     ]
    }
   ],
   "source": [
    "print('hello\\n my name is \\'Su\\'')"
   ]
  },
  {
   "cell_type": "code",
   "execution_count": 58,
   "id": "39c2a32b-5b29-4482-97d7-d97326024438",
   "metadata": {},
   "outputs": [],
   "source": [
    "a = 10\n",
    "b = '홍길동은 10살입니다.'"
   ]
  },
  {
   "cell_type": "code",
   "execution_count": 59,
   "id": "f06d814a-5e42-4de4-bdf4-70cb79412d17",
   "metadata": {},
   "outputs": [
    {
     "name": "stdout",
     "output_type": "stream",
     "text": [
      "홍길동은 10살입니다.\n"
     ]
    }
   ],
   "source": [
    "print(b)"
   ]
  },
  {
   "cell_type": "code",
   "execution_count": 60,
   "id": "c019ce10-08ac-421e-aef8-9f3c1c4c09e8",
   "metadata": {},
   "outputs": [],
   "source": [
    "# 주석 comment - 이 코드는 이해하지 않는다. "
   ]
  },
  {
   "cell_type": "markdown",
   "id": "81f7da5d-0242-4929-8af0-16d8b9f99c7a",
   "metadata": {},
   "source": [
    "# string interpolation\n",
    "\n",
    "- %-formatting\n",
    "- str.format()\n",
    "- f-string"
   ]
  },
  {
   "cell_type": "code",
   "execution_count": 62,
   "id": "f3d77e94-515a-4bec-a7f9-3a186bd5fb8e",
   "metadata": {},
   "outputs": [],
   "source": [
    "age = 10"
   ]
  },
  {
   "cell_type": "code",
   "execution_count": 63,
   "id": "15593448-f437-43bf-9fda-2895bcdbea78",
   "metadata": {},
   "outputs": [
    {
     "name": "stdout",
     "output_type": "stream",
     "text": [
      "홍길동은 10살입니다.\n"
     ]
    }
   ],
   "source": [
    "print('홍길동은 %s살입니다.' % age)"
   ]
  },
  {
   "cell_type": "code",
   "execution_count": 64,
   "id": "53fb1b89-2659-4d9c-b971-c258678f6c03",
   "metadata": {},
   "outputs": [
    {
     "name": "stdout",
     "output_type": "stream",
     "text": [
      "홍길동은 10살입니다.\n"
     ]
    }
   ],
   "source": [
    "print('홍길동은 {}살입니다.'.format(age))"
   ]
  },
  {
   "cell_type": "code",
   "execution_count": 65,
   "id": "43bf8d31-34d3-4bac-9691-76d355ca9cd2",
   "metadata": {},
   "outputs": [
    {
     "name": "stdout",
     "output_type": "stream",
     "text": [
      "홍길동은 10살입니다.\n"
     ]
    }
   ],
   "source": [
    "print(f'홍길동은 {age}살입니다.')"
   ]
  },
  {
   "cell_type": "markdown",
   "id": "6e2377c2-9149-42f0-8fe9-8414e76278dd",
   "metadata": {},
   "source": [
    " # 02. 연산자"
   ]
  },
  {
   "cell_type": "markdown",
   "id": "acb29e0e-4925-463b-9784-578003110416",
   "metadata": {},
   "source": [
    "## 2.1. 산술연산자 "
   ]
  },
  {
   "cell_type": "code",
   "execution_count": 74,
   "id": "1a80818c-b211-4797-b9d0-720335d070e3",
   "metadata": {},
   "outputs": [],
   "source": [
    "a = 5\n",
    "b = 2"
   ]
  },
  {
   "cell_type": "code",
   "execution_count": 75,
   "id": "f9badb34-567b-4f6a-806c-60bf5eefdf81",
   "metadata": {},
   "outputs": [
    {
     "name": "stdout",
     "output_type": "stream",
     "text": [
      "7\n",
      "3\n",
      "10\n",
      "2.5\n"
     ]
    }
   ],
   "source": [
    "print (a + b)\n",
    "print (a - b)\n",
    "print (a * b)\n",
    "print (a / b)"
   ]
  },
  {
   "cell_type": "code",
   "execution_count": 78,
   "id": "c8e6bb4c-7a07-4be8-bf09-e7a1aaf5ce34",
   "metadata": {},
   "outputs": [
    {
     "name": "stdout",
     "output_type": "stream",
     "text": [
      "25\n",
      "2\n",
      "1\n"
     ]
    }
   ],
   "source": [
    "print (a ** b)\n",
    "print (a // b)\n",
    "print (a % b)"
   ]
  },
  {
   "cell_type": "markdown",
   "id": "25d782f6-d6b3-4e48-8a23-ea31352314ab",
   "metadata": {},
   "source": [
    "** 이라는 기호는 제곱수를 의미함\n",
    "// = 몫만 표시\n",
    "% = 나머지만 표시"
   ]
  },
  {
   "cell_type": "code",
   "execution_count": 84,
   "id": "f3d37195-2149-4109-a10d-67a7c24752c8",
   "metadata": {},
   "outputs": [
    {
     "name": "stdout",
     "output_type": "stream",
     "text": [
      "(2, 1)\n"
     ]
    }
   ],
   "source": [
    "result = divmod(a, b)\n",
    "print(result)"
   ]
  },
  {
   "cell_type": "markdown",
   "id": "da915b44-0be5-459b-a6db-2cac72199335",
   "metadata": {},
   "source": [
    "divmod 라는 것은 나눗셈 도구이다. a를 b로 나눈 몫을 하나 만들고, 나머지를 만든다 => 한덩어리의 데이터가 생성됨\n",
    "몫과 나머지라는 하나의 덩어리 데이터 => result 로 나타남. "
   ]
  },
  {
   "cell_type": "markdown",
   "id": "ce377d87-4c35-4a33-9269-1b25e8700511",
   "metadata": {},
   "source": [
    "## 2.2. 비교연산자"
   ]
  },
  {
   "cell_type": "code",
   "execution_count": 85,
   "id": "a4b4231f-db9d-4534-9aff-b0cf81a90e16",
   "metadata": {},
   "outputs": [],
   "source": [
    "a = 5\n",
    "b = 10"
   ]
  },
  {
   "cell_type": "code",
   "execution_count": 89,
   "id": "7ce55b39-ea9a-4b27-9516-e7a64415849c",
   "metadata": {},
   "outputs": [
    {
     "name": "stdout",
     "output_type": "stream",
     "text": [
      "False\n",
      "True\n",
      "False\n",
      "True\n"
     ]
    }
   ],
   "source": [
    "print (a > b)\n",
    "print (a < b)\n",
    "print (a >= b)\n",
    "print (a <= b)"
   ]
  },
  {
   "cell_type": "markdown",
   "id": "b4ce0cfc-9bf0-417d-aff8-3f86628a6609",
   "metadata": {},
   "source": [
    "a가 b 보다 크나요?의 의문문 => boolean type 의 연산이다. "
   ]
  },
  {
   "cell_type": "code",
   "execution_count": 92,
   "id": "db277d7f-901d-4a5d-a4be-09375b6b0eae",
   "metadata": {},
   "outputs": [
    {
     "name": "stdout",
     "output_type": "stream",
     "text": [
      "False\n",
      "True\n"
     ]
    }
   ],
   "source": [
    "print (a == b)\n",
    "print (a != b)"
   ]
  },
  {
   "cell_type": "markdown",
   "id": "7e7aa690-05e1-4511-9a70-14c599e3d18b",
   "metadata": {},
   "source": [
    "!= 는 `같지 않다` 를 의마함. "
   ]
  },
  {
   "cell_type": "code",
   "execution_count": 94,
   "id": "2ca5daf2-71e6-4a3e-bcdc-4d7f611897e0",
   "metadata": {
    "scrolled": true
   },
   "outputs": [
    {
     "name": "stdout",
     "output_type": "stream",
     "text": [
      "True\n",
      "False\n"
     ]
    }
   ],
   "source": [
    "print('hi' == 'hi')\n",
    "print('hi' == 'Hi')"
   ]
  },
  {
   "cell_type": "markdown",
   "id": "8448ab67-d035-46a2-b8c1-46f5a7f12d28",
   "metadata": {},
   "source": [
    "## 2.3. 논리연산자\n",
    "- and : 특정 조건 두개를 다 만족할 때 - 양쪽 모두 True 일 때, True를 반환한다.\n",
    "      - 그냥 앞에걸 선택하면됨. (뒤에 뭐가 오던지 중요하지 않음.)\n",
    "- or : 양쪽 모두 False 일 때, False를 반환한다. => 둘중에 하나라도 True가 있으면, True를 반환한다.\n",
    "\n",
    "- not : (현재) 상태를 부정한다. "
   ]
  },
  {
   "cell_type": "code",
   "execution_count": 96,
   "id": "6242d223-5beb-495b-92e2-3a428060ad5b",
   "metadata": {},
   "outputs": [
    {
     "name": "stdout",
     "output_type": "stream",
     "text": [
      "True\n",
      "False\n",
      "False\n",
      "False\n"
     ]
    }
   ],
   "source": [
    "print(True and True)\n",
    "print(True and False)\n",
    "print(False and True)\n",
    "print(False and False)"
   ]
  },
  {
   "cell_type": "code",
   "execution_count": 97,
   "id": "007a7e98-abca-4dae-8989-f41bc879ba67",
   "metadata": {},
   "outputs": [
    {
     "name": "stdout",
     "output_type": "stream",
     "text": [
      "True\n",
      "True\n",
      "True\n",
      "False\n"
     ]
    }
   ],
   "source": [
    "print(True or True)\n",
    "print(True or False)\n",
    "print(False or True)\n",
    "print(False or False)"
   ]
  },
  {
   "cell_type": "code",
   "execution_count": 98,
   "id": "1c1c4fd0-8085-4c16-ad32-f097b63e7ffa",
   "metadata": {},
   "outputs": [
    {
     "name": "stdout",
     "output_type": "stream",
     "text": [
      "False\n"
     ]
    }
   ],
   "source": [
    "a = True\n",
    "print (not a)"
   ]
  },
  {
   "cell_type": "code",
   "execution_count": 101,
   "id": "0994f46d-82ed-4290-b2c0-ced82651a137",
   "metadata": {},
   "outputs": [
    {
     "name": "stdout",
     "output_type": "stream",
     "text": [
      "5\n",
      "0\n",
      "0\n",
      "0\n"
     ]
    }
   ],
   "source": [
    "# 단축평가 (심화내용)\n",
    "print(3 and 5)\n",
    "print(3 and 0)\n",
    "print(0 and 5)\n",
    "print(0 and 0)"
   ]
  },
  {
   "cell_type": "code",
   "execution_count": 103,
   "id": "3c9223e6-0727-4cc2-baba-54c3fdbb9773",
   "metadata": {},
   "outputs": [
    {
     "name": "stdout",
     "output_type": "stream",
     "text": [
      "3\n",
      "3\n",
      "3\n",
      "5\n"
     ]
    }
   ],
   "source": [
    "print(3 or 5)\n",
    "print(3 or 0)\n",
    "print(0 or 3)\n",
    "print(0 or 5)"
   ]
  },
  {
   "cell_type": "code",
   "execution_count": null,
   "id": "de8488c6-f1f3-4ee4-956c-3896526696c6",
   "metadata": {},
   "outputs": [],
   "source": [
    "# 마이너한 내용이지만 알아두면 좋을 내용임. "
   ]
  },
  {
   "cell_type": "markdown",
   "id": "9cc820ea-4ba1-4cb1-9862-d29d3bd08c29",
   "metadata": {},
   "source": [
    "## 2.4. 복합 연산자"
   ]
  },
  {
   "cell_type": "code",
   "execution_count": 104,
   "id": "3659ce0b-6582-44ae-91a4-174b22d59cb6",
   "metadata": {},
   "outputs": [],
   "source": [
    "a = 2\n",
    "b = 3"
   ]
  },
  {
   "cell_type": "code",
   "execution_count": 109,
   "id": "eac258de-c4e9-40ce-b74b-fbc3c800de79",
   "metadata": {},
   "outputs": [],
   "source": [
    "a = a + b\n",
    "a = a - b\n",
    "a = a * b\n",
    "a = a / b"
   ]
  },
  {
   "cell_type": "code",
   "execution_count": 110,
   "id": "a8a919f8-df5e-45ac-aad9-79677d3820eb",
   "metadata": {},
   "outputs": [],
   "source": [
    "a += b\n",
    "a -= b\n",
    "a *= b\n",
    "a /= b\n",
    "a //= b\n",
    "a **= b"
   ]
  },
  {
   "cell_type": "code",
   "execution_count": null,
   "id": "9bba5f99-5398-43c7-bcba-c48230d29351",
   "metadata": {},
   "outputs": [],
   "source": [
    "# 위 표기 방법과 아래의 표기법은 똑같음. "
   ]
  },
  {
   "cell_type": "code",
   "execution_count": 111,
   "id": "331f7a44-233c-450e-b876-511994313bf2",
   "metadata": {},
   "outputs": [],
   "source": [
    "a = 'hi'\n",
    "b = 'hello'"
   ]
  },
  {
   "cell_type": "code",
   "execution_count": 112,
   "id": "14585b8f-ab40-4f33-b91e-1a528fb864ab",
   "metadata": {},
   "outputs": [
    {
     "name": "stdout",
     "output_type": "stream",
     "text": [
      "hihello\n"
     ]
    }
   ],
   "source": [
    "print (a+b)"
   ]
  },
  {
   "cell_type": "code",
   "execution_count": null,
   "id": "fc7a82ee-5aaf-4860-8226-83002fa08517",
   "metadata": {},
   "outputs": [],
   "source": [
    "#문자열과 문자열의 `+` 는 연결이다. `concatenation`\n",
    "# print (a + 1) 은 동작 하지 않는다. "
   ]
  },
  {
   "cell_type": "code",
   "execution_count": 114,
   "id": "058c5403-ea26-4fe4-b07a-c2ba5d71c3d2",
   "metadata": {},
   "outputs": [],
   "source": [
    "a = [1, 2, 3]\n",
    "b = [2, 3, 4]\n",
    "#list라고 부름 (java 등 다른데에서는 array (배열) 이라고 부름. "
   ]
  },
  {
   "cell_type": "code",
   "execution_count": 115,
   "id": "b17c159a-08b8-404f-ab87-86f0be41955f",
   "metadata": {},
   "outputs": [
    {
     "name": "stdout",
     "output_type": "stream",
     "text": [
      "[1, 2, 3, 2, 3, 4]\n"
     ]
    }
   ],
   "source": [
    "print(a + b)"
   ]
  },
  {
   "cell_type": "code",
   "execution_count": 117,
   "id": "3ae37583-f7f7-484f-92f5-82dabbf6426a",
   "metadata": {},
   "outputs": [
    {
     "name": "stdout",
     "output_type": "stream",
     "text": [
      "True\n"
     ]
    }
   ],
   "source": [
    "print(1 in a)\n",
    "# 1이라는 데이터가 a 에 포함이 되어있나요? \n",
    "# a 는 [1, 2, 3] 이기에 참이다. "
   ]
  },
  {
   "cell_type": "code",
   "execution_count": 118,
   "id": "92007ad8-326b-4cf7-9948-b316be30299a",
   "metadata": {},
   "outputs": [],
   "source": [
    "a = 500\n",
    "b = 500"
   ]
  },
  {
   "cell_type": "code",
   "execution_count": 119,
   "id": "8a80d862-9c82-4d6d-90e5-0bc069a32cda",
   "metadata": {},
   "outputs": [
    {
     "name": "stdout",
     "output_type": "stream",
     "text": [
      "True\n"
     ]
    }
   ],
   "source": [
    "print (a == b)"
   ]
  },
  {
   "cell_type": "code",
   "execution_count": 120,
   "id": "52e3f09c-171b-4846-b08b-5d29a67678ce",
   "metadata": {},
   "outputs": [
    {
     "name": "stdout",
     "output_type": "stream",
     "text": [
      "False\n"
     ]
    }
   ],
   "source": [
    "print(a is b)\n",
    "# 아래와 숫자를 500 -> 100 으로만 바꿨더니, `is` 를 사용 했을 때, False -> True 로 바뀜. "
   ]
  },
  {
   "cell_type": "code",
   "execution_count": 121,
   "id": "fe3016b5-6fa9-4310-9e4b-c0a39ee1308b",
   "metadata": {},
   "outputs": [
    {
     "name": "stdout",
     "output_type": "stream",
     "text": [
      "True\n"
     ]
    }
   ],
   "source": [
    "a = 100\n",
    "b = 100\n",
    "print(a is b)"
   ]
  },
  {
   "cell_type": "code",
   "execution_count": 122,
   "id": "378774d6-9e80-4b8c-b279-f934b8b31205",
   "metadata": {},
   "outputs": [],
   "source": [
    "# 위 경우에 True 가 나온 이유; 256 전까지의 수는 똑같은 위치의 메모리에 저장되므로 'is'를 써도 같다고 (TRUE)를 반환한다. "
   ]
  },
  {
   "cell_type": "markdown",
   "id": "530a93a3-3f3b-4187-be15-540deabe0ea0",
   "metadata": {},
   "source": [
    "### 2.5. 연산자 우선순위\n",
    "\n",
    "- 2 + 2 * 2 - 사칙연산과 같이 연산자에도 우선순위가 있음. \n",
    "\n",
    "0. ()를 통해서 그룹 - ()가 있으면 먼저 계산\n",
    "1. ** - 제곱이 있으면 먼저 계산\n",
    "2. 산술연산자 (*, /)\n",
    "3. 산술연산자 (+, -)\n",
    "4. 비교연산자 (비교 부등호), in, is\n",
    "5. not\n",
    "6. and\n",
    "7. or"
   ]
  },
  {
   "cell_type": "code",
   "execution_count": 123,
   "id": "ca52856a-c9dc-4580-911e-a3813b6985a4",
   "metadata": {},
   "outputs": [
    {
     "name": "stdout",
     "output_type": "stream",
     "text": [
      "-81\n",
      "81\n"
     ]
    }
   ],
   "source": [
    "print(-3 ** 4)\n",
    "# **이 먼저\n",
    "print((-3) ** 4)\n",
    "# 괄호가 먼저"
   ]
  },
  {
   "cell_type": "markdown",
   "id": "8af61859-7437-4756-b345-1ccb44ebc67e",
   "metadata": {},
   "source": [
    "## 3. 형변환"
   ]
  },
  {
   "cell_type": "markdown",
   "id": "21dbc135-f311-42a7-ab47-0b5c7cc29836",
   "metadata": {},
   "source": [
    "## 3.1. 암시적 형변환"
   ]
  },
  {
   "cell_type": "code",
   "execution_count": 124,
   "id": "71164fac-2be0-4d8e-8dee-443e33309294",
   "metadata": {},
   "outputs": [],
   "source": [
    "a = True\n",
    "b = False\n",
    "c = 1\n",
    "# 자동으로 나타나는 변환 - 암시적 형변환"
   ]
  },
  {
   "cell_type": "code",
   "execution_count": 125,
   "id": "dcb6577a-a31e-4cdc-b740-957755ffadc8",
   "metadata": {},
   "outputs": [
    {
     "name": "stdout",
     "output_type": "stream",
     "text": [
      "1\n"
     ]
    }
   ],
   "source": [
    "print(a + b)\n",
    "# True 를 1로, False 를 0 으로 자동으로 바꿔서 계산함. "
   ]
  },
  {
   "cell_type": "code",
   "execution_count": 126,
   "id": "9a2dab10-3cc5-49c7-af97-bd86a6f29308",
   "metadata": {},
   "outputs": [
    {
     "name": "stdout",
     "output_type": "stream",
     "text": [
      "2\n"
     ]
    }
   ],
   "source": [
    "print(a + c)"
   ]
  },
  {
   "cell_type": "code",
   "execution_count": 129,
   "id": "5e96e371-d310-496e-b306-b3c3a0c117f8",
   "metadata": {},
   "outputs": [
    {
     "name": "stdout",
     "output_type": "stream",
     "text": [
      "Hello\n"
     ]
    }
   ],
   "source": [
    "if True:\n",
    "    print('Hello')"
   ]
  },
  {
   "cell_type": "code",
   "execution_count": 130,
   "id": "1912469a-7eec-4770-8c96-e813a988b20f",
   "metadata": {},
   "outputs": [],
   "source": [
    "if 0 > 1:\n",
    "    print('Hello')"
   ]
  },
  {
   "cell_type": "code",
   "execution_count": 131,
   "id": "b4997a91-e94f-4930-a040-0740aeb7f375",
   "metadata": {},
   "outputs": [
    {
     "name": "stdout",
     "output_type": "stream",
     "text": [
      "hello\n"
     ]
    }
   ],
   "source": [
    "if 1:\n",
    "    print('hello')\n",
    "# 이떄도 암시적 형변환으로 1을 True 로 받아들인 후 결과값을 추출함. "
   ]
  },
  {
   "cell_type": "code",
   "execution_count": 132,
   "id": "a5492cad-08ab-40d4-815b-d46bac01f07f",
   "metadata": {},
   "outputs": [
    {
     "name": "stdout",
     "output_type": "stream",
     "text": [
      "2.1\n"
     ]
    }
   ],
   "source": [
    "print(1 + 1.1)"
   ]
  },
  {
   "cell_type": "markdown",
   "id": "c59c628c-c3af-49c0-9dc8-9dfff66575fc",
   "metadata": {},
   "source": [
    "## 3.2. 명시적 형변환\n",
    "- int()\n",
    "- float()\n",
    "- str()\n",
    "  #문자열\n",
    "- bool()\n",
    "  #True/ False"
   ]
  },
  {
   "cell_type": "code",
   "execution_count": 133,
   "id": "43d299be-368b-4541-80ad-1744c1b11081",
   "metadata": {},
   "outputs": [],
   "source": [
    "a = 1\n",
    "b = '반'"
   ]
  },
  {
   "cell_type": "code",
   "execution_count": 134,
   "id": "2ab0755f-488b-4278-80f6-7e7ca684e2a4",
   "metadata": {},
   "outputs": [
    {
     "ename": "TypeError",
     "evalue": "unsupported operand type(s) for +: 'int' and 'str'",
     "output_type": "error",
     "traceback": [
      "\u001b[1;31m---------------------------------------------------------------------------\u001b[0m",
      "\u001b[1;31mTypeError\u001b[0m                                 Traceback (most recent call last)",
      "Cell \u001b[1;32mIn[134], line 1\u001b[0m\n\u001b[1;32m----> 1\u001b[0m \u001b[38;5;28mprint\u001b[39m(\u001b[43ma\u001b[49m\u001b[43m \u001b[49m\u001b[38;5;241;43m+\u001b[39;49m\u001b[43m \u001b[49m\u001b[43mb\u001b[49m)\n",
      "\u001b[1;31mTypeError\u001b[0m: unsupported operand type(s) for +: 'int' and 'str'"
     ]
    }
   ],
   "source": [
    "print(a + b)"
   ]
  },
  {
   "cell_type": "code",
   "execution_count": 135,
   "id": "0f6ea39d-20aa-48de-a323-8fa545fd84b1",
   "metadata": {},
   "outputs": [
    {
     "name": "stdout",
     "output_type": "stream",
     "text": [
      "1반\n"
     ]
    }
   ],
   "source": [
    "a = '1'\n",
    "b = '반'\n",
    "print(a + b)"
   ]
  },
  {
   "cell_type": "code",
   "execution_count": 136,
   "id": "5a4f9c21-bd49-4c60-80ce-02e96d3fb495",
   "metadata": {},
   "outputs": [
    {
     "name": "stdout",
     "output_type": "stream",
     "text": [
      "1반\n"
     ]
    }
   ],
   "source": [
    "print(str(a) + b)"
   ]
  },
  {
   "cell_type": "code",
   "execution_count": 137,
   "id": "ab032a29-531f-4cb3-b9bf-882f05e51388",
   "metadata": {},
   "outputs": [
    {
     "name": "stdout",
     "output_type": "stream",
     "text": [
      "<class 'str'>\n"
     ]
    }
   ],
   "source": [
    "a = '3'\n",
    "#따옴표 안에 있으므로 문자열 3 으로 인식함. \n",
    "print(type(a))"
   ]
  },
  {
   "cell_type": "code",
   "execution_count": 138,
   "id": "97d7de39-1f19-49d8-8c8f-f04ccb3d0ac9",
   "metadata": {},
   "outputs": [
    {
     "name": "stdout",
     "output_type": "stream",
     "text": [
      "3\n"
     ]
    }
   ],
   "source": [
    "print(int(a))"
   ]
  },
  {
   "cell_type": "code",
   "execution_count": 139,
   "id": "ab34fa88-09e3-4528-9466-bab6669f67f2",
   "metadata": {},
   "outputs": [
    {
     "name": "stdout",
     "output_type": "stream",
     "text": [
      "<class 'int'>\n"
     ]
    }
   ],
   "source": [
    "print(type(int(a)))"
   ]
  },
  {
   "cell_type": "code",
   "execution_count": 141,
   "id": "5056532a-233f-4976-a613-d85f40383fd1",
   "metadata": {},
   "outputs": [
    {
     "name": "stdout",
     "output_type": "stream",
     "text": [
      "3\n",
      "<class 'int'>\n"
     ]
    }
   ],
   "source": [
    "b = int(a)\n",
    "print(b)\n",
    "print(type(b))"
   ]
  },
  {
   "cell_type": "code",
   "execution_count": 142,
   "id": "3aff8d00-b00e-41b1-8955-423ee813b2e4",
   "metadata": {},
   "outputs": [
    {
     "ename": "ValueError",
     "evalue": "invalid literal for int() with base 10: 'apple'",
     "output_type": "error",
     "traceback": [
      "\u001b[1;31m---------------------------------------------------------------------------\u001b[0m",
      "\u001b[1;31mValueError\u001b[0m                                Traceback (most recent call last)",
      "Cell \u001b[1;32mIn[142], line 2\u001b[0m\n\u001b[0;32m      1\u001b[0m c \u001b[38;5;241m=\u001b[39m \u001b[38;5;124m'\u001b[39m\u001b[38;5;124mapple\u001b[39m\u001b[38;5;124m'\u001b[39m\n\u001b[1;32m----> 2\u001b[0m d \u001b[38;5;241m=\u001b[39m \u001b[38;5;28;43mint\u001b[39;49m\u001b[43m(\u001b[49m\u001b[43mc\u001b[49m\u001b[43m)\u001b[49m\n",
      "\u001b[1;31mValueError\u001b[0m: invalid literal for int() with base 10: 'apple'"
     ]
    }
   ],
   "source": [
    "c = 'apple'\n",
    "d = int(c)\n",
    "# apple 이라는 문자열은 숫자로 바뀔 수가 없기 때문에 아래와 같은 오류가 발생함. "
   ]
  },
  {
   "cell_type": "code",
   "execution_count": 143,
   "id": "51c03048-94a6-4c9b-8247-a910e90ac8f5",
   "metadata": {},
   "outputs": [
    {
     "name": "stdout",
     "output_type": "stream",
     "text": [
      "True\n",
      "False\n",
      "True\n"
     ]
    }
   ],
   "source": [
    "a = 1\n",
    "b = 0 \n",
    "c = 123\n",
    "print(bool(a))\n",
    "print(bool(b))\n",
    "print(bool(c))"
   ]
  },
  {
   "cell_type": "code",
   "execution_count": 145,
   "id": "e1855b01-934d-4424-8589-415c2e58ade4",
   "metadata": {},
   "outputs": [
    {
     "name": "stdout",
     "output_type": "stream",
     "text": [
      "True\n"
     ]
    }
   ],
   "source": [
    "d = -123\n",
    "print(bool(d))"
   ]
  },
  {
   "cell_type": "code",
   "execution_count": null,
   "id": "1e0186c9-b4af-4a99-af7f-6c2890f681fd",
   "metadata": {},
   "outputs": [],
   "source": [
    "#0만 False 이고, 0 이 아닌 모든 수 (음수 포함) 은 True 이다. "
   ]
  },
  {
   "cell_type": "code",
   "execution_count": 147,
   "id": "8b926461-a9e4-4438-85fe-423ac1bf88db",
   "metadata": {},
   "outputs": [
    {
     "name": "stdout",
     "output_type": "stream",
     "text": [
      "False\n",
      "True\n"
     ]
    }
   ],
   "source": [
    "print(bool([]))\n",
    "print(bool([1, 2, 3]))"
   ]
  },
  {
   "cell_type": "code",
   "execution_count": null,
   "id": "ec30206d-57a0-425d-b1f3-2e910a482a39",
   "metadata": {},
   "outputs": [],
   "source": [
    "# 집합체 안에 아무 내용이 없으므로, False / [] list 내의 데이터값이 존재하므로 True 를 반환함. "
   ]
  },
  {
   "cell_type": "markdown",
   "id": "48b7042f-3f6d-4e7a-84b6-18dca19f1b24",
   "metadata": {},
   "source": [
    "# 4. 시퀀스 자료형\n",
    "- 시퀀스는 데이터의 **순서대로** 나열된 자료구조. (순서대로 나열되었다는 것은 정렬된 것과 다르다.)\n",
    "\n",
    " 1. List\n",
    " 2. Tuple\n",
    " 3. Range\n",
    " 4. String\n",
    "\n",
    "- tuple 은 거의 쓰이지 않음. "
   ]
  },
  {
   "cell_type": "markdown",
   "id": "96006237-de1e-4075-9165-c4f712f684ce",
   "metadata": {},
   "source": [
    "## 4.1. List (리스트, 배열)\n",
    "- 선언 방법 : `var_name = [value1, value2, value3, ...]`\n",
    "- 접근 : `var_name[index]`\n",
    "\n",
    "#숫자는 0부터 시작한다."
   ]
  },
  {
   "cell_type": "code",
   "execution_count": 1,
   "id": "d46355e2-bb7e-4d6a-bfc4-f0eafda2b8f9",
   "metadata": {},
   "outputs": [
    {
     "name": "stdout",
     "output_type": "stream",
     "text": [
      "[]\n",
      "<class 'list'>\n"
     ]
    }
   ],
   "source": [
    "l = []\n",
    "print(l)\n",
    "print(type(l))"
   ]
  },
  {
   "cell_type": "code",
   "execution_count": null,
   "id": "c8e69f2f-21ec-4bf3-a661-6cfb08c5eff8",
   "metadata": {},
   "outputs": [],
   "source": [
    "#변수 이름은 항상 '영어'라고 생각하자. (숫자를 변수로 하지 않음.)"
   ]
  },
  {
   "cell_type": "code",
   "execution_count": 4,
   "id": "39c55e39-b379-4bc5-9eda-7df016596825",
   "metadata": {},
   "outputs": [
    {
     "name": "stdout",
     "output_type": "stream",
     "text": [
      "['서울', '대전', '부산']\n",
      "서울\n",
      "['서울', '대구', '부산']\n"
     ]
    }
   ],
   "source": [
    "location = ['서울', '대전', '부산']\n",
    "print(location)\n",
    "print(location[0])\n",
    "#index 번호 (자리) 0번째 부터 ~ (index 범위)\n",
    "#재할당 (자리를 바꾼다 index의)\n",
    "\n",
    "location[1] = '대구'\n",
    "print(location)"
   ]
  },
  {
   "cell_type": "markdown",
   "id": "95d9752e-08d1-4d6e-9d9d-3d4f467d1fd1",
   "metadata": {},
   "source": [
    "## 4.2. Tuple (튜플)\n",
    "- 선언 : `var_name = (value1, value2, value3, ...)`\n",
    "- 접근 : `var_name[index]`\n",
    "  - 순서가 있는 것은 모두 대괄호로 index에 접근한다.\n",
    "- 수정불가능하다 (immutable)"
   ]
  },
  {
   "cell_type": "code",
   "execution_count": 6,
   "id": "823ca415-ec8a-48a1-9d39-dbf69cf482d4",
   "metadata": {},
   "outputs": [
    {
     "name": "stdout",
     "output_type": "stream",
     "text": [
      "('서울', '대전', '대구')\n",
      "서울\n"
     ]
    }
   ],
   "source": [
    "location = ('서울', '대전', '대구')\n",
    "print(location)\n",
    "print(location[0])"
   ]
  },
  {
   "cell_type": "code",
   "execution_count": 7,
   "id": "fc12519b-cc94-4d66-b520-3c15fbbec1d9",
   "metadata": {},
   "outputs": [
    {
     "ename": "TypeError",
     "evalue": "'tuple' object does not support item assignment",
     "output_type": "error",
     "traceback": [
      "\u001b[1;31m---------------------------------------------------------------------------\u001b[0m",
      "\u001b[1;31mTypeError\u001b[0m                                 Traceback (most recent call last)",
      "Cell \u001b[1;32mIn[7], line 1\u001b[0m\n\u001b[1;32m----> 1\u001b[0m \u001b[43mlocation\u001b[49m\u001b[43m[\u001b[49m\u001b[38;5;241;43m2\u001b[39;49m\u001b[43m]\u001b[49m \u001b[38;5;241m=\u001b[39m \u001b[38;5;124m'\u001b[39m\u001b[38;5;124m부산\u001b[39m\u001b[38;5;124m'\u001b[39m\n",
      "\u001b[1;31mTypeError\u001b[0m: 'tuple' object does not support item assignment"
     ]
    }
   ],
   "source": [
    "location[2] = '부산'"
   ]
  },
  {
   "cell_type": "markdown",
   "id": "563c77c3-f98c-403f-9c67-de7eb7ff424e",
   "metadata": {},
   "source": [
    "## 4.3. Range\n",
    "\n",
    "선언방법\n",
    "- range(n) : 0 부터 n-1 까지의 범위\n",
    "- range(n, m) : n 부터 m-1 까지의 범위\n",
    "- range(n, m, s) : (*s는 step을 의미함) n 부터 m-1까지 s만큼 증가하는 범위\n"
   ]
  },
  {
   "cell_type": "code",
   "execution_count": 9,
   "id": "ca20b4f8-2209-46a2-8989-3857f86dc456",
   "metadata": {},
   "outputs": [
    {
     "name": "stdout",
     "output_type": "stream",
     "text": [
      "range(0, 45)\n",
      "[0, 1, 2, 3, 4, 5, 6, 7, 8, 9, 10, 11, 12, 13, 14, 15, 16, 17, 18, 19, 20, 21, 22, 23, 24, 25, 26, 27, 28, 29, 30, 31, 32, 33, 34, 35, 36, 37, 38, 39, 40, 41, 42, 43, 44]\n"
     ]
    }
   ],
   "source": [
    "lotto = range(45)\n",
    "print(lotto)\n",
    "print(list(lotto))"
   ]
  },
  {
   "cell_type": "code",
   "execution_count": null,
   "id": "60d48b50-32ba-4a9c-a2b4-5c492f813047",
   "metadata": {},
   "outputs": [],
   "source": [
    "#로또는 0이 없으니, 1부터 표현하고 싶다면, 아래와 같이"
   ]
  },
  {
   "cell_type": "code",
   "execution_count": 10,
   "id": "cc755713-4ea9-4900-a245-05abd2c60aff",
   "metadata": {},
   "outputs": [
    {
     "name": "stdout",
     "output_type": "stream",
     "text": [
      "range(1, 46)\n",
      "[1, 2, 3, 4, 5, 6, 7, 8, 9, 10, 11, 12, 13, 14, 15, 16, 17, 18, 19, 20, 21, 22, 23, 24, 25, 26, 27, 28, 29, 30, 31, 32, 33, 34, 35, 36, 37, 38, 39, 40, 41, 42, 43, 44, 45]\n"
     ]
    }
   ],
   "source": [
    "lotto = range(1, 46)\n",
    "print(lotto)\n",
    "print(list(lotto))"
   ]
  },
  {
   "cell_type": "code",
   "execution_count": 11,
   "id": "5a8d2610-69c0-4bcb-801a-a950ab2c9690",
   "metadata": {},
   "outputs": [
    {
     "name": "stdout",
     "output_type": "stream",
     "text": [
      "[2, 4, 6, 8, 10, 12, 14, 16, 18]\n"
     ]
    }
   ],
   "source": [
    "even = range(2, 20, 2)\n",
    "# 짝수 (even)\n",
    "print(list(even))"
   ]
  },
  {
   "cell_type": "code",
   "execution_count": 12,
   "id": "4702a48b-50d5-416a-ba07-b700cd467a29",
   "metadata": {},
   "outputs": [],
   "source": [
    "# 만일 20을 포함하고 싶다면, 21까지로 range 값을 선언한다. "
   ]
  },
  {
   "cell_type": "code",
   "execution_count": 13,
   "id": "a065b9b3-8e8f-4721-b81c-ccfaca23ddcc",
   "metadata": {},
   "outputs": [
    {
     "name": "stdout",
     "output_type": "stream",
     "text": [
      "[2, 4, 6, 8, 10, 12, 14, 16, 18, 20]\n"
     ]
    }
   ],
   "source": [
    "even = range(2, 21, 2)\n",
    "print(list(even))"
   ]
  },
  {
   "cell_type": "code",
   "execution_count": 14,
   "id": "ce928a2d-99c1-440a-8f7e-eae4d604c7cc",
   "metadata": {},
   "outputs": [],
   "source": [
    "# 이친구는 음수도 표현이 가능함. "
   ]
  },
  {
   "cell_type": "code",
   "execution_count": 16,
   "id": "0411a971-e6db-4e1a-b0b6-cf88b13caca3",
   "metadata": {},
   "outputs": [
    {
     "name": "stdout",
     "output_type": "stream",
     "text": [
      "[0, -2, -4, -6, -8, -10, -12, -14, -16, -18]\n"
     ]
    }
   ],
   "source": [
    "numbers = range(0, -20, -2)\n",
    "print(list(numbers))"
   ]
  },
  {
   "cell_type": "markdown",
   "id": "09810dc5-1746-475a-942c-77170bbba3c2",
   "metadata": {},
   "source": [
    "## 4.4 String\n",
    "- 기본 데이터 구조 참고\n",
    "- string 은 단일 구조 데이터라고 배웠는데, 왜 sequence 에서도 쓰이나요?\n",
    "  - 문자열의배열 데이터이므로 (sequence data) 로 인지됨. "
   ]
  },
  {
   "cell_type": "code",
   "execution_count": 17,
   "id": "9d785023-f7cf-41a2-a73b-a50aef233b2b",
   "metadata": {},
   "outputs": [
    {
     "name": "stdout",
     "output_type": "stream",
     "text": [
      "h\n"
     ]
    }
   ],
   "source": [
    "s = 'hi my name is Su'\n",
    "print(s[0])"
   ]
  },
  {
   "cell_type": "code",
   "execution_count": null,
   "id": "dffd8b92-6547-45e7-954a-5b48684a8334",
   "metadata": {},
   "outputs": [],
   "source": [
    "#인덱스 접근이 가능하다. \n",
    "#s = ['h', 'i', ' ', 'm', ...]\n",
    "#굳이 list 의 배열로 표현해본다면, 이렇게 표현이 가능하니, index (순서)를 불러 올 수 있다. "
   ]
  },
  {
   "cell_type": "markdown",
   "id": "b390a98d-86d4-472c-b2b5-94ceefe1281b",
   "metadata": {},
   "source": [
    "## 4.5. 시퀀스에서 활용 가능한 연산/ 함수\n",
    "- 시퀀스 자료형"
   ]
  },
  {
   "cell_type": "code",
   "execution_count": 23,
   "id": "f6d2c185-e9ed-43fa-add6-46f1710189d6",
   "metadata": {},
   "outputs": [],
   "source": [
    "my_list = ['a', 'b', 'c', 'd', 'e']\n",
    "my_tuple = (6, 7, 8, 9, 10)\n",
    "my_range = range(5)\n",
    "my_string = '가나다라마'"
   ]
  },
  {
   "cell_type": "code",
   "execution_count": 24,
   "id": "3c465b40-90e5-409f-8be2-58957d85bef3",
   "metadata": {},
   "outputs": [
    {
     "name": "stdout",
     "output_type": "stream",
     "text": [
      "a\n",
      "6\n",
      "0\n",
      "가\n"
     ]
    }
   ],
   "source": [
    "#indexing (순서에 접근을 하는 행위\n",
    "print(my_list[0])\n",
    "print(my_tuple[0])\n",
    "print(my_range[0])\n",
    "print(my_string[0])"
   ]
  },
  {
   "cell_type": "code",
   "execution_count": 27,
   "id": "26405b9b-bf13-462b-9587-15010f96306d",
   "metadata": {},
   "outputs": [
    {
     "name": "stdout",
     "output_type": "stream",
     "text": [
      "['a', 'b']\n",
      "(6, 7)\n",
      "range(0, 2)\n",
      "가나\n",
      "['c', 'd', 'e']\n"
     ]
    }
   ],
   "source": [
    "#일정한 범위의 데이터를 얻는\n",
    "#slicing\n",
    "#변수의 이름뒤에 : \n",
    "#var_name[index1:index2]\n",
    "print(my_list[0:2])\n",
    "print(my_tuple[0:2])\n",
    "print(my_range[0:2])\n",
    "print(my_string[0:2])\n",
    "print(my_list[2:5]) #index 번호의 2번째 부터 5번째 미만까지 그러니까 3번째 부터 (index 0이 첫번째 자리를 의미하므로\n",
    ")"
   ]
  },
  {
   "cell_type": "code",
   "execution_count": 31,
   "id": "d787320f-ac34-4a3d-b357-26c5093da02f",
   "metadata": {},
   "outputs": [
    {
     "name": "stdout",
     "output_type": "stream",
     "text": [
      "['a', 'b', 'c', 'd', 'e']\n",
      "['d', 'e']\n",
      "['a', 'b', 'c', 'd']\n"
     ]
    }
   ],
   "source": [
    "#인덱스 생략\n",
    "print(my_list[0:])\n",
    "print(my_list[3:])\n",
    "print(my_list[:4])"
   ]
  },
  {
   "cell_type": "code",
   "execution_count": 35,
   "id": "57eff10e-4d20-4b9d-b1ab-b91d43fe51b4",
   "metadata": {},
   "outputs": [
    {
     "name": "stdout",
     "output_type": "stream",
     "text": [
      "e\n",
      "['c', 'd']\n",
      "['b', 'c', 'd']\n"
     ]
    }
   ],
   "source": [
    "#음수 인덱스\n",
    "print(my_list[-1])\n",
    "#맨뒤에 있는데이터가 -1번째\n",
    "print(my_list[-3:-1])\n",
    "print(my_list[1:-1])"
   ]
  },
  {
   "cell_type": "code",
   "execution_count": 36,
   "id": "2017a0e9-cf89-4cb0-9d93-3715dfd0f782",
   "metadata": {},
   "outputs": [
    {
     "name": "stdout",
     "output_type": "stream",
     "text": [
      "['a', 'b', 'c', 'd', 'e']\n"
     ]
    }
   ],
   "source": [
    "print(my_list[:])\n",
    "#처음부터 끝까지"
   ]
  },
  {
   "cell_type": "code",
   "execution_count": 37,
   "id": "b7cdd657-8a19-41de-b663-bf986918a766",
   "metadata": {},
   "outputs": [
    {
     "name": "stdout",
     "output_type": "stream",
     "text": [
      "['a', 'c', 'e']\n"
     ]
    }
   ],
   "source": [
    "#step\n",
    "print(my_list[::2])"
   ]
  },
  {
   "cell_type": "code",
   "execution_count": 44,
   "id": "2960ee79-117a-48a0-b386-2ca732fcaa02",
   "metadata": {},
   "outputs": [
    {
     "name": "stdout",
     "output_type": "stream",
     "text": [
      "False\n",
      "True\n",
      "False\n",
      "True\n"
     ]
    }
   ],
   "source": [
    "#in\n",
    "#이 안에 들어있나요?\n",
    "print(1 in my_list)\n",
    "print('a' in my_list)\n",
    "\n",
    "print('a' not in my_list)\n",
    "print('z' not in my_list)"
   ]
  },
  {
   "cell_type": "code",
   "execution_count": 49,
   "id": "7dc107c1-5fe4-426d-8b04-549e15c4ee23",
   "metadata": {},
   "outputs": [
    {
     "name": "stdout",
     "output_type": "stream",
     "text": [
      "['a', 'b', 'c', 'd', 'e', 1, 2, 3, 4, 5]\n"
     ]
    },
    {
     "ename": "TypeError",
     "evalue": "can only concatenate tuple (not \"list\") to tuple",
     "output_type": "error",
     "traceback": [
      "\u001b[1;31m---------------------------------------------------------------------------\u001b[0m",
      "\u001b[1;31mTypeError\u001b[0m                                 Traceback (most recent call last)",
      "Cell \u001b[1;32mIn[49], line 3\u001b[0m\n\u001b[0;32m      1\u001b[0m \u001b[38;5;66;03m# concatennation (연결)\u001b[39;00m\n\u001b[0;32m      2\u001b[0m \u001b[38;5;28mprint\u001b[39m(my_list \u001b[38;5;241m+\u001b[39m [\u001b[38;5;241m1\u001b[39m, \u001b[38;5;241m2\u001b[39m, \u001b[38;5;241m3\u001b[39m, \u001b[38;5;241m4\u001b[39m, \u001b[38;5;241m5\u001b[39m])\n\u001b[1;32m----> 3\u001b[0m \u001b[38;5;28mprint\u001b[39m(\u001b[43mmy_tuple\u001b[49m\u001b[43m \u001b[49m\u001b[38;5;241;43m+\u001b[39;49m\u001b[43m \u001b[49m\u001b[43m[\u001b[49m\u001b[38;5;241;43m1\u001b[39;49m\u001b[43m,\u001b[49m\u001b[43m \u001b[49m\u001b[38;5;241;43m2\u001b[39;49m\u001b[43m,\u001b[49m\u001b[43m \u001b[49m\u001b[38;5;241;43m3\u001b[39;49m\u001b[43m]\u001b[49m) \n\u001b[0;32m      4\u001b[0m \u001b[38;5;66;03m#tuple 은 tuple 끼리\u001b[39;00m\n\u001b[0;32m      5\u001b[0m \u001b[38;5;28mprint\u001b[39m(my_tuple \u001b[38;5;241m+\u001b[39m (\u001b[38;5;241m1\u001b[39m, \u001b[38;5;241m2\u001b[39m, \u001b[38;5;241m3\u001b[39m))\n",
      "\u001b[1;31mTypeError\u001b[0m: can only concatenate tuple (not \"list\") to tuple"
     ]
    }
   ],
   "source": [
    "# concatennation (연결)\n",
    "print(my_list + [1, 2, 3, 4, 5])\n",
    "print(my_tuple + [1, 2, 3]) \n",
    "#tuple 은 tuple 끼리\n"
   ]
  },
  {
   "cell_type": "code",
   "execution_count": 50,
   "id": "339fc324-fd8c-45d0-9c78-d7115428564f",
   "metadata": {},
   "outputs": [
    {
     "name": "stdout",
     "output_type": "stream",
     "text": [
      "(6, 7, 8, 9, 10, 1, 2, 3)\n"
     ]
    }
   ],
   "source": [
    "print(my_tuple + (1, 2, 3))"
   ]
  },
  {
   "cell_type": "code",
   "execution_count": 51,
   "id": "ee28ac47-4204-437c-99ca-ec15eff9a02b",
   "metadata": {},
   "outputs": [
    {
     "name": "stdout",
     "output_type": "stream",
     "text": [
      "['a', 'b', 'c', 'd', 'e', 'a', 'b', 'c', 'd', 'e']\n",
      "aaaaa\n"
     ]
    }
   ],
   "source": [
    "# * (곱하기; 라고 생각하지말고 연결을 * 했다고 생각하기.\n",
    "print(my_list * 2)\n",
    "print('a' * 5)"
   ]
  },
  {
   "cell_type": "code",
   "execution_count": 53,
   "id": "9da04a74-3d4d-4592-913e-bbaa8d4393a6",
   "metadata": {},
   "outputs": [
    {
     "name": "stdout",
     "output_type": "stream",
     "text": [
      "[0, 0, 0, 0, 0, 0, 0, 0, 0, 0]\n"
     ]
    }
   ],
   "source": [
    "print([0] * 10)\n",
    "#0이 열번 든 리스트를 10번 연결해주세요"
   ]
  },
  {
   "cell_type": "code",
   "execution_count": 56,
   "id": "2b8c1f75-eeb5-4f03-8713-2cb08ca63ae2",
   "metadata": {},
   "outputs": [
    {
     "data": {
      "text/plain": [
       "5"
      ]
     },
     "execution_count": 56,
     "metadata": {},
     "output_type": "execute_result"
    }
   ],
   "source": [
    "#length (길이)\n",
    "len(my_list)"
   ]
  },
  {
   "cell_type": "code",
   "execution_count": 59,
   "id": "0839e6a2-81ec-439a-9207-119ba459260a",
   "metadata": {},
   "outputs": [
    {
     "data": {
      "text/plain": [
       "'e'"
      ]
     },
     "execution_count": 59,
     "metadata": {},
     "output_type": "execute_result"
    }
   ],
   "source": [
    "max(my_list)"
   ]
  },
  {
   "cell_type": "code",
   "execution_count": 60,
   "id": "6c01af20-eae2-4846-a546-94f23ca77b0c",
   "metadata": {},
   "outputs": [
    {
     "data": {
      "text/plain": [
       "'a'"
      ]
     },
     "execution_count": 60,
     "metadata": {},
     "output_type": "execute_result"
    }
   ],
   "source": [
    "min(my_list)"
   ]
  },
  {
   "cell_type": "markdown",
   "id": "34a5f8ef-3cc5-46a7-b53d-93c4f80bd65d",
   "metadata": {},
   "source": [
    "# 5. 시퀀스형이 아닌 자료구소"
   ]
  },
  {
   "cell_type": "markdown",
   "id": "6fcf732b-1277-4ba0-862a-236a4adef6b4",
   "metadata": {},
   "source": [
    "## 5.1. Set (순서가 없다)\n",
    "- 수학에서의 집합과 비슷한 개념\n",
    "\n",
    "- (핵심) 중복값이 없음.\n",
    "\n",
    "- 선언 : `var_name = {value1, value2, value3, ...}`\n",
    "\n",
    "- 순서가 없기 때문에, 접근 (특정 index 의 데이터의 값을 불러오는 것은 불가능.)"
   ]
  },
  {
   "cell_type": "code",
   "execution_count": 61,
   "id": "22bf1b6f-0d8b-43ae-b7ae-51556b4adf0f",
   "metadata": {},
   "outputs": [],
   "source": [
    "my_set_a = {1, 2, 3, 4, 5}\n",
    "my_set_b = {1, 3, 5, 7, 9}"
   ]
  },
  {
   "cell_type": "code",
   "execution_count": 63,
   "id": "a4f62923-f364-440f-82d7-95f4d74907cf",
   "metadata": {},
   "outputs": [
    {
     "name": "stdout",
     "output_type": "stream",
     "text": [
      "{1, 2, 3, 4, 5}\n",
      "{1, 3, 5, 7, 9}\n"
     ]
    }
   ],
   "source": [
    "print(my_set_a)\n",
    "print(my_set_b)"
   ]
  },
  {
   "cell_type": "code",
   "execution_count": 64,
   "id": "6713b876-277b-4765-9667-27db1a19ac55",
   "metadata": {},
   "outputs": [
    {
     "name": "stdout",
     "output_type": "stream",
     "text": [
      "{1, 2, 3, 4, 5}\n"
     ]
    }
   ],
   "source": [
    "my_set_a = {1, 2, 3, 4, 5, 5, 5, 5 }\n",
    "my_set_b = {1, 3, 5, 7, 9}\n",
    "print(my_set_a)\n",
    "# 중복값이 없기 때문에 5를 여러번 적었어도, 단 한번만 보여줌. "
   ]
  },
  {
   "cell_type": "code",
   "execution_count": 67,
   "id": "81e50fee-9a4d-4881-b93d-98ba258721ee",
   "metadata": {},
   "outputs": [
    {
     "name": "stdout",
     "output_type": "stream",
     "text": [
      "{2, 4}\n",
      "{1, 2, 3, 4, 5, 7, 9}\n",
      "{1, 3, 5}\n"
     ]
    }
   ],
   "source": [
    "print(my_set_a - my_set_b)\n",
    "print(my_set_a | my_set_b)\n",
    "# 더하기는 + 기호가 아닌 pipe (|) 로\n",
    "print(my_set_a & my_set_b)\n",
    "# & 기호는 교집합"
   ]
  },
  {
   "cell_type": "code",
   "execution_count": 70,
   "id": "2fb33df9-5fab-4a8e-bcba-263101e768d3",
   "metadata": {},
   "outputs": [
    {
     "name": "stdout",
     "output_type": "stream",
     "text": [
      "{'인천', '제주', '대구', '서울'}\n"
     ]
    }
   ],
   "source": [
    "#set로 강제로 형변환 -> List 자료를 Set 로 => 중복된 값 데이터를 제거 할 때\n",
    "location = ['서울', '서울', '서울', '인천', '대구', '제주', '제주', '제주']\n",
    "print(set(location))"
   ]
  },
  {
   "cell_type": "markdown",
   "id": "6a52dfe1-0a6b-432d-a18c-8869199289ef",
   "metadata": {},
   "source": [
    "## 5.2. Dictionary (가장 많이 쓰이는 데이터 중 하나)\n",
    "내가 찾고자 하는 그 값의 이름 (key) - 거기에 저장된 내용 (value)\n",
    "- 선언 : `var_name = {key1: value1, key2: value2, key3: value 3, ...}`\n",
    "- 접근 : `var_name[key]`\n",
    "- `key` 에는 대부분 `String` 을 적는다."
   ]
  },
  {
   "cell_type": "code",
   "execution_count": 71,
   "id": "fce21520-545b-4535-828d-77fba7920692",
   "metadata": {},
   "outputs": [
    {
     "name": "stdout",
     "output_type": "stream",
     "text": [
      "02\n"
     ]
    }
   ],
   "source": [
    "my_dict = {'서울': '02', '경기': '031'}\n",
    "print(my_dict['서울'])\n",
    "#02를 통해서는 서울에 접근이 불가능\n",
    "#항상 key 값을 가지고 데이터에 접근 (value에) 가능하다. "
   ]
  },
  {
   "cell_type": "code",
   "execution_count": 75,
   "id": "7d90e14b-0b58-4f68-ad3e-223a278c1641",
   "metadata": {},
   "outputs": [],
   "source": [
    "my_info = {\n",
    "    'name': 'Changhee', \n",
    "    'location': 'Seoul',\n",
    "    'age': 10,\n",
    "    'skill': ['python', 'git']\n",
    "}"
   ]
  },
  {
   "cell_type": "code",
   "execution_count": 76,
   "id": "2330041e-3f90-4608-84d5-f72f9f8c0dff",
   "metadata": {},
   "outputs": [
    {
     "name": "stdout",
     "output_type": "stream",
     "text": [
      "Changhee\n",
      "['python', 'git']\n"
     ]
    }
   ],
   "source": [
    "print(my_info['name'])\n",
    "print(my_info['skill'])"
   ]
  },
  {
   "cell_type": "code",
   "execution_count": 80,
   "id": "aa6129ef-afd0-431d-8e3e-fd4d8e6e20b9",
   "metadata": {},
   "outputs": [
    {
     "name": "stdout",
     "output_type": "stream",
     "text": [
      "['python', 'git']\n"
     ]
    }
   ],
   "source": [
    "print(my_info['skill'])\n",
    "#[]대괄호로 감싸고 있는 list 의 인덱스에 접근하여 git 을 가져오려면"
   ]
  },
  {
   "cell_type": "code",
   "execution_count": 83,
   "id": "d768f5be-2f2a-45e9-a865-1bfd99d82ffe",
   "metadata": {},
   "outputs": [
    {
     "name": "stdout",
     "output_type": "stream",
     "text": [
      "git\n"
     ]
    }
   ],
   "source": [
    "print(my_info['skill'][1])"
   ]
  },
  {
   "cell_type": "markdown",
   "id": "523cb0e7-5d98-40a6-8636-53bcbd9c08f9",
   "metadata": {},
   "source": [
    "## **데이터 타입**\n",
    "- Number\n",
    "- Boolean\n",
    "- String\n",
    "\n",
    "## **자료구조**\n",
    "- sequence\n",
    "\n",
    "  1. [List] : mutable (수정이 가능하다)\n",
    "  2. (Tuple) : immutable (수정이 불가능하다)\n",
    "  3. range() : immutable\n",
    "  4. 'String' : immutable\n",
    "\n",
    "(immutable - 인덱스로 접근해서 그 인덱스를 수정한다는 의미 (완전히 덮어쓰기는 가능하나/ 일부분 (재할당) 은 불가능하다.)\n",
    "\n",
    "- sequence 가 아닌 것\n",
    "  1. {Set} : mutable\n",
    "  2. {Dict: ionary} : mutable"
   ]
  },
  {
   "cell_type": "code",
   "execution_count": null,
   "id": "b677c7aa-7b69-420e-b9c9-33e82b9faec9",
   "metadata": {},
   "outputs": [],
   "source": []
  },
  {
   "cell_type": "code",
   "execution_count": null,
   "id": "3889717e-346c-498c-95cf-1314438984ca",
   "metadata": {},
   "outputs": [],
   "source": []
  },
  {
   "cell_type": "code",
   "execution_count": null,
   "id": "599e6e04-ada2-473d-b921-1313a9be552e",
   "metadata": {},
   "outputs": [],
   "source": []
  },
  {
   "cell_type": "code",
   "execution_count": null,
   "id": "82c03c95-2c2e-4fd5-aac9-1702873be2e3",
   "metadata": {},
   "outputs": [],
   "source": []
  },
  {
   "cell_type": "code",
   "execution_count": null,
   "id": "51148d12-24c1-4581-a927-4518c9d34ebb",
   "metadata": {},
   "outputs": [],
   "source": []
  },
  {
   "cell_type": "code",
   "execution_count": null,
   "id": "d277a9b7-737a-42b0-a8c1-92a37b2eb5ec",
   "metadata": {},
   "outputs": [],
   "source": []
  },
  {
   "cell_type": "code",
   "execution_count": null,
   "id": "094d0f7f-769d-4c07-9d27-292929381c50",
   "metadata": {},
   "outputs": [],
   "source": []
  },
  {
   "cell_type": "code",
   "execution_count": null,
   "id": "7dcf6234-75bd-4b9c-929e-8b873a283c63",
   "metadata": {},
   "outputs": [],
   "source": []
  },
  {
   "cell_type": "code",
   "execution_count": null,
   "id": "35b3976f-6278-4f05-8c24-2d7845e77367",
   "metadata": {},
   "outputs": [],
   "source": []
  },
  {
   "cell_type": "code",
   "execution_count": null,
   "id": "9f304d0c-85eb-4eb3-8efe-5da73d23c423",
   "metadata": {},
   "outputs": [],
   "source": []
  },
  {
   "cell_type": "code",
   "execution_count": null,
   "id": "9a03fbd7-d99b-41a5-9da5-ae2cd7968b1f",
   "metadata": {},
   "outputs": [],
   "source": []
  },
  {
   "cell_type": "code",
   "execution_count": null,
   "id": "e548925c-849d-40d3-a361-858f1f883628",
   "metadata": {},
   "outputs": [],
   "source": []
  },
  {
   "cell_type": "code",
   "execution_count": null,
   "id": "be0f73c8-204f-47cc-bae5-66a15a5e79aa",
   "metadata": {},
   "outputs": [],
   "source": []
  }
 ],
 "metadata": {
  "kernelspec": {
   "display_name": "Python 3 (ipykernel)",
   "language": "python",
   "name": "python3"
  },
  "language_info": {
   "codemirror_mode": {
    "name": "ipython",
    "version": 3
   },
   "file_extension": ".py",
   "mimetype": "text/x-python",
   "name": "python",
   "nbconvert_exporter": "python",
   "pygments_lexer": "ipython3",
   "version": "3.13.2"
  }
 },
 "nbformat": 4,
 "nbformat_minor": 5
}
