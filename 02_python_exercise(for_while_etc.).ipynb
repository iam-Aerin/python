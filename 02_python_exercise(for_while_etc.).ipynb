{
 "cells": [
  {
   "cell_type": "markdown",
   "id": "1c73f983-5609-4377-948c-8b694e8be60e",
   "metadata": {},
   "source": [
    "### Python 예제 문제 풀이\n",
    "13.02.2025 (Thu)"
   ]
  },
  {
   "cell_type": "code",
   "execution_count": 1,
   "id": "aae50fad-dc1d-4ea8-990f-99495940c3d3",
   "metadata": {},
   "outputs": [
    {
     "name": "stdout",
     "output_type": "stream",
     "text": [
      "100 <class 'str'>\n"
     ]
    }
   ],
   "source": [
    "#017 정수를 문자열100으로 변환하기\n",
    "num = 100\n",
    "result = str(num)\n",
    "print(result, type(result))"
   ]
  },
  {
   "cell_type": "code",
   "execution_count": 4,
   "id": "3f9fc7d4-d054-435f-9eb0-b2c2a267c89e",
   "metadata": {},
   "outputs": [
    {
     "name": "stdout",
     "output_type": "stream",
     "text": [
      "15.79 <class 'float'>\n"
     ]
    }
   ],
   "source": [
    "#018 문자열 \"15.79\"를 float 타입으로 변환하기\n",
    "data = \"15.79\"\n",
    "result = float(data)\n",
    "print(result, type(result))"
   ]
  },
  {
   "cell_type": "code",
   "execution_count": 10,
   "id": "a02516d1-677b-414b-b6c0-5af3a6760d3e",
   "metadata": {},
   "outputs": [
    {
     "name": "stdout",
     "output_type": "stream",
     "text": [
      "year-1 year year+1\n"
     ]
    }
   ],
   "source": [
    "# 019 문자열을 정수로 변환\n",
    "# year라는 변수가 문자열 타입의 연도를 바인딩하고 있습니다. \n",
    "# 이를 정수로 변환한 후 최근 3년의 연도를 화면에 출력해보세요.\n",
    "year = \"2020\"\n",
    "result = int(year)\n",
    "print('year-1', 'year', 'year+1')\n",
    "\n",
    "#내 풀이는 틀렸음. "
   ]
  },
  {
   "cell_type": "code",
   "execution_count": 9,
   "id": "8da9b9af-3d1f-480a-80ae-b65cb30b5d90",
   "metadata": {},
   "outputs": [
    {
     "name": "stdout",
     "output_type": "stream",
     "text": [
      "2017\n",
      "2018\n",
      "2019\n"
     ]
    }
   ],
   "source": [
    "year = \"2020\"\n",
    "print(int(year)-3)  # 2017\n",
    "print(int(year)-2)  # 2018\n",
    "print(int(year)-1)  # 2019\n"
   ]
  },
  {
   "cell_type": "code",
   "execution_count": 12,
   "id": "06c4650a-8837-48c8-96f0-b1cc7fef532c",
   "metadata": {},
   "outputs": [
    {
     "name": "stdout",
     "output_type": "stream",
     "text": [
      "p t\n"
     ]
    }
   ],
   "source": [
    "#021 문자열 인덱싱\n",
    "#letters가 바인딩하는 문자열에서 첫번째와 세번째 문자를 출력하세요.\n",
    "letters = 'python'\n",
    "print(letters[0], letters[2])"
   ]
  },
  {
   "cell_type": "code",
   "execution_count": 15,
   "id": "60f42a57-e58b-4448-83e8-9accd9319103",
   "metadata": {},
   "outputs": [
    {
     "name": "stdout",
     "output_type": "stream",
     "text": [
      "2210\n"
     ]
    }
   ],
   "source": [
    "# 022 문자열 슬라이싱\n",
    "# 자동차 번호가 다음과 같을 때 뒤에 4자리만 출력하세요.\n",
    "license_plate = \"24가 2210\"\n",
    "# 문자열에서 여러 글자를 가져오는 것을 슬라이싱이라고 부릅니다. \n",
    "# 음수 값은 문자열의 뒤에서부터 인덱싱 또는 슬라이싱함을 의미합니다. \n",
    "# 슬라이싱에서 시작 인덱스를 생락혀면 0으로 간주하고 끝 인덱스를 생략하면\n",
    "# 문자열의 끝을 의미합니다.\n",
    "print(license_plate[-4:])\n",
    "# -4는 문자열의 뒤에서 네 번째 문자부터 시작하라는 의미입니다.\n",
    "\n",
    "# : 뒤에 아무 값도 없으므로 문자열의 끝까지 슬라이싱합니다."
   ]
  },
  {
   "cell_type": "code",
   "execution_count": 16,
   "id": "f10f68fe-4df5-4ab7-acad-117e14627868",
   "metadata": {},
   "outputs": [
    {
     "name": "stdout",
     "output_type": "stream",
     "text": [
      "홀 홀 홀\n"
     ]
    }
   ],
   "source": [
    "# 023 문자열 인덱싱\n",
    "# 아래의 문자열에서 '홀' 만 출력하세요.\n",
    "string = \"홀짝홀짝홀짝\"\n",
    "print(string[0], string[2], string[4])"
   ]
  },
  {
   "cell_type": "code",
   "execution_count": null,
   "id": "90ce99c9-ef53-41c6-b81c-c5fd8482e8b3",
   "metadata": {},
   "outputs": [],
   "source": [
    "# 첫 번째 콜론(:) 앞의 빈칸은 시작 인덱스를 의미하며, \n",
    "#빈칸이므로 문자열의 처음부터 시작합니다.\n",
    "\n",
    "# 두 번째 콜론(:) 뒤의 2는 간격(step)을 의미합니다. \n",
    "#즉, 2씩 건너뛰며 문자를 추출합니다."
   ]
  },
  {
   "cell_type": "code",
   "execution_count": 17,
   "id": "c2abf0f3-1bb5-49af-ab38-659aceb4d999",
   "metadata": {},
   "outputs": [
    {
     "name": "stdout",
     "output_type": "stream",
     "text": [
      "NOHTYP\n"
     ]
    }
   ],
   "source": [
    "# 024 문자열 슬라이싱\n",
    "# 문자열을 거꾸로 뒤집어 출력하세요.\n",
    "string = \"PYTHON\"\n",
    "print(string[::-1])"
   ]
  },
  {
   "cell_type": "code",
   "execution_count": 20,
   "id": "be1366be-a738-4ee7-9636-377513b413fc",
   "metadata": {},
   "outputs": [],
   "source": [
    "# 025 문자열 치환\n",
    "# 아래의 전화번호에서 하이푼 ('-')을 제거하고 출력하세요.\n",
    "phone_number = \"010-1111-2222\"\n"
   ]
  },
  {
   "cell_type": "code",
   "execution_count": 21,
   "id": "e46096ce-5cd3-4255-9522-f2c502f4ce81",
   "metadata": {},
   "outputs": [
    {
     "name": "stdout",
     "output_type": "stream",
     "text": [
      "01011112222\n"
     ]
    }
   ],
   "source": [
    "# 026 문자열 다루기\n",
    "# 25번 문제의 전화번호를 아래와 같이 모두 붙여 출력하세요.\n",
    "phone_number = \"010-1111-2222\"\n",
    "phone_number1 = phone_number.replace('-', '')\n",
    "print(phone_number1)"
   ]
  },
  {
   "cell_type": "code",
   "execution_count": 23,
   "id": "246c6458-ad25-4677-be95-5d23c73feaed",
   "metadata": {},
   "outputs": [
    {
     "name": "stdout",
     "output_type": "stream",
     "text": [
      "kr\n"
     ]
    }
   ],
   "source": [
    "# 027 문자열 다루기\n",
    "# url 에 저장된 웹 페이지 주소에서 도메인을 출력하세요.\n",
    "url = \"http://sharebook.kr\"\n",
    "print(url[-2:])\n",
    "\n",
    "# url = \"http://sharebook.kr\"\n",
    "# url_split = url.split('.')\n",
    "# print(url_split[-1])\n"
   ]
  },
  {
   "cell_type": "code",
   "execution_count": 24,
   "id": "28e38e09-f0d7-47bd-a09e-5849856dde82",
   "metadata": {},
   "outputs": [
    {
     "ename": "TypeError",
     "evalue": "'str' object does not support item assignment",
     "output_type": "error",
     "traceback": [
      "\u001b[1;31m---------------------------------------------------------------------------\u001b[0m",
      "\u001b[1;31mTypeError\u001b[0m                                 Traceback (most recent call last)",
      "Cell \u001b[1;32mIn[24], line 3\u001b[0m\n\u001b[0;32m      1\u001b[0m \u001b[38;5;66;03m# 028 문자열은 immutable\u001b[39;00m\n\u001b[0;32m      2\u001b[0m lang \u001b[38;5;241m=\u001b[39m \u001b[38;5;124m'\u001b[39m\u001b[38;5;124mpython\u001b[39m\u001b[38;5;124m'\u001b[39m\n\u001b[1;32m----> 3\u001b[0m \u001b[43mlang\u001b[49m\u001b[43m[\u001b[49m\u001b[38;5;241;43m0\u001b[39;49m\u001b[43m]\u001b[49m \u001b[38;5;241m=\u001b[39m \u001b[38;5;124m'\u001b[39m\u001b[38;5;124mP\u001b[39m\u001b[38;5;124m'\u001b[39m\n\u001b[0;32m      4\u001b[0m \u001b[38;5;28mprint\u001b[39m(lang)\n",
      "\u001b[1;31mTypeError\u001b[0m: 'str' object does not support item assignment"
     ]
    }
   ],
   "source": [
    "# 028 문자열은 immutable\n",
    "lang = 'python'\n",
    "lang[0] = 'P'\n",
    "print(lang)\n"
   ]
  },
  {
   "cell_type": "code",
   "execution_count": 25,
   "id": "67e2616a-f6d2-46b6-a515-dd664be7b522",
   "metadata": {},
   "outputs": [],
   "source": [
    "# 문자열은 index 변경이 불가능하다. immutable"
   ]
  },
  {
   "cell_type": "code",
   "execution_count": 26,
   "id": "3455e94b-325c-48c9-b25c-990d2017fcb9",
   "metadata": {},
   "outputs": [
    {
     "name": "stdout",
     "output_type": "stream",
     "text": [
      "Abcdfe2A354A32A\n"
     ]
    }
   ],
   "source": [
    "# 029 replace 메서드\n",
    "# 아래 문자열에서 소문자 'a'를 대문자 'A'로 변경하세요.\n",
    "string = 'abcdfe2a354a32a'\n",
    "string = string.replace('a', 'A')\n",
    "print(string)"
   ]
  },
  {
   "cell_type": "code",
   "execution_count": 27,
   "id": "e37930b7-6be9-4ee4-86d5-4e75f7022089",
   "metadata": {},
   "outputs": [
    {
     "name": "stdout",
     "output_type": "stream",
     "text": [
      "abcd\n"
     ]
    }
   ],
   "source": [
    "#030 replace 메서드\n",
    "string = 'abcd'\n",
    "string.replace('b', 'B')\n",
    "print(string)\n",
    "#변경된 값을 저장하지 않았으므로, 변경한 내용이 저장되지 않는다. "
   ]
  },
  {
   "cell_type": "code",
   "execution_count": null,
   "id": "efb15d20-2b9c-41b0-afa1-5664846e7099",
   "metadata": {},
   "outputs": [],
   "source": [
    "# replace() 메서드는 원본 문자열을 변경하지 않고 새로운 문자열을 반환한다!\n",
    "# 따라서 변경된 값을 유지하려면 새로운 변수에 저장하거나 기존 변수에 다시 할당해야 해."
   ]
  },
  {
   "cell_type": "code",
   "execution_count": 30,
   "id": "d1f110c6-86aa-448b-b78e-335ed5d57360",
   "metadata": {},
   "outputs": [
    {
     "name": "stdout",
     "output_type": "stream",
     "text": [
      "34\n",
      "HiHiHi\n"
     ]
    }
   ],
   "source": [
    "# 031 문자열 합치기\n",
    "# 아래 코드의 실행 결과를 예상해보세요.\n",
    "\n",
    "a = \"3\"\n",
    "b = \"4\"\n",
    "print(a + b)\n",
    "\n",
    "#032\n",
    "print(\"Hi\" * 3)"
   ]
  },
  {
   "cell_type": "code",
   "execution_count": 31,
   "id": "4b55c8d6-6cf1-4659-8e22-b9e95cb158a0",
   "metadata": {},
   "outputs": [
    {
     "name": "stdout",
     "output_type": "stream",
     "text": [
      "--------------------------------------------------------------------------------\n"
     ]
    }
   ],
   "source": [
    "# 033 문자열 곱하기\n",
    "# 화면에 '-'를 80개 출력하세요.\n",
    "print('-' * 80)"
   ]
  },
  {
   "cell_type": "code",
   "execution_count": 32,
   "id": "d685a3be-1f61-4a59-a264-cab2bf35e41e",
   "metadata": {},
   "outputs": [
    {
     "name": "stdout",
     "output_type": "stream",
     "text": [
      "pythonjavapythonjavapythonjavapythonjava\n"
     ]
    }
   ],
   "source": [
    "# 034 문자열 곱하기\n",
    "# 변수에 다음과 같은 문자열이 바인딩되어 있습니다.\n",
    "\n",
    "t1 = 'python'\n",
    "t2 = 'java'\n",
    "# 변수에 문자열 더하기와 문자열 곱하기를 사용해서 아래와 같이 출력해보세요.\n",
    "print((t1+t2)*4)"
   ]
  },
  {
   "cell_type": "code",
   "execution_count": 35,
   "id": "9be99d14-2a16-477c-a4df-e85c2b39d7a0",
   "metadata": {},
   "outputs": [
    {
     "name": "stdout",
     "output_type": "stream",
     "text": [
      "python java python java python java python java \n"
     ]
    }
   ],
   "source": [
    "#위의 문제에서 띄어쓰기를 추가하려면\n",
    "print((t1+ \" \" + t2 + \" \") * 4)"
   ]
  },
  {
   "cell_type": "code",
   "execution_count": 40,
   "id": "2cc6aad9-a77e-4bc2-a456-75e501784abf",
   "metadata": {},
   "outputs": [
    {
     "name": "stdout",
     "output_type": "stream",
     "text": [
      "이름: 김민수 나이: 10\n",
      "이름: 이철희 나이: 13\n"
     ]
    }
   ],
   "source": [
    "# 035 문자열 출력\n",
    "# 변수에 다음과 같이 문자열과 정수가 바인딩되어 있을 때 \n",
    "# % formatting을 사용해서 다음과 같이 출력해보세요.\n",
    "# 이름: 김민수 나이: 10\n",
    "# 이름: 이철희 나이: 13\n",
    "\n",
    "name1 = \"김민수\" \n",
    "age1 = 10\n",
    "name2 = \"이철희\"\n",
    "age2 = 13\n",
    "print(\"이름: %s 나이: %d\" % (name1, age1))\n",
    "print(\"이름: %s 나이: %d\" % (name2, age2))\n",
    "\n",
    "# print 포맷팅에서 `%s`는 문자열 데이터 타입의 값을 \n",
    "# `%d`는 정수형 데이터 타입 값의 출력을 의미합니다. "
   ]
  },
  {
   "cell_type": "code",
   "execution_count": 42,
   "id": "93ea0f4e-9823-405b-944d-ecd8ba1ed81e",
   "metadata": {},
   "outputs": [
    {
     "name": "stdout",
     "output_type": "stream",
     "text": [
      "이름: 김민수 나이: 10\n",
      "이름: 이철희 나이: 13\n",
      "이름: 김민수 나이: 10\n",
      "이름: 이철희 나이: 13\n"
     ]
    }
   ],
   "source": [
    "#036 문자열 출력\n",
    "#format() 메서드를 사용해서 문제 풀기\n",
    "\n",
    "print(\"이름: {} 나이: {}\" .format(name1, age1))\n",
    "print(\"이름: {} 나이: {}\" .format(name2, age2))\n",
    "\n",
    "# 037 문자열 출력\n",
    "# 파이썬 3.6부터 지원하는 f-string을 사용\n",
    "print(f\"이름: {name1} 나이: {age1}\")\n",
    "print(f\"이름: {name2} 나이: {age2}\")"
   ]
  },
  {
   "cell_type": "code",
   "execution_count": 46,
   "id": "51e7df40-b735-4fab-ae0f-452f35203f0d",
   "metadata": {},
   "outputs": [
    {
     "name": "stdout",
     "output_type": "stream",
     "text": [
      "5969782550 <class 'int'>\n"
     ]
    }
   ],
   "source": [
    "# 038 컴마 제거하기\n",
    "# 삼성전자의 상장주식수가 다음과 같습니다. \n",
    "# 컴마를 제거한 후 이를 정수 타입으로 변환해보세요.\n",
    "\n",
    "상장주식수 = \"5,969,782,550\"\n",
    "컴마제거 = 상장주식수.replace(\",\",\"\")\n",
    "타입변환 = int(컴마제거)\n",
    "print(타입변환, type(타입변환))"
   ]
  },
  {
   "cell_type": "code",
   "execution_count": 47,
   "id": "9235f3cb-84f4-4f43-9236-2b9f811fbea8",
   "metadata": {},
   "outputs": [
    {
     "name": "stdout",
     "output_type": "stream",
     "text": [
      "2020/03\n"
     ]
    }
   ],
   "source": [
    "# 039 문자열 슬라이싱\n",
    "# 다음과 같은 문자열에서 '2020/03'만 출력하세요.\n",
    "분기 = \"2020/03(E) (IFRS연결)\"\n",
    "print(분기[:7])"
   ]
  },
  {
   "cell_type": "code",
   "execution_count": 48,
   "id": "4eca5b29-039a-4acf-be8c-b5cee3d6a929",
   "metadata": {},
   "outputs": [
    {
     "name": "stdout",
     "output_type": "stream",
     "text": [
      "삼성전자\n"
     ]
    }
   ],
   "source": [
    "# 040 strip 메서드\n",
    "# 문자열의 좌우의 공백이 있을 때 이를 제거해보세요.\n",
    "\n",
    "data = \"   삼성전자    \"\n",
    "# 문자열에서 strip( ) 메서드를 사용하면 좌우의 공백을 제거할 수 있습니다. \n",
    "# 이때 원본 문자열은 그대로 유지되고 공백이 제거된 새로운 문자열이 반환됩니다.\n",
    "data1 = data.strip()\n",
    "print(data1)"
   ]
  },
  {
   "cell_type": "code",
   "execution_count": 50,
   "id": "e6a47b80-4b21-4b49-ba82-9f805ccfaaff",
   "metadata": {},
   "outputs": [],
   "source": [
    "#https://wikidocs.net/78558\n",
    "#위링크의 문제는 건너뛰었음 (그냥)\n",
    "#051~070 / 121~130\n",
    "#파이썬 반복문 부터 다시 푸는 걸로. \n",
    "#https://wikidocs.net/78562"
   ]
  },
  {
   "cell_type": "code",
   "execution_count": 52,
   "id": "f3a7f13f-27d5-4c91-b007-c25c9dc4180b",
   "metadata": {},
   "outputs": [
    {
     "name": "stdout",
     "output_type": "stream",
     "text": [
      "사과\n",
      "귤\n",
      "수박\n"
     ]
    }
   ],
   "source": [
    "#131 for문의 실행결과를 예측하라.\n",
    "\n",
    "과일 = [\"사과\", \"귤\", \"수박\"]\n",
    "for 변수 in 과일:\n",
    "    print(변수)"
   ]
  },
  {
   "cell_type": "code",
   "execution_count": 55,
   "id": "35a067e6-2d69-404f-b248-dbe69fffc2a4",
   "metadata": {},
   "outputs": [
    {
     "name": "stdout",
     "output_type": "stream",
     "text": [
      "#####\n",
      "#####\n",
      "#####\n"
     ]
    }
   ],
   "source": [
    "# 132 for문의 실행결과를 예측하라.\n",
    "\n",
    "과일 = [\"사과\", \"귤\", \"수박\"]\n",
    "for 변수 in 과일:\n",
    "  print(\"#####\")\n",
    "\n",
    "# for문의 핵심은 \"들여쓰기된 코드가 자료구조에 저장된 데이터 개수만큼 반복된다\"라고 \n",
    "# 설명했습니다. `과일 = [\"사과\", \"귤\", \"수박\"]` 에는 세 개의 데이터가 저장돼 \n",
    "# 있으므로 들여쓰기된 `print(\"####\")`코드가 세 번 실행됩니다."
   ]
  },
  {
   "cell_type": "code",
   "execution_count": 56,
   "id": "089dd39c-a189-4333-9c09-e9fa2e44309b",
   "metadata": {},
   "outputs": [
    {
     "name": "stdout",
     "output_type": "stream",
     "text": [
      "A\n",
      "B\n",
      "C\n"
     ]
    }
   ],
   "source": [
    "#133 다음 for 문과 동일한 기능을 수행하는 코드를 작성하세요.\n",
    "\n",
    "for 변수 in [\"A\", \"B\", \"C\"]:\n",
    "  print(변수)"
   ]
  },
  {
   "cell_type": "code",
   "execution_count": 57,
   "id": "4233b2fb-e40f-4168-9a42-d2904e251211",
   "metadata": {},
   "outputs": [
    {
     "name": "stdout",
     "output_type": "stream",
     "text": [
      "출력: A\n",
      "출력: B\n",
      "출력: C\n"
     ]
    }
   ],
   "source": [
    "for 변수 in [\"A\", \"B\", \"C\"]:\n",
    "  print(\"출력:\", 변수)"
   ]
  },
  {
   "cell_type": "code",
   "execution_count": 61,
   "id": "da3fed27-fcff-4e52-8920-a1f51448b89d",
   "metadata": {},
   "outputs": [
    {
     "name": "stdout",
     "output_type": "stream",
     "text": [
      "변수= 10\n",
      "변수= 20\n",
      "변수= 30\n"
     ]
    }
   ],
   "source": [
    "# 136 다음 코드를 for문으로 작성하라.\n",
    "\n",
    "# 변수 = 10\n",
    "# print(변수)\n",
    "# 변수 = 20\n",
    "# print(변수)\n",
    "# 변수 = 30\n",
    "# print(변수)\n",
    "\n",
    "10\n",
    "20\n",
    "30\n",
    "for 변수 in [\"10\", \"20\", \"30\"]:\n",
    "    print(\"변수=\", 변수)"
   ]
  },
  {
   "cell_type": "code",
   "execution_count": 63,
   "id": "652f30ad-3f74-40a5-8a94-ce8a1e4bfb0c",
   "metadata": {},
   "outputs": [
    {
     "name": "stdout",
     "output_type": "stream",
     "text": [
      "10\n",
      "20\n",
      "30\n"
     ]
    }
   ],
   "source": [
    "# 137 다음 코드를 for문으로 작성하라.\n",
    "\n",
    "# print(10)\n",
    "# print(20)\n",
    "# print(30)\n",
    "\n",
    "for 변수 in [10, 20, 30]:\n",
    "    print(변수)"
   ]
  },
  {
   "cell_type": "code",
   "execution_count": 64,
   "id": "21bf09bc-a819-42d9-a9ed-279d47b021fe",
   "metadata": {},
   "outputs": [
    {
     "name": "stdout",
     "output_type": "stream",
     "text": [
      "10\n",
      "-------\n",
      "20\n",
      "-------\n",
      "30\n",
      "-------\n"
     ]
    }
   ],
   "source": [
    "# 138 다음 코드를 for문으로 작성하라.\n",
    "print(10)\n",
    "print(\"-------\")\n",
    "print(20)\n",
    "print(\"-------\")\n",
    "print(30)\n",
    "print(\"-------\")"
   ]
  },
  {
   "cell_type": "code",
   "execution_count": 65,
   "id": "8e3bc93a-bd5b-41a5-b710-5c85c4f97d68",
   "metadata": {},
   "outputs": [
    {
     "name": "stdout",
     "output_type": "stream",
     "text": [
      "10\n",
      "-------\n",
      "20\n",
      "-------\n",
      "30\n",
      "-------\n"
     ]
    }
   ],
   "source": [
    "for 변수 in [10, 20, 30]:\n",
    "  print(변수)\n",
    "  print(\"-------\")"
   ]
  },
  {
   "cell_type": "code",
   "execution_count": 66,
   "id": "d5ffc783-ef7b-4308-ab25-2e6b84cde044",
   "metadata": {},
   "outputs": [
    {
     "name": "stdout",
     "output_type": "stream",
     "text": [
      "++++\n",
      "10\n",
      "20\n",
      "30\n"
     ]
    }
   ],
   "source": [
    "#139 다음 코드를 for문으로 작성하라.\n",
    "\n",
    "print(\"++++\")\n",
    "print(10)\n",
    "print(20)\n",
    "print(30)"
   ]
  },
  {
   "cell_type": "code",
   "execution_count": 68,
   "id": "573f4da1-69f8-4616-ba60-936379e7d1de",
   "metadata": {},
   "outputs": [
    {
     "name": "stdout",
     "output_type": "stream",
     "text": [
      "++++\n",
      "10\n",
      "20\n",
      "30\n"
     ]
    }
   ],
   "source": [
    "print(\"++++\")\n",
    "for 변수 in [10, 20, 30]:\n",
    "    print(변수)"
   ]
  },
  {
   "cell_type": "code",
   "execution_count": 69,
   "id": "d85c5aee-16a7-4123-a0ea-3f51392da330",
   "metadata": {},
   "outputs": [
    {
     "name": "stdout",
     "output_type": "stream",
     "text": [
      "-------\n",
      "-------\n",
      "-------\n",
      "-------\n"
     ]
    }
   ],
   "source": [
    "#140 다음 코드를 for문으로 작성하라.\n",
    "\n",
    "print(\"-------\")\n",
    "print(\"-------\")\n",
    "print(\"-------\")\n",
    "print(\"-------\")"
   ]
  },
  {
   "cell_type": "code",
   "execution_count": 76,
   "id": "7ef52f2a-a51d-4389-b95d-a036fad0b03e",
   "metadata": {},
   "outputs": [
    {
     "name": "stdout",
     "output_type": "stream",
     "text": [
      "-------\n",
      "-------\n",
      "-------\n",
      "-------\n"
     ]
    }
   ],
   "source": [
    "for 변수 in [1, 2, 3, 4]:\n",
    "    print(\"-------\")"
   ]
  },
  {
   "cell_type": "code",
   "execution_count": 83,
   "id": "66b1c0e0-6516-40c8-a2cc-1d87b5629dbe",
   "metadata": {},
   "outputs": [
    {
     "name": "stdout",
     "output_type": "stream",
     "text": [
      "110\n",
      "210\n",
      "310\n"
     ]
    }
   ],
   "source": [
    "# 141 다음과 같이 판매가가 저장된 리스트가 있을 때 부가세가 \n",
    "# 포함된 가격을 for 문을 사용해서 화면에 출력하라. 단 부가세는 10원으로 가정한다.\n",
    "\n",
    "리스트 = [100, 200, 300]\n",
    "\n",
    "for i in 리스트:\n",
    "    print(i + 10)"
   ]
  },
  {
   "cell_type": "code",
   "execution_count": 92,
   "id": "4548b185-edc2-40f4-b802-bb0143c8e8a8",
   "metadata": {},
   "outputs": [
    {
     "name": "stdout",
     "output_type": "stream",
     "text": [
      "오늘의 메뉴: 김밥\n",
      "오늘의 메뉴: 라면\n",
      "오늘의 메뉴: 튀김\n"
     ]
    }
   ],
   "source": [
    "# 142 for 문을 사용해서 리스트에 저장된 값을 다음과 같이 출력하라.\n",
    "\n",
    "리스트 = [\"김밥\", \"라면\", \"튀김\"]\n",
    "# 오늘의 메뉴: 김밥\n",
    "# 오늘의 메뉴: 라면\n",
    "# 오늘의 메뉴: 튀김\n",
    "\n",
    "for 메뉴 in 리스트:\n",
    "    print(\"오늘의 메뉴:\", 메뉴)"
   ]
  },
  {
   "cell_type": "code",
   "execution_count": 93,
   "id": "05fb37fa-2263-4181-b88c-97bd3e1caaee",
   "metadata": {},
   "outputs": [
    {
     "name": "stdout",
     "output_type": "stream",
     "text": [
      "6\n",
      "4\n",
      "4\n"
     ]
    }
   ],
   "source": [
    "# 143 리스트에 주식 종목이름이 저장돼 있다.\n",
    "# 안배웠음.\n",
    "\n",
    "리스트 = [\"SK하이닉스\", \"삼성전자\", \"LG전자\"]\n",
    "for 종목명 in 리스트:\n",
    "  길이 = len(종목명)\n",
    "  print(길이)\n"
   ]
  },
  {
   "cell_type": "code",
   "execution_count": 94,
   "id": "89d621dc-4104-4c7e-a13d-cd2ebc5968dd",
   "metadata": {},
   "outputs": [
    {
     "name": "stdout",
     "output_type": "stream",
     "text": [
      "dog 3\n",
      "cat 3\n",
      "parrot 6\n"
     ]
    }
   ],
   "source": [
    "#144 리스트에는 동물이름이 문자열로 저장돼 있다.\n",
    "\n",
    "리스트 = ['dog', 'cat', 'parrot']\n",
    "#동물 이름과 글자수를 다음과 같이 출력하라.\n",
    "\n",
    "# dog 3\n",
    "# cat 3\n",
    "# parrot 6\n",
    "\n",
    "for 동물 in 리스트:\n",
    "    길이 = len(동물)\n",
    "    print(동물, 길이)"
   ]
  },
  {
   "cell_type": "code",
   "execution_count": 95,
   "id": "ce5e8d0b-c889-4c70-81e7-cc520c2e7344",
   "metadata": {},
   "outputs": [
    {
     "name": "stdout",
     "output_type": "stream",
     "text": [
      "d\n",
      "c\n",
      "p\n"
     ]
    }
   ],
   "source": [
    "#145 리스트에 동물 이름 저장돼 있다.\n",
    "\n",
    "리스트 = ['dog', 'cat', 'parrot']\n",
    "#for문을 사용해서 동물 이름의 첫 글자만 출력하라.\n",
    "\n",
    "for 동물 in 리스트:\n",
    "    print(동물[0])"
   ]
  },
  {
   "cell_type": "code",
   "execution_count": 98,
   "id": "a202edf5-df3c-48a5-9d1b-2ca132ef8b2c",
   "metadata": {},
   "outputs": [
    {
     "name": "stdout",
     "output_type": "stream",
     "text": [
      "3 x 1\n",
      "3 x 2\n",
      "3 x 3\n"
     ]
    }
   ],
   "source": [
    "#146 리스트에는 세 개의 숫자가 바인딩돼 있다.\n",
    "\n",
    "리스트 = [1, 2, 3]\n",
    "#for문을 사용해서 다음과 같이 출력하라.\n",
    "\n",
    "# 3 x 1\n",
    "# 3 x 2\n",
    "# 3 x 3\n",
    "\n",
    "for i in 리스트:\n",
    "    print('3 x', i)"
   ]
  },
  {
   "cell_type": "code",
   "execution_count": 102,
   "id": "fbda5494-d099-40a6-b7e9-e84e7ffc0f9f",
   "metadata": {},
   "outputs": [
    {
     "name": "stdout",
     "output_type": "stream",
     "text": [
      "3 x 1 = 3\n",
      "3 x 2 = 6\n",
      "3 x 3 = 9\n"
     ]
    }
   ],
   "source": [
    "# 146 리스트에는 세 개의 숫자가 바인딩돼 있다.\n",
    "\n",
    "리스트 = [1, 2, 3]\n",
    "# for문을 사용해서 다음과 같이 출력하라.\n",
    "\n",
    "# 3 x 1 = 3\n",
    "# 3 x 2 = 6\n",
    "# 3 x 3 = 9\n",
    "\n",
    "for i in 리스트:\n",
    "    print('3 x', i, '=', 3*i)\n",
    "    "
   ]
  },
  {
   "cell_type": "code",
   "execution_count": 105,
   "id": "07d2db8b-daef-4c53-811c-a70d6f11abd2",
   "metadata": {},
   "outputs": [
    {
     "name": "stdout",
     "output_type": "stream",
     "text": [
      "나\n",
      "다\n",
      "라\n"
     ]
    }
   ],
   "source": [
    "# 148 리스트에는 네 개의 문자열이 바인딩돼 있다.\n",
    "\n",
    "리스트 = [\"가\", \"나\", \"다\", \"라\"]\n",
    "# for문을 사용해서 다음과 같이 출력하라.\n",
    "\n",
    "# 나\n",
    "# 다\n",
    "# 라\n",
    "\n",
    "리스트 = 리스트[1:]\n",
    "for 변수 in 리스트:\n",
    "    print(변수)"
   ]
  },
  {
   "cell_type": "code",
   "execution_count": 113,
   "id": "644b3003-cc6b-4fef-b771-cae5cbe47045",
   "metadata": {},
   "outputs": [
    {
     "name": "stdout",
     "output_type": "stream",
     "text": [
      "가\n",
      "다\n"
     ]
    }
   ],
   "source": [
    "# 149 리스트에는 네 개의 문자열이 바인딩돼 있다.\n",
    "\n",
    "리스트 = [\"가\", \"나\", \"다\", \"라\"]\n",
    "# for문을 사용해서 다음과 같이 출력하라.\n",
    "\n",
    "# 가\n",
    "# 다\n",
    "for 변수 in 리스트[::2]:\n",
    "        print(변수)"
   ]
  },
  {
   "cell_type": "code",
   "execution_count": 115,
   "id": "537b2ebb-778c-4da2-8434-7bcde3315c7c",
   "metadata": {},
   "outputs": [
    {
     "name": "stdout",
     "output_type": "stream",
     "text": [
      "라\n",
      "다\n",
      "나\n",
      "가\n"
     ]
    }
   ],
   "source": [
    "# 150 리스트에는 네 개의 문자열이 바인딩돼 있다.\n",
    "\n",
    "리스트 = [\"가\", \"나\", \"다\", \"라\"]\n",
    "# for문을 사용해서 다음과 같이 출력하라.\n",
    "\n",
    "# 라\n",
    "# 다\n",
    "# 나\n",
    "# 가\n",
    "\n",
    "for 변수 in 리스트[::-1]:\n",
    "    print(변수)"
   ]
  },
  {
   "cell_type": "code",
   "execution_count": 121,
   "id": "abbadead-1e54-49df-bfad-d1c6223af8b9",
   "metadata": {},
   "outputs": [
    {
     "name": "stdout",
     "output_type": "stream",
     "text": [
      "-20\n",
      "-3\n"
     ]
    }
   ],
   "source": [
    "# 151 리스트에는 네 개의 정수가 저장돼 있다.\n",
    "\n",
    "리스트 = [3, -20, -3, 44]\n",
    "# for문을 사용해서 리스트의 음수를 출력하라.\n",
    "\n",
    "for 변수 in 리스트:\n",
    "    if 변수 < 0:\n",
    "        print(변수)"
   ]
  },
  {
   "cell_type": "code",
   "execution_count": 123,
   "id": "8eafdd15-22bd-4f59-91c4-81d8bb7a0dd9",
   "metadata": {},
   "outputs": [
    {
     "name": "stdout",
     "output_type": "stream",
     "text": [
      "3\n"
     ]
    }
   ],
   "source": [
    "#152 for문을 사용해서 3의 배수만을 출력하라.\n",
    "\n",
    "리스트 = [3, 100, 23, 44]\n",
    "\n",
    "for 변수 in 리스트:\n",
    "    if 변수 % 3 == 0:\n",
    "        print(변수)"
   ]
  }
 ],
 "metadata": {
  "kernelspec": {
   "display_name": "Python 3 (ipykernel)",
   "language": "python",
   "name": "python3"
  },
  "language_info": {
   "codemirror_mode": {
    "name": "ipython",
    "version": 3
   },
   "file_extension": ".py",
   "mimetype": "text/x-python",
   "name": "python",
   "nbconvert_exporter": "python",
   "pygments_lexer": "ipython3",
   "version": "3.13.2"
  }
 },
 "nbformat": 4,
 "nbformat_minor": 5
}
